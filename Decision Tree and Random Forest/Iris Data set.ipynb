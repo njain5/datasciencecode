{
 "cells": [
  {
   "cell_type": "code",
   "execution_count": 3,
   "metadata": {},
   "outputs": [],
   "source": [
    "import pandas as pd\n",
    "#from sklearn.model_selection import train_test_split,GridSearchCV\n",
    "from sklearn.model_selection import train_test_split\n",
    "from sklearn.tree import DecisionTreeClassifier\n",
    "from sklearn.ensemble import RandomForestClassifier\n",
    "from sklearn import metrics\n",
    "from sklearn.metrics import confusion_matrix,accuracy_score\n",
    "from sklearn.model_selection import GridSearchCV"
   ]
  },
  {
   "cell_type": "code",
   "execution_count": 5,
   "metadata": {},
   "outputs": [],
   "source": [
    "iris = pd.read_csv('C:/Users/Nikhil Jain/Desktop/Code/Decision Tree and Random Forest/iris.csv')"
   ]
  },
  {
   "cell_type": "code",
   "execution_count": 7,
   "metadata": {},
   "outputs": [
    {
     "data": {
      "text/html": [
       "<div>\n",
       "<style scoped>\n",
       "    .dataframe tbody tr th:only-of-type {\n",
       "        vertical-align: middle;\n",
       "    }\n",
       "\n",
       "    .dataframe tbody tr th {\n",
       "        vertical-align: top;\n",
       "    }\n",
       "\n",
       "    .dataframe thead th {\n",
       "        text-align: right;\n",
       "    }\n",
       "</style>\n",
       "<table border=\"1\" class=\"dataframe\">\n",
       "  <thead>\n",
       "    <tr style=\"text-align: right;\">\n",
       "      <th></th>\n",
       "      <th>Sepal.Length</th>\n",
       "      <th>Sepal.Width</th>\n",
       "      <th>Petal.Length</th>\n",
       "      <th>Petal.Width</th>\n",
       "      <th>Species</th>\n",
       "    </tr>\n",
       "  </thead>\n",
       "  <tbody>\n",
       "    <tr>\n",
       "      <th>0</th>\n",
       "      <td>5.1</td>\n",
       "      <td>3.5</td>\n",
       "      <td>1.4</td>\n",
       "      <td>0.2</td>\n",
       "      <td>setosa</td>\n",
       "    </tr>\n",
       "    <tr>\n",
       "      <th>1</th>\n",
       "      <td>4.9</td>\n",
       "      <td>3.0</td>\n",
       "      <td>1.4</td>\n",
       "      <td>0.2</td>\n",
       "      <td>setosa</td>\n",
       "    </tr>\n",
       "    <tr>\n",
       "      <th>2</th>\n",
       "      <td>4.7</td>\n",
       "      <td>3.2</td>\n",
       "      <td>1.3</td>\n",
       "      <td>0.2</td>\n",
       "      <td>setosa</td>\n",
       "    </tr>\n",
       "    <tr>\n",
       "      <th>3</th>\n",
       "      <td>4.6</td>\n",
       "      <td>3.1</td>\n",
       "      <td>1.5</td>\n",
       "      <td>0.2</td>\n",
       "      <td>setosa</td>\n",
       "    </tr>\n",
       "    <tr>\n",
       "      <th>4</th>\n",
       "      <td>5.0</td>\n",
       "      <td>3.6</td>\n",
       "      <td>1.4</td>\n",
       "      <td>0.2</td>\n",
       "      <td>setosa</td>\n",
       "    </tr>\n",
       "  </tbody>\n",
       "</table>\n",
       "</div>"
      ],
      "text/plain": [
       "   Sepal.Length  Sepal.Width  Petal.Length  Petal.Width Species\n",
       "0           5.1          3.5           1.4          0.2  setosa\n",
       "1           4.9          3.0           1.4          0.2  setosa\n",
       "2           4.7          3.2           1.3          0.2  setosa\n",
       "3           4.6          3.1           1.5          0.2  setosa\n",
       "4           5.0          3.6           1.4          0.2  setosa"
      ]
     },
     "execution_count": 7,
     "metadata": {},
     "output_type": "execute_result"
    }
   ],
   "source": [
    "iris.head()"
   ]
  },
  {
   "cell_type": "code",
   "execution_count": 8,
   "metadata": {},
   "outputs": [
    {
     "data": {
      "text/plain": [
       "array([[0.2, 5.1, 1.4],\n",
       "       [0.2, 4.9, 1.4],\n",
       "       [0.2, 4.7, 1.3],\n",
       "       [0.2, 4.6, 1.5],\n",
       "       [0.2, 5. , 1.4],\n",
       "       [0.4, 5.4, 1.7],\n",
       "       [0.3, 4.6, 1.4],\n",
       "       [0.2, 5. , 1.5],\n",
       "       [0.2, 4.4, 1.4],\n",
       "       [0.1, 4.9, 1.5],\n",
       "       [0.2, 5.4, 1.5],\n",
       "       [0.2, 4.8, 1.6],\n",
       "       [0.1, 4.8, 1.4],\n",
       "       [0.1, 4.3, 1.1],\n",
       "       [0.2, 5.8, 1.2],\n",
       "       [0.4, 5.7, 1.5],\n",
       "       [0.4, 5.4, 1.3],\n",
       "       [0.3, 5.1, 1.4],\n",
       "       [0.3, 5.7, 1.7],\n",
       "       [0.3, 5.1, 1.5],\n",
       "       [0.2, 5.4, 1.7],\n",
       "       [0.4, 5.1, 1.5],\n",
       "       [0.2, 4.6, 1. ],\n",
       "       [0.5, 5.1, 1.7],\n",
       "       [0.2, 4.8, 1.9],\n",
       "       [0.2, 5. , 1.6],\n",
       "       [0.4, 5. , 1.6],\n",
       "       [0.2, 5.2, 1.5],\n",
       "       [0.2, 5.2, 1.4],\n",
       "       [0.2, 4.7, 1.6],\n",
       "       [0.2, 4.8, 1.6],\n",
       "       [0.4, 5.4, 1.5],\n",
       "       [0.1, 5.2, 1.5],\n",
       "       [0.2, 5.5, 1.4],\n",
       "       [0.2, 4.9, 1.5],\n",
       "       [0.2, 5. , 1.2],\n",
       "       [0.2, 5.5, 1.3],\n",
       "       [0.1, 4.9, 1.4],\n",
       "       [0.2, 4.4, 1.3],\n",
       "       [0.2, 5.1, 1.5],\n",
       "       [0.3, 5. , 1.3],\n",
       "       [0.3, 4.5, 1.3],\n",
       "       [0.2, 4.4, 1.3],\n",
       "       [0.6, 5. , 1.6],\n",
       "       [0.4, 5.1, 1.9],\n",
       "       [0.3, 4.8, 1.4],\n",
       "       [0.2, 5.1, 1.6],\n",
       "       [0.2, 4.6, 1.4],\n",
       "       [0.2, 5.3, 1.5],\n",
       "       [0.2, 5. , 1.4],\n",
       "       [1.4, 7. , 4.7],\n",
       "       [1.5, 6.4, 4.5],\n",
       "       [1.5, 6.9, 4.9],\n",
       "       [1.3, 5.5, 4. ],\n",
       "       [1.5, 6.5, 4.6],\n",
       "       [1.3, 5.7, 4.5],\n",
       "       [1.6, 6.3, 4.7],\n",
       "       [1. , 4.9, 3.3],\n",
       "       [1.3, 6.6, 4.6],\n",
       "       [1.4, 5.2, 3.9],\n",
       "       [1. , 5. , 3.5],\n",
       "       [1.5, 5.9, 4.2],\n",
       "       [1. , 6. , 4. ],\n",
       "       [1.4, 6.1, 4.7],\n",
       "       [1.3, 5.6, 3.6],\n",
       "       [1.4, 6.7, 4.4],\n",
       "       [1.5, 5.6, 4.5],\n",
       "       [1. , 5.8, 4.1],\n",
       "       [1.5, 6.2, 4.5],\n",
       "       [1.1, 5.6, 3.9],\n",
       "       [1.8, 5.9, 4.8],\n",
       "       [1.3, 6.1, 4. ],\n",
       "       [1.5, 6.3, 4.9],\n",
       "       [1.2, 6.1, 4.7],\n",
       "       [1.3, 6.4, 4.3],\n",
       "       [1.4, 6.6, 4.4],\n",
       "       [1.4, 6.8, 4.8],\n",
       "       [1.7, 6.7, 5. ],\n",
       "       [1.5, 6. , 4.5],\n",
       "       [1. , 5.7, 3.5],\n",
       "       [1.1, 5.5, 3.8],\n",
       "       [1. , 5.5, 3.7],\n",
       "       [1.2, 5.8, 3.9],\n",
       "       [1.6, 6. , 5.1],\n",
       "       [1.5, 5.4, 4.5],\n",
       "       [1.6, 6. , 4.5],\n",
       "       [1.5, 6.7, 4.7],\n",
       "       [1.3, 6.3, 4.4],\n",
       "       [1.3, 5.6, 4.1],\n",
       "       [1.3, 5.5, 4. ],\n",
       "       [1.2, 5.5, 4.4],\n",
       "       [1.4, 6.1, 4.6],\n",
       "       [1.2, 5.8, 4. ],\n",
       "       [1. , 5. , 3.3],\n",
       "       [1.3, 5.6, 4.2],\n",
       "       [1.2, 5.7, 4.2],\n",
       "       [1.3, 5.7, 4.2],\n",
       "       [1.3, 6.2, 4.3],\n",
       "       [1.1, 5.1, 3. ],\n",
       "       [1.3, 5.7, 4.1],\n",
       "       [2.5, 6.3, 6. ],\n",
       "       [1.9, 5.8, 5.1],\n",
       "       [2.1, 7.1, 5.9],\n",
       "       [1.8, 6.3, 5.6],\n",
       "       [2.2, 6.5, 5.8],\n",
       "       [2.1, 7.6, 6.6],\n",
       "       [1.7, 4.9, 4.5],\n",
       "       [1.8, 7.3, 6.3],\n",
       "       [1.8, 6.7, 5.8],\n",
       "       [2.5, 7.2, 6.1],\n",
       "       [2. , 6.5, 5.1],\n",
       "       [1.9, 6.4, 5.3],\n",
       "       [2.1, 6.8, 5.5],\n",
       "       [2. , 5.7, 5. ],\n",
       "       [2.4, 5.8, 5.1],\n",
       "       [2.3, 6.4, 5.3],\n",
       "       [1.8, 6.5, 5.5],\n",
       "       [2.2, 7.7, 6.7],\n",
       "       [2.3, 7.7, 6.9],\n",
       "       [1.5, 6. , 5. ],\n",
       "       [2.3, 6.9, 5.7],\n",
       "       [2. , 5.6, 4.9],\n",
       "       [2. , 7.7, 6.7],\n",
       "       [1.8, 6.3, 4.9],\n",
       "       [2.1, 6.7, 5.7],\n",
       "       [1.8, 7.2, 6. ],\n",
       "       [1.8, 6.2, 4.8],\n",
       "       [1.8, 6.1, 4.9],\n",
       "       [2.1, 6.4, 5.6],\n",
       "       [1.6, 7.2, 5.8],\n",
       "       [1.9, 7.4, 6.1],\n",
       "       [2. , 7.9, 6.4],\n",
       "       [2.2, 6.4, 5.6],\n",
       "       [1.5, 6.3, 5.1],\n",
       "       [1.4, 6.1, 5.6],\n",
       "       [2.3, 7.7, 6.1],\n",
       "       [2.4, 6.3, 5.6],\n",
       "       [1.8, 6.4, 5.5],\n",
       "       [1.8, 6. , 4.8],\n",
       "       [2.1, 6.9, 5.4],\n",
       "       [2.4, 6.7, 5.6],\n",
       "       [2.3, 6.9, 5.1],\n",
       "       [1.9, 5.8, 5.1],\n",
       "       [2.3, 6.8, 5.9],\n",
       "       [2.5, 6.7, 5.7],\n",
       "       [2.3, 6.7, 5.2],\n",
       "       [1.9, 6.3, 5. ],\n",
       "       [2. , 6.5, 5.2],\n",
       "       [2.3, 6.2, 5.4],\n",
       "       [1.8, 5.9, 5.1]])"
      ]
     },
     "execution_count": 8,
     "metadata": {},
     "output_type": "execute_result"
    }
   ],
   "source": [
    "y=iris['Species']\n",
    "#del iris['Species']\n",
    "x=iris\n",
    "columns = [\"Petal.Width\", \"Sepal.Length\",\"Petal.Length\"]\n",
    "features = x[list(columns)].values\n",
    "features\n",
    "x=features\n",
    "x"
   ]
  },
  {
   "cell_type": "code",
   "execution_count": 9,
   "metadata": {},
   "outputs": [],
   "source": [
    "x_train,x_test,y_train,y_test=train_test_split(x,y,test_size=0.30,random_state=1)"
   ]
  },
  {
   "cell_type": "code",
   "execution_count": 10,
   "metadata": {},
   "outputs": [
    {
     "name": "stdout",
     "output_type": "stream",
     "text": [
      "(105, 3)\n",
      "(105,)\n",
      "(45, 3)\n",
      "(45,)\n"
     ]
    }
   ],
   "source": [
    "print(x_train.shape)\n",
    "print(y_train.shape)\n",
    "print(x_test.shape)\n",
    "print(y_test.shape)"
   ]
  },
  {
   "cell_type": "code",
   "execution_count": 11,
   "metadata": {},
   "outputs": [],
   "source": [
    "dt=DecisionTreeClassifier(criterion=\"entropy\")\n",
    "dt_model=dt.fit(x_train,y_train)"
   ]
  },
  {
   "cell_type": "code",
   "execution_count": 12,
   "metadata": {},
   "outputs": [
    {
     "data": {
      "text/plain": [
       "[('Petal.Width', 0.2862147187927312),\n",
       " ('Sepal.Length', 0.0270285920892557),\n",
       " ('Petal.Length', 0.686756689118013)]"
      ]
     },
     "execution_count": 12,
     "metadata": {},
     "output_type": "execute_result"
    }
   ],
   "source": [
    "dt_model.feature_importances_\n",
    "list(zip(columns,dt_model.feature_importances_))"
   ]
  },
  {
   "cell_type": "code",
   "execution_count": 13,
   "metadata": {},
   "outputs": [],
   "source": [
    "from sklearn import tree\n",
    "with open(\"iris.dot\", 'w') as f:\n",
    "    f = tree.export_graphviz(dt_model, out_file=f, feature_names=columns)"
   ]
  },
  {
   "cell_type": "code",
   "execution_count": 14,
   "metadata": {},
   "outputs": [
    {
     "name": "stdout",
     "output_type": "stream",
     "text": [
      "0.9555555555555556\n"
     ]
    },
    {
     "data": {
      "text/plain": [
       "array([[14,  0,  0],\n",
       "       [ 0, 17,  1],\n",
       "       [ 0,  1, 12]], dtype=int64)"
      ]
     },
     "execution_count": 14,
     "metadata": {},
     "output_type": "execute_result"
    }
   ],
   "source": [
    "dt_prd=dt_model.predict(x_test)\n",
    "print(accuracy_score(y_test,dt_prd))\n",
    "df_confusion = confusion_matrix(y_test,dt_prd)\n",
    "df_confusion"
   ]
  },
  {
   "cell_type": "code",
   "execution_count": 16,
   "metadata": {},
   "outputs": [
    {
     "data": {
      "image/png": "[encoded data removed]",
      "text/plain": [
       "<Figure size 288x288 with 2 Axes>"
      ]
     },
     "metadata": {
      "needs_background": "light"
     },
     "output_type": "display_data"
    }
   ],
   "source": [
    "import matplotlib.pyplot as plt\n",
    "%matplotlib inline\n",
    "def plot_confusion_matrix(df_confusion, title='Confusion matrix', cmap=plt.cm.gray_r):\n",
    "    plt.matshow(df_confusion, cmap=cmap) # imshow\n",
    "    plt.title('Confusion Matrix')\n",
    "    plt.colorbar()\n",
    "    plt.ylabel('Actual')\n",
    "    plt.xlabel('Predicted')\n",
    "\n",
    "plot_confusion_matrix(df_confusion)"
   ]
  },
  {
   "cell_type": "code",
   "execution_count": 17,
   "metadata": {},
   "outputs": [
    {
     "name": "stdout",
     "output_type": "stream",
     "text": [
      "              precision    recall  f1-score   support\n",
      "\n",
      "      setosa       1.00      1.00      1.00        14\n",
      "  versicolor       0.94      0.94      0.94        18\n",
      "   virginica       0.92      0.92      0.92        13\n",
      "\n",
      "    accuracy                           0.96        45\n",
      "   macro avg       0.96      0.96      0.96        45\n",
      "weighted avg       0.96      0.96      0.96        45\n",
      "\n"
     ]
    }
   ],
   "source": [
    "print(metrics.classification_report(y_test,dt_prd))"
   ]
  },
  {
   "cell_type": "code",
   "execution_count": 18,
   "metadata": {},
   "outputs": [],
   "source": [
    "x_train,x_test,y_train,y_test=train_test_split(x,y,test_size=0.30,random_state=1)"
   ]
  },
  {
   "cell_type": "code",
   "execution_count": 19,
   "metadata": {},
   "outputs": [],
   "source": [
    "rf_clf=RandomForestClassifier(max_depth = 10, min_samples_split=2, n_estimators = 10, random_state = 123)\n",
    "rf_model=rf_clf.fit(x_train,y_train)\n",
    "rf_prediction=rf_model.predict(x_test)"
   ]
  },
  {
   "cell_type": "code",
   "execution_count": 20,
   "metadata": {},
   "outputs": [
    {
     "name": "stdout",
     "output_type": "stream",
     "text": [
      "0.9555555555555556\n"
     ]
    }
   ],
   "source": [
    "print(accuracy_score(y_test,rf_prediction))"
   ]
  },
  {
   "cell_type": "code",
   "execution_count": 21,
   "metadata": {},
   "outputs": [
    {
     "name": "stdout",
     "output_type": "stream",
     "text": [
      "[[14  0  0]\n",
      " [ 0 17  1]\n",
      " [ 0  1 12]]\n"
     ]
    }
   ],
   "source": [
    "print(confusion_matrix(y_test,rf_prediction))"
   ]
  },
  {
   "cell_type": "markdown",
   "metadata": {},
   "source": [
    "## GridSearchCV is used in model building to pass the hyperparameters as arguments to the models or estimators as the \n",
    "## Hyperparameters can't be learnt by estimators directly.Thus GridSearchCV facilitates us to optimize our model with the best parameters."
   ]
  },
  {
   "cell_type": "code",
   "execution_count": 22,
   "metadata": {},
   "outputs": [],
   "source": [
    "dt_parameters={\"criterion\":['gini','entropy'],\"max_depth\":[3,7],\"max_leaf_nodes\": [20,30]}"
   ]
  },
  {
   "cell_type": "code",
   "execution_count": 23,
   "metadata": {},
   "outputs": [],
   "source": [
    "grid_dt_clf=GridSearchCV(DecisionTreeClassifier(),dt_parameters)"
   ]
  },
  {
   "cell_type": "code",
   "execution_count": 24,
   "metadata": {},
   "outputs": [],
   "source": [
    "grid_dt_model=grid_dt_clf.fit(x_train,y_train)"
   ]
  },
  {
   "cell_type": "code",
   "execution_count": 25,
   "metadata": {},
   "outputs": [
    {
     "data": {
      "text/plain": [
       "{'criterion': 'gini', 'max_depth': 3, 'max_leaf_nodes': 20}"
      ]
     },
     "execution_count": 25,
     "metadata": {},
     "output_type": "execute_result"
    }
   ],
   "source": [
    "grid_dt_model.best_params_"
   ]
  },
  {
   "cell_type": "code",
   "execution_count": 26,
   "metadata": {},
   "outputs": [],
   "source": [
    "grid_dt_prediction=grid_dt_model.predict(x_test)"
   ]
  },
  {
   "cell_type": "code",
   "execution_count": 27,
   "metadata": {},
   "outputs": [
    {
     "name": "stdout",
     "output_type": "stream",
     "text": [
      "[[14  0  0]\n",
      " [ 0 17  1]\n",
      " [ 0  1 12]]\n"
     ]
    }
   ],
   "source": [
    "print(confusion_matrix(y_test,grid_dt_prediction))"
   ]
  },
  {
   "cell_type": "code",
   "execution_count": 28,
   "metadata": {},
   "outputs": [
    {
     "name": "stdout",
     "output_type": "stream",
     "text": [
      "0.9555555555555556\n"
     ]
    }
   ],
   "source": [
    "print(accuracy_score(y_test,grid_dt_prediction))"
   ]
  },
  {
   "cell_type": "code",
   "execution_count": 29,
   "metadata": {},
   "outputs": [],
   "source": [
    "rf_params={\"criterion\":['gini','entropy'],\"n_estimators\":[10,20,30,40,50,60,100],\"max_depth\":[3,5,7,9],\"max_leaf_nodes\": [20,40,50]}"
   ]
  },
  {
   "cell_type": "code",
   "execution_count": 30,
   "metadata": {},
   "outputs": [],
   "source": [
    "grid_rf_clf=GridSearchCV(RandomForestClassifier(),rf_params)"
   ]
  },
  {
   "cell_type": "code",
   "execution_count": 31,
   "metadata": {},
   "outputs": [],
   "source": [
    "grid_rf_model=grid_rf_clf.fit(x_train,y_train)"
   ]
  },
  {
   "cell_type": "code",
   "execution_count": 32,
   "metadata": {},
   "outputs": [
    {
     "data": {
      "text/plain": [
       "{'criterion': 'gini', 'max_depth': 3, 'max_leaf_nodes': 20, 'n_estimators': 40}"
      ]
     },
     "execution_count": 32,
     "metadata": {},
     "output_type": "execute_result"
    }
   ],
   "source": [
    "grid_rf_model.best_params_"
   ]
  },
  {
   "cell_type": "code",
   "execution_count": 33,
   "metadata": {},
   "outputs": [],
   "source": [
    "grid_rf_prediction=grid_rf_model.predict(x_test)"
   ]
  },
  {
   "cell_type": "code",
   "execution_count": 34,
   "metadata": {},
   "outputs": [
    {
     "name": "stdout",
     "output_type": "stream",
     "text": [
      "0.9555555555555556\n"
     ]
    }
   ],
   "source": [
    "print(accuracy_score(y_test,grid_rf_prediction))"
   ]
  },
  {
   "cell_type": "code",
   "execution_count": null,
   "metadata": {},
   "outputs": [],
   "source": []
  }
 ],
 "metadata": {
  "kernelspec": {
   "display_name": "Python 3",
   "language": "python",
   "name": "python3"
  },
  "language_info": {
   "codemirror_mode": {
    "name": "ipython",
    "version": 3
   },
   "file_extension": ".py",
   "mimetype": "text/x-python",
   "name": "python",
   "nbconvert_exporter": "python",
   "pygments_lexer": "ipython3",
   "version": "3.7.3"
  }
 },
 "nbformat": 4,
 "nbformat_minor": 2
}
