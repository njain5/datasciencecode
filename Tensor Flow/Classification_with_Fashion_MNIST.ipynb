{
  "nbformat": 4,
  "nbformat_minor": 0,
  "metadata": {
    "colab": {
      "name": "Classification with Fashion MNIST.ipynb",
      "provenance": [],
      "collapsed_sections": []
    },
    "kernelspec": {
      "name": "python3",
      "display_name": "Python 3"
    }
  },
  "cells": [
    {
      "cell_type": "markdown",
      "metadata": {
        "id": "f9In9XEq9gbx",
        "colab_type": "text"
      },
      "source": [
        "# Classification with Fashion MNIST"
      ]
    },
    {
      "cell_type": "markdown",
      "metadata": {
        "id": "4TpA0SjP9nmZ",
        "colab_type": "text"
      },
      "source": [
        "##Specifying the TensorFlow version\n",
        "\n",
        "Running `import tensorflow` will import the default version (currently 1.x). You can use 2.x by running a cell with the `tensorflow_version` magic **before** you run `import tensorflow`."
      ]
    },
    {
      "cell_type": "code",
      "metadata": {
        "id": "Y0XvUL-i9wZf",
        "colab_type": "code",
        "colab": {}
      },
      "source": [
        "%tensorflow_version 2.x"
      ],
      "execution_count": 1,
      "outputs": []
    },
    {
      "cell_type": "code",
      "metadata": {
        "id": "Sv3Dqynv91UD",
        "colab_type": "code",
        "colab": {
          "base_uri": "https://localhost:8080/",
          "height": 35
        },
        "outputId": "5f5968ba-21c4-4485-ed99-e95fc448f5a2"
      },
      "source": [
        "from __future__ import absolute_import, division, print_function, unicode_literals\n",
        "import pathlib, os\n",
        "import numpy as np\n",
        "import pandas as pd\n",
        "import matplotlib.pyplot as plt\n",
        "import seaborn as sns\n",
        "\n",
        "import tensorflow as tf\n",
        "print(tf.__version__)"
      ],
      "execution_count": 4,
      "outputs": [
        {
          "output_type": "stream",
          "text": [
            "2.3.0\n"
          ],
          "name": "stdout"
        }
      ]
    },
    {
      "cell_type": "code",
      "metadata": {
        "id": "LkX9ejO0-hR0",
        "colab_type": "code",
        "colab": {
          "base_uri": "https://localhost:8080/",
          "height": 156
        },
        "outputId": "6d8b9ccc-fb1b-4bc0-b4b7-9df0203fabb4"
      },
      "source": [
        "#Download the Dataset\n",
        "\n",
        "(train_images, train_labels), (test_images, test_labels) = tf.keras.datasets.fashion_mnist.load_data()"
      ],
      "execution_count": 5,
      "outputs": [
        {
          "output_type": "stream",
          "text": [
            "Downloading data from https://storage.googleapis.com/tensorflow/tf-keras-datasets/train-labels-idx1-ubyte.gz\n",
            "32768/29515 [=================================] - 0s 0us/step\n",
            "Downloading data from https://storage.googleapis.com/tensorflow/tf-keras-datasets/train-images-idx3-ubyte.gz\n",
            "26427392/26421880 [==============================] - 0s 0us/step\n",
            "Downloading data from https://storage.googleapis.com/tensorflow/tf-keras-datasets/t10k-labels-idx1-ubyte.gz\n",
            "8192/5148 [===============================================] - 0s 0us/step\n",
            "Downloading data from https://storage.googleapis.com/tensorflow/tf-keras-datasets/t10k-images-idx3-ubyte.gz\n",
            "4423680/4422102 [==============================] - 0s 0us/step\n"
          ],
          "name": "stdout"
        }
      ]
    },
    {
      "cell_type": "code",
      "metadata": {
        "id": "7r1aZudI_FSz",
        "colab_type": "code",
        "colab": {
          "base_uri": "https://localhost:8080/",
          "height": 300
        },
        "outputId": "c7187fff-77ee-4c22-a393-9649b321beb4"
      },
      "source": [
        "#Visualise the data\n",
        "\n",
        "%matplotlib inline\n",
        "import random\n",
        "\n",
        "i = random.randint(0,100)\n",
        "\n",
        "print(\"Label: %s\" % train_labels[i])\n",
        "plt.imshow(train_images[i], cmap = 'gray')"
      ],
      "execution_count": 7,
      "outputs": [
        {
          "output_type": "stream",
          "text": [
            "Label: 5\n"
          ],
          "name": "stdout"
        },
        {
          "output_type": "execute_result",
          "data": {
            "text/plain": [
              "<matplotlib.image.AxesImage at 0x7fe911691828>"
            ]
          },
          "metadata": {
            "tags": []
          },
          "execution_count": 7
        },
        {
          "output_type": "display_data",
          "data": {
            "image/png": "[encoded data removed]",
            "text/plain": [
              "<Figure size 432x288 with 1 Axes>"
            ]
          },
          "metadata": {
            "tags": [],
            "needs_background": "light"
          }
        }
      ]
    },
    {
      "cell_type": "markdown",
      "metadata": {
        "id": "SsB1XaAjAGef",
        "colab_type": "text"
      },
      "source": [
        "Each training and test example is assigned one of the following labels:\n",
        "\n",
        "| Label | Description |\n",
        "| --- | --- |\n",
        "| 0 | T-shirt/top |\n",
        "| 1 | Trouser |\n",
        "| 2 | Pullover |\n",
        "| 3 | Dress |\n",
        "| 4 | Coat |\n",
        "| 5 | Sandal |\n",
        "| 6 | Shirt |\n",
        "| 7 | Sneaker |\n",
        "| 8 | Bag |\n",
        "| 9 | Ankle boot |"
      ]
    },
    {
      "cell_type": "markdown",
      "metadata": {
        "id": "lg1Xz2PwAaZj",
        "colab_type": "text"
      },
      "source": [
        "## Step 3: Understand the data format\n",
        "\n",
        "We are given the images as a 3-D array of integer values that is of shape (N, 28, 28), where N is the number of images in the training or test set. The labels are 1-D array of the integer values of each image."
      ]
    },
    {
      "cell_type": "code",
      "metadata": {
        "id": "jImj1aarAbJW",
        "colab_type": "code",
        "colab": {
          "base_uri": "https://localhost:8080/",
          "height": 52
        },
        "outputId": "1f94dc4f-897d-4f94-d1a8-6badafdd8710"
      },
      "source": [
        "print(train_images.shape)\n",
        "print(train_labels.shape)"
      ],
      "execution_count": 8,
      "outputs": [
        {
          "output_type": "stream",
          "text": [
            "(60000, 28, 28)\n",
            "(60000,)\n"
          ],
          "name": "stdout"
        }
      ]
    },
    {
      "cell_type": "markdown",
      "metadata": {
        "id": "iWPo8fImAtBS",
        "colab_type": "text"
      },
      "source": [
        "## Step 4: Reformat the images\n",
        "Here, we'll flatten (or unstack) the images. There are deep learning techniques that work with 2d images directly (rather than their flattened representation), but we'll start with this format. Instead of working with a 28 by 28 image, we'll unstack it into a 28 * 28 = 784 length array.\n",
        "\n",
        "- We want to convert the 3-D array of shape (N, 28, 28) to a 2-D array of shape (N, 784) where the second dimension is just an array of all the pixels in an image. This is called flattening, or unstacking, the images.\n",
        "- We also want to convert the pixel values from a number between 0 and 255 to a number between 0 and 1."
      ]
    },
    {
      "cell_type": "code",
      "metadata": {
        "id": "2XDrKi5GAtn8",
        "colab_type": "code",
        "colab": {}
      },
      "source": [
        "TRAINING_SIZE = len(train_images)\n",
        "TEST_SIZE = len(test_images)\n",
        "\n",
        "#Reshape from (N,28,28) to (N,28*28=784)\n",
        "train_images = np.reshape(train_images, (TRAINING_SIZE, 784))\n",
        "test_images = np.reshape(test_images, (TEST_SIZE, 784))\n",
        "\n",
        "#Convert the arrays to float as compared to uint8\n",
        "train_images = train_images.astype(np.float32)\n",
        "test_images = test_images.astype(np.float32)\n",
        "\n",
        "# Convert the pixel values from integers between 0 and 255 to floats between 0 and 1\n",
        "train_images /= 255\n",
        "test_images /=  255"
      ],
      "execution_count": 10,
      "outputs": []
    },
    {
      "cell_type": "markdown",
      "metadata": {
        "id": "lydeK0jPCUfp",
        "colab_type": "text"
      },
      "source": [
        "## Step 5: Reformat the labels\n",
        "Next, we want to convert the labels from an integer format (e.g., \"2\" or \"Pullover\"), to a one hot encoding (e.g., \"0, 0, 1, 0, 0, 0, 0, 0, 0, 0\"). To do so, we'll use the **tf.keras.utils.to_categorical** function."
      ]
    },
    {
      "cell_type": "code",
      "metadata": {
        "id": "1UE4H7kjCVCd",
        "colab_type": "code",
        "colab": {
          "base_uri": "https://localhost:8080/",
          "height": 52
        },
        "outputId": "9a8db13c-0fbf-4b07-e217-dd965c0550fd"
      },
      "source": [
        "NUM_CAT = 10\n",
        "\n",
        "print(\"Before\", train_labels[0]) # The format of the labels before conversion\n",
        "\n",
        "train_labels  = tf.keras.utils.to_categorical(train_labels, NUM_CAT)\n",
        "\n",
        "print(\"After\", train_labels[0]) # The format of the labels after conversion\n",
        "\n",
        "test_labels = tf.keras.utils.to_categorical(test_labels, NUM_CAT)"
      ],
      "execution_count": 11,
      "outputs": [
        {
          "output_type": "stream",
          "text": [
            "Before 9\n",
            "After [0. 0. 0. 0. 0. 0. 0. 0. 0. 1.]\n"
          ],
          "name": "stdout"
        }
      ]
    },
    {
      "cell_type": "markdown",
      "metadata": {
        "id": "gQAtfApwCoFB",
        "colab_type": "text"
      },
      "source": [
        "## Step 6: Build the model"
      ]
    },
    {
      "cell_type": "code",
      "metadata": {
        "id": "jyhbslwPCoiQ",
        "colab_type": "code",
        "colab": {}
      },
      "source": [
        "# Cast the labels to floats, needed later\n",
        "train_labels = train_labels.astype(np.float32)\n",
        "test_labels = test_labels.astype(np.float32)"
      ],
      "execution_count": 12,
      "outputs": []
    },
    {
      "cell_type": "code",
      "metadata": {
        "id": "gTCDTcuwChUU",
        "colab_type": "code",
        "colab": {
          "base_uri": "https://localhost:8080/",
          "height": 260
        },
        "outputId": "7ec66517-8111-4e68-c653-0659e1b0aa98"
      },
      "source": [
        "#Create a Sequential model\n",
        "\n",
        "model = tf.keras.Sequential()\n",
        "model.add(tf.keras.layers.Dense(512, activation=tf.nn.relu, input_shape = (784,)))\n",
        "model.add(tf.keras.layers.Dropout(0.2))\n",
        "model.add(tf.keras.layers.Dense(NUM_CAT, activation=tf.nn.softmax))\n",
        "\n",
        "\n",
        "#Create a Keras version Optimiser\n",
        "\n",
        "optimizer = tf.keras.optimizers.Adam(learning_rate=0.001)\n",
        "\n",
        "#Compile and print the summary of model\n",
        "\n",
        "model.compile(loss='categorical_crossentropy',\n",
        "              optimizer=optimizer,\n",
        "              metrics =['accuracy'])\n",
        "\n",
        "# Model summary can be created by calling the summary() function on the model that returns a string that in turn can be printed.\n",
        "model.summary()"
      ],
      "execution_count": 13,
      "outputs": [
        {
          "output_type": "stream",
          "text": [
            "Model: \"sequential\"\n",
            "_________________________________________________________________\n",
            "Layer (type)                 Output Shape              Param #   \n",
            "=================================================================\n",
            "dense (Dense)                (None, 512)               401920    \n",
            "_________________________________________________________________\n",
            "dropout (Dropout)            (None, 512)               0         \n",
            "_________________________________________________________________\n",
            "dense_1 (Dense)              (None, 10)                5130      \n",
            "=================================================================\n",
            "Total params: 407,050\n",
            "Trainable params: 407,050\n",
            "Non-trainable params: 0\n",
            "_________________________________________________________________\n"
          ],
          "name": "stdout"
        }
      ]
    },
    {
      "cell_type": "markdown",
      "metadata": {
        "id": "tM5swv_cEmtC",
        "colab_type": "text"
      },
      "source": [
        "Keras provides a way to summarize a model.\n",
        "\n",
        "The summary is textual and includes information about:\n",
        "\n",
        "* The layers and their order in the model.\n",
        "* The output shape of each layer.\n",
        "* The number of parameters (weights) in each layer.\n",
        "* The total number of parameters (weights) in the model."
      ]
    },
    {
      "cell_type": "code",
      "metadata": {
        "id": "PXvZPpYLEnQE",
        "colab_type": "code",
        "colab": {
          "base_uri": "https://localhost:8080/",
          "height": 422
        },
        "outputId": "8aaa9123-7387-4c07-940f-7e5eab7e690f"
      },
      "source": [
        "#Plot model summary\n",
        "\n",
        "tf.keras.utils.plot_model(model, to_file='model_plot.png', show_shapes=True, show_layer_names=True)"
      ],
      "execution_count": 14,
      "outputs": [
        {
          "output_type": "execute_result",
          "data": {
            "image/png": "[encoded data removed]",
            "text/plain": [
              "<IPython.core.display.Image object>"
            ]
          },
          "metadata": {
            "tags": []
          },
          "execution_count": 14
        }
      ]
    },
    {
      "cell_type": "markdown",
      "metadata": {
        "id": "oHSFRwYBFQcR",
        "colab_type": "text"
      },
      "source": [
        "The plot_model() function in Keras will create a plot of your network. This function takes a few useful arguments:\n",
        "\n",
        "* model: (required) The model that you wish to plot.\n",
        "* to_file: (required) The name of the file to which to save the plot.\n",
        "* show_shapes: (optional, defaults to False) Whether or not to show the output shapes of each layer.\n",
        "* show_layer_names: (optional, defaults to True) Whether or not to show the name for each layer."
      ]
    },
    {
      "cell_type": "markdown",
      "metadata": {
        "id": "0K2vkGG3FUi8",
        "colab_type": "text"
      },
      "source": [
        "## Step 7: Save model in a model file\n",
        "Save your model by calling the save() function on the model and specifying the filename. We can do this by saving it to the file model.h5."
      ]
    },
    {
      "cell_type": "code",
      "metadata": {
        "id": "L7sh4P1hFVFl",
        "colab_type": "code",
        "colab": {}
      },
      "source": [
        "# Model Checkpoint\n",
        "# HDF5 file format is built for fast I/O processing and storage.\n",
        "# HDF5 is a self-describing file format, all data and metadata can be passed along in one file.\n",
        "\n",
        "filepath=\"weights.fashion_mnist.best.hdf5\""
      ],
      "execution_count": 15,
      "outputs": []
    },
    {
      "cell_type": "markdown",
      "metadata": {
        "id": "tgqe_DpSFg-D",
        "colab_type": "text"
      },
      "source": [
        "## Step 8: Keras callbacks\n",
        "* A callback is a set of functions to be applied at given stages of the training procedure. \n",
        "* We use a callback when we want to automate some tasks after every training/epochs. This includes: \n",
        "\n",
        "  * Stopping training when you reach a certain accuracy/loss score, or \n",
        "  * Saving model as a checkpoint after each successful epoch."
      ]
    },
    {
      "cell_type": "markdown",
      "metadata": {
        "id": "SP-YIQNVFo_d",
        "colab_type": "text"
      },
      "source": [
        "### ModelCheckpoint\n",
        "\n",
        "This callback saves the model after every epoch. Here are some relevant metrics:\n",
        "\n",
        "* filepath: the file path you want to save your model in\n",
        "* monitor: the value being monitored\n",
        "* save_best_only: set this to True if you do not want to overwrite the latest best model\n",
        "* mode: auto, min, or max. For example, you set mode=’min’ if the monitored value is val_loss and you want to minimize it."
      ]
    },
    {
      "cell_type": "code",
      "metadata": {
        "id": "-zkCLpdAFphm",
        "colab_type": "code",
        "colab": {}
      },
      "source": [
        "#Model checkpoint callback\n",
        "checkpoint = tf.keras.callbacks.ModelCheckpoint(filepath, monitor='val_accuracy', verbose=1, save_best_only=True, mode='max')"
      ],
      "execution_count": 16,
      "outputs": []
    },
    {
      "cell_type": "markdown",
      "metadata": {
        "id": "1Xc0dSqeF21O",
        "colab_type": "text"
      },
      "source": [
        "###EarlyStopping\n",
        "\n",
        "This callback avoids overfitting by terminating the process early. The EarlyStoppingfunction has various metrics/arguments that you can modify to set up when the training process should stop. Here are some relevant metrics:\n",
        "\n",
        "* monitor: value being monitored, i.e: val_loss\n",
        "* min_delta: minimum change in the monitored value. For example, min_delta=1 means that the training process will be stopped if the absolute change of the monitored value is less than 1\n",
        "* patience: number of epochs with no improvement after which training will be stopped\n",
        "* restore_best_weights: set this metric to True if you want to keep the best weights once stopped"
      ]
    },
    {
      "cell_type": "code",
      "metadata": {
        "id": "XpM58nEvF3YX",
        "colab_type": "code",
        "colab": {}
      },
      "source": [
        "#Early stopping checkpoint\n",
        "early_stopping_checkpoint = tf.keras.callbacks.EarlyStopping(monitor='val_loss', patience=10)"
      ],
      "execution_count": 17,
      "outputs": []
    },
    {
      "cell_type": "markdown",
      "metadata": {
        "id": "zRK3hCSsF__t",
        "colab_type": "text"
      },
      "source": [
        "### Visualizing model with Tensorboard"
      ]
    },
    {
      "cell_type": "markdown",
      "metadata": {
        "id": "n1-5y6afGCo4",
        "colab_type": "text"
      },
      "source": [
        "**TensorBoard is a visualization tool provided with TensorFlow**\n",
        "\n",
        "This callback logs events for TensorBoard, including: \n",
        "* Metrics summary plots \n",
        "* Training graph visualization "
      ]
    },
    {
      "cell_type": "code",
      "metadata": {
        "id": "omqh9mX8GDMY",
        "colab_type": "code",
        "colab": {
          "base_uri": "https://localhost:8080/",
          "height": 35
        },
        "outputId": "33247eb1-1af1-4f7b-e11d-61b0461d4fed"
      },
      "source": [
        "!ls"
      ],
      "execution_count": 18,
      "outputs": [
        {
          "output_type": "stream",
          "text": [
            "model_plot.png\tsample_data\n"
          ],
          "name": "stdout"
        }
      ]
    },
    {
      "cell_type": "code",
      "metadata": {
        "id": "j-01VF-YGAhd",
        "colab_type": "code",
        "colab": {}
      },
      "source": [
        "!rm -rf tf-log/"
      ],
      "execution_count": 19,
      "outputs": []
    },
    {
      "cell_type": "code",
      "metadata": {
        "id": "TnU0u9uoAHlM",
        "colab_type": "code",
        "colab": {}
      },
      "source": [
        "\"\"\"\n",
        "Tensorboard log\n",
        "\"\"\"\n",
        "# Create a folder\n",
        "log_dir = './tf-log/fmnist2'\n",
        "# Mention include all explanation behind callbacks\n",
        "os.makedirs(log_dir,exist_ok=True)\n",
        "# Define tensorboard callback\n",
        "tb_cb = tf.keras.callbacks.TensorBoard(log_dir=log_dir,profile_batch=0)"
      ],
      "execution_count": 20,
      "outputs": []
    },
    {
      "cell_type": "code",
      "metadata": {
        "id": "cvE6NAl__ncH",
        "colab_type": "code",
        "colab": {}
      },
      "source": [
        "?tf.keras.callbacks.TensorBoard"
      ],
      "execution_count": 21,
      "outputs": []
    },
    {
      "cell_type": "code",
      "metadata": {
        "id": "5VfF5zwx9jX-",
        "colab_type": "code",
        "colab": {
          "base_uri": "https://localhost:8080/",
          "height": 17
        },
        "outputId": "cf694c1f-d46f-496b-c193-b882cd9567b0"
      },
      "source": [
        "# Load tensorboard in colab\n",
        "%load_ext tensorboard\n",
        "%tensorboard --logdir {log_dir}"
      ],
      "execution_count": 22,
      "outputs": [
        {
          "output_type": "display_data",
          "data": {
            "application/javascript": [
              "\n",
              "        (async () => {\n",
              "            const url = await google.colab.kernel.proxyPort(6006, {\"cache\": true});\n",
              "            const iframe = document.createElement('iframe');\n",
              "            iframe.src = url;\n",
              "            iframe.setAttribute('width', '100%');\n",
              "            iframe.setAttribute('height', '800');\n",
              "            iframe.setAttribute('frameborder', 0);\n",
              "            document.body.appendChild(iframe);\n",
              "        })();\n",
              "    "
            ],
            "text/plain": [
              "<IPython.core.display.Javascript object>"
            ]
          },
          "metadata": {
            "tags": []
          }
        }
      ]
    },
    {
      "cell_type": "markdown",
      "metadata": {
        "id": "bNuKWppjGtPl",
        "colab_type": "text"
      },
      "source": [
        "## Step 9: Train the model "
      ]
    },
    {
      "cell_type": "code",
      "metadata": {
        "id": "J3Ku9bpuG4KD",
        "colab_type": "code",
        "colab": {
          "base_uri": "https://localhost:8080/",
          "height": 1000
        },
        "outputId": "e8b5ed10-0d16-4c26-a0f9-555b9e61fa6b"
      },
      "source": [
        "batch_size = 32\n",
        "\n",
        "fitted_model = model.fit(\n",
        "        train_images, train_labels,\n",
        "        epochs=30,\n",
        "        validation_data=(test_images, test_labels),\n",
        "        batch_size = 32,\n",
        "        callbacks=[tb_cb,checkpoint,early_stopping_checkpoint]\n",
        "        \n",
        "        )"
      ],
      "execution_count": 23,
      "outputs": [
        {
          "output_type": "stream",
          "text": [
            "Epoch 1/30\n",
            "1870/1875 [============================>.] - ETA: 0s - loss: 0.9032 - accuracy: 0.7019\n",
            "Epoch 00001: val_accuracy improved from -inf to 0.77090, saving model to weights.fashion_mnist.best.hdf5\n",
            "1875/1875 [==============================] - 6s 3ms/step - loss: 0.9024 - accuracy: 0.7021 - val_loss: 0.6272 - val_accuracy: 0.7709\n",
            "Epoch 2/30\n",
            "1864/1875 [============================>.] - ETA: 0s - loss: 0.5728 - accuracy: 0.7932\n",
            "Epoch 00002: val_accuracy improved from 0.77090 to 0.80190, saving model to weights.fashion_mnist.best.hdf5\n",
            "1875/1875 [==============================] - 7s 3ms/step - loss: 0.5726 - accuracy: 0.7933 - val_loss: 0.5440 - val_accuracy: 0.8019\n",
            "Epoch 3/30\n",
            "1871/1875 [============================>.] - ETA: 0s - loss: 0.5064 - accuracy: 0.8192\n",
            "Epoch 00003: val_accuracy improved from 0.80190 to 0.81670, saving model to weights.fashion_mnist.best.hdf5\n",
            "1875/1875 [==============================] - 6s 3ms/step - loss: 0.5062 - accuracy: 0.8193 - val_loss: 0.5036 - val_accuracy: 0.8167\n",
            "Epoch 4/30\n",
            "1870/1875 [============================>.] - ETA: 0s - loss: 0.4718 - accuracy: 0.8322\n",
            "Epoch 00004: val_accuracy improved from 0.81670 to 0.82890, saving model to weights.fashion_mnist.best.hdf5\n",
            "1875/1875 [==============================] - 6s 3ms/step - loss: 0.4717 - accuracy: 0.8322 - val_loss: 0.4782 - val_accuracy: 0.8289\n",
            "Epoch 5/30\n",
            "1869/1875 [============================>.] - ETA: 0s - loss: 0.4471 - accuracy: 0.8406\n",
            "Epoch 00005: val_accuracy improved from 0.82890 to 0.83350, saving model to weights.fashion_mnist.best.hdf5\n",
            "1875/1875 [==============================] - 8s 4ms/step - loss: 0.4473 - accuracy: 0.8404 - val_loss: 0.4628 - val_accuracy: 0.8335\n",
            "Epoch 6/30\n",
            "1866/1875 [============================>.] - ETA: 0s - loss: 0.4308 - accuracy: 0.8463\n",
            "Epoch 00006: val_accuracy improved from 0.83350 to 0.83900, saving model to weights.fashion_mnist.best.hdf5\n",
            "1875/1875 [==============================] - 8s 4ms/step - loss: 0.4309 - accuracy: 0.8462 - val_loss: 0.4449 - val_accuracy: 0.8390\n",
            "Epoch 7/30\n",
            "1864/1875 [============================>.] - ETA: 0s - loss: 0.4163 - accuracy: 0.8516\n",
            "Epoch 00007: val_accuracy improved from 0.83900 to 0.84150, saving model to weights.fashion_mnist.best.hdf5\n",
            "1875/1875 [==============================] - 8s 4ms/step - loss: 0.4163 - accuracy: 0.8516 - val_loss: 0.4339 - val_accuracy: 0.8415\n",
            "Epoch 8/30\n",
            "1868/1875 [============================>.] - ETA: 0s - loss: 0.4057 - accuracy: 0.8549\n",
            "Epoch 00008: val_accuracy improved from 0.84150 to 0.84390, saving model to weights.fashion_mnist.best.hdf5\n",
            "1875/1875 [==============================] - 8s 4ms/step - loss: 0.4056 - accuracy: 0.8548 - val_loss: 0.4305 - val_accuracy: 0.8439\n",
            "Epoch 9/30\n",
            "1860/1875 [============================>.] - ETA: 0s - loss: 0.3949 - accuracy: 0.8593\n",
            "Epoch 00009: val_accuracy improved from 0.84390 to 0.85140, saving model to weights.fashion_mnist.best.hdf5\n",
            "1875/1875 [==============================] - 7s 4ms/step - loss: 0.3955 - accuracy: 0.8590 - val_loss: 0.4169 - val_accuracy: 0.8514\n",
            "Epoch 10/30\n",
            "1874/1875 [============================>.] - ETA: 0s - loss: 0.3865 - accuracy: 0.8618\n",
            "Epoch 00010: val_accuracy did not improve from 0.85140\n",
            "1875/1875 [==============================] - 7s 4ms/step - loss: 0.3866 - accuracy: 0.8618 - val_loss: 0.4153 - val_accuracy: 0.8502\n",
            "Epoch 11/30\n",
            "1863/1875 [============================>.] - ETA: 0s - loss: 0.3786 - accuracy: 0.8648\n",
            "Epoch 00011: val_accuracy improved from 0.85140 to 0.85160, saving model to weights.fashion_mnist.best.hdf5\n",
            "1875/1875 [==============================] - 7s 4ms/step - loss: 0.3785 - accuracy: 0.8649 - val_loss: 0.4093 - val_accuracy: 0.8516\n",
            "Epoch 12/30\n",
            "1867/1875 [============================>.] - ETA: 0s - loss: 0.3711 - accuracy: 0.8675\n",
            "Epoch 00012: val_accuracy improved from 0.85160 to 0.85810, saving model to weights.fashion_mnist.best.hdf5\n",
            "1875/1875 [==============================] - 7s 4ms/step - loss: 0.3712 - accuracy: 0.8674 - val_loss: 0.3984 - val_accuracy: 0.8581\n",
            "Epoch 13/30\n",
            "1872/1875 [============================>.] - ETA: 0s - loss: 0.3645 - accuracy: 0.8702\n",
            "Epoch 00013: val_accuracy improved from 0.85810 to 0.86140, saving model to weights.fashion_mnist.best.hdf5\n",
            "1875/1875 [==============================] - 7s 3ms/step - loss: 0.3646 - accuracy: 0.8702 - val_loss: 0.3893 - val_accuracy: 0.8614\n",
            "Epoch 14/30\n",
            "1875/1875 [==============================] - ETA: 0s - loss: 0.3578 - accuracy: 0.8710\n",
            "Epoch 00014: val_accuracy did not improve from 0.86140\n",
            "1875/1875 [==============================] - 6s 3ms/step - loss: 0.3578 - accuracy: 0.8710 - val_loss: 0.3918 - val_accuracy: 0.8596\n",
            "Epoch 15/30\n",
            "1871/1875 [============================>.] - ETA: 0s - loss: 0.3519 - accuracy: 0.8740\n",
            "Epoch 00015: val_accuracy improved from 0.86140 to 0.86260, saving model to weights.fashion_mnist.best.hdf5\n",
            "1875/1875 [==============================] - 6s 3ms/step - loss: 0.3520 - accuracy: 0.8740 - val_loss: 0.3817 - val_accuracy: 0.8626\n",
            "Epoch 16/30\n",
            "1859/1875 [============================>.] - ETA: 0s - loss: 0.3461 - accuracy: 0.8755\n",
            "Epoch 00016: val_accuracy did not improve from 0.86260\n",
            "1875/1875 [==============================] - 6s 3ms/step - loss: 0.3465 - accuracy: 0.8755 - val_loss: 0.3912 - val_accuracy: 0.8604\n",
            "Epoch 17/30\n",
            "1859/1875 [============================>.] - ETA: 0s - loss: 0.3421 - accuracy: 0.8772\n",
            "Epoch 00017: val_accuracy did not improve from 0.86260\n",
            "1875/1875 [==============================] - 6s 3ms/step - loss: 0.3419 - accuracy: 0.8773 - val_loss: 0.3815 - val_accuracy: 0.8624\n",
            "Epoch 18/30\n",
            "1859/1875 [============================>.] - ETA: 0s - loss: 0.3363 - accuracy: 0.8787\n",
            "Epoch 00018: val_accuracy improved from 0.86260 to 0.86680, saving model to weights.fashion_mnist.best.hdf5\n",
            "1875/1875 [==============================] - 6s 3ms/step - loss: 0.3368 - accuracy: 0.8787 - val_loss: 0.3721 - val_accuracy: 0.8668\n",
            "Epoch 19/30\n",
            "1859/1875 [============================>.] - ETA: 0s - loss: 0.3318 - accuracy: 0.8806\n",
            "Epoch 00019: val_accuracy did not improve from 0.86680\n",
            "1875/1875 [==============================] - 6s 3ms/step - loss: 0.3320 - accuracy: 0.8805 - val_loss: 0.3764 - val_accuracy: 0.8660\n",
            "Epoch 20/30\n",
            "1866/1875 [============================>.] - ETA: 0s - loss: 0.3277 - accuracy: 0.8824\n",
            "Epoch 00020: val_accuracy improved from 0.86680 to 0.86970, saving model to weights.fashion_mnist.best.hdf5\n",
            "1875/1875 [==============================] - 6s 3ms/step - loss: 0.3279 - accuracy: 0.8824 - val_loss: 0.3696 - val_accuracy: 0.8697\n",
            "Epoch 21/30\n",
            "1873/1875 [============================>.] - ETA: 0s - loss: 0.3229 - accuracy: 0.8837\n",
            "Epoch 00021: val_accuracy improved from 0.86970 to 0.87100, saving model to weights.fashion_mnist.best.hdf5\n",
            "1875/1875 [==============================] - 6s 3ms/step - loss: 0.3230 - accuracy: 0.8837 - val_loss: 0.3665 - val_accuracy: 0.8710\n",
            "Epoch 22/30\n",
            "1861/1875 [============================>.] - ETA: 0s - loss: 0.3185 - accuracy: 0.8855\n",
            "Epoch 00022: val_accuracy improved from 0.87100 to 0.87190, saving model to weights.fashion_mnist.best.hdf5\n",
            "1875/1875 [==============================] - 6s 3ms/step - loss: 0.3191 - accuracy: 0.8854 - val_loss: 0.3607 - val_accuracy: 0.8719\n",
            "Epoch 23/30\n",
            "1874/1875 [============================>.] - ETA: 0s - loss: 0.3149 - accuracy: 0.8869\n",
            "Epoch 00023: val_accuracy did not improve from 0.87190\n",
            "1875/1875 [==============================] - 6s 3ms/step - loss: 0.3150 - accuracy: 0.8869 - val_loss: 0.3591 - val_accuracy: 0.8717\n",
            "Epoch 24/30\n",
            "1867/1875 [============================>.] - ETA: 0s - loss: 0.3122 - accuracy: 0.8872\n",
            "Epoch 00024: val_accuracy improved from 0.87190 to 0.87300, saving model to weights.fashion_mnist.best.hdf5\n",
            "1875/1875 [==============================] - 7s 4ms/step - loss: 0.3122 - accuracy: 0.8872 - val_loss: 0.3549 - val_accuracy: 0.8730\n",
            "Epoch 25/30\n",
            "1873/1875 [============================>.] - ETA: 0s - loss: 0.3079 - accuracy: 0.8880\n",
            "Epoch 00025: val_accuracy did not improve from 0.87300\n",
            "1875/1875 [==============================] - 8s 4ms/step - loss: 0.3080 - accuracy: 0.8881 - val_loss: 0.3543 - val_accuracy: 0.8729\n",
            "Epoch 26/30\n",
            "1868/1875 [============================>.] - ETA: 0s - loss: 0.3042 - accuracy: 0.8895\n",
            "Epoch 00026: val_accuracy improved from 0.87300 to 0.87740, saving model to weights.fashion_mnist.best.hdf5\n",
            "1875/1875 [==============================] - 8s 4ms/step - loss: 0.3040 - accuracy: 0.8896 - val_loss: 0.3498 - val_accuracy: 0.8774\n",
            "Epoch 27/30\n",
            "1865/1875 [============================>.] - ETA: 0s - loss: 0.3016 - accuracy: 0.8908\n",
            "Epoch 00027: val_accuracy did not improve from 0.87740\n",
            "1875/1875 [==============================] - 7s 4ms/step - loss: 0.3012 - accuracy: 0.8910 - val_loss: 0.3468 - val_accuracy: 0.8767\n",
            "Epoch 28/30\n",
            "1871/1875 [============================>.] - ETA: 0s - loss: 0.2971 - accuracy: 0.8907\n",
            "Epoch 00028: val_accuracy did not improve from 0.87740\n",
            "1875/1875 [==============================] - 8s 4ms/step - loss: 0.2971 - accuracy: 0.8907 - val_loss: 0.3454 - val_accuracy: 0.8768\n",
            "Epoch 29/30\n",
            "1868/1875 [============================>.] - ETA: 0s - loss: 0.2953 - accuracy: 0.8930\n",
            "Epoch 00029: val_accuracy improved from 0.87740 to 0.88060, saving model to weights.fashion_mnist.best.hdf5\n",
            "1875/1875 [==============================] - 8s 4ms/step - loss: 0.2954 - accuracy: 0.8929 - val_loss: 0.3432 - val_accuracy: 0.8806\n",
            "Epoch 30/30\n",
            "1865/1875 [============================>.] - ETA: 0s - loss: 0.2931 - accuracy: 0.8931\n",
            "Epoch 00030: val_accuracy did not improve from 0.88060\n",
            "1875/1875 [==============================] - 8s 4ms/step - loss: 0.2929 - accuracy: 0.8931 - val_loss: 0.3407 - val_accuracy: 0.8785\n"
          ],
          "name": "stdout"
        }
      ]
    },
    {
      "cell_type": "markdown",
      "metadata": {
        "id": "3OLSioysHw3T",
        "colab_type": "text"
      },
      "source": [
        "## External Tensorboard visualization"
      ]
    },
    {
      "cell_type": "code",
      "metadata": {
        "id": "KszTidLiHxgU",
        "colab_type": "code",
        "colab": {
          "base_uri": "https://localhost:8080/",
          "height": 52
        },
        "outputId": "b465ffab-1732-4282-968f-d9e9bdfe727a"
      },
      "source": [
        "!wget -q https://bin.equinox.io/c/4VmDzA7iaHb/ngrok-stable-linux-amd64.zip\n",
        "!unzip ngrok-stable-linux-amd64.zip"
      ],
      "execution_count": 24,
      "outputs": [
        {
          "output_type": "stream",
          "text": [
            "Archive:  ngrok-stable-linux-amd64.zip\n",
            "  inflating: ngrok                   \n"
          ],
          "name": "stdout"
        }
      ]
    },
    {
      "cell_type": "code",
      "metadata": {
        "id": "bZw60l3WH2zk",
        "colab_type": "code",
        "colab": {}
      },
      "source": [
        "# start tensorboard on localhost 6006\n",
        "\n",
        "get_ipython().system_raw(\n",
        "    'tensorboard --logdir {} --host 0.0.0.0 --port 6006 &'\n",
        "    .format(log_dir)\n",
        ")"
      ],
      "execution_count": 25,
      "outputs": []
    },
    {
      "cell_type": "code",
      "metadata": {
        "id": "Tlgw-f2pH9OQ",
        "colab_type": "code",
        "colab": {}
      },
      "source": [
        "# start ngrok and asking ngrok to forward to port to 6006 where tensorboard is running \n",
        "get_ipython().system_raw('./ngrok http 6006 &')"
      ],
      "execution_count": 26,
      "outputs": []
    },
    {
      "cell_type": "code",
      "metadata": {
        "id": "7N9iXh6qIBWW",
        "colab_type": "code",
        "colab": {
          "base_uri": "https://localhost:8080/",
          "height": 35
        },
        "outputId": "4a9358f4-6d21-42cc-94da-0bc18e5e7507"
      },
      "source": [
        "# get url generated from ngrok\n",
        "\n",
        "! curl -s http://localhost:4040/api/tunnels | python3 -c \\\n",
        "    \"import sys, json; print(json.load(sys.stdin)['tunnels'][0]['public_url'])\""
      ],
      "execution_count": 27,
      "outputs": [
        {
          "output_type": "stream",
          "text": [
            "https://019974154c73.ngrok.io\n"
          ],
          "name": "stdout"
        }
      ]
    },
    {
      "cell_type": "markdown",
      "metadata": {
        "id": "BslGc110IJ0U",
        "colab_type": "text"
      },
      "source": [
        "## Step 10: Model Prediction"
      ]
    },
    {
      "cell_type": "code",
      "metadata": {
        "id": "RlS7d37QIKTc",
        "colab_type": "code",
        "colab": {}
      },
      "source": [
        "labels = ['T-shirt/top','Trouser','Pullover','Dress','Coat','Sandal','Shirt','Sneaker','Bag','Ankle boot']\n",
        "def predict_image(model,img):\n",
        "  \n",
        "  classifier=model\n",
        "  plt.imshow(img.reshape(28,28), cmap='gray')\n",
        "  x=img.reshape(1,784) \n",
        "  result = classifier.predict(x)\n",
        "  print(np.argmax(result))\n",
        "  print(labels[np.argmax(result)])"
      ],
      "execution_count": 28,
      "outputs": []
    },
    {
      "cell_type": "code",
      "metadata": {
        "id": "5TTgEwXUIOXH",
        "colab_type": "code",
        "colab": {
          "base_uri": "https://localhost:8080/",
          "height": 300
        },
        "outputId": "f348e7df-d659-4585-f121-761c380a91a5"
      },
      "source": [
        "predict_image(model,test_images[56])"
      ],
      "execution_count": 29,
      "outputs": [
        {
          "output_type": "stream",
          "text": [
            "8\n",
            "Bag\n"
          ],
          "name": "stdout"
        },
        {
          "output_type": "display_data",
          "data": {
            "image/png": "[encoded data removed]",
            "text/plain": [
              "<Figure size 432x288 with 1 Axes>"
            ]
          },
          "metadata": {
            "tags": [],
            "needs_background": "light"
          }
        }
      ]
    },
    {
      "cell_type": "code",
      "metadata": {
        "id": "q9Z1DJPbIROF",
        "colab_type": "code",
        "colab": {
          "base_uri": "https://localhost:8080/",
          "height": 35
        },
        "outputId": "1e4cedf3-9544-4d59-d826-b0739bffb376"
      },
      "source": [
        "test_labels[56]"
      ],
      "execution_count": 30,
      "outputs": [
        {
          "output_type": "execute_result",
          "data": {
            "text/plain": [
              "array([0., 0., 0., 0., 0., 0., 0., 0., 1., 0.], dtype=float32)"
            ]
          },
          "metadata": {
            "tags": []
          },
          "execution_count": 30
        }
      ]
    },
    {
      "cell_type": "code",
      "metadata": {
        "id": "z5qkAcmMIVeM",
        "colab_type": "code",
        "colab": {}
      },
      "source": [
        ""
      ],
      "execution_count": null,
      "outputs": []
    },
    {
      "cell_type": "code",
      "metadata": {
        "id": "0koFF6oYIFiA",
        "colab_type": "code",
        "colab": {}
      },
      "source": [
        ""
      ],
      "execution_count": null,
      "outputs": []
    },
    {
      "cell_type": "code",
      "metadata": {
        "id": "tD50b2oyG7Eo",
        "colab_type": "code",
        "colab": {}
      },
      "source": [
        ""
      ],
      "execution_count": null,
      "outputs": []
    },
    {
      "cell_type": "code",
      "metadata": {
        "id": "bzcPd0fw9ai2",
        "colab_type": "code",
        "colab": {}
      },
      "source": [
        ""
      ],
      "execution_count": null,
      "outputs": []
    }
  ]
}