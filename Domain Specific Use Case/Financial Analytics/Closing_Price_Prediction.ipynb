{
  "nbformat": 4,
  "nbformat_minor": 0,
  "metadata": {
    "colab": {
      "name": "Closing Price Prediction.ipynb",
      "provenance": [],
      "collapsed_sections": []
    },
    "kernelspec": {
      "name": "python3",
      "display_name": "Python 3"
    }
  },
  "cells": [
    {
      "cell_type": "markdown",
      "metadata": {
        "id": "HaIvsk5XRQ-3"
      },
      "source": [
        "### Upload the dataset from github."
      ]
    },
    {
      "cell_type": "code",
      "metadata": {
        "id": "KLc63Y7DREnY",
        "outputId": "939f5b91-4a31-4d66-83dd-3fe509c0774b",
        "colab": {
          "base_uri": "https://localhost:8080/",
          "height": 419
        }
      },
      "source": [
        "!wget \"https://raw.githubusercontent.com/UpXDataScience/FA-Bootcamp/master/Day4/Uniqlo(FastRetailing)%202012-2016%20Training%20-%20stocks2012-2016.csv\"\n",
        "!wget \"https://raw.githubusercontent.com/UpXDataScience/FA-Bootcamp/master/Day4/Uniqlo(FastRetailing)%202017%20Test%20-%20stocks2017.csv\""
      ],
      "execution_count": null,
      "outputs": [
        {
          "output_type": "stream",
          "text": [
            "--2020-10-27 08:56:46--  https://raw.githubusercontent.com/UpXDataScience/FA-Bootcamp/master/Day4/Uniqlo(FastRetailing)%202012-2016%20Training%20-%20stocks2012-2016.csv\n",
            "Resolving raw.githubusercontent.com (raw.githubusercontent.com)... 151.101.0.133, 151.101.64.133, 151.101.128.133, ...\n",
            "Connecting to raw.githubusercontent.com (raw.githubusercontent.com)|151.101.0.133|:443... connected.\n",
            "HTTP request sent, awaiting response... 200 OK\n",
            "Length: 67529 (66K) [text/plain]\n",
            "Saving to: ‘Uniqlo(FastRetailing) 2012-2016 Training - stocks2012-2016.csv’\n",
            "\n",
            "Uniqlo(FastRetailin 100%[===================>]  65.95K  --.-KB/s    in 0.02s   \n",
            "\n",
            "2020-10-27 08:56:46 (4.13 MB/s) - ‘Uniqlo(FastRetailing) 2012-2016 Training - stocks2012-2016.csv’ saved [67529/67529]\n",
            "\n",
            "--2020-10-27 08:56:46--  https://raw.githubusercontent.com/UpXDataScience/FA-Bootcamp/master/Day4/Uniqlo(FastRetailing)%202017%20Test%20-%20stocks2017.csv\n",
            "Resolving raw.githubusercontent.com (raw.githubusercontent.com)... 151.101.0.133, 151.101.64.133, 151.101.128.133, ...\n",
            "Connecting to raw.githubusercontent.com (raw.githubusercontent.com)|151.101.0.133|:443... connected.\n",
            "HTTP request sent, awaiting response... 200 OK\n",
            "Length: 433 [text/plain]\n",
            "Saving to: ‘Uniqlo(FastRetailing) 2017 Test - stocks2017.csv’\n",
            "\n",
            "Uniqlo(FastRetailin 100%[===================>]     433  --.-KB/s    in 0s      \n",
            "\n",
            "2020-10-27 08:56:46 (24.9 MB/s) - ‘Uniqlo(FastRetailing) 2017 Test - stocks2017.csv’ saved [433/433]\n",
            "\n"
          ],
          "name": "stdout"
        }
      ]
    },
    {
      "cell_type": "markdown",
      "metadata": {
        "id": "Uf9QPAwNRpRH"
      },
      "source": [
        "### Importing the packages."
      ]
    },
    {
      "cell_type": "code",
      "metadata": {
        "id": "KARzapFURtBX"
      },
      "source": [
        "import pandas as pd                              # Package to manipulate dataframe\n",
        "import matplotlib.pyplot as plt                  # Visualization package\n",
        "import numpy as np                               # Numeric computing"
      ],
      "execution_count": null,
      "outputs": []
    },
    {
      "cell_type": "markdown",
      "metadata": {
        "id": "EpL1707MRyqu"
      },
      "source": [
        "### Reading the dataset"
      ]
    },
    {
      "cell_type": "code",
      "metadata": {
        "id": "2t23l328RwLP"
      },
      "source": [
        "df=pd.read_csv(\"Uniqlo(FastRetailing) 2012-2016 Training - stocks2012-2016.csv\")          # Reading the training data"
      ],
      "execution_count": null,
      "outputs": []
    },
    {
      "cell_type": "code",
      "metadata": {
        "id": "hXd7faWwR7aX",
        "outputId": "b5c7c17e-8ad9-43dd-f42c-5b811db3fb81",
        "colab": {
          "base_uri": "https://localhost:8080/",
          "height": 202
        }
      },
      "source": [
        "df.head()"
      ],
      "execution_count": null,
      "outputs": [
        {
          "output_type": "execute_result",
          "data": {
            "text/html": [
              "<div>\n",
              "<style scoped>\n",
              "    .dataframe tbody tr th:only-of-type {\n",
              "        vertical-align: middle;\n",
              "    }\n",
              "\n",
              "    .dataframe tbody tr th {\n",
              "        vertical-align: top;\n",
              "    }\n",
              "\n",
              "    .dataframe thead th {\n",
              "        text-align: right;\n",
              "    }\n",
              "</style>\n",
              "<table border=\"1\" class=\"dataframe\">\n",
              "  <thead>\n",
              "    <tr style=\"text-align: right;\">\n",
              "      <th></th>\n",
              "      <th>Date</th>\n",
              "      <th>Open</th>\n",
              "      <th>High</th>\n",
              "      <th>Low</th>\n",
              "      <th>Close</th>\n",
              "      <th>Volume</th>\n",
              "      <th>Stock Trading</th>\n",
              "    </tr>\n",
              "  </thead>\n",
              "  <tbody>\n",
              "    <tr>\n",
              "      <th>0</th>\n",
              "      <td>2016-12-30</td>\n",
              "      <td>42120</td>\n",
              "      <td>42330</td>\n",
              "      <td>41700</td>\n",
              "      <td>41830</td>\n",
              "      <td>610000</td>\n",
              "      <td>25628028000</td>\n",
              "    </tr>\n",
              "    <tr>\n",
              "      <th>1</th>\n",
              "      <td>2016-12-29</td>\n",
              "      <td>43000</td>\n",
              "      <td>43220</td>\n",
              "      <td>42540</td>\n",
              "      <td>42660</td>\n",
              "      <td>448400</td>\n",
              "      <td>19188227000</td>\n",
              "    </tr>\n",
              "    <tr>\n",
              "      <th>2</th>\n",
              "      <td>2016-12-28</td>\n",
              "      <td>43940</td>\n",
              "      <td>43970</td>\n",
              "      <td>43270</td>\n",
              "      <td>43270</td>\n",
              "      <td>339900</td>\n",
              "      <td>14780670000</td>\n",
              "    </tr>\n",
              "    <tr>\n",
              "      <th>3</th>\n",
              "      <td>2016-12-27</td>\n",
              "      <td>43140</td>\n",
              "      <td>43700</td>\n",
              "      <td>43140</td>\n",
              "      <td>43620</td>\n",
              "      <td>400100</td>\n",
              "      <td>17427993000</td>\n",
              "    </tr>\n",
              "    <tr>\n",
              "      <th>4</th>\n",
              "      <td>2016-12-26</td>\n",
              "      <td>43310</td>\n",
              "      <td>43660</td>\n",
              "      <td>43090</td>\n",
              "      <td>43340</td>\n",
              "      <td>358200</td>\n",
              "      <td>15547803000</td>\n",
              "    </tr>\n",
              "  </tbody>\n",
              "</table>\n",
              "</div>"
            ],
            "text/plain": [
              "         Date   Open   High    Low  Close  Volume  Stock Trading\n",
              "0  2016-12-30  42120  42330  41700  41830  610000    25628028000\n",
              "1  2016-12-29  43000  43220  42540  42660  448400    19188227000\n",
              "2  2016-12-28  43940  43970  43270  43270  339900    14780670000\n",
              "3  2016-12-27  43140  43700  43140  43620  400100    17427993000\n",
              "4  2016-12-26  43310  43660  43090  43340  358200    15547803000"
            ]
          },
          "metadata": {
            "tags": []
          },
          "execution_count": 4
        }
      ]
    },
    {
      "cell_type": "markdown",
      "metadata": {
        "id": "C2FUZdNoSN8v"
      },
      "source": [
        "We required only two columns, Date and Close. Since Close is the input and output. And Date will become index."
      ]
    },
    {
      "cell_type": "code",
      "metadata": {
        "id": "2kFAQ9DyR_d9",
        "outputId": "61939128-1933-4837-aa69-f7dd9412e2c6",
        "colab": {
          "base_uri": "https://localhost:8080/",
          "height": 202
        }
      },
      "source": [
        "cols=['Date','Close']\n",
        "stocks_df=df[cols]                                                                            # new_df contains only the required columns\n",
        "stocks_df.head()"
      ],
      "execution_count": null,
      "outputs": [
        {
          "output_type": "execute_result",
          "data": {
            "text/html": [
              "<div>\n",
              "<style scoped>\n",
              "    .dataframe tbody tr th:only-of-type {\n",
              "        vertical-align: middle;\n",
              "    }\n",
              "\n",
              "    .dataframe tbody tr th {\n",
              "        vertical-align: top;\n",
              "    }\n",
              "\n",
              "    .dataframe thead th {\n",
              "        text-align: right;\n",
              "    }\n",
              "</style>\n",
              "<table border=\"1\" class=\"dataframe\">\n",
              "  <thead>\n",
              "    <tr style=\"text-align: right;\">\n",
              "      <th></th>\n",
              "      <th>Date</th>\n",
              "      <th>Close</th>\n",
              "    </tr>\n",
              "  </thead>\n",
              "  <tbody>\n",
              "    <tr>\n",
              "      <th>0</th>\n",
              "      <td>2016-12-30</td>\n",
              "      <td>41830</td>\n",
              "    </tr>\n",
              "    <tr>\n",
              "      <th>1</th>\n",
              "      <td>2016-12-29</td>\n",
              "      <td>42660</td>\n",
              "    </tr>\n",
              "    <tr>\n",
              "      <th>2</th>\n",
              "      <td>2016-12-28</td>\n",
              "      <td>43270</td>\n",
              "    </tr>\n",
              "    <tr>\n",
              "      <th>3</th>\n",
              "      <td>2016-12-27</td>\n",
              "      <td>43620</td>\n",
              "    </tr>\n",
              "    <tr>\n",
              "      <th>4</th>\n",
              "      <td>2016-12-26</td>\n",
              "      <td>43340</td>\n",
              "    </tr>\n",
              "  </tbody>\n",
              "</table>\n",
              "</div>"
            ],
            "text/plain": [
              "         Date  Close\n",
              "0  2016-12-30  41830\n",
              "1  2016-12-29  42660\n",
              "2  2016-12-28  43270\n",
              "3  2016-12-27  43620\n",
              "4  2016-12-26  43340"
            ]
          },
          "metadata": {
            "tags": []
          },
          "execution_count": 5
        }
      ]
    },
    {
      "cell_type": "markdown",
      "metadata": {
        "id": "bRG53ofJSmMK"
      },
      "source": [
        "### Exploring the data"
      ]
    },
    {
      "cell_type": "code",
      "metadata": {
        "id": "Tevh0NNYSh5H",
        "outputId": "643a6bb3-b271-4c7c-88b4-5fad6ab6349c",
        "colab": {
          "base_uri": "https://localhost:8080/",
          "height": 173
        }
      },
      "source": [
        "stocks_df.info()                                                                             # Checking the missing values and datatypes"
      ],
      "execution_count": null,
      "outputs": [
        {
          "output_type": "stream",
          "text": [
            "<class 'pandas.core.frame.DataFrame'>\n",
            "RangeIndex: 1226 entries, 0 to 1225\n",
            "Data columns (total 2 columns):\n",
            " #   Column  Non-Null Count  Dtype \n",
            "---  ------  --------------  ----- \n",
            " 0   Date    1226 non-null   object\n",
            " 1   Close   1226 non-null   int64 \n",
            "dtypes: int64(1), object(1)\n",
            "memory usage: 19.3+ KB\n"
          ],
          "name": "stdout"
        }
      ]
    },
    {
      "cell_type": "markdown",
      "metadata": {
        "id": "9OyGK6rYSyo1"
      },
      "source": [
        "The date column is an object. Let's convert it to datetime."
      ]
    },
    {
      "cell_type": "code",
      "metadata": {
        "id": "QdDejfmsStSP",
        "outputId": "455949f4-4234-4eb6-ea59-ec546b0a179b",
        "colab": {
          "base_uri": "https://localhost:8080/",
          "height": 121
        }
      },
      "source": [
        "stocks_df['Date']=pd.to_datetime(stocks_df['Date'])"
      ],
      "execution_count": null,
      "outputs": [
        {
          "output_type": "stream",
          "text": [
            "/usr/local/lib/python3.6/dist-packages/ipykernel_launcher.py:1: SettingWithCopyWarning: \n",
            "A value is trying to be set on a copy of a slice from a DataFrame.\n",
            "Try using .loc[row_indexer,col_indexer] = value instead\n",
            "\n",
            "See the caveats in the documentation: https://pandas.pydata.org/pandas-docs/stable/user_guide/indexing.html#returning-a-view-versus-a-copy\n",
            "  \"\"\"Entry point for launching an IPython kernel.\n"
          ],
          "name": "stderr"
        }
      ]
    },
    {
      "cell_type": "code",
      "metadata": {
        "id": "D9BuO9poS8OW",
        "outputId": "915dc642-3e78-4cf9-814e-8b30440b6207",
        "colab": {
          "base_uri": "https://localhost:8080/",
          "height": 173
        }
      },
      "source": [
        "stocks_df.info()"
      ],
      "execution_count": null,
      "outputs": [
        {
          "output_type": "stream",
          "text": [
            "<class 'pandas.core.frame.DataFrame'>\n",
            "RangeIndex: 1226 entries, 0 to 1225\n",
            "Data columns (total 2 columns):\n",
            " #   Column  Non-Null Count  Dtype         \n",
            "---  ------  --------------  -----         \n",
            " 0   Date    1226 non-null   datetime64[ns]\n",
            " 1   Close   1226 non-null   int64         \n",
            "dtypes: datetime64[ns](1), int64(1)\n",
            "memory usage: 19.3 KB\n"
          ],
          "name": "stdout"
        }
      ]
    },
    {
      "cell_type": "markdown",
      "metadata": {
        "id": "TJAwVkDTTFrb"
      },
      "source": [
        "Setting the date column as index."
      ]
    },
    {
      "cell_type": "code",
      "metadata": {
        "id": "N-LKsH5lTDy_"
      },
      "source": [
        "stocks_df=stocks_df.set_index(\"Date\")"
      ],
      "execution_count": null,
      "outputs": []
    },
    {
      "cell_type": "code",
      "metadata": {
        "id": "HE7WvljaTNOG",
        "outputId": "2b91f429-4e43-44a1-ccdf-5bcd2e059a1a",
        "colab": {
          "base_uri": "https://localhost:8080/",
          "height": 233
        }
      },
      "source": [
        "stocks_df.head()"
      ],
      "execution_count": null,
      "outputs": [
        {
          "output_type": "execute_result",
          "data": {
            "text/html": [
              "<div>\n",
              "<style scoped>\n",
              "    .dataframe tbody tr th:only-of-type {\n",
              "        vertical-align: middle;\n",
              "    }\n",
              "\n",
              "    .dataframe tbody tr th {\n",
              "        vertical-align: top;\n",
              "    }\n",
              "\n",
              "    .dataframe thead th {\n",
              "        text-align: right;\n",
              "    }\n",
              "</style>\n",
              "<table border=\"1\" class=\"dataframe\">\n",
              "  <thead>\n",
              "    <tr style=\"text-align: right;\">\n",
              "      <th></th>\n",
              "      <th>Close</th>\n",
              "    </tr>\n",
              "    <tr>\n",
              "      <th>Date</th>\n",
              "      <th></th>\n",
              "    </tr>\n",
              "  </thead>\n",
              "  <tbody>\n",
              "    <tr>\n",
              "      <th>2016-12-30</th>\n",
              "      <td>41830</td>\n",
              "    </tr>\n",
              "    <tr>\n",
              "      <th>2016-12-29</th>\n",
              "      <td>42660</td>\n",
              "    </tr>\n",
              "    <tr>\n",
              "      <th>2016-12-28</th>\n",
              "      <td>43270</td>\n",
              "    </tr>\n",
              "    <tr>\n",
              "      <th>2016-12-27</th>\n",
              "      <td>43620</td>\n",
              "    </tr>\n",
              "    <tr>\n",
              "      <th>2016-12-26</th>\n",
              "      <td>43340</td>\n",
              "    </tr>\n",
              "  </tbody>\n",
              "</table>\n",
              "</div>"
            ],
            "text/plain": [
              "            Close\n",
              "Date             \n",
              "2016-12-30  41830\n",
              "2016-12-29  42660\n",
              "2016-12-28  43270\n",
              "2016-12-27  43620\n",
              "2016-12-26  43340"
            ]
          },
          "metadata": {
            "tags": []
          },
          "execution_count": 10
        }
      ]
    },
    {
      "cell_type": "code",
      "metadata": {
        "id": "r96b52-9TQ69",
        "outputId": "8b49f904-122b-4025-9be8-eb7279165647",
        "colab": {
          "base_uri": "https://localhost:8080/",
          "height": 233
        }
      },
      "source": [
        "stocks_df.tail()"
      ],
      "execution_count": null,
      "outputs": [
        {
          "output_type": "execute_result",
          "data": {
            "text/html": [
              "<div>\n",
              "<style scoped>\n",
              "    .dataframe tbody tr th:only-of-type {\n",
              "        vertical-align: middle;\n",
              "    }\n",
              "\n",
              "    .dataframe tbody tr th {\n",
              "        vertical-align: top;\n",
              "    }\n",
              "\n",
              "    .dataframe thead th {\n",
              "        text-align: right;\n",
              "    }\n",
              "</style>\n",
              "<table border=\"1\" class=\"dataframe\">\n",
              "  <thead>\n",
              "    <tr style=\"text-align: right;\">\n",
              "      <th></th>\n",
              "      <th>Close</th>\n",
              "    </tr>\n",
              "    <tr>\n",
              "      <th>Date</th>\n",
              "      <th></th>\n",
              "    </tr>\n",
              "  </thead>\n",
              "  <tbody>\n",
              "    <tr>\n",
              "      <th>2012-01-11</th>\n",
              "      <td>14590</td>\n",
              "    </tr>\n",
              "    <tr>\n",
              "      <th>2012-01-10</th>\n",
              "      <td>14390</td>\n",
              "    </tr>\n",
              "    <tr>\n",
              "      <th>2012-01-06</th>\n",
              "      <td>13850</td>\n",
              "    </tr>\n",
              "    <tr>\n",
              "      <th>2012-01-05</th>\n",
              "      <td>13800</td>\n",
              "    </tr>\n",
              "    <tr>\n",
              "      <th>2012-01-04</th>\n",
              "      <td>13720</td>\n",
              "    </tr>\n",
              "  </tbody>\n",
              "</table>\n",
              "</div>"
            ],
            "text/plain": [
              "            Close\n",
              "Date             \n",
              "2012-01-11  14590\n",
              "2012-01-10  14390\n",
              "2012-01-06  13850\n",
              "2012-01-05  13800\n",
              "2012-01-04  13720"
            ]
          },
          "metadata": {
            "tags": []
          },
          "execution_count": 11
        }
      ]
    },
    {
      "cell_type": "markdown",
      "metadata": {
        "id": "iuendHIZTd5r"
      },
      "source": [
        "Our data starts from 4th January 2012 to 30th December 2016"
      ]
    },
    {
      "cell_type": "code",
      "metadata": {
        "id": "nXw6RuRKTVam",
        "outputId": "714c75c3-7d15-4544-f526-ac0f1ea7d69d",
        "colab": {
          "base_uri": "https://localhost:8080/",
          "height": 513
        }
      },
      "source": [
        "plt.figure(figsize=[10,8])                                   # Setting the figure size\n",
        "plt.plot(stocks_df['Close'])                                 # Plotting the close price\n",
        "plt.xlabel(\"Date\")                                           # Setting the label in x-axis\n",
        "plt.ylabel(\"Close Price\")                                    # Setting the label in y-axis\n",
        "plt.title(\"Close Price Vs Date\")                             # Title\n",
        "plt.show()"
      ],
      "execution_count": null,
      "outputs": [
        {
          "output_type": "display_data",
          "data": {
            "image/png": "[encoded data removed]",
            "text/plain": [
              "<Figure size 720x576 with 1 Axes>"
            ]
          },
          "metadata": {
            "tags": [],
            "needs_background": "light"
          }
        }
      ]
    },
    {
      "cell_type": "markdown",
      "metadata": {
        "id": "J1CIgRZiToza"
      },
      "source": [
        "### Importing more packages for prediction."
      ]
    },
    {
      "cell_type": "code",
      "metadata": {
        "id": "oYsa53SdTkPt"
      },
      "source": [
        "from keras.models import Sequential                   # Sequential model\n",
        "from keras.layers import Dense                        # For fully connected layers\n",
        "from keras.layers import LSTM                         # For LSTM layers\n",
        "from sklearn.preprocessing import MinMaxScaler        # Scaling the data\n",
        "min_max_scaler = MinMaxScaler()"
      ],
      "execution_count": null,
      "outputs": []
    },
    {
      "cell_type": "code",
      "metadata": {
        "id": "xzrRd9JwT00O",
        "outputId": "e5d3b896-4e9d-4294-8ce8-4493434fbec2",
        "colab": {
          "base_uri": "https://localhost:8080/",
          "height": 35
        }
      },
      "source": [
        "len(stocks_df)"
      ],
      "execution_count": null,
      "outputs": [
        {
          "output_type": "execute_result",
          "data": {
            "text/plain": [
              "1226"
            ]
          },
          "metadata": {
            "tags": []
          },
          "execution_count": 14
        }
      ]
    },
    {
      "cell_type": "code",
      "metadata": {
        "id": "46BRSSWST4Z-",
        "outputId": "f0fd378a-e7ff-476f-c1a0-4c3730549019",
        "colab": {
          "base_uri": "https://localhost:8080/",
          "height": 52
        }
      },
      "source": [
        "stocks_df.isnull().sum()  "
      ],
      "execution_count": null,
      "outputs": [
        {
          "output_type": "execute_result",
          "data": {
            "text/plain": [
              "Close    0\n",
              "dtype: int64"
            ]
          },
          "metadata": {
            "tags": []
          },
          "execution_count": 15
        }
      ]
    },
    {
      "cell_type": "markdown",
      "metadata": {
        "id": "YA1x_9WaT_Hi"
      },
      "source": [
        "### Train Test Split"
      ]
    },
    {
      "cell_type": "markdown",
      "metadata": {
        "id": "2VQqZtGpUFa5"
      },
      "source": [
        "Let's make prediction for 30 days."
      ]
    },
    {
      "cell_type": "code",
      "metadata": {
        "id": "wVgYRht4T7hV"
      },
      "source": [
        "prediction_days = 30\n",
        "ts_train= stocks_df[prediction_days:]       # Remove 30 days from the end for Training data\n",
        "ts_test= stocks_df[:prediction_days]        # Last 30 days values for test"
      ],
      "execution_count": null,
      "outputs": []
    },
    {
      "cell_type": "code",
      "metadata": {
        "id": "-DmSGFYgUTVO",
        "outputId": "743fb195-dc4b-4c57-f4d1-27418ae5bf1a",
        "colab": {
          "base_uri": "https://localhost:8080/",
          "height": 35
        }
      },
      "source": [
        "ts_train.shape   "
      ],
      "execution_count": null,
      "outputs": [
        {
          "output_type": "execute_result",
          "data": {
            "text/plain": [
              "(1196, 1)"
            ]
          },
          "metadata": {
            "tags": []
          },
          "execution_count": 17
        }
      ]
    },
    {
      "cell_type": "code",
      "metadata": {
        "id": "maVD35R-UgU9",
        "outputId": "1dcb5961-2970-48aa-ad48-9c47dbf796bb",
        "colab": {
          "base_uri": "https://localhost:8080/",
          "height": 35
        }
      },
      "source": [
        "ts_test.shape    "
      ],
      "execution_count": null,
      "outputs": [
        {
          "output_type": "execute_result",
          "data": {
            "text/plain": [
              "(30, 1)"
            ]
          },
          "metadata": {
            "tags": []
          },
          "execution_count": 18
        }
      ]
    },
    {
      "cell_type": "code",
      "metadata": {
        "id": "njqWN3OnUjFt",
        "outputId": "d5536f43-726d-4d8c-fe77-8c8ac1927f7a",
        "colab": {
          "base_uri": "https://localhost:8080/",
          "height": 233
        }
      },
      "source": [
        "ts_test.tail()"
      ],
      "execution_count": null,
      "outputs": [
        {
          "output_type": "execute_result",
          "data": {
            "text/html": [
              "<div>\n",
              "<style scoped>\n",
              "    .dataframe tbody tr th:only-of-type {\n",
              "        vertical-align: middle;\n",
              "    }\n",
              "\n",
              "    .dataframe tbody tr th {\n",
              "        vertical-align: top;\n",
              "    }\n",
              "\n",
              "    .dataframe thead th {\n",
              "        text-align: right;\n",
              "    }\n",
              "</style>\n",
              "<table border=\"1\" class=\"dataframe\">\n",
              "  <thead>\n",
              "    <tr style=\"text-align: right;\">\n",
              "      <th></th>\n",
              "      <th>Close</th>\n",
              "    </tr>\n",
              "    <tr>\n",
              "      <th>Date</th>\n",
              "      <th></th>\n",
              "    </tr>\n",
              "  </thead>\n",
              "  <tbody>\n",
              "    <tr>\n",
              "      <th>2016-11-24</th>\n",
              "      <td>41730</td>\n",
              "    </tr>\n",
              "    <tr>\n",
              "      <th>2016-11-22</th>\n",
              "      <td>40360</td>\n",
              "    </tr>\n",
              "    <tr>\n",
              "      <th>2016-11-21</th>\n",
              "      <td>39970</td>\n",
              "    </tr>\n",
              "    <tr>\n",
              "      <th>2016-11-18</th>\n",
              "      <td>40190</td>\n",
              "    </tr>\n",
              "    <tr>\n",
              "      <th>2016-11-17</th>\n",
              "      <td>39280</td>\n",
              "    </tr>\n",
              "  </tbody>\n",
              "</table>\n",
              "</div>"
            ],
            "text/plain": [
              "            Close\n",
              "Date             \n",
              "2016-11-24  41730\n",
              "2016-11-22  40360\n",
              "2016-11-21  39970\n",
              "2016-11-18  40190\n",
              "2016-11-17  39280"
            ]
          },
          "metadata": {
            "tags": []
          },
          "execution_count": 19
        }
      ]
    },
    {
      "cell_type": "code",
      "metadata": {
        "id": "EUIPBqIEUlbk"
      },
      "source": [
        "# Scaling the train data\n",
        "\n",
        "training_set=ts_train.values\n",
        "training_set = min_max_scaler.fit_transform(training_set)"
      ],
      "execution_count": null,
      "outputs": []
    },
    {
      "cell_type": "markdown",
      "metadata": {
        "id": "LJ0jOPIjU-yS"
      },
      "source": [
        "Defining our X and y  <br>\n",
        "**X is our inputs which is the training data.  <br>\n",
        "y is the output, which is training data shifted by 1.**   <br>\n",
        "\n",
        "For a given day, we want to predict the stock value for the next day."
      ]
    },
    {
      "cell_type": "code",
      "metadata": {
        "id": "Wgwequ4iUxdF"
      },
      "source": [
        "x_train=training_set[0:len(training_set)-1]\n",
        "y_train=training_set[1:len(training_set)]"
      ],
      "execution_count": null,
      "outputs": []
    },
    {
      "cell_type": "code",
      "metadata": {
        "id": "etUtDwWcVIt1",
        "outputId": "485edbe1-deab-4e99-a15a-96d1d2ba716a",
        "colab": {
          "base_uri": "https://localhost:8080/",
          "height": 104
        }
      },
      "source": [
        "x_train[:5]                                                  # Checking the first 5 rows of the scaled training data"
      ],
      "execution_count": null,
      "outputs": [
        {
          "output_type": "execute_result",
          "data": {
            "text/plain": [
              "array([[0.53266957],\n",
              "       [0.51545323],\n",
              "       [0.51566065],\n",
              "       [0.49533292],\n",
              "       [0.48060568]])"
            ]
          },
          "metadata": {
            "tags": []
          },
          "execution_count": 22
        }
      ]
    },
    {
      "cell_type": "code",
      "metadata": {
        "id": "zsrOzV_WVM1D",
        "outputId": "50b5dadf-4105-4084-9076-cab539931a45",
        "colab": {
          "base_uri": "https://localhost:8080/",
          "height": 104
        }
      },
      "source": [
        "y_train[:5]                                                  # Checking the first 5 rows of the scaled test data"
      ],
      "execution_count": null,
      "outputs": [
        {
          "output_type": "execute_result",
          "data": {
            "text/plain": [
              "array([[0.51545323],\n",
              "       [0.51566065],\n",
              "       [0.49533292],\n",
              "       [0.48060568],\n",
              "       [0.41402199]])"
            ]
          },
          "metadata": {
            "tags": []
          },
          "execution_count": 23
        }
      ]
    },
    {
      "cell_type": "code",
      "metadata": {
        "id": "Rwt_3p00VPBs",
        "outputId": "610ef1f8-bf4b-4637-cfe7-f9349cb1aadf",
        "colab": {
          "base_uri": "https://localhost:8080/",
          "height": 35
        }
      },
      "source": [
        "len(x_train)                                                 # We should have same number of records in x_train and y_train"
      ],
      "execution_count": null,
      "outputs": [
        {
          "output_type": "execute_result",
          "data": {
            "text/plain": [
              "1195"
            ]
          },
          "metadata": {
            "tags": []
          },
          "execution_count": 24
        }
      ]
    },
    {
      "cell_type": "code",
      "metadata": {
        "id": "i4PcAWksVcyk",
        "outputId": "1ae665d6-45ca-49d5-994a-9d76327ff397",
        "colab": {
          "base_uri": "https://localhost:8080/",
          "height": 35
        }
      },
      "source": [
        "len(y_train)"
      ],
      "execution_count": null,
      "outputs": [
        {
          "output_type": "execute_result",
          "data": {
            "text/plain": [
              "1195"
            ]
          },
          "metadata": {
            "tags": []
          },
          "execution_count": 25
        }
      ]
    },
    {
      "cell_type": "markdown",
      "metadata": {
        "id": "gWeVyw9uViF-"
      },
      "source": [
        "### Building the model"
      ]
    },
    {
      "cell_type": "code",
      "metadata": {
        "id": "DIgYWOq9Vf7l"
      },
      "source": [
        "x_train = np.reshape(x_train, (len(x_train), 1, 1))          # We need to reshape the data before it is passed to the model"
      ],
      "execution_count": null,
      "outputs": []
    },
    {
      "cell_type": "code",
      "metadata": {
        "id": "7UueIgaXVqWz"
      },
      "source": [
        "num_units = 32\n",
        "activation_function = 'sigmoid'\n",
        "optimizer = 'adam'\n",
        "loss_function = 'mean_squared_error'\n",
        "batch_size = 5\n",
        "num_epochs = 50"
      ],
      "execution_count": null,
      "outputs": []
    },
    {
      "cell_type": "code",
      "metadata": {
        "id": "lMAYVcwbVvLc",
        "outputId": "4a614166-6366-4dcc-86f6-f3475a376ef2",
        "colab": {
          "base_uri": "https://localhost:8080/",
          "height": 1000
        }
      },
      "source": [
        "# Training the data from 4-01-2012 to 16-11-2016\n",
        "\n",
        "regressor = Sequential()\n",
        "\n",
        "# Adding the input layer and the LSTM layer\n",
        "regressor.add(LSTM(units = num_units, activation = activation_function, input_shape=(None, 1)))\n",
        "\n",
        "# Adding the output layer\n",
        "regressor.add(Dense(units = 1))\n",
        "\n",
        "# Compiling the RNN\n",
        "regressor.compile(optimizer = optimizer, loss = loss_function)\n",
        "\n",
        "# Using the training set to train the model\n",
        "regressor.fit(x_train, y_train, batch_size = batch_size, epochs = num_epochs)"
      ],
      "execution_count": null,
      "outputs": [
        {
          "output_type": "stream",
          "text": [
            "Epoch 1/50\n",
            "239/239 [==============================] - 0s 1ms/step - loss: 0.0487\n",
            "Epoch 2/50\n",
            "239/239 [==============================] - 0s 1ms/step - loss: 0.0328\n",
            "Epoch 3/50\n",
            "239/239 [==============================] - 0s 1ms/step - loss: 0.0206\n",
            "Epoch 4/50\n",
            "239/239 [==============================] - 0s 1ms/step - loss: 0.0104\n",
            "Epoch 5/50\n",
            "239/239 [==============================] - 0s 1ms/step - loss: 0.0039\n",
            "Epoch 6/50\n",
            "239/239 [==============================] - 0s 1ms/step - loss: 0.0012\n",
            "Epoch 7/50\n",
            "239/239 [==============================] - 0s 1ms/step - loss: 4.3693e-04\n",
            "Epoch 8/50\n",
            "239/239 [==============================] - 0s 1ms/step - loss: 3.2490e-04\n",
            "Epoch 9/50\n",
            "239/239 [==============================] - 0s 1ms/step - loss: 3.1943e-04\n",
            "Epoch 10/50\n",
            "239/239 [==============================] - 0s 1ms/step - loss: 3.1834e-04\n",
            "Epoch 11/50\n",
            "239/239 [==============================] - 0s 1ms/step - loss: 3.1705e-04\n",
            "Epoch 12/50\n",
            "239/239 [==============================] - 0s 1ms/step - loss: 3.2105e-04\n",
            "Epoch 13/50\n",
            "239/239 [==============================] - 0s 1ms/step - loss: 3.2562e-04\n",
            "Epoch 14/50\n",
            "239/239 [==============================] - 0s 1ms/step - loss: 3.2910e-04\n",
            "Epoch 15/50\n",
            "239/239 [==============================] - 0s 1ms/step - loss: 3.2509e-04\n",
            "Epoch 16/50\n",
            "239/239 [==============================] - 0s 1ms/step - loss: 3.2938e-04\n",
            "Epoch 17/50\n",
            "239/239 [==============================] - 0s 1ms/step - loss: 3.3588e-04\n",
            "Epoch 18/50\n",
            "239/239 [==============================] - 0s 1ms/step - loss: 3.2685e-04\n",
            "Epoch 19/50\n",
            "239/239 [==============================] - 0s 1ms/step - loss: 3.4147e-04\n",
            "Epoch 20/50\n",
            "239/239 [==============================] - 0s 1ms/step - loss: 3.3335e-04\n",
            "Epoch 21/50\n",
            "239/239 [==============================] - 0s 1ms/step - loss: 3.3373e-04\n",
            "Epoch 22/50\n",
            "239/239 [==============================] - 0s 1ms/step - loss: 3.3469e-04\n",
            "Epoch 23/50\n",
            "239/239 [==============================] - 0s 1ms/step - loss: 3.5183e-04\n",
            "Epoch 24/50\n",
            "239/239 [==============================] - 0s 1ms/step - loss: 3.3278e-04\n",
            "Epoch 25/50\n",
            "239/239 [==============================] - 0s 1ms/step - loss: 3.3456e-04\n",
            "Epoch 26/50\n",
            "239/239 [==============================] - 0s 1ms/step - loss: 3.5542e-04\n",
            "Epoch 27/50\n",
            "239/239 [==============================] - 0s 1ms/step - loss: 3.3088e-04\n",
            "Epoch 28/50\n",
            "239/239 [==============================] - 0s 1ms/step - loss: 3.3124e-04\n",
            "Epoch 29/50\n",
            "239/239 [==============================] - 0s 1ms/step - loss: 3.6054e-04\n",
            "Epoch 30/50\n",
            "239/239 [==============================] - 0s 1ms/step - loss: 3.4650e-04\n",
            "Epoch 31/50\n",
            "239/239 [==============================] - 0s 1ms/step - loss: 3.6781e-04\n",
            "Epoch 32/50\n",
            "239/239 [==============================] - 0s 1ms/step - loss: 3.3656e-04\n",
            "Epoch 33/50\n",
            "239/239 [==============================] - 0s 1ms/step - loss: 3.3149e-04\n",
            "Epoch 34/50\n",
            "239/239 [==============================] - 0s 1ms/step - loss: 3.3679e-04\n",
            "Epoch 35/50\n",
            "239/239 [==============================] - 0s 1ms/step - loss: 3.4734e-04\n",
            "Epoch 36/50\n",
            "239/239 [==============================] - 0s 1ms/step - loss: 3.4221e-04\n",
            "Epoch 37/50\n",
            "239/239 [==============================] - 0s 1ms/step - loss: 3.2343e-04\n",
            "Epoch 38/50\n",
            "239/239 [==============================] - 0s 1ms/step - loss: 3.5700e-04\n",
            "Epoch 39/50\n",
            "239/239 [==============================] - 0s 1ms/step - loss: 3.4622e-04\n",
            "Epoch 40/50\n",
            "239/239 [==============================] - 0s 1ms/step - loss: 3.3871e-04\n",
            "Epoch 41/50\n",
            "239/239 [==============================] - 0s 1ms/step - loss: 3.3443e-04\n",
            "Epoch 42/50\n",
            "239/239 [==============================] - 0s 1ms/step - loss: 3.5408e-04\n",
            "Epoch 43/50\n",
            "239/239 [==============================] - 0s 1ms/step - loss: 3.4759e-04\n",
            "Epoch 44/50\n",
            "239/239 [==============================] - 0s 1ms/step - loss: 3.5044e-04\n",
            "Epoch 45/50\n",
            "239/239 [==============================] - 0s 1ms/step - loss: 3.5202e-04\n",
            "Epoch 46/50\n",
            "239/239 [==============================] - 0s 1ms/step - loss: 3.3580e-04\n",
            "Epoch 47/50\n",
            "239/239 [==============================] - 0s 1ms/step - loss: 3.4307e-04\n",
            "Epoch 48/50\n",
            "239/239 [==============================] - 0s 1ms/step - loss: 3.2560e-04\n",
            "Epoch 49/50\n",
            "239/239 [==============================] - 0s 1ms/step - loss: 3.6330e-04\n",
            "Epoch 50/50\n",
            "239/239 [==============================] - 0s 1ms/step - loss: 3.2689e-04\n"
          ],
          "name": "stdout"
        },
        {
          "output_type": "execute_result",
          "data": {
            "text/plain": [
              "<tensorflow.python.keras.callbacks.History at 0x7f555742b6d8>"
            ]
          },
          "metadata": {
            "tags": []
          },
          "execution_count": 28
        }
      ]
    },
    {
      "cell_type": "markdown",
      "metadata": {
        "id": "dBU_kQobWG_U"
      },
      "source": [
        "###  Prediction on ts_test "
      ]
    },
    {
      "cell_type": "code",
      "metadata": {
        "id": "o-CmE5TEV4iu"
      },
      "source": [
        "# We are going to make prediction from 17-11-2016 to 30-12-2016\n",
        "\n",
        "# Preprocess the test data\n",
        "\n",
        "test_set = ts_test.values\n",
        "\n",
        "inputs = np.reshape(test_set, (len(test_set), 1))                        # Reshape before passing in the input\n",
        "inputs = min_max_scaler.transform(inputs)                                # Scaling the data\n",
        "inputs = np.reshape(inputs, (len(inputs), 1, 1))\n",
        "\n",
        "predicted_price = regressor.predict(inputs)                              # Make predictions on the test data\n",
        "predicted_price = min_max_scaler.inverse_transform(predicted_price)      # Inverse transform the predicted price"
      ],
      "execution_count": null,
      "outputs": []
    },
    {
      "cell_type": "code",
      "metadata": {
        "id": "KzxSuK-rWSds",
        "outputId": "bd743be7-8d7d-49f7-cfb5-233468af3ef3",
        "colab": {
          "base_uri": "https://localhost:8080/",
          "height": 537
        }
      },
      "source": [
        "# This is the close price of stocks for 30 days\n",
        "\n",
        "predicted_price     "
      ],
      "execution_count": null,
      "outputs": [
        {
          "output_type": "execute_result",
          "data": {
            "text/plain": [
              "array([[41896.156],\n",
              "       [42721.195],\n",
              "       [43326.684],\n",
              "       [43673.754],\n",
              "       [43396.12 ],\n",
              "       [43534.957],\n",
              "       [44050.28 ],\n",
              "       [43673.754],\n",
              "       [43187.79 ],\n",
              "       [43187.79 ],\n",
              "       [43058.777],\n",
              "       [43148.094],\n",
              "       [43267.16 ],\n",
              "       [43187.79 ],\n",
              "       [42651.664],\n",
              "       [41169.45 ],\n",
              "       [40940.28 ],\n",
              "       [40222.297],\n",
              "       [39833.023],\n",
              "       [40730.96 ],\n",
              "       [40531.535],\n",
              "       [39643.28 ],\n",
              "       [40272.184],\n",
              "       [41328.81 ],\n",
              "       [41438.348],\n",
              "       [41796.668],\n",
              "       [40431.8  ],\n",
              "       [40042.66 ],\n",
              "       [40262.207],\n",
              "       [39353.566]], dtype=float32)"
            ]
          },
          "metadata": {
            "tags": []
          },
          "execution_count": 30
        }
      ]
    },
    {
      "cell_type": "code",
      "metadata": {
        "id": "fcarTf8zWWjb"
      },
      "source": [
        "error=predicted_price-test_set                                           # Calculate the error"
      ],
      "execution_count": null,
      "outputs": []
    },
    {
      "cell_type": "code",
      "metadata": {
        "id": "H5Id_OmhWb4U",
        "outputId": "2ba81c0f-b89f-4e1f-b09c-b8ee1ce532dc",
        "colab": {
          "base_uri": "https://localhost:8080/",
          "height": 537
        }
      },
      "source": [
        "# Lets have a look at the error values\n",
        "\n",
        "error"
      ],
      "execution_count": null,
      "outputs": [
        {
          "output_type": "execute_result",
          "data": {
            "text/plain": [
              "array([[66.15625   ],\n",
              "       [61.1953125 ],\n",
              "       [56.68359375],\n",
              "       [53.75390625],\n",
              "       [56.12109375],\n",
              "       [54.95703125],\n",
              "       [50.28125   ],\n",
              "       [53.75390625],\n",
              "       [57.7890625 ],\n",
              "       [57.7890625 ],\n",
              "       [58.77734375],\n",
              "       [58.09375   ],\n",
              "       [57.16015625],\n",
              "       [57.7890625 ],\n",
              "       [61.6640625 ],\n",
              "       [69.44921875],\n",
              "       [70.28125   ],\n",
              "       [72.296875  ],\n",
              "       [73.0234375 ],\n",
              "       [70.9609375 ],\n",
              "       [71.53515625],\n",
              "       [73.28125   ],\n",
              "       [72.18359375],\n",
              "       [68.80859375],\n",
              "       [68.34765625],\n",
              "       [66.66796875],\n",
              "       [71.80078125],\n",
              "       [72.66015625],\n",
              "       [72.20703125],\n",
              "       [73.56640625]])"
            ]
          },
          "metadata": {
            "tags": []
          },
          "execution_count": 32
        }
      ]
    },
    {
      "cell_type": "code",
      "metadata": {
        "id": "HI9RvI7xWeWc",
        "outputId": "6ed85618-a618-4d49-c026-697b34c3d0d0",
        "colab": {
          "base_uri": "https://localhost:8080/",
          "height": 604
        }
      },
      "source": [
        "# Plot the Actual price and the predicted price\n",
        "\n",
        "plt.figure(figsize=(8, 8), dpi=80, facecolor = 'w', edgecolor = 'k')\n",
        "\n",
        "plt.plot(test_set[:, 0], color='red', label='Real Uniqlo Price')                      # Actual Price\n",
        "plt.plot(predicted_price[:, 0], color = 'blue', label = 'Predicted Close Price')      # Predicted Price\n",
        "\n",
        "plt.title('Uniqlo Price Prediction from 17-11-2016 to 30-12-2016', fontsize = 20)\n",
        "plt.xlabel('Time', fontsize=40)\n",
        "plt.ylabel('Uniqlo Price', fontsize = 40)\n",
        "plt.legend(loc = 'best')\n",
        "plt.show()"
      ],
      "execution_count": null,
      "outputs": [
        {
          "output_type": "display_data",
          "data": {
            "image/png": "[encoded data removed]",
            "text/plain": [
              "<Figure size 640x640 with 1 Axes>"
            ]
          },
          "metadata": {
            "tags": []
          }
        }
      ]
    },
    {
      "cell_type": "markdown",
      "metadata": {
        "id": "DLkRvrgfWtlz"
      },
      "source": [
        "### Prediction with test data"
      ]
    },
    {
      "cell_type": "code",
      "metadata": {
        "id": "s2iD_SLfWptM"
      },
      "source": [
        "test_data=pd.read_csv(\"Uniqlo(FastRetailing) 2017 Test - stocks2017.csv\")              # Loading the test data"
      ],
      "execution_count": null,
      "outputs": []
    },
    {
      "cell_type": "code",
      "metadata": {
        "id": "jo76RugvWyaD",
        "outputId": "38507dca-d496-473f-b1f4-ba5fbd151892",
        "colab": {
          "base_uri": "https://localhost:8080/",
          "height": 263
        }
      },
      "source": [
        "test_data"
      ],
      "execution_count": null,
      "outputs": [
        {
          "output_type": "execute_result",
          "data": {
            "text/html": [
              "<div>\n",
              "<style scoped>\n",
              "    .dataframe tbody tr th:only-of-type {\n",
              "        vertical-align: middle;\n",
              "    }\n",
              "\n",
              "    .dataframe tbody tr th {\n",
              "        vertical-align: top;\n",
              "    }\n",
              "\n",
              "    .dataframe thead th {\n",
              "        text-align: right;\n",
              "    }\n",
              "</style>\n",
              "<table border=\"1\" class=\"dataframe\">\n",
              "  <thead>\n",
              "    <tr style=\"text-align: right;\">\n",
              "      <th></th>\n",
              "      <th>Date</th>\n",
              "      <th>Open</th>\n",
              "      <th>High</th>\n",
              "      <th>Low</th>\n",
              "      <th>Close</th>\n",
              "      <th>Volume</th>\n",
              "      <th>Stock Trading</th>\n",
              "    </tr>\n",
              "  </thead>\n",
              "  <tbody>\n",
              "    <tr>\n",
              "      <th>0</th>\n",
              "      <td>2017-01-13</td>\n",
              "      <td>38900</td>\n",
              "      <td>39380</td>\n",
              "      <td>38240</td>\n",
              "      <td>38430</td>\n",
              "      <td>1321200</td>\n",
              "      <td>51197289000</td>\n",
              "    </tr>\n",
              "    <tr>\n",
              "      <th>1</th>\n",
              "      <td>2017-01-12</td>\n",
              "      <td>38300</td>\n",
              "      <td>38450</td>\n",
              "      <td>37930</td>\n",
              "      <td>38010</td>\n",
              "      <td>800900</td>\n",
              "      <td>30540359000</td>\n",
              "    </tr>\n",
              "    <tr>\n",
              "      <th>2</th>\n",
              "      <td>2017-01-11</td>\n",
              "      <td>38710</td>\n",
              "      <td>38880</td>\n",
              "      <td>38480</td>\n",
              "      <td>38560</td>\n",
              "      <td>545900</td>\n",
              "      <td>21089798000</td>\n",
              "    </tr>\n",
              "    <tr>\n",
              "      <th>3</th>\n",
              "      <td>2017-01-10</td>\n",
              "      <td>38620</td>\n",
              "      <td>38850</td>\n",
              "      <td>38150</td>\n",
              "      <td>38690</td>\n",
              "      <td>1196900</td>\n",
              "      <td>46107703000</td>\n",
              "    </tr>\n",
              "    <tr>\n",
              "      <th>4</th>\n",
              "      <td>2017-01-06</td>\n",
              "      <td>40500</td>\n",
              "      <td>41030</td>\n",
              "      <td>39720</td>\n",
              "      <td>39720</td>\n",
              "      <td>1435500</td>\n",
              "      <td>57708934000</td>\n",
              "    </tr>\n",
              "    <tr>\n",
              "      <th>5</th>\n",
              "      <td>2017-01-05</td>\n",
              "      <td>43250</td>\n",
              "      <td>43330</td>\n",
              "      <td>42470</td>\n",
              "      <td>42590</td>\n",
              "      <td>516800</td>\n",
              "      <td>22124250000</td>\n",
              "    </tr>\n",
              "    <tr>\n",
              "      <th>6</th>\n",
              "      <td>2017-01-04</td>\n",
              "      <td>42480</td>\n",
              "      <td>43330</td>\n",
              "      <td>42450</td>\n",
              "      <td>43290</td>\n",
              "      <td>648100</td>\n",
              "      <td>27916728000</td>\n",
              "    </tr>\n",
              "  </tbody>\n",
              "</table>\n",
              "</div>"
            ],
            "text/plain": [
              "         Date   Open   High    Low  Close   Volume  Stock Trading\n",
              "0  2017-01-13  38900  39380  38240  38430  1321200    51197289000\n",
              "1  2017-01-12  38300  38450  37930  38010   800900    30540359000\n",
              "2  2017-01-11  38710  38880  38480  38560   545900    21089798000\n",
              "3  2017-01-10  38620  38850  38150  38690  1196900    46107703000\n",
              "4  2017-01-06  40500  41030  39720  39720  1435500    57708934000\n",
              "5  2017-01-05  43250  43330  42470  42590   516800    22124250000\n",
              "6  2017-01-04  42480  43330  42450  43290   648100    27916728000"
            ]
          },
          "metadata": {
            "tags": []
          },
          "execution_count": 35
        }
      ]
    },
    {
      "cell_type": "markdown",
      "metadata": {
        "id": "yUl-bi00W4xW"
      },
      "source": [
        "This has data for 7 days from 4-01-2017 to 13-1-2017"
      ]
    },
    {
      "cell_type": "markdown",
      "metadata": {
        "id": "lbFGcXYiW9WB"
      },
      "source": [
        "Extracting all the rows and 4th column"
      ]
    },
    {
      "cell_type": "code",
      "metadata": {
        "id": "ogdcMrqDW0mk",
        "outputId": "7172bdfa-a0a3-4663-cf1c-1695d3ca7ff0",
        "colab": {
          "base_uri": "https://localhost:8080/",
          "height": 156
        }
      },
      "source": [
        "test_data1=test_data.iloc[:,4]                                                         # Extracting the close price\n",
        "test_data1"
      ],
      "execution_count": null,
      "outputs": [
        {
          "output_type": "execute_result",
          "data": {
            "text/plain": [
              "0    38430\n",
              "1    38010\n",
              "2    38560\n",
              "3    38690\n",
              "4    39720\n",
              "5    42590\n",
              "6    43290\n",
              "Name: Close, dtype: int64"
            ]
          },
          "metadata": {
            "tags": []
          },
          "execution_count": 36
        }
      ]
    },
    {
      "cell_type": "markdown",
      "metadata": {
        "id": "VcuaDDoHXG7I"
      },
      "source": [
        "We need to perform feature engineering on the test price before we can make predictions from the model."
      ]
    },
    {
      "cell_type": "code",
      "metadata": {
        "id": "sPFFlykBXCM6"
      },
      "source": [
        "test_data1=np.array(test_data1)"
      ],
      "execution_count": null,
      "outputs": []
    },
    {
      "cell_type": "code",
      "metadata": {
        "id": "axAT9uOyXJ6b"
      },
      "source": [
        "test_data1 =test_data1.reshape(-1,1) "
      ],
      "execution_count": null,
      "outputs": []
    },
    {
      "cell_type": "code",
      "metadata": {
        "id": "eoaZ3CnuXMtT"
      },
      "source": [
        "test_input=min_max_scaler.transform(test_data1) "
      ],
      "execution_count": null,
      "outputs": []
    },
    {
      "cell_type": "code",
      "metadata": {
        "id": "20u2rGFNXQny",
        "outputId": "1d16c4dd-6d44-4346-e76e-df24b50e9b50",
        "colab": {
          "base_uri": "https://localhost:8080/",
          "height": 35
        }
      },
      "source": [
        "test_input.shape"
      ],
      "execution_count": null,
      "outputs": [
        {
          "output_type": "execute_result",
          "data": {
            "text/plain": [
              "(7, 1)"
            ]
          },
          "metadata": {
            "tags": []
          },
          "execution_count": 40
        }
      ]
    },
    {
      "cell_type": "code",
      "metadata": {
        "id": "hTPUi0pZXSoL"
      },
      "source": [
        "test_input=np.reshape(test_input, (len(test_input), 1, 1))"
      ],
      "execution_count": null,
      "outputs": []
    },
    {
      "cell_type": "code",
      "metadata": {
        "id": "CT6kUTEyXVRT"
      },
      "source": [
        "test_prediction=regressor.predict(test_input)                          # Make predictions for the test data"
      ],
      "execution_count": null,
      "outputs": []
    },
    {
      "cell_type": "code",
      "metadata": {
        "id": "V6iqqcxKXX4i"
      },
      "source": [
        "test_prediction=min_max_scaler.inverse_transform(test_prediction)      # Inverse transform the predictions"
      ],
      "execution_count": null,
      "outputs": []
    },
    {
      "cell_type": "code",
      "metadata": {
        "id": "glP4VpI_XaKi",
        "outputId": "02c84f94-18b7-4bc6-ca4d-fcad8d933a9f",
        "colab": {
          "base_uri": "https://localhost:8080/",
          "height": 139
        }
      },
      "source": [
        "test_prediction"
      ],
      "execution_count": null,
      "outputs": [
        {
          "output_type": "execute_result",
          "data": {
            "text/plain": [
              "array([[38503.65 ],\n",
              "       [38083.285],\n",
              "       [38633.703],\n",
              "       [38763.74 ],\n",
              "       [39793.08 ],\n",
              "       [42651.664],\n",
              "       [43346.527]], dtype=float32)"
            ]
          },
          "metadata": {
            "tags": []
          },
          "execution_count": 44
        }
      ]
    },
    {
      "cell_type": "code",
      "metadata": {
        "id": "ZexY4a2OXdOz",
        "outputId": "9ef64dfe-d563-48eb-fe1e-68a1cc6dd67c",
        "colab": {
          "base_uri": "https://localhost:8080/",
          "height": 156
        }
      },
      "source": [
        "test_data.iloc[:,4]"
      ],
      "execution_count": null,
      "outputs": [
        {
          "output_type": "execute_result",
          "data": {
            "text/plain": [
              "0    38430\n",
              "1    38010\n",
              "2    38560\n",
              "3    38690\n",
              "4    39720\n",
              "5    42590\n",
              "6    43290\n",
              "Name: Close, dtype: int64"
            ]
          },
          "metadata": {
            "tags": []
          },
          "execution_count": 45
        }
      ]
    },
    {
      "cell_type": "code",
      "metadata": {
        "id": "d3A57hdCXfYa"
      },
      "source": [
        ""
      ],
      "execution_count": null,
      "outputs": []
    }
  ]
}