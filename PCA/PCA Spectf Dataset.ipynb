{
 "cells": [
  {
   "cell_type": "markdown",
   "metadata": {},
   "source": [
    "### PCA Spectf Dataset"
   ]
  },
  {
   "cell_type": "markdown",
   "metadata": {},
   "source": [
    "## Table of Contents\n",
    "\n",
    "1. [Data Description](#dd)\n",
    "2. [Importing the packages and dataset](#import) \n",
    "3. [Exploratory Data Analysis](#eda)\n",
    "4. [Splitting labels and features](#split)\n",
    "5. [Normalizing the input columns](#normalize)\n",
    "6. [Logistic Regression](#lr)\n",
    "7. [Applying PCA to Logistic Regression model](#pcalr)\n",
    "8. [Random Forest](#rf)\n",
    "9. [Applying PCA to Random Forest model](#pcarf)"
   ]
  },
  {
   "cell_type": "markdown",
   "metadata": {},
   "source": [
    "### 1. Data Description  <a id='dd'>\n",
    "\n",
    "The dataset describes diagnosing of cardiac Single Proton Emission Computed Tomography (SPECT) images.\n",
    "   Each of the patients is classified into two categories: normal and abnormal.\n",
    "   The database of 267 SPECT image sets (patients) was processed to extract features that summarize the original SPECT images.\n",
    "   As a result, 44 continuous feature pattern was created for each patient.\n",
    "   \n",
    "   1.   OVERALL_DIAGNOSIS: 0,1 (class attribute, binary)\n",
    "   2.   F1R:   continuous (count in ROI (region of interest) 1 in rest)\n",
    "   3.   F1S:   continuous (count in ROI 1 in stress)\n",
    "   4.   F2R:   continuous (count in ROI 2 in rest)\n",
    "   5.   F2S:   continuous (count in ROI 2 in stress)\n",
    "   6.   F3R:   continuous (count in ROI 3 in rest)\n",
    "   7.   F3S:   continuous (count in ROI 3 in stress)\n",
    "   8.   F4R:   continuous (count in ROI 4 in rest)\n",
    "   9.   F4S:   continuous (count in ROI 4 in stress)\n",
    "   10.  F5R:   continuous (count in ROI 5 in rest)\n",
    "   11.  F5S:   continuous (count in ROI 5 in stress)\n",
    "   12.  F6R:   continuous (count in ROI 6 in rest)\n",
    "   13.  F6S:   continuous (count in ROI 6 in stress)\n",
    "   14.  F7R:   continuous (count in ROI 7 in rest)\n",
    "   15.  F7S:   continuous (count in ROI 7 in stress)\n",
    "   16.  F8R:   continuous (count in ROI 8 in rest)\n",
    "   17.  F8S:   continuous (count in ROI 8 in stress)\n",
    "   18.  F9R:   continuous (count in ROI 9 in rest)\n",
    "   19.  F9S:   continuous (count in ROI 9 in stress)\n",
    "   20.  F10R:  continuous (count in ROI 10 in rest)\n",
    "   21.  F10S:  continuous (count in ROI 10 in stress)\n",
    "   22.  F11R:  continuous (count in ROI 11 in rest)\n",
    "   23.  F11S:  continuous (count in ROI 11 in stress)\n",
    "   24.  F12R:  continuous (count in ROI 12 in rest)\n",
    "   25.  F12S:  continuous (count in ROI 12 in stress)\n",
    "   26.  F13R:  continuous (count in ROI 13 in rest)\n",
    "   27.  F13S:  continuous (count in ROI 13 in stress)\n",
    "   28.  F14R:  continuous (count in ROI 14 in rest)\n",
    "   29.  F14S:  continuous (count in ROI 14 in stress)\n",
    "   30.  F15R:  continuous (count in ROI 15 in rest)\n",
    "   31.  F15S:  continuous (count in ROI 15 in stress)\n",
    "   32.  F16R:  continuous (count in ROI 16 in rest)\n",
    "   33.  F16S:  continuous (count in ROI 16 in stress)\n",
    "   34.  F17R:  continuous (count in ROI 17 in rest)\n",
    "   35.  F17S:  continuous (count in ROI 17 in stress)\n",
    "   36.  F18R:  continuous (count in ROI 18 in rest)\n",
    "   37.  F18S:  continuous (count in ROI 18 in stress)\n",
    "   38.  F19R:  continuous (count in ROI 19 in rest)\n",
    "   39.  F19S:  continuous (count in ROI 19 in stress)\n",
    "   40.  F20R:  continuous (count in ROI 20 in rest)\n",
    "   41.  F20S:  continuous (count in ROI 20 in stress)\n",
    "   42.  F21R:  continuous (count in ROI 21 in rest)\n",
    "   43.  F21S:  continuous (count in ROI 21 in stress)\n",
    "   44.  F22R:  continuous (count in ROI 22 in rest)\n",
    "   45.  F22S:  continuous (count in ROI 22 in stress)\n",
    "   \n",
    "   ** Objective **\n",
    "   \n",
    "   Our goal is to predict whether the SPECT images are normal or not."
   ]
  },
  {
   "cell_type": "markdown",
   "metadata": {},
   "source": [
    "## 2. Importing the packages and dataset <a id='import'>"
   ]
  },
  {
   "cell_type": "code",
   "execution_count": 67,
   "metadata": {},
   "outputs": [],
   "source": [
    "# Importing the packages\n",
    "\n",
    "import numpy as np\n",
    "import pandas as pd\n",
    "import matplotlib.pyplot as plt\n",
    "import seaborn as sns\n",
    "import time\n",
    "import random\n",
    "\n",
    "%matplotlib inline\n",
    "plt.style.use('fivethirtyeight')"
   ]
  },
  {
   "cell_type": "code",
   "execution_count": 68,
   "metadata": {},
   "outputs": [],
   "source": [
    "# Loading the train data\n",
    "\n",
    "url = 'https://query.data.world/s/cuqtpuoewpxysusrt5z4igihjah4xo'\n",
    "col_names = ['target','F1R', 'F1S', 'F2R', 'F2S', 'F3R', 'F3S', 'F4R', 'F4S', 'F5R','F5S','F6R','F6S','F7R','F7S','F8R','F8S','F9R','F9S','F10R',\n",
    "    'F10S',  'F11R','F11S','F12R','F12S','F13R','F13S','F14R','F14S','F15R','F15S','F16R','F16S','F17R','F17S','F18R','F18S','F19R','F19S',   'F20R',\n",
    "    'F20S','F21R','F21S','F22R','F22S']\n",
    "spectf_df= pd.read_table(url,sep=',',names=col_names)"
   ]
  },
  {
   "cell_type": "code",
   "execution_count": 69,
   "metadata": {},
   "outputs": [
    {
     "data": {
      "text/plain": [
       "(187, 45)"
      ]
     },
     "execution_count": 69,
     "metadata": {},
     "output_type": "execute_result"
    }
   ],
   "source": [
    "spectf_df.shape"
   ]
  },
  {
   "cell_type": "code",
   "execution_count": 70,
   "metadata": {},
   "outputs": [],
   "source": [
    "# Loading the Test data\n",
    "\n",
    "url = 'https://query.data.world/s/ksxft7lhmbxpihskwsngwhpuul6lye'\n",
    "col_names = ['target','F1R', 'F1S', 'F2R', 'F2S', 'F3R', 'F3S', 'F4R', 'F4S', 'F5R','F5S','F6R','F6S','F7R','F7S','F8R','F8S','F9R','F9S','F10R',\n",
    "    'F10S',  'F11R','F11S','F12R','F12S','F13R','F13S','F14R','F14S','F15R','F15S','F16R','F16S','F17R','F17S','F18R','F18S','F19R','F19S',   'F20R',\n",
    "    'F20S','F21R','F21S','F22R','F22S']\n",
    "spectf_test= pd.read_table(url,sep=',',names=col_names)"
   ]
  },
  {
   "cell_type": "code",
   "execution_count": 71,
   "metadata": {},
   "outputs": [
    {
     "data": {
      "text/plain": [
       "(80, 45)"
      ]
     },
     "execution_count": 71,
     "metadata": {},
     "output_type": "execute_result"
    }
   ],
   "source": [
    "spectf_test.shape"
   ]
  },
  {
   "cell_type": "markdown",
   "metadata": {},
   "source": [
    "So the training data has 187 records and the test data has 80 records."
   ]
  },
  {
   "cell_type": "code",
   "execution_count": 72,
   "metadata": {},
   "outputs": [
    {
     "data": {
      "text/html": [
       "<div>\n",
       "<style scoped>\n",
       "    .dataframe tbody tr th:only-of-type {\n",
       "        vertical-align: middle;\n",
       "    }\n",
       "\n",
       "    .dataframe tbody tr th {\n",
       "        vertical-align: top;\n",
       "    }\n",
       "\n",
       "    .dataframe thead th {\n",
       "        text-align: right;\n",
       "    }\n",
       "</style>\n",
       "<table border=\"1\" class=\"dataframe\">\n",
       "  <thead>\n",
       "    <tr style=\"text-align: right;\">\n",
       "      <th></th>\n",
       "      <th>target</th>\n",
       "      <th>F1R</th>\n",
       "      <th>F1S</th>\n",
       "      <th>F2R</th>\n",
       "      <th>F2S</th>\n",
       "      <th>F3R</th>\n",
       "      <th>F3S</th>\n",
       "      <th>F4R</th>\n",
       "      <th>F4S</th>\n",
       "      <th>F5R</th>\n",
       "      <th>...</th>\n",
       "      <th>F18R</th>\n",
       "      <th>F18S</th>\n",
       "      <th>F19R</th>\n",
       "      <th>F19S</th>\n",
       "      <th>F20R</th>\n",
       "      <th>F20S</th>\n",
       "      <th>F21R</th>\n",
       "      <th>F21S</th>\n",
       "      <th>F22R</th>\n",
       "      <th>F22S</th>\n",
       "    </tr>\n",
       "  </thead>\n",
       "  <tbody>\n",
       "    <tr>\n",
       "      <th>0</th>\n",
       "      <td>1</td>\n",
       "      <td>67</td>\n",
       "      <td>68</td>\n",
       "      <td>73</td>\n",
       "      <td>78</td>\n",
       "      <td>65</td>\n",
       "      <td>63</td>\n",
       "      <td>67</td>\n",
       "      <td>60</td>\n",
       "      <td>63</td>\n",
       "      <td>...</td>\n",
       "      <td>61</td>\n",
       "      <td>56</td>\n",
       "      <td>76</td>\n",
       "      <td>75</td>\n",
       "      <td>74</td>\n",
       "      <td>77</td>\n",
       "      <td>76</td>\n",
       "      <td>74</td>\n",
       "      <td>59</td>\n",
       "      <td>68</td>\n",
       "    </tr>\n",
       "    <tr>\n",
       "      <th>1</th>\n",
       "      <td>1</td>\n",
       "      <td>75</td>\n",
       "      <td>74</td>\n",
       "      <td>71</td>\n",
       "      <td>71</td>\n",
       "      <td>62</td>\n",
       "      <td>58</td>\n",
       "      <td>70</td>\n",
       "      <td>64</td>\n",
       "      <td>71</td>\n",
       "      <td>...</td>\n",
       "      <td>66</td>\n",
       "      <td>62</td>\n",
       "      <td>68</td>\n",
       "      <td>69</td>\n",
       "      <td>69</td>\n",
       "      <td>66</td>\n",
       "      <td>64</td>\n",
       "      <td>58</td>\n",
       "      <td>57</td>\n",
       "      <td>52</td>\n",
       "    </tr>\n",
       "    <tr>\n",
       "      <th>2</th>\n",
       "      <td>1</td>\n",
       "      <td>83</td>\n",
       "      <td>64</td>\n",
       "      <td>66</td>\n",
       "      <td>67</td>\n",
       "      <td>67</td>\n",
       "      <td>74</td>\n",
       "      <td>74</td>\n",
       "      <td>72</td>\n",
       "      <td>64</td>\n",
       "      <td>...</td>\n",
       "      <td>67</td>\n",
       "      <td>64</td>\n",
       "      <td>69</td>\n",
       "      <td>63</td>\n",
       "      <td>68</td>\n",
       "      <td>54</td>\n",
       "      <td>65</td>\n",
       "      <td>64</td>\n",
       "      <td>43</td>\n",
       "      <td>42</td>\n",
       "    </tr>\n",
       "    <tr>\n",
       "      <th>3</th>\n",
       "      <td>1</td>\n",
       "      <td>72</td>\n",
       "      <td>66</td>\n",
       "      <td>65</td>\n",
       "      <td>65</td>\n",
       "      <td>64</td>\n",
       "      <td>61</td>\n",
       "      <td>71</td>\n",
       "      <td>78</td>\n",
       "      <td>73</td>\n",
       "      <td>...</td>\n",
       "      <td>69</td>\n",
       "      <td>68</td>\n",
       "      <td>68</td>\n",
       "      <td>63</td>\n",
       "      <td>71</td>\n",
       "      <td>72</td>\n",
       "      <td>65</td>\n",
       "      <td>63</td>\n",
       "      <td>58</td>\n",
       "      <td>60</td>\n",
       "    </tr>\n",
       "    <tr>\n",
       "      <th>4</th>\n",
       "      <td>1</td>\n",
       "      <td>62</td>\n",
       "      <td>60</td>\n",
       "      <td>69</td>\n",
       "      <td>61</td>\n",
       "      <td>63</td>\n",
       "      <td>63</td>\n",
       "      <td>70</td>\n",
       "      <td>68</td>\n",
       "      <td>70</td>\n",
       "      <td>...</td>\n",
       "      <td>66</td>\n",
       "      <td>66</td>\n",
       "      <td>58</td>\n",
       "      <td>56</td>\n",
       "      <td>72</td>\n",
       "      <td>73</td>\n",
       "      <td>71</td>\n",
       "      <td>64</td>\n",
       "      <td>49</td>\n",
       "      <td>42</td>\n",
       "    </tr>\n",
       "  </tbody>\n",
       "</table>\n",
       "<p>5 rows × 45 columns</p>\n",
       "</div>"
      ],
      "text/plain": [
       "   target  F1R  F1S  F2R  F2S  F3R  F3S  F4R  F4S  F5R  ...  F18R  F18S  F19R  \\\n",
       "0       1   67   68   73   78   65   63   67   60   63  ...    61    56    76   \n",
       "1       1   75   74   71   71   62   58   70   64   71  ...    66    62    68   \n",
       "2       1   83   64   66   67   67   74   74   72   64  ...    67    64    69   \n",
       "3       1   72   66   65   65   64   61   71   78   73  ...    69    68    68   \n",
       "4       1   62   60   69   61   63   63   70   68   70  ...    66    66    58   \n",
       "\n",
       "   F19S  F20R  F20S  F21R  F21S  F22R  F22S  \n",
       "0    75    74    77    76    74    59    68  \n",
       "1    69    69    66    64    58    57    52  \n",
       "2    63    68    54    65    64    43    42  \n",
       "3    63    71    72    65    63    58    60  \n",
       "4    56    72    73    71    64    49    42  \n",
       "\n",
       "[5 rows x 45 columns]"
      ]
     },
     "execution_count": 72,
     "metadata": {},
     "output_type": "execute_result"
    }
   ],
   "source": [
    "spectf_df.head()"
   ]
  },
  {
   "cell_type": "code",
   "execution_count": 73,
   "metadata": {},
   "outputs": [
    {
     "name": "stdout",
     "output_type": "stream",
     "text": [
      "<class 'pandas.core.frame.DataFrame'>\n",
      "RangeIndex: 187 entries, 0 to 186\n",
      "Data columns (total 45 columns):\n",
      " #   Column  Non-Null Count  Dtype\n",
      "---  ------  --------------  -----\n",
      " 0   target  187 non-null    int64\n",
      " 1   F1R     187 non-null    int64\n",
      " 2   F1S     187 non-null    int64\n",
      " 3   F2R     187 non-null    int64\n",
      " 4   F2S     187 non-null    int64\n",
      " 5   F3R     187 non-null    int64\n",
      " 6   F3S     187 non-null    int64\n",
      " 7   F4R     187 non-null    int64\n",
      " 8   F4S     187 non-null    int64\n",
      " 9   F5R     187 non-null    int64\n",
      " 10  F5S     187 non-null    int64\n",
      " 11  F6R     187 non-null    int64\n",
      " 12  F6S     187 non-null    int64\n",
      " 13  F7R     187 non-null    int64\n",
      " 14  F7S     187 non-null    int64\n",
      " 15  F8R     187 non-null    int64\n",
      " 16  F8S     187 non-null    int64\n",
      " 17  F9R     187 non-null    int64\n",
      " 18  F9S     187 non-null    int64\n",
      " 19  F10R    187 non-null    int64\n",
      " 20  F10S    187 non-null    int64\n",
      " 21  F11R    187 non-null    int64\n",
      " 22  F11S    187 non-null    int64\n",
      " 23  F12R    187 non-null    int64\n",
      " 24  F12S    187 non-null    int64\n",
      " 25  F13R    187 non-null    int64\n",
      " 26  F13S    187 non-null    int64\n",
      " 27  F14R    187 non-null    int64\n",
      " 28  F14S    187 non-null    int64\n",
      " 29  F15R    187 non-null    int64\n",
      " 30  F15S    187 non-null    int64\n",
      " 31  F16R    187 non-null    int64\n",
      " 32  F16S    187 non-null    int64\n",
      " 33  F17R    187 non-null    int64\n",
      " 34  F17S    187 non-null    int64\n",
      " 35  F18R    187 non-null    int64\n",
      " 36  F18S    187 non-null    int64\n",
      " 37  F19R    187 non-null    int64\n",
      " 38  F19S    187 non-null    int64\n",
      " 39  F20R    187 non-null    int64\n",
      " 40  F20S    187 non-null    int64\n",
      " 41  F21R    187 non-null    int64\n",
      " 42  F21S    187 non-null    int64\n",
      " 43  F22R    187 non-null    int64\n",
      " 44  F22S    187 non-null    int64\n",
      "dtypes: int64(45)\n",
      "memory usage: 65.9 KB\n"
     ]
    }
   ],
   "source": [
    "spectf_df.info()"
   ]
  },
  {
   "cell_type": "code",
   "execution_count": 74,
   "metadata": {},
   "outputs": [
    {
     "name": "stdout",
     "output_type": "stream",
     "text": [
      "<class 'pandas.core.frame.DataFrame'>\n",
      "RangeIndex: 80 entries, 0 to 79\n",
      "Data columns (total 45 columns):\n",
      " #   Column  Non-Null Count  Dtype\n",
      "---  ------  --------------  -----\n",
      " 0   target  80 non-null     int64\n",
      " 1   F1R     80 non-null     int64\n",
      " 2   F1S     80 non-null     int64\n",
      " 3   F2R     80 non-null     int64\n",
      " 4   F2S     80 non-null     int64\n",
      " 5   F3R     80 non-null     int64\n",
      " 6   F3S     80 non-null     int64\n",
      " 7   F4R     80 non-null     int64\n",
      " 8   F4S     80 non-null     int64\n",
      " 9   F5R     80 non-null     int64\n",
      " 10  F5S     80 non-null     int64\n",
      " 11  F6R     80 non-null     int64\n",
      " 12  F6S     80 non-null     int64\n",
      " 13  F7R     80 non-null     int64\n",
      " 14  F7S     80 non-null     int64\n",
      " 15  F8R     80 non-null     int64\n",
      " 16  F8S     80 non-null     int64\n",
      " 17  F9R     80 non-null     int64\n",
      " 18  F9S     80 non-null     int64\n",
      " 19  F10R    80 non-null     int64\n",
      " 20  F10S    80 non-null     int64\n",
      " 21  F11R    80 non-null     int64\n",
      " 22  F11S    80 non-null     int64\n",
      " 23  F12R    80 non-null     int64\n",
      " 24  F12S    80 non-null     int64\n",
      " 25  F13R    80 non-null     int64\n",
      " 26  F13S    80 non-null     int64\n",
      " 27  F14R    80 non-null     int64\n",
      " 28  F14S    80 non-null     int64\n",
      " 29  F15R    80 non-null     int64\n",
      " 30  F15S    80 non-null     int64\n",
      " 31  F16R    80 non-null     int64\n",
      " 32  F16S    80 non-null     int64\n",
      " 33  F17R    80 non-null     int64\n",
      " 34  F17S    80 non-null     int64\n",
      " 35  F18R    80 non-null     int64\n",
      " 36  F18S    80 non-null     int64\n",
      " 37  F19R    80 non-null     int64\n",
      " 38  F19S    80 non-null     int64\n",
      " 39  F20R    80 non-null     int64\n",
      " 40  F20S    80 non-null     int64\n",
      " 41  F21R    80 non-null     int64\n",
      " 42  F21S    80 non-null     int64\n",
      " 43  F22R    80 non-null     int64\n",
      " 44  F22S    80 non-null     int64\n",
      "dtypes: int64(45)\n",
      "memory usage: 28.2 KB\n"
     ]
    }
   ],
   "source": [
    "spectf_test.info()"
   ]
  },
  {
   "cell_type": "code",
   "execution_count": 75,
   "metadata": {},
   "outputs": [
    {
     "data": {
      "text/html": [
       "<div>\n",
       "<style scoped>\n",
       "    .dataframe tbody tr th:only-of-type {\n",
       "        vertical-align: middle;\n",
       "    }\n",
       "\n",
       "    .dataframe tbody tr th {\n",
       "        vertical-align: top;\n",
       "    }\n",
       "\n",
       "    .dataframe thead th {\n",
       "        text-align: right;\n",
       "    }\n",
       "</style>\n",
       "<table border=\"1\" class=\"dataframe\">\n",
       "  <thead>\n",
       "    <tr style=\"text-align: right;\">\n",
       "      <th></th>\n",
       "      <th>target</th>\n",
       "      <th>F1R</th>\n",
       "      <th>F1S</th>\n",
       "      <th>F2R</th>\n",
       "      <th>F2S</th>\n",
       "      <th>F3R</th>\n",
       "      <th>F3S</th>\n",
       "      <th>F4R</th>\n",
       "      <th>F4S</th>\n",
       "      <th>F5R</th>\n",
       "      <th>...</th>\n",
       "      <th>F18R</th>\n",
       "      <th>F18S</th>\n",
       "      <th>F19R</th>\n",
       "      <th>F19S</th>\n",
       "      <th>F20R</th>\n",
       "      <th>F20S</th>\n",
       "      <th>F21R</th>\n",
       "      <th>F21S</th>\n",
       "      <th>F22R</th>\n",
       "      <th>F22S</th>\n",
       "    </tr>\n",
       "  </thead>\n",
       "  <tbody>\n",
       "    <tr>\n",
       "      <th>count</th>\n",
       "      <td>187.000000</td>\n",
       "      <td>187.000000</td>\n",
       "      <td>187.000000</td>\n",
       "      <td>187.000000</td>\n",
       "      <td>187.000000</td>\n",
       "      <td>187.000000</td>\n",
       "      <td>187.000000</td>\n",
       "      <td>187.000000</td>\n",
       "      <td>187.000000</td>\n",
       "      <td>187.000000</td>\n",
       "      <td>...</td>\n",
       "      <td>187.000000</td>\n",
       "      <td>187.000000</td>\n",
       "      <td>187.000000</td>\n",
       "      <td>187.000000</td>\n",
       "      <td>187.000000</td>\n",
       "      <td>187.000000</td>\n",
       "      <td>187.000000</td>\n",
       "      <td>187.000000</td>\n",
       "      <td>187.000000</td>\n",
       "      <td>187.000000</td>\n",
       "    </tr>\n",
       "    <tr>\n",
       "      <th>mean</th>\n",
       "      <td>0.919786</td>\n",
       "      <td>65.128342</td>\n",
       "      <td>63.786096</td>\n",
       "      <td>68.304813</td>\n",
       "      <td>68.320856</td>\n",
       "      <td>63.818182</td>\n",
       "      <td>62.374332</td>\n",
       "      <td>69.352941</td>\n",
       "      <td>68.534759</td>\n",
       "      <td>62.839572</td>\n",
       "      <td>...</td>\n",
       "      <td>63.358289</td>\n",
       "      <td>61.695187</td>\n",
       "      <td>65.090909</td>\n",
       "      <td>63.850267</td>\n",
       "      <td>64.390374</td>\n",
       "      <td>62.187166</td>\n",
       "      <td>60.770053</td>\n",
       "      <td>58.406417</td>\n",
       "      <td>51.128342</td>\n",
       "      <td>48.593583</td>\n",
       "    </tr>\n",
       "    <tr>\n",
       "      <th>std</th>\n",
       "      <td>0.272353</td>\n",
       "      <td>8.961963</td>\n",
       "      <td>10.157746</td>\n",
       "      <td>6.849231</td>\n",
       "      <td>9.046697</td>\n",
       "      <td>9.569165</td>\n",
       "      <td>10.069062</td>\n",
       "      <td>9.513631</td>\n",
       "      <td>10.614082</td>\n",
       "      <td>9.604879</td>\n",
       "      <td>...</td>\n",
       "      <td>8.673589</td>\n",
       "      <td>12.025874</td>\n",
       "      <td>7.980977</td>\n",
       "      <td>9.171545</td>\n",
       "      <td>13.241857</td>\n",
       "      <td>13.691778</td>\n",
       "      <td>15.516746</td>\n",
       "      <td>16.194568</td>\n",
       "      <td>13.350712</td>\n",
       "      <td>15.087756</td>\n",
       "    </tr>\n",
       "    <tr>\n",
       "      <th>min</th>\n",
       "      <td>0.000000</td>\n",
       "      <td>23.000000</td>\n",
       "      <td>21.000000</td>\n",
       "      <td>38.000000</td>\n",
       "      <td>34.000000</td>\n",
       "      <td>21.000000</td>\n",
       "      <td>25.000000</td>\n",
       "      <td>21.000000</td>\n",
       "      <td>20.000000</td>\n",
       "      <td>12.000000</td>\n",
       "      <td>...</td>\n",
       "      <td>18.000000</td>\n",
       "      <td>14.000000</td>\n",
       "      <td>33.000000</td>\n",
       "      <td>18.000000</td>\n",
       "      <td>11.000000</td>\n",
       "      <td>6.000000</td>\n",
       "      <td>5.000000</td>\n",
       "      <td>8.000000</td>\n",
       "      <td>13.000000</td>\n",
       "      <td>4.000000</td>\n",
       "    </tr>\n",
       "    <tr>\n",
       "      <th>25%</th>\n",
       "      <td>1.000000</td>\n",
       "      <td>61.000000</td>\n",
       "      <td>58.500000</td>\n",
       "      <td>64.000000</td>\n",
       "      <td>65.000000</td>\n",
       "      <td>60.000000</td>\n",
       "      <td>59.000000</td>\n",
       "      <td>67.000000</td>\n",
       "      <td>66.000000</td>\n",
       "      <td>60.500000</td>\n",
       "      <td>...</td>\n",
       "      <td>61.500000</td>\n",
       "      <td>60.000000</td>\n",
       "      <td>60.500000</td>\n",
       "      <td>59.000000</td>\n",
       "      <td>61.000000</td>\n",
       "      <td>58.000000</td>\n",
       "      <td>55.500000</td>\n",
       "      <td>53.500000</td>\n",
       "      <td>44.000000</td>\n",
       "      <td>42.000000</td>\n",
       "    </tr>\n",
       "    <tr>\n",
       "      <th>50%</th>\n",
       "      <td>1.000000</td>\n",
       "      <td>66.000000</td>\n",
       "      <td>65.000000</td>\n",
       "      <td>69.000000</td>\n",
       "      <td>70.000000</td>\n",
       "      <td>65.000000</td>\n",
       "      <td>64.000000</td>\n",
       "      <td>71.000000</td>\n",
       "      <td>71.000000</td>\n",
       "      <td>65.000000</td>\n",
       "      <td>...</td>\n",
       "      <td>66.000000</td>\n",
       "      <td>65.000000</td>\n",
       "      <td>66.000000</td>\n",
       "      <td>66.000000</td>\n",
       "      <td>68.000000</td>\n",
       "      <td>66.000000</td>\n",
       "      <td>66.000000</td>\n",
       "      <td>63.000000</td>\n",
       "      <td>55.000000</td>\n",
       "      <td>52.000000</td>\n",
       "    </tr>\n",
       "    <tr>\n",
       "      <th>75%</th>\n",
       "      <td>1.000000</td>\n",
       "      <td>71.000000</td>\n",
       "      <td>70.000000</td>\n",
       "      <td>73.000000</td>\n",
       "      <td>74.000000</td>\n",
       "      <td>70.000000</td>\n",
       "      <td>69.000000</td>\n",
       "      <td>75.000000</td>\n",
       "      <td>75.000000</td>\n",
       "      <td>68.000000</td>\n",
       "      <td>...</td>\n",
       "      <td>69.000000</td>\n",
       "      <td>69.000000</td>\n",
       "      <td>70.000000</td>\n",
       "      <td>70.000000</td>\n",
       "      <td>73.000000</td>\n",
       "      <td>71.000000</td>\n",
       "      <td>72.000000</td>\n",
       "      <td>69.000000</td>\n",
       "      <td>60.000000</td>\n",
       "      <td>60.000000</td>\n",
       "    </tr>\n",
       "    <tr>\n",
       "      <th>max</th>\n",
       "      <td>1.000000</td>\n",
       "      <td>83.000000</td>\n",
       "      <td>80.000000</td>\n",
       "      <td>82.000000</td>\n",
       "      <td>84.000000</td>\n",
       "      <td>82.000000</td>\n",
       "      <td>79.000000</td>\n",
       "      <td>85.000000</td>\n",
       "      <td>81.000000</td>\n",
       "      <td>76.000000</td>\n",
       "      <td>...</td>\n",
       "      <td>76.000000</td>\n",
       "      <td>77.000000</td>\n",
       "      <td>80.000000</td>\n",
       "      <td>79.000000</td>\n",
       "      <td>81.000000</td>\n",
       "      <td>81.000000</td>\n",
       "      <td>82.000000</td>\n",
       "      <td>82.000000</td>\n",
       "      <td>82.000000</td>\n",
       "      <td>71.000000</td>\n",
       "    </tr>\n",
       "  </tbody>\n",
       "</table>\n",
       "<p>8 rows × 45 columns</p>\n",
       "</div>"
      ],
      "text/plain": [
       "           target         F1R         F1S         F2R         F2S         F3R  \\\n",
       "count  187.000000  187.000000  187.000000  187.000000  187.000000  187.000000   \n",
       "mean     0.919786   65.128342   63.786096   68.304813   68.320856   63.818182   \n",
       "std      0.272353    8.961963   10.157746    6.849231    9.046697    9.569165   \n",
       "min      0.000000   23.000000   21.000000   38.000000   34.000000   21.000000   \n",
       "25%      1.000000   61.000000   58.500000   64.000000   65.000000   60.000000   \n",
       "50%      1.000000   66.000000   65.000000   69.000000   70.000000   65.000000   \n",
       "75%      1.000000   71.000000   70.000000   73.000000   74.000000   70.000000   \n",
       "max      1.000000   83.000000   80.000000   82.000000   84.000000   82.000000   \n",
       "\n",
       "              F3S         F4R         F4S         F5R  ...        F18R  \\\n",
       "count  187.000000  187.000000  187.000000  187.000000  ...  187.000000   \n",
       "mean    62.374332   69.352941   68.534759   62.839572  ...   63.358289   \n",
       "std     10.069062    9.513631   10.614082    9.604879  ...    8.673589   \n",
       "min     25.000000   21.000000   20.000000   12.000000  ...   18.000000   \n",
       "25%     59.000000   67.000000   66.000000   60.500000  ...   61.500000   \n",
       "50%     64.000000   71.000000   71.000000   65.000000  ...   66.000000   \n",
       "75%     69.000000   75.000000   75.000000   68.000000  ...   69.000000   \n",
       "max     79.000000   85.000000   81.000000   76.000000  ...   76.000000   \n",
       "\n",
       "             F18S        F19R        F19S        F20R        F20S        F21R  \\\n",
       "count  187.000000  187.000000  187.000000  187.000000  187.000000  187.000000   \n",
       "mean    61.695187   65.090909   63.850267   64.390374   62.187166   60.770053   \n",
       "std     12.025874    7.980977    9.171545   13.241857   13.691778   15.516746   \n",
       "min     14.000000   33.000000   18.000000   11.000000    6.000000    5.000000   \n",
       "25%     60.000000   60.500000   59.000000   61.000000   58.000000   55.500000   \n",
       "50%     65.000000   66.000000   66.000000   68.000000   66.000000   66.000000   \n",
       "75%     69.000000   70.000000   70.000000   73.000000   71.000000   72.000000   \n",
       "max     77.000000   80.000000   79.000000   81.000000   81.000000   82.000000   \n",
       "\n",
       "             F21S        F22R        F22S  \n",
       "count  187.000000  187.000000  187.000000  \n",
       "mean    58.406417   51.128342   48.593583  \n",
       "std     16.194568   13.350712   15.087756  \n",
       "min      8.000000   13.000000    4.000000  \n",
       "25%     53.500000   44.000000   42.000000  \n",
       "50%     63.000000   55.000000   52.000000  \n",
       "75%     69.000000   60.000000   60.000000  \n",
       "max     82.000000   82.000000   71.000000  \n",
       "\n",
       "[8 rows x 45 columns]"
      ]
     },
     "execution_count": 75,
     "metadata": {},
     "output_type": "execute_result"
    }
   ],
   "source": [
    "spectf_df.describe()"
   ]
  },
  {
   "cell_type": "markdown",
   "metadata": {},
   "source": [
    "Difference in the standard deviation determines that the data is not in the same scale. So We need to normalise it."
   ]
  },
  {
   "cell_type": "markdown",
   "metadata": {},
   "source": [
    "### 3. Exploratory Data Analysis <a id = 'eda'>"
   ]
  },
  {
   "cell_type": "code",
   "execution_count": 29,
   "metadata": {},
   "outputs": [
    {
     "data": {
      "application/vnd.jupyter.widget-view+json": {
       "model_id": "b4225d2fdd91409a8eb82a42c64938ac",
       "version_major": 2,
       "version_minor": 0
      },
      "text/plain": [
       "HBox(children=(FloatProgress(value=0.0, description='variables', max=45.0, style=ProgressStyle(description_wid…"
      ]
     },
     "metadata": {},
     "output_type": "display_data"
    },
    {
     "name": "stdout",
     "output_type": "stream",
     "text": [
      "\n"
     ]
    },
    {
     "data": {
      "application/vnd.jupyter.widget-view+json": {
       "model_id": "a1ba0c49904c4c829f5c0e79bb5cd82c",
       "version_major": 2,
       "version_minor": 0
      },
      "text/plain": [
       "HBox(children=(FloatProgress(value=0.0, description='correlations', max=6.0, style=ProgressStyle(description_w…"
      ]
     },
     "metadata": {},
     "output_type": "display_data"
    },
    {
     "name": "stdout",
     "output_type": "stream",
     "text": [
      "\n"
     ]
    },
    {
     "data": {
      "application/vnd.jupyter.widget-view+json": {
       "model_id": "faf8578de7884664aa4347a367c3078d",
       "version_major": 2,
       "version_minor": 0
      },
      "text/plain": [
       "HBox(children=(FloatProgress(value=0.0, description='interactions [continuous]', max=1936.0, style=ProgressSty…"
      ]
     },
     "metadata": {},
     "output_type": "display_data"
    },
    {
     "name": "stdout",
     "output_type": "stream",
     "text": [
      "\n"
     ]
    },
    {
     "data": {
      "application/vnd.jupyter.widget-view+json": {
       "model_id": "9b028587643d4f30a8dcea8be72132a2",
       "version_major": 2,
       "version_minor": 0
      },
      "text/plain": [
       "HBox(children=(FloatProgress(value=0.0, description='table', max=1.0, style=ProgressStyle(description_width='i…"
      ]
     },
     "metadata": {},
     "output_type": "display_data"
    },
    {
     "name": "stdout",
     "output_type": "stream",
     "text": [
      "\n"
     ]
    },
    {
     "data": {
      "application/vnd.jupyter.widget-view+json": {
       "model_id": "cfff09b5e95b4f6a8ce1bedd7361cdd7",
       "version_major": 2,
       "version_minor": 0
      },
      "text/plain": [
       "HBox(children=(FloatProgress(value=0.0, description='missing', max=2.0, style=ProgressStyle(description_width=…"
      ]
     },
     "metadata": {},
     "output_type": "display_data"
    },
    {
     "name": "stdout",
     "output_type": "stream",
     "text": [
      "\n"
     ]
    },
    {
     "data": {
      "application/vnd.jupyter.widget-view+json": {
       "model_id": "529823fe8070483fb492139b4b9429be",
       "version_major": 2,
       "version_minor": 0
      },
      "text/plain": [
       "HBox(children=(FloatProgress(value=0.0, description='warnings', max=3.0, style=ProgressStyle(description_width…"
      ]
     },
     "metadata": {},
     "output_type": "display_data"
    },
    {
     "name": "stdout",
     "output_type": "stream",
     "text": [
      "\n"
     ]
    },
    {
     "data": {
      "application/vnd.jupyter.widget-view+json": {
       "model_id": "4edb4fafb0d44ffab5245bf7a146b2d2",
       "version_major": 2,
       "version_minor": 0
      },
      "text/plain": [
       "HBox(children=(FloatProgress(value=0.0, description='package', max=1.0, style=ProgressStyle(description_width=…"
      ]
     },
     "metadata": {},
     "output_type": "display_data"
    },
    {
     "name": "stdout",
     "output_type": "stream",
     "text": [
      "\n"
     ]
    },
    {
     "data": {
      "application/vnd.jupyter.widget-view+json": {
       "model_id": "bc1bbf17a16e49e38cc6a6fa51fb6a80",
       "version_major": 2,
       "version_minor": 0
      },
      "text/plain": [
       "HBox(children=(FloatProgress(value=0.0, description='build report structure', max=1.0, style=ProgressStyle(des…"
      ]
     },
     "metadata": {},
     "output_type": "display_data"
    },
    {
     "name": "stdout",
     "output_type": "stream",
     "text": [
      "\n"
     ]
    }
   ],
   "source": [
    "import pandas_profiling\n",
    "report = pandas_profiling.ProfileReport(spectf_df)\n",
    "report.to_file('spectf_train.html')"
   ]
  },
  {
   "cell_type": "code",
   "execution_count": 30,
   "metadata": {},
   "outputs": [
    {
     "data": {
      "application/vnd.jupyter.widget-view+json": {
       "model_id": "c87432a0e4ba449594cb9f9e3128048e",
       "version_major": 2,
       "version_minor": 0
      },
      "text/plain": [
       "HBox(children=(FloatProgress(value=0.0, description='variables', max=45.0, style=ProgressStyle(description_wid…"
      ]
     },
     "metadata": {},
     "output_type": "display_data"
    },
    {
     "name": "stdout",
     "output_type": "stream",
     "text": [
      "\n"
     ]
    },
    {
     "data": {
      "application/vnd.jupyter.widget-view+json": {
       "model_id": "c68db1a635ef470084f4f6017b817339",
       "version_major": 2,
       "version_minor": 0
      },
      "text/plain": [
       "HBox(children=(FloatProgress(value=0.0, description='correlations', max=6.0, style=ProgressStyle(description_w…"
      ]
     },
     "metadata": {},
     "output_type": "display_data"
    },
    {
     "name": "stdout",
     "output_type": "stream",
     "text": [
      "\n"
     ]
    },
    {
     "data": {
      "application/vnd.jupyter.widget-view+json": {
       "model_id": "a86feaeefcdf4be29fdf61799795c965",
       "version_major": 2,
       "version_minor": 0
      },
      "text/plain": [
       "HBox(children=(FloatProgress(value=0.0, description='interactions [continuous]', max=1936.0, style=ProgressSty…"
      ]
     },
     "metadata": {},
     "output_type": "display_data"
    },
    {
     "name": "stdout",
     "output_type": "stream",
     "text": [
      "\n"
     ]
    },
    {
     "data": {
      "application/vnd.jupyter.widget-view+json": {
       "model_id": "cad3a86b1e7a491a9411d411ce1a655a",
       "version_major": 2,
       "version_minor": 0
      },
      "text/plain": [
       "HBox(children=(FloatProgress(value=0.0, description='table', max=1.0, style=ProgressStyle(description_width='i…"
      ]
     },
     "metadata": {},
     "output_type": "display_data"
    },
    {
     "name": "stdout",
     "output_type": "stream",
     "text": [
      "\n"
     ]
    },
    {
     "data": {
      "application/vnd.jupyter.widget-view+json": {
       "model_id": "5f226dceab6540f8896deb50c028ff3e",
       "version_major": 2,
       "version_minor": 0
      },
      "text/plain": [
       "HBox(children=(FloatProgress(value=0.0, description='missing', max=2.0, style=ProgressStyle(description_width=…"
      ]
     },
     "metadata": {},
     "output_type": "display_data"
    },
    {
     "name": "stdout",
     "output_type": "stream",
     "text": [
      "\n"
     ]
    },
    {
     "data": {
      "application/vnd.jupyter.widget-view+json": {
       "model_id": "7adc295babe349b1871be674f3fc0959",
       "version_major": 2,
       "version_minor": 0
      },
      "text/plain": [
       "HBox(children=(FloatProgress(value=0.0, description='warnings', max=3.0, style=ProgressStyle(description_width…"
      ]
     },
     "metadata": {},
     "output_type": "display_data"
    },
    {
     "name": "stdout",
     "output_type": "stream",
     "text": [
      "\n"
     ]
    },
    {
     "data": {
      "application/vnd.jupyter.widget-view+json": {
       "model_id": "a7eb6131f9ce4230a41efde38f13356c",
       "version_major": 2,
       "version_minor": 0
      },
      "text/plain": [
       "HBox(children=(FloatProgress(value=0.0, description='package', max=1.0, style=ProgressStyle(description_width=…"
      ]
     },
     "metadata": {},
     "output_type": "display_data"
    },
    {
     "name": "stdout",
     "output_type": "stream",
     "text": [
      "\n"
     ]
    },
    {
     "data": {
      "application/vnd.jupyter.widget-view+json": {
       "model_id": "804a0ad6ee364722b1ea43b572f9e9dc",
       "version_major": 2,
       "version_minor": 0
      },
      "text/plain": [
       "HBox(children=(FloatProgress(value=0.0, description='build report structure', max=1.0, style=ProgressStyle(des…"
      ]
     },
     "metadata": {},
     "output_type": "display_data"
    },
    {
     "name": "stdout",
     "output_type": "stream",
     "text": [
      "\n"
     ]
    }
   ],
   "source": [
    "report = pandas_profiling.ProfileReport(spectf_test)\n",
    "report.to_file('spectf_test.html')"
   ]
  },
  {
   "cell_type": "code",
   "execution_count": 76,
   "metadata": {},
   "outputs": [
    {
     "data": {
      "text/plain": [
       "<matplotlib.axes._subplots.AxesSubplot at 0x223038984e0>"
      ]
     },
     "execution_count": 76,
     "metadata": {},
     "output_type": "execute_result"
    },
    {
     "data": {
      "image/png": "[encoded data removed]",
      "text/plain": [
       "<Figure size 432x288 with 1 Axes>"
      ]
     },
     "metadata": {},
     "output_type": "display_data"
    }
   ],
   "source": [
    "sns.countplot(x='target', data = spectf_df)"
   ]
  },
  {
   "cell_type": "markdown",
   "metadata": {},
   "source": [
    "The training data is highly imbalanced."
   ]
  },
  {
   "cell_type": "code",
   "execution_count": 77,
   "metadata": {},
   "outputs": [
    {
     "data": {
      "text/plain": [
       "<matplotlib.axes._subplots.AxesSubplot at 0x2230390d1d0>"
      ]
     },
     "execution_count": 77,
     "metadata": {},
     "output_type": "execute_result"
    },
    {
     "data": {
      "image/png": "[encoded data removed]",
      "text/plain": [
       "<Figure size 432x288 with 1 Axes>"
      ]
     },
     "metadata": {},
     "output_type": "display_data"
    }
   ],
   "source": [
    "sns.countplot(x='target', data = spectf_test)"
   ]
  },
  {
   "cell_type": "markdown",
   "metadata": {},
   "source": [
    "The test data is balanced."
   ]
  },
  {
   "cell_type": "code",
   "execution_count": 78,
   "metadata": {},
   "outputs": [
    {
     "data": {
      "text/plain": [
       "Text(0.5, 1.0, 'Correlation between different features')"
      ]
     },
     "execution_count": 78,
     "metadata": {},
     "output_type": "execute_result"
    },
    {
     "data": {
      "image/png": "[encoded data removed]",
      "text/plain": [
       "<Figure size 2016x2016 with 2 Axes>"
      ]
     },
     "metadata": {},
     "output_type": "display_data"
    }
   ],
   "source": [
    "# Check the correlation between the variables.\n",
    "\n",
    "correlation  = spectf_df.corr()\n",
    "plt.figure(figsize=(28,28))\n",
    "sns.heatmap(correlation, square = True, cmap = 'viridis')\n",
    "plt.title('Correlation between different features')"
   ]
  },
  {
   "cell_type": "code",
   "execution_count": 79,
   "metadata": {},
   "outputs": [
    {
     "data": {
      "text/html": [
       "<div>\n",
       "<style scoped>\n",
       "    .dataframe tbody tr th:only-of-type {\n",
       "        vertical-align: middle;\n",
       "    }\n",
       "\n",
       "    .dataframe tbody tr th {\n",
       "        vertical-align: top;\n",
       "    }\n",
       "\n",
       "    .dataframe thead th {\n",
       "        text-align: right;\n",
       "    }\n",
       "</style>\n",
       "<table border=\"1\" class=\"dataframe\">\n",
       "  <thead>\n",
       "    <tr style=\"text-align: right;\">\n",
       "      <th></th>\n",
       "      <th>target</th>\n",
       "      <th>F1R</th>\n",
       "      <th>F1S</th>\n",
       "      <th>F2R</th>\n",
       "      <th>F2S</th>\n",
       "      <th>F3R</th>\n",
       "      <th>F3S</th>\n",
       "      <th>F4R</th>\n",
       "      <th>F4S</th>\n",
       "      <th>F5R</th>\n",
       "      <th>...</th>\n",
       "      <th>F18R</th>\n",
       "      <th>F18S</th>\n",
       "      <th>F19R</th>\n",
       "      <th>F19S</th>\n",
       "      <th>F20R</th>\n",
       "      <th>F20S</th>\n",
       "      <th>F21R</th>\n",
       "      <th>F21S</th>\n",
       "      <th>F22R</th>\n",
       "      <th>F22S</th>\n",
       "    </tr>\n",
       "  </thead>\n",
       "  <tbody>\n",
       "    <tr>\n",
       "      <th>target</th>\n",
       "      <td>1.000000</td>\n",
       "      <td>-0.033205</td>\n",
       "      <td>-0.072310</td>\n",
       "      <td>-0.047347</td>\n",
       "      <td>-0.100783</td>\n",
       "      <td>-0.162407</td>\n",
       "      <td>-0.218370</td>\n",
       "      <td>-0.084463</td>\n",
       "      <td>-0.117129</td>\n",
       "      <td>-0.109763</td>\n",
       "      <td>...</td>\n",
       "      <td>-0.103840</td>\n",
       "      <td>-0.122409</td>\n",
       "      <td>-0.060936</td>\n",
       "      <td>-0.069405</td>\n",
       "      <td>-0.158235</td>\n",
       "      <td>-0.180498</td>\n",
       "      <td>-0.201578</td>\n",
       "      <td>-0.233921</td>\n",
       "      <td>-0.224858</td>\n",
       "      <td>-0.213390</td>\n",
       "    </tr>\n",
       "    <tr>\n",
       "      <th>F1R</th>\n",
       "      <td>-0.033205</td>\n",
       "      <td>1.000000</td>\n",
       "      <td>0.601643</td>\n",
       "      <td>0.380365</td>\n",
       "      <td>0.376806</td>\n",
       "      <td>0.184712</td>\n",
       "      <td>0.208528</td>\n",
       "      <td>0.599774</td>\n",
       "      <td>0.424983</td>\n",
       "      <td>0.549938</td>\n",
       "      <td>...</td>\n",
       "      <td>0.422417</td>\n",
       "      <td>0.330402</td>\n",
       "      <td>0.317041</td>\n",
       "      <td>0.255071</td>\n",
       "      <td>0.451074</td>\n",
       "      <td>0.327409</td>\n",
       "      <td>0.089097</td>\n",
       "      <td>0.097360</td>\n",
       "      <td>0.021205</td>\n",
       "      <td>0.050646</td>\n",
       "    </tr>\n",
       "    <tr>\n",
       "      <th>F1S</th>\n",
       "      <td>-0.072310</td>\n",
       "      <td>0.601643</td>\n",
       "      <td>1.000000</td>\n",
       "      <td>0.271874</td>\n",
       "      <td>0.455517</td>\n",
       "      <td>0.055241</td>\n",
       "      <td>0.317336</td>\n",
       "      <td>0.415818</td>\n",
       "      <td>0.519327</td>\n",
       "      <td>0.455041</td>\n",
       "      <td>...</td>\n",
       "      <td>0.377079</td>\n",
       "      <td>0.418680</td>\n",
       "      <td>0.299668</td>\n",
       "      <td>0.517828</td>\n",
       "      <td>0.396013</td>\n",
       "      <td>0.488027</td>\n",
       "      <td>0.088510</td>\n",
       "      <td>0.073545</td>\n",
       "      <td>0.016101</td>\n",
       "      <td>0.083307</td>\n",
       "    </tr>\n",
       "    <tr>\n",
       "      <th>F2R</th>\n",
       "      <td>-0.047347</td>\n",
       "      <td>0.380365</td>\n",
       "      <td>0.271874</td>\n",
       "      <td>1.000000</td>\n",
       "      <td>0.601705</td>\n",
       "      <td>0.166304</td>\n",
       "      <td>0.149028</td>\n",
       "      <td>0.300404</td>\n",
       "      <td>0.141069</td>\n",
       "      <td>0.246003</td>\n",
       "      <td>...</td>\n",
       "      <td>0.188291</td>\n",
       "      <td>0.139054</td>\n",
       "      <td>0.287469</td>\n",
       "      <td>0.195695</td>\n",
       "      <td>0.288137</td>\n",
       "      <td>0.223436</td>\n",
       "      <td>0.147974</td>\n",
       "      <td>0.116902</td>\n",
       "      <td>0.057365</td>\n",
       "      <td>0.084343</td>\n",
       "    </tr>\n",
       "    <tr>\n",
       "      <th>F2S</th>\n",
       "      <td>-0.100783</td>\n",
       "      <td>0.376806</td>\n",
       "      <td>0.455517</td>\n",
       "      <td>0.601705</td>\n",
       "      <td>1.000000</td>\n",
       "      <td>0.094517</td>\n",
       "      <td>0.226083</td>\n",
       "      <td>0.239487</td>\n",
       "      <td>0.233756</td>\n",
       "      <td>0.310953</td>\n",
       "      <td>...</td>\n",
       "      <td>0.178453</td>\n",
       "      <td>0.202181</td>\n",
       "      <td>0.155147</td>\n",
       "      <td>0.309793</td>\n",
       "      <td>0.263244</td>\n",
       "      <td>0.379087</td>\n",
       "      <td>0.137220</td>\n",
       "      <td>0.169305</td>\n",
       "      <td>0.103953</td>\n",
       "      <td>0.129407</td>\n",
       "    </tr>\n",
       "    <tr>\n",
       "      <th>F3R</th>\n",
       "      <td>-0.162407</td>\n",
       "      <td>0.184712</td>\n",
       "      <td>0.055241</td>\n",
       "      <td>0.166304</td>\n",
       "      <td>0.094517</td>\n",
       "      <td>1.000000</td>\n",
       "      <td>0.710749</td>\n",
       "      <td>0.262919</td>\n",
       "      <td>0.394523</td>\n",
       "      <td>0.231966</td>\n",
       "      <td>...</td>\n",
       "      <td>0.349090</td>\n",
       "      <td>0.299781</td>\n",
       "      <td>-0.022380</td>\n",
       "      <td>-0.110333</td>\n",
       "      <td>0.367660</td>\n",
       "      <td>0.225666</td>\n",
       "      <td>0.503053</td>\n",
       "      <td>0.464465</td>\n",
       "      <td>0.421015</td>\n",
       "      <td>0.398157</td>\n",
       "    </tr>\n",
       "    <tr>\n",
       "      <th>F3S</th>\n",
       "      <td>-0.218370</td>\n",
       "      <td>0.208528</td>\n",
       "      <td>0.317336</td>\n",
       "      <td>0.149028</td>\n",
       "      <td>0.226083</td>\n",
       "      <td>0.710749</td>\n",
       "      <td>1.000000</td>\n",
       "      <td>0.350626</td>\n",
       "      <td>0.656415</td>\n",
       "      <td>0.251063</td>\n",
       "      <td>...</td>\n",
       "      <td>0.483734</td>\n",
       "      <td>0.581697</td>\n",
       "      <td>0.020715</td>\n",
       "      <td>0.096611</td>\n",
       "      <td>0.455714</td>\n",
       "      <td>0.473037</td>\n",
       "      <td>0.638465</td>\n",
       "      <td>0.695800</td>\n",
       "      <td>0.491006</td>\n",
       "      <td>0.594700</td>\n",
       "    </tr>\n",
       "    <tr>\n",
       "      <th>F4R</th>\n",
       "      <td>-0.084463</td>\n",
       "      <td>0.599774</td>\n",
       "      <td>0.415818</td>\n",
       "      <td>0.300404</td>\n",
       "      <td>0.239487</td>\n",
       "      <td>0.262919</td>\n",
       "      <td>0.350626</td>\n",
       "      <td>1.000000</td>\n",
       "      <td>0.679731</td>\n",
       "      <td>0.595992</td>\n",
       "      <td>...</td>\n",
       "      <td>0.676583</td>\n",
       "      <td>0.551457</td>\n",
       "      <td>0.428249</td>\n",
       "      <td>0.254531</td>\n",
       "      <td>0.644387</td>\n",
       "      <td>0.468698</td>\n",
       "      <td>0.213282</td>\n",
       "      <td>0.228189</td>\n",
       "      <td>0.079135</td>\n",
       "      <td>0.160490</td>\n",
       "    </tr>\n",
       "    <tr>\n",
       "      <th>F4S</th>\n",
       "      <td>-0.117129</td>\n",
       "      <td>0.424983</td>\n",
       "      <td>0.519327</td>\n",
       "      <td>0.141069</td>\n",
       "      <td>0.233756</td>\n",
       "      <td>0.394523</td>\n",
       "      <td>0.656415</td>\n",
       "      <td>0.679731</td>\n",
       "      <td>1.000000</td>\n",
       "      <td>0.379337</td>\n",
       "      <td>...</td>\n",
       "      <td>0.701032</td>\n",
       "      <td>0.764119</td>\n",
       "      <td>0.210451</td>\n",
       "      <td>0.310271</td>\n",
       "      <td>0.663214</td>\n",
       "      <td>0.641950</td>\n",
       "      <td>0.429595</td>\n",
       "      <td>0.433020</td>\n",
       "      <td>0.277691</td>\n",
       "      <td>0.354779</td>\n",
       "    </tr>\n",
       "    <tr>\n",
       "      <th>F5R</th>\n",
       "      <td>-0.109763</td>\n",
       "      <td>0.549938</td>\n",
       "      <td>0.455041</td>\n",
       "      <td>0.246003</td>\n",
       "      <td>0.310953</td>\n",
       "      <td>0.231966</td>\n",
       "      <td>0.251063</td>\n",
       "      <td>0.595992</td>\n",
       "      <td>0.379337</td>\n",
       "      <td>1.000000</td>\n",
       "      <td>...</td>\n",
       "      <td>0.544854</td>\n",
       "      <td>0.423605</td>\n",
       "      <td>0.462315</td>\n",
       "      <td>0.368660</td>\n",
       "      <td>0.501115</td>\n",
       "      <td>0.367761</td>\n",
       "      <td>0.201297</td>\n",
       "      <td>0.167055</td>\n",
       "      <td>0.082002</td>\n",
       "      <td>0.133144</td>\n",
       "    </tr>\n",
       "    <tr>\n",
       "      <th>F5S</th>\n",
       "      <td>-0.111054</td>\n",
       "      <td>0.411568</td>\n",
       "      <td>0.629239</td>\n",
       "      <td>0.216476</td>\n",
       "      <td>0.359562</td>\n",
       "      <td>0.184040</td>\n",
       "      <td>0.342526</td>\n",
       "      <td>0.433502</td>\n",
       "      <td>0.467883</td>\n",
       "      <td>0.732307</td>\n",
       "      <td>...</td>\n",
       "      <td>0.508418</td>\n",
       "      <td>0.558727</td>\n",
       "      <td>0.357790</td>\n",
       "      <td>0.533496</td>\n",
       "      <td>0.438632</td>\n",
       "      <td>0.478267</td>\n",
       "      <td>0.183461</td>\n",
       "      <td>0.157382</td>\n",
       "      <td>0.067388</td>\n",
       "      <td>0.143466</td>\n",
       "    </tr>\n",
       "    <tr>\n",
       "      <th>F6R</th>\n",
       "      <td>-0.047473</td>\n",
       "      <td>0.362452</td>\n",
       "      <td>0.352332</td>\n",
       "      <td>0.480868</td>\n",
       "      <td>0.416843</td>\n",
       "      <td>0.014061</td>\n",
       "      <td>0.155800</td>\n",
       "      <td>0.283484</td>\n",
       "      <td>0.167293</td>\n",
       "      <td>0.513272</td>\n",
       "      <td>...</td>\n",
       "      <td>0.248555</td>\n",
       "      <td>0.210022</td>\n",
       "      <td>0.309989</td>\n",
       "      <td>0.294629</td>\n",
       "      <td>0.275308</td>\n",
       "      <td>0.204811</td>\n",
       "      <td>0.209232</td>\n",
       "      <td>0.149294</td>\n",
       "      <td>0.087325</td>\n",
       "      <td>0.105234</td>\n",
       "    </tr>\n",
       "    <tr>\n",
       "      <th>F6S</th>\n",
       "      <td>-0.090615</td>\n",
       "      <td>0.223068</td>\n",
       "      <td>0.492800</td>\n",
       "      <td>0.301811</td>\n",
       "      <td>0.528861</td>\n",
       "      <td>0.048362</td>\n",
       "      <td>0.193961</td>\n",
       "      <td>0.142858</td>\n",
       "      <td>0.170910</td>\n",
       "      <td>0.383146</td>\n",
       "      <td>...</td>\n",
       "      <td>0.204636</td>\n",
       "      <td>0.266963</td>\n",
       "      <td>0.212544</td>\n",
       "      <td>0.430263</td>\n",
       "      <td>0.211264</td>\n",
       "      <td>0.266233</td>\n",
       "      <td>0.238065</td>\n",
       "      <td>0.158303</td>\n",
       "      <td>0.160426</td>\n",
       "      <td>0.136603</td>\n",
       "    </tr>\n",
       "    <tr>\n",
       "      <th>F7R</th>\n",
       "      <td>-0.094505</td>\n",
       "      <td>0.058007</td>\n",
       "      <td>0.010139</td>\n",
       "      <td>0.235419</td>\n",
       "      <td>0.236616</td>\n",
       "      <td>0.412879</td>\n",
       "      <td>0.449601</td>\n",
       "      <td>0.014356</td>\n",
       "      <td>0.161190</td>\n",
       "      <td>0.223761</td>\n",
       "      <td>...</td>\n",
       "      <td>0.121807</td>\n",
       "      <td>0.202330</td>\n",
       "      <td>0.036496</td>\n",
       "      <td>-0.025844</td>\n",
       "      <td>0.168704</td>\n",
       "      <td>0.155107</td>\n",
       "      <td>0.507012</td>\n",
       "      <td>0.476758</td>\n",
       "      <td>0.425277</td>\n",
       "      <td>0.443246</td>\n",
       "    </tr>\n",
       "    <tr>\n",
       "      <th>F7S</th>\n",
       "      <td>-0.163484</td>\n",
       "      <td>0.077972</td>\n",
       "      <td>0.080726</td>\n",
       "      <td>0.273595</td>\n",
       "      <td>0.399704</td>\n",
       "      <td>0.313565</td>\n",
       "      <td>0.413405</td>\n",
       "      <td>-0.070463</td>\n",
       "      <td>0.120979</td>\n",
       "      <td>0.093649</td>\n",
       "      <td>...</td>\n",
       "      <td>0.022109</td>\n",
       "      <td>0.154583</td>\n",
       "      <td>-0.059661</td>\n",
       "      <td>0.041232</td>\n",
       "      <td>0.202165</td>\n",
       "      <td>0.259720</td>\n",
       "      <td>0.397412</td>\n",
       "      <td>0.428398</td>\n",
       "      <td>0.327583</td>\n",
       "      <td>0.378936</td>\n",
       "    </tr>\n",
       "    <tr>\n",
       "      <th>F8R</th>\n",
       "      <td>-0.167806</td>\n",
       "      <td>0.137556</td>\n",
       "      <td>-0.002768</td>\n",
       "      <td>0.068265</td>\n",
       "      <td>-0.021801</td>\n",
       "      <td>0.607831</td>\n",
       "      <td>0.683897</td>\n",
       "      <td>0.337675</td>\n",
       "      <td>0.484067</td>\n",
       "      <td>0.289845</td>\n",
       "      <td>...</td>\n",
       "      <td>0.509739</td>\n",
       "      <td>0.520401</td>\n",
       "      <td>0.113823</td>\n",
       "      <td>-0.065975</td>\n",
       "      <td>0.416179</td>\n",
       "      <td>0.300471</td>\n",
       "      <td>0.676021</td>\n",
       "      <td>0.634999</td>\n",
       "      <td>0.548870</td>\n",
       "      <td>0.584412</td>\n",
       "    </tr>\n",
       "    <tr>\n",
       "      <th>F8S</th>\n",
       "      <td>-0.157609</td>\n",
       "      <td>0.191406</td>\n",
       "      <td>0.127364</td>\n",
       "      <td>0.035067</td>\n",
       "      <td>0.104415</td>\n",
       "      <td>0.516344</td>\n",
       "      <td>0.721371</td>\n",
       "      <td>0.402211</td>\n",
       "      <td>0.569532</td>\n",
       "      <td>0.366099</td>\n",
       "      <td>...</td>\n",
       "      <td>0.517237</td>\n",
       "      <td>0.587998</td>\n",
       "      <td>0.053133</td>\n",
       "      <td>0.015059</td>\n",
       "      <td>0.418438</td>\n",
       "      <td>0.367194</td>\n",
       "      <td>0.624444</td>\n",
       "      <td>0.711478</td>\n",
       "      <td>0.511790</td>\n",
       "      <td>0.613654</td>\n",
       "    </tr>\n",
       "    <tr>\n",
       "      <th>F9R</th>\n",
       "      <td>-0.065156</td>\n",
       "      <td>0.458335</td>\n",
       "      <td>0.323507</td>\n",
       "      <td>0.191073</td>\n",
       "      <td>0.121042</td>\n",
       "      <td>0.253921</td>\n",
       "      <td>0.366321</td>\n",
       "      <td>0.728703</td>\n",
       "      <td>0.610022</td>\n",
       "      <td>0.624651</td>\n",
       "      <td>...</td>\n",
       "      <td>0.787758</td>\n",
       "      <td>0.635253</td>\n",
       "      <td>0.335778</td>\n",
       "      <td>0.172766</td>\n",
       "      <td>0.604673</td>\n",
       "      <td>0.509175</td>\n",
       "      <td>0.264030</td>\n",
       "      <td>0.267452</td>\n",
       "      <td>0.098887</td>\n",
       "      <td>0.183893</td>\n",
       "    </tr>\n",
       "    <tr>\n",
       "      <th>F9S</th>\n",
       "      <td>-0.051781</td>\n",
       "      <td>0.408751</td>\n",
       "      <td>0.391826</td>\n",
       "      <td>0.129143</td>\n",
       "      <td>0.065483</td>\n",
       "      <td>0.190019</td>\n",
       "      <td>0.361172</td>\n",
       "      <td>0.679313</td>\n",
       "      <td>0.670467</td>\n",
       "      <td>0.620590</td>\n",
       "      <td>...</td>\n",
       "      <td>0.753608</td>\n",
       "      <td>0.731166</td>\n",
       "      <td>0.283464</td>\n",
       "      <td>0.262214</td>\n",
       "      <td>0.584154</td>\n",
       "      <td>0.511546</td>\n",
       "      <td>0.245127</td>\n",
       "      <td>0.265853</td>\n",
       "      <td>0.105248</td>\n",
       "      <td>0.193943</td>\n",
       "    </tr>\n",
       "    <tr>\n",
       "      <th>F10R</th>\n",
       "      <td>-0.111721</td>\n",
       "      <td>0.149477</td>\n",
       "      <td>0.146654</td>\n",
       "      <td>0.095347</td>\n",
       "      <td>0.177832</td>\n",
       "      <td>0.243346</td>\n",
       "      <td>0.266906</td>\n",
       "      <td>0.229514</td>\n",
       "      <td>0.232139</td>\n",
       "      <td>0.407593</td>\n",
       "      <td>...</td>\n",
       "      <td>0.326238</td>\n",
       "      <td>0.231161</td>\n",
       "      <td>0.315123</td>\n",
       "      <td>0.184364</td>\n",
       "      <td>0.262204</td>\n",
       "      <td>0.180801</td>\n",
       "      <td>0.252550</td>\n",
       "      <td>0.198666</td>\n",
       "      <td>0.147478</td>\n",
       "      <td>0.156766</td>\n",
       "    </tr>\n",
       "    <tr>\n",
       "      <th>F10S</th>\n",
       "      <td>-0.068210</td>\n",
       "      <td>0.206677</td>\n",
       "      <td>0.294343</td>\n",
       "      <td>-0.003524</td>\n",
       "      <td>0.277323</td>\n",
       "      <td>0.128568</td>\n",
       "      <td>0.217948</td>\n",
       "      <td>0.197694</td>\n",
       "      <td>0.212159</td>\n",
       "      <td>0.371018</td>\n",
       "      <td>...</td>\n",
       "      <td>0.205014</td>\n",
       "      <td>0.239327</td>\n",
       "      <td>0.175691</td>\n",
       "      <td>0.393686</td>\n",
       "      <td>0.188403</td>\n",
       "      <td>0.228885</td>\n",
       "      <td>0.120615</td>\n",
       "      <td>0.153822</td>\n",
       "      <td>0.041276</td>\n",
       "      <td>0.093277</td>\n",
       "    </tr>\n",
       "    <tr>\n",
       "      <th>F11R</th>\n",
       "      <td>-0.084087</td>\n",
       "      <td>0.176174</td>\n",
       "      <td>0.105505</td>\n",
       "      <td>0.186116</td>\n",
       "      <td>0.224738</td>\n",
       "      <td>0.085105</td>\n",
       "      <td>0.098935</td>\n",
       "      <td>0.212308</td>\n",
       "      <td>0.117100</td>\n",
       "      <td>0.248924</td>\n",
       "      <td>...</td>\n",
       "      <td>0.206767</td>\n",
       "      <td>0.068176</td>\n",
       "      <td>0.262334</td>\n",
       "      <td>0.103251</td>\n",
       "      <td>0.239743</td>\n",
       "      <td>0.100146</td>\n",
       "      <td>0.266331</td>\n",
       "      <td>0.216225</td>\n",
       "      <td>0.160724</td>\n",
       "      <td>0.193756</td>\n",
       "    </tr>\n",
       "    <tr>\n",
       "      <th>F11S</th>\n",
       "      <td>-0.043544</td>\n",
       "      <td>0.070438</td>\n",
       "      <td>0.143450</td>\n",
       "      <td>0.114622</td>\n",
       "      <td>0.237416</td>\n",
       "      <td>0.065128</td>\n",
       "      <td>0.213460</td>\n",
       "      <td>0.058148</td>\n",
       "      <td>0.155294</td>\n",
       "      <td>0.129082</td>\n",
       "      <td>...</td>\n",
       "      <td>0.064747</td>\n",
       "      <td>0.233950</td>\n",
       "      <td>0.081800</td>\n",
       "      <td>0.296464</td>\n",
       "      <td>0.112877</td>\n",
       "      <td>0.159502</td>\n",
       "      <td>0.225925</td>\n",
       "      <td>0.216177</td>\n",
       "      <td>0.116491</td>\n",
       "      <td>0.153867</td>\n",
       "    </tr>\n",
       "    <tr>\n",
       "      <th>F12R</th>\n",
       "      <td>-0.111261</td>\n",
       "      <td>0.073001</td>\n",
       "      <td>-0.000075</td>\n",
       "      <td>0.098451</td>\n",
       "      <td>0.195886</td>\n",
       "      <td>0.303395</td>\n",
       "      <td>0.339543</td>\n",
       "      <td>0.041168</td>\n",
       "      <td>0.116482</td>\n",
       "      <td>0.172805</td>\n",
       "      <td>...</td>\n",
       "      <td>0.188692</td>\n",
       "      <td>0.149425</td>\n",
       "      <td>0.009740</td>\n",
       "      <td>-0.064832</td>\n",
       "      <td>0.287414</td>\n",
       "      <td>0.268739</td>\n",
       "      <td>0.482364</td>\n",
       "      <td>0.441902</td>\n",
       "      <td>0.445092</td>\n",
       "      <td>0.451131</td>\n",
       "    </tr>\n",
       "    <tr>\n",
       "      <th>F12S</th>\n",
       "      <td>-0.108912</td>\n",
       "      <td>0.084748</td>\n",
       "      <td>0.107356</td>\n",
       "      <td>0.110760</td>\n",
       "      <td>0.320427</td>\n",
       "      <td>0.285881</td>\n",
       "      <td>0.383671</td>\n",
       "      <td>0.016577</td>\n",
       "      <td>0.142162</td>\n",
       "      <td>0.132665</td>\n",
       "      <td>...</td>\n",
       "      <td>0.053097</td>\n",
       "      <td>0.130453</td>\n",
       "      <td>-0.091065</td>\n",
       "      <td>-0.002913</td>\n",
       "      <td>0.242906</td>\n",
       "      <td>0.316828</td>\n",
       "      <td>0.425397</td>\n",
       "      <td>0.478359</td>\n",
       "      <td>0.411627</td>\n",
       "      <td>0.479093</td>\n",
       "    </tr>\n",
       "    <tr>\n",
       "      <th>F13R</th>\n",
       "      <td>-0.187924</td>\n",
       "      <td>0.109477</td>\n",
       "      <td>0.046546</td>\n",
       "      <td>0.075274</td>\n",
       "      <td>0.160371</td>\n",
       "      <td>0.508444</td>\n",
       "      <td>0.611147</td>\n",
       "      <td>0.179831</td>\n",
       "      <td>0.360461</td>\n",
       "      <td>0.231789</td>\n",
       "      <td>...</td>\n",
       "      <td>0.408535</td>\n",
       "      <td>0.438838</td>\n",
       "      <td>-0.010572</td>\n",
       "      <td>-0.056757</td>\n",
       "      <td>0.365156</td>\n",
       "      <td>0.315804</td>\n",
       "      <td>0.749880</td>\n",
       "      <td>0.718895</td>\n",
       "      <td>0.700251</td>\n",
       "      <td>0.713997</td>\n",
       "    </tr>\n",
       "    <tr>\n",
       "      <th>F13S</th>\n",
       "      <td>-0.204077</td>\n",
       "      <td>0.048005</td>\n",
       "      <td>0.055046</td>\n",
       "      <td>0.095392</td>\n",
       "      <td>0.134620</td>\n",
       "      <td>0.455460</td>\n",
       "      <td>0.617017</td>\n",
       "      <td>0.168893</td>\n",
       "      <td>0.337529</td>\n",
       "      <td>0.170231</td>\n",
       "      <td>...</td>\n",
       "      <td>0.360767</td>\n",
       "      <td>0.445586</td>\n",
       "      <td>-0.067877</td>\n",
       "      <td>-0.070443</td>\n",
       "      <td>0.337249</td>\n",
       "      <td>0.307254</td>\n",
       "      <td>0.678193</td>\n",
       "      <td>0.739152</td>\n",
       "      <td>0.644269</td>\n",
       "      <td>0.737132</td>\n",
       "    </tr>\n",
       "    <tr>\n",
       "      <th>F14R</th>\n",
       "      <td>-0.043510</td>\n",
       "      <td>0.184299</td>\n",
       "      <td>0.133945</td>\n",
       "      <td>0.051877</td>\n",
       "      <td>0.084945</td>\n",
       "      <td>0.142679</td>\n",
       "      <td>0.244602</td>\n",
       "      <td>0.426706</td>\n",
       "      <td>0.335635</td>\n",
       "      <td>0.323787</td>\n",
       "      <td>...</td>\n",
       "      <td>0.572216</td>\n",
       "      <td>0.452694</td>\n",
       "      <td>0.226214</td>\n",
       "      <td>0.047707</td>\n",
       "      <td>0.418879</td>\n",
       "      <td>0.283795</td>\n",
       "      <td>0.305375</td>\n",
       "      <td>0.287784</td>\n",
       "      <td>0.158638</td>\n",
       "      <td>0.206808</td>\n",
       "    </tr>\n",
       "    <tr>\n",
       "      <th>F14S</th>\n",
       "      <td>-0.022509</td>\n",
       "      <td>0.063172</td>\n",
       "      <td>0.151532</td>\n",
       "      <td>0.000072</td>\n",
       "      <td>-0.038621</td>\n",
       "      <td>0.061674</td>\n",
       "      <td>0.270608</td>\n",
       "      <td>0.308243</td>\n",
       "      <td>0.358045</td>\n",
       "      <td>0.134475</td>\n",
       "      <td>...</td>\n",
       "      <td>0.463986</td>\n",
       "      <td>0.562198</td>\n",
       "      <td>0.083665</td>\n",
       "      <td>0.094660</td>\n",
       "      <td>0.275077</td>\n",
       "      <td>0.261332</td>\n",
       "      <td>0.214276</td>\n",
       "      <td>0.260831</td>\n",
       "      <td>0.051633</td>\n",
       "      <td>0.131416</td>\n",
       "    </tr>\n",
       "    <tr>\n",
       "      <th>F15R</th>\n",
       "      <td>-0.112002</td>\n",
       "      <td>0.475034</td>\n",
       "      <td>0.477081</td>\n",
       "      <td>0.340808</td>\n",
       "      <td>0.317019</td>\n",
       "      <td>0.335914</td>\n",
       "      <td>0.481531</td>\n",
       "      <td>0.500615</td>\n",
       "      <td>0.677039</td>\n",
       "      <td>0.442269</td>\n",
       "      <td>...</td>\n",
       "      <td>0.725464</td>\n",
       "      <td>0.747866</td>\n",
       "      <td>0.309171</td>\n",
       "      <td>0.370918</td>\n",
       "      <td>0.788190</td>\n",
       "      <td>0.758597</td>\n",
       "      <td>0.446901</td>\n",
       "      <td>0.351483</td>\n",
       "      <td>0.283653</td>\n",
       "      <td>0.286250</td>\n",
       "    </tr>\n",
       "    <tr>\n",
       "      <th>F15S</th>\n",
       "      <td>-0.124314</td>\n",
       "      <td>0.349917</td>\n",
       "      <td>0.508655</td>\n",
       "      <td>0.193685</td>\n",
       "      <td>0.370036</td>\n",
       "      <td>0.293423</td>\n",
       "      <td>0.563642</td>\n",
       "      <td>0.459927</td>\n",
       "      <td>0.686115</td>\n",
       "      <td>0.404127</td>\n",
       "      <td>...</td>\n",
       "      <td>0.681963</td>\n",
       "      <td>0.763262</td>\n",
       "      <td>0.207435</td>\n",
       "      <td>0.394448</td>\n",
       "      <td>0.721135</td>\n",
       "      <td>0.854704</td>\n",
       "      <td>0.446524</td>\n",
       "      <td>0.425297</td>\n",
       "      <td>0.321137</td>\n",
       "      <td>0.350515</td>\n",
       "    </tr>\n",
       "    <tr>\n",
       "      <th>F16R</th>\n",
       "      <td>-0.052769</td>\n",
       "      <td>0.181529</td>\n",
       "      <td>0.180045</td>\n",
       "      <td>0.467834</td>\n",
       "      <td>0.467341</td>\n",
       "      <td>0.146720</td>\n",
       "      <td>0.287892</td>\n",
       "      <td>0.102273</td>\n",
       "      <td>0.150175</td>\n",
       "      <td>0.193968</td>\n",
       "      <td>...</td>\n",
       "      <td>0.231163</td>\n",
       "      <td>0.275102</td>\n",
       "      <td>0.231934</td>\n",
       "      <td>0.225429</td>\n",
       "      <td>0.302938</td>\n",
       "      <td>0.275504</td>\n",
       "      <td>0.355327</td>\n",
       "      <td>0.295247</td>\n",
       "      <td>0.240488</td>\n",
       "      <td>0.297763</td>\n",
       "    </tr>\n",
       "    <tr>\n",
       "      <th>F16S</th>\n",
       "      <td>-0.120838</td>\n",
       "      <td>0.160883</td>\n",
       "      <td>0.229487</td>\n",
       "      <td>0.267551</td>\n",
       "      <td>0.632300</td>\n",
       "      <td>0.103677</td>\n",
       "      <td>0.301457</td>\n",
       "      <td>0.144612</td>\n",
       "      <td>0.160252</td>\n",
       "      <td>0.249272</td>\n",
       "      <td>...</td>\n",
       "      <td>0.168899</td>\n",
       "      <td>0.212683</td>\n",
       "      <td>0.081786</td>\n",
       "      <td>0.191912</td>\n",
       "      <td>0.222136</td>\n",
       "      <td>0.284238</td>\n",
       "      <td>0.325833</td>\n",
       "      <td>0.395248</td>\n",
       "      <td>0.291633</td>\n",
       "      <td>0.352994</td>\n",
       "    </tr>\n",
       "    <tr>\n",
       "      <th>F17R</th>\n",
       "      <td>-0.084401</td>\n",
       "      <td>0.028626</td>\n",
       "      <td>0.005113</td>\n",
       "      <td>0.284240</td>\n",
       "      <td>0.280456</td>\n",
       "      <td>0.068978</td>\n",
       "      <td>0.101773</td>\n",
       "      <td>-0.050372</td>\n",
       "      <td>-0.047628</td>\n",
       "      <td>0.046694</td>\n",
       "      <td>...</td>\n",
       "      <td>0.075864</td>\n",
       "      <td>-0.004497</td>\n",
       "      <td>0.114701</td>\n",
       "      <td>-0.011653</td>\n",
       "      <td>0.069145</td>\n",
       "      <td>0.003710</td>\n",
       "      <td>0.214398</td>\n",
       "      <td>0.143403</td>\n",
       "      <td>0.295282</td>\n",
       "      <td>0.262840</td>\n",
       "    </tr>\n",
       "    <tr>\n",
       "      <th>F17S</th>\n",
       "      <td>-0.121160</td>\n",
       "      <td>-0.089392</td>\n",
       "      <td>0.025522</td>\n",
       "      <td>0.042401</td>\n",
       "      <td>0.377947</td>\n",
       "      <td>0.073255</td>\n",
       "      <td>0.161762</td>\n",
       "      <td>-0.019498</td>\n",
       "      <td>-0.023591</td>\n",
       "      <td>0.153417</td>\n",
       "      <td>...</td>\n",
       "      <td>-0.012974</td>\n",
       "      <td>-0.058317</td>\n",
       "      <td>-0.038718</td>\n",
       "      <td>0.047701</td>\n",
       "      <td>0.076926</td>\n",
       "      <td>0.143236</td>\n",
       "      <td>0.214023</td>\n",
       "      <td>0.302249</td>\n",
       "      <td>0.318296</td>\n",
       "      <td>0.344509</td>\n",
       "    </tr>\n",
       "    <tr>\n",
       "      <th>F18R</th>\n",
       "      <td>-0.103840</td>\n",
       "      <td>0.422417</td>\n",
       "      <td>0.377079</td>\n",
       "      <td>0.188291</td>\n",
       "      <td>0.178453</td>\n",
       "      <td>0.349090</td>\n",
       "      <td>0.483734</td>\n",
       "      <td>0.676583</td>\n",
       "      <td>0.701032</td>\n",
       "      <td>0.544854</td>\n",
       "      <td>...</td>\n",
       "      <td>1.000000</td>\n",
       "      <td>0.842960</td>\n",
       "      <td>0.358811</td>\n",
       "      <td>0.246752</td>\n",
       "      <td>0.695356</td>\n",
       "      <td>0.594169</td>\n",
       "      <td>0.450342</td>\n",
       "      <td>0.384007</td>\n",
       "      <td>0.240843</td>\n",
       "      <td>0.295192</td>\n",
       "    </tr>\n",
       "    <tr>\n",
       "      <th>F18S</th>\n",
       "      <td>-0.122409</td>\n",
       "      <td>0.330402</td>\n",
       "      <td>0.418680</td>\n",
       "      <td>0.139054</td>\n",
       "      <td>0.202181</td>\n",
       "      <td>0.299781</td>\n",
       "      <td>0.581697</td>\n",
       "      <td>0.551457</td>\n",
       "      <td>0.764119</td>\n",
       "      <td>0.423605</td>\n",
       "      <td>...</td>\n",
       "      <td>0.842960</td>\n",
       "      <td>1.000000</td>\n",
       "      <td>0.281492</td>\n",
       "      <td>0.382279</td>\n",
       "      <td>0.662307</td>\n",
       "      <td>0.664132</td>\n",
       "      <td>0.499622</td>\n",
       "      <td>0.465191</td>\n",
       "      <td>0.291608</td>\n",
       "      <td>0.366945</td>\n",
       "    </tr>\n",
       "    <tr>\n",
       "      <th>F19R</th>\n",
       "      <td>-0.060936</td>\n",
       "      <td>0.317041</td>\n",
       "      <td>0.299668</td>\n",
       "      <td>0.287469</td>\n",
       "      <td>0.155147</td>\n",
       "      <td>-0.022380</td>\n",
       "      <td>0.020715</td>\n",
       "      <td>0.428249</td>\n",
       "      <td>0.210451</td>\n",
       "      <td>0.462315</td>\n",
       "      <td>...</td>\n",
       "      <td>0.358811</td>\n",
       "      <td>0.281492</td>\n",
       "      <td>1.000000</td>\n",
       "      <td>0.674086</td>\n",
       "      <td>0.446118</td>\n",
       "      <td>0.279254</td>\n",
       "      <td>0.181380</td>\n",
       "      <td>0.064396</td>\n",
       "      <td>0.110493</td>\n",
       "      <td>0.096838</td>\n",
       "    </tr>\n",
       "    <tr>\n",
       "      <th>F19S</th>\n",
       "      <td>-0.069405</td>\n",
       "      <td>0.255071</td>\n",
       "      <td>0.517828</td>\n",
       "      <td>0.195695</td>\n",
       "      <td>0.309793</td>\n",
       "      <td>-0.110333</td>\n",
       "      <td>0.096611</td>\n",
       "      <td>0.254531</td>\n",
       "      <td>0.310271</td>\n",
       "      <td>0.368660</td>\n",
       "      <td>...</td>\n",
       "      <td>0.246752</td>\n",
       "      <td>0.382279</td>\n",
       "      <td>0.674086</td>\n",
       "      <td>1.000000</td>\n",
       "      <td>0.408375</td>\n",
       "      <td>0.475416</td>\n",
       "      <td>0.145015</td>\n",
       "      <td>0.033315</td>\n",
       "      <td>0.074845</td>\n",
       "      <td>0.090395</td>\n",
       "    </tr>\n",
       "    <tr>\n",
       "      <th>F20R</th>\n",
       "      <td>-0.158235</td>\n",
       "      <td>0.451074</td>\n",
       "      <td>0.396013</td>\n",
       "      <td>0.288137</td>\n",
       "      <td>0.263244</td>\n",
       "      <td>0.367660</td>\n",
       "      <td>0.455714</td>\n",
       "      <td>0.644387</td>\n",
       "      <td>0.663214</td>\n",
       "      <td>0.501115</td>\n",
       "      <td>...</td>\n",
       "      <td>0.695356</td>\n",
       "      <td>0.662307</td>\n",
       "      <td>0.446118</td>\n",
       "      <td>0.408375</td>\n",
       "      <td>1.000000</td>\n",
       "      <td>0.823848</td>\n",
       "      <td>0.562668</td>\n",
       "      <td>0.432455</td>\n",
       "      <td>0.410297</td>\n",
       "      <td>0.406359</td>\n",
       "    </tr>\n",
       "    <tr>\n",
       "      <th>F20S</th>\n",
       "      <td>-0.180498</td>\n",
       "      <td>0.327409</td>\n",
       "      <td>0.488027</td>\n",
       "      <td>0.223436</td>\n",
       "      <td>0.379087</td>\n",
       "      <td>0.225666</td>\n",
       "      <td>0.473037</td>\n",
       "      <td>0.468698</td>\n",
       "      <td>0.641950</td>\n",
       "      <td>0.367761</td>\n",
       "      <td>...</td>\n",
       "      <td>0.594169</td>\n",
       "      <td>0.664132</td>\n",
       "      <td>0.279254</td>\n",
       "      <td>0.475416</td>\n",
       "      <td>0.823848</td>\n",
       "      <td>1.000000</td>\n",
       "      <td>0.457537</td>\n",
       "      <td>0.436756</td>\n",
       "      <td>0.356752</td>\n",
       "      <td>0.387138</td>\n",
       "    </tr>\n",
       "    <tr>\n",
       "      <th>F21R</th>\n",
       "      <td>-0.201578</td>\n",
       "      <td>0.089097</td>\n",
       "      <td>0.088510</td>\n",
       "      <td>0.147974</td>\n",
       "      <td>0.137220</td>\n",
       "      <td>0.503053</td>\n",
       "      <td>0.638465</td>\n",
       "      <td>0.213282</td>\n",
       "      <td>0.429595</td>\n",
       "      <td>0.201297</td>\n",
       "      <td>...</td>\n",
       "      <td>0.450342</td>\n",
       "      <td>0.499622</td>\n",
       "      <td>0.181380</td>\n",
       "      <td>0.145015</td>\n",
       "      <td>0.562668</td>\n",
       "      <td>0.457537</td>\n",
       "      <td>1.000000</td>\n",
       "      <td>0.825310</td>\n",
       "      <td>0.843060</td>\n",
       "      <td>0.804697</td>\n",
       "    </tr>\n",
       "    <tr>\n",
       "      <th>F21S</th>\n",
       "      <td>-0.233921</td>\n",
       "      <td>0.097360</td>\n",
       "      <td>0.073545</td>\n",
       "      <td>0.116902</td>\n",
       "      <td>0.169305</td>\n",
       "      <td>0.464465</td>\n",
       "      <td>0.695800</td>\n",
       "      <td>0.228189</td>\n",
       "      <td>0.433020</td>\n",
       "      <td>0.167055</td>\n",
       "      <td>...</td>\n",
       "      <td>0.384007</td>\n",
       "      <td>0.465191</td>\n",
       "      <td>0.064396</td>\n",
       "      <td>0.033315</td>\n",
       "      <td>0.432455</td>\n",
       "      <td>0.436756</td>\n",
       "      <td>0.825310</td>\n",
       "      <td>1.000000</td>\n",
       "      <td>0.766514</td>\n",
       "      <td>0.873341</td>\n",
       "    </tr>\n",
       "    <tr>\n",
       "      <th>F22R</th>\n",
       "      <td>-0.224858</td>\n",
       "      <td>0.021205</td>\n",
       "      <td>0.016101</td>\n",
       "      <td>0.057365</td>\n",
       "      <td>0.103953</td>\n",
       "      <td>0.421015</td>\n",
       "      <td>0.491006</td>\n",
       "      <td>0.079135</td>\n",
       "      <td>0.277691</td>\n",
       "      <td>0.082002</td>\n",
       "      <td>...</td>\n",
       "      <td>0.240843</td>\n",
       "      <td>0.291608</td>\n",
       "      <td>0.110493</td>\n",
       "      <td>0.074845</td>\n",
       "      <td>0.410297</td>\n",
       "      <td>0.356752</td>\n",
       "      <td>0.843060</td>\n",
       "      <td>0.766514</td>\n",
       "      <td>1.000000</td>\n",
       "      <td>0.875791</td>\n",
       "    </tr>\n",
       "    <tr>\n",
       "      <th>F22S</th>\n",
       "      <td>-0.213390</td>\n",
       "      <td>0.050646</td>\n",
       "      <td>0.083307</td>\n",
       "      <td>0.084343</td>\n",
       "      <td>0.129407</td>\n",
       "      <td>0.398157</td>\n",
       "      <td>0.594700</td>\n",
       "      <td>0.160490</td>\n",
       "      <td>0.354779</td>\n",
       "      <td>0.133144</td>\n",
       "      <td>...</td>\n",
       "      <td>0.295192</td>\n",
       "      <td>0.366945</td>\n",
       "      <td>0.096838</td>\n",
       "      <td>0.090395</td>\n",
       "      <td>0.406359</td>\n",
       "      <td>0.387138</td>\n",
       "      <td>0.804697</td>\n",
       "      <td>0.873341</td>\n",
       "      <td>0.875791</td>\n",
       "      <td>1.000000</td>\n",
       "    </tr>\n",
       "  </tbody>\n",
       "</table>\n",
       "<p>45 rows × 45 columns</p>\n",
       "</div>"
      ],
      "text/plain": [
       "          target       F1R       F1S       F2R       F2S       F3R       F3S  \\\n",
       "target  1.000000 -0.033205 -0.072310 -0.047347 -0.100783 -0.162407 -0.218370   \n",
       "F1R    -0.033205  1.000000  0.601643  0.380365  0.376806  0.184712  0.208528   \n",
       "F1S    -0.072310  0.601643  1.000000  0.271874  0.455517  0.055241  0.317336   \n",
       "F2R    -0.047347  0.380365  0.271874  1.000000  0.601705  0.166304  0.149028   \n",
       "F2S    -0.100783  0.376806  0.455517  0.601705  1.000000  0.094517  0.226083   \n",
       "F3R    -0.162407  0.184712  0.055241  0.166304  0.094517  1.000000  0.710749   \n",
       "F3S    -0.218370  0.208528  0.317336  0.149028  0.226083  0.710749  1.000000   \n",
       "F4R    -0.084463  0.599774  0.415818  0.300404  0.239487  0.262919  0.350626   \n",
       "F4S    -0.117129  0.424983  0.519327  0.141069  0.233756  0.394523  0.656415   \n",
       "F5R    -0.109763  0.549938  0.455041  0.246003  0.310953  0.231966  0.251063   \n",
       "F5S    -0.111054  0.411568  0.629239  0.216476  0.359562  0.184040  0.342526   \n",
       "F6R    -0.047473  0.362452  0.352332  0.480868  0.416843  0.014061  0.155800   \n",
       "F6S    -0.090615  0.223068  0.492800  0.301811  0.528861  0.048362  0.193961   \n",
       "F7R    -0.094505  0.058007  0.010139  0.235419  0.236616  0.412879  0.449601   \n",
       "F7S    -0.163484  0.077972  0.080726  0.273595  0.399704  0.313565  0.413405   \n",
       "F8R    -0.167806  0.137556 -0.002768  0.068265 -0.021801  0.607831  0.683897   \n",
       "F8S    -0.157609  0.191406  0.127364  0.035067  0.104415  0.516344  0.721371   \n",
       "F9R    -0.065156  0.458335  0.323507  0.191073  0.121042  0.253921  0.366321   \n",
       "F9S    -0.051781  0.408751  0.391826  0.129143  0.065483  0.190019  0.361172   \n",
       "F10R   -0.111721  0.149477  0.146654  0.095347  0.177832  0.243346  0.266906   \n",
       "F10S   -0.068210  0.206677  0.294343 -0.003524  0.277323  0.128568  0.217948   \n",
       "F11R   -0.084087  0.176174  0.105505  0.186116  0.224738  0.085105  0.098935   \n",
       "F11S   -0.043544  0.070438  0.143450  0.114622  0.237416  0.065128  0.213460   \n",
       "F12R   -0.111261  0.073001 -0.000075  0.098451  0.195886  0.303395  0.339543   \n",
       "F12S   -0.108912  0.084748  0.107356  0.110760  0.320427  0.285881  0.383671   \n",
       "F13R   -0.187924  0.109477  0.046546  0.075274  0.160371  0.508444  0.611147   \n",
       "F13S   -0.204077  0.048005  0.055046  0.095392  0.134620  0.455460  0.617017   \n",
       "F14R   -0.043510  0.184299  0.133945  0.051877  0.084945  0.142679  0.244602   \n",
       "F14S   -0.022509  0.063172  0.151532  0.000072 -0.038621  0.061674  0.270608   \n",
       "F15R   -0.112002  0.475034  0.477081  0.340808  0.317019  0.335914  0.481531   \n",
       "F15S   -0.124314  0.349917  0.508655  0.193685  0.370036  0.293423  0.563642   \n",
       "F16R   -0.052769  0.181529  0.180045  0.467834  0.467341  0.146720  0.287892   \n",
       "F16S   -0.120838  0.160883  0.229487  0.267551  0.632300  0.103677  0.301457   \n",
       "F17R   -0.084401  0.028626  0.005113  0.284240  0.280456  0.068978  0.101773   \n",
       "F17S   -0.121160 -0.089392  0.025522  0.042401  0.377947  0.073255  0.161762   \n",
       "F18R   -0.103840  0.422417  0.377079  0.188291  0.178453  0.349090  0.483734   \n",
       "F18S   -0.122409  0.330402  0.418680  0.139054  0.202181  0.299781  0.581697   \n",
       "F19R   -0.060936  0.317041  0.299668  0.287469  0.155147 -0.022380  0.020715   \n",
       "F19S   -0.069405  0.255071  0.517828  0.195695  0.309793 -0.110333  0.096611   \n",
       "F20R   -0.158235  0.451074  0.396013  0.288137  0.263244  0.367660  0.455714   \n",
       "F20S   -0.180498  0.327409  0.488027  0.223436  0.379087  0.225666  0.473037   \n",
       "F21R   -0.201578  0.089097  0.088510  0.147974  0.137220  0.503053  0.638465   \n",
       "F21S   -0.233921  0.097360  0.073545  0.116902  0.169305  0.464465  0.695800   \n",
       "F22R   -0.224858  0.021205  0.016101  0.057365  0.103953  0.421015  0.491006   \n",
       "F22S   -0.213390  0.050646  0.083307  0.084343  0.129407  0.398157  0.594700   \n",
       "\n",
       "             F4R       F4S       F5R  ...      F18R      F18S      F19R  \\\n",
       "target -0.084463 -0.117129 -0.109763  ... -0.103840 -0.122409 -0.060936   \n",
       "F1R     0.599774  0.424983  0.549938  ...  0.422417  0.330402  0.317041   \n",
       "F1S     0.415818  0.519327  0.455041  ...  0.377079  0.418680  0.299668   \n",
       "F2R     0.300404  0.141069  0.246003  ...  0.188291  0.139054  0.287469   \n",
       "F2S     0.239487  0.233756  0.310953  ...  0.178453  0.202181  0.155147   \n",
       "F3R     0.262919  0.394523  0.231966  ...  0.349090  0.299781 -0.022380   \n",
       "F3S     0.350626  0.656415  0.251063  ...  0.483734  0.581697  0.020715   \n",
       "F4R     1.000000  0.679731  0.595992  ...  0.676583  0.551457  0.428249   \n",
       "F4S     0.679731  1.000000  0.379337  ...  0.701032  0.764119  0.210451   \n",
       "F5R     0.595992  0.379337  1.000000  ...  0.544854  0.423605  0.462315   \n",
       "F5S     0.433502  0.467883  0.732307  ...  0.508418  0.558727  0.357790   \n",
       "F6R     0.283484  0.167293  0.513272  ...  0.248555  0.210022  0.309989   \n",
       "F6S     0.142858  0.170910  0.383146  ...  0.204636  0.266963  0.212544   \n",
       "F7R     0.014356  0.161190  0.223761  ...  0.121807  0.202330  0.036496   \n",
       "F7S    -0.070463  0.120979  0.093649  ...  0.022109  0.154583 -0.059661   \n",
       "F8R     0.337675  0.484067  0.289845  ...  0.509739  0.520401  0.113823   \n",
       "F8S     0.402211  0.569532  0.366099  ...  0.517237  0.587998  0.053133   \n",
       "F9R     0.728703  0.610022  0.624651  ...  0.787758  0.635253  0.335778   \n",
       "F9S     0.679313  0.670467  0.620590  ...  0.753608  0.731166  0.283464   \n",
       "F10R    0.229514  0.232139  0.407593  ...  0.326238  0.231161  0.315123   \n",
       "F10S    0.197694  0.212159  0.371018  ...  0.205014  0.239327  0.175691   \n",
       "F11R    0.212308  0.117100  0.248924  ...  0.206767  0.068176  0.262334   \n",
       "F11S    0.058148  0.155294  0.129082  ...  0.064747  0.233950  0.081800   \n",
       "F12R    0.041168  0.116482  0.172805  ...  0.188692  0.149425  0.009740   \n",
       "F12S    0.016577  0.142162  0.132665  ...  0.053097  0.130453 -0.091065   \n",
       "F13R    0.179831  0.360461  0.231789  ...  0.408535  0.438838 -0.010572   \n",
       "F13S    0.168893  0.337529  0.170231  ...  0.360767  0.445586 -0.067877   \n",
       "F14R    0.426706  0.335635  0.323787  ...  0.572216  0.452694  0.226214   \n",
       "F14S    0.308243  0.358045  0.134475  ...  0.463986  0.562198  0.083665   \n",
       "F15R    0.500615  0.677039  0.442269  ...  0.725464  0.747866  0.309171   \n",
       "F15S    0.459927  0.686115  0.404127  ...  0.681963  0.763262  0.207435   \n",
       "F16R    0.102273  0.150175  0.193968  ...  0.231163  0.275102  0.231934   \n",
       "F16S    0.144612  0.160252  0.249272  ...  0.168899  0.212683  0.081786   \n",
       "F17R   -0.050372 -0.047628  0.046694  ...  0.075864 -0.004497  0.114701   \n",
       "F17S   -0.019498 -0.023591  0.153417  ... -0.012974 -0.058317 -0.038718   \n",
       "F18R    0.676583  0.701032  0.544854  ...  1.000000  0.842960  0.358811   \n",
       "F18S    0.551457  0.764119  0.423605  ...  0.842960  1.000000  0.281492   \n",
       "F19R    0.428249  0.210451  0.462315  ...  0.358811  0.281492  1.000000   \n",
       "F19S    0.254531  0.310271  0.368660  ...  0.246752  0.382279  0.674086   \n",
       "F20R    0.644387  0.663214  0.501115  ...  0.695356  0.662307  0.446118   \n",
       "F20S    0.468698  0.641950  0.367761  ...  0.594169  0.664132  0.279254   \n",
       "F21R    0.213282  0.429595  0.201297  ...  0.450342  0.499622  0.181380   \n",
       "F21S    0.228189  0.433020  0.167055  ...  0.384007  0.465191  0.064396   \n",
       "F22R    0.079135  0.277691  0.082002  ...  0.240843  0.291608  0.110493   \n",
       "F22S    0.160490  0.354779  0.133144  ...  0.295192  0.366945  0.096838   \n",
       "\n",
       "            F19S      F20R      F20S      F21R      F21S      F22R      F22S  \n",
       "target -0.069405 -0.158235 -0.180498 -0.201578 -0.233921 -0.224858 -0.213390  \n",
       "F1R     0.255071  0.451074  0.327409  0.089097  0.097360  0.021205  0.050646  \n",
       "F1S     0.517828  0.396013  0.488027  0.088510  0.073545  0.016101  0.083307  \n",
       "F2R     0.195695  0.288137  0.223436  0.147974  0.116902  0.057365  0.084343  \n",
       "F2S     0.309793  0.263244  0.379087  0.137220  0.169305  0.103953  0.129407  \n",
       "F3R    -0.110333  0.367660  0.225666  0.503053  0.464465  0.421015  0.398157  \n",
       "F3S     0.096611  0.455714  0.473037  0.638465  0.695800  0.491006  0.594700  \n",
       "F4R     0.254531  0.644387  0.468698  0.213282  0.228189  0.079135  0.160490  \n",
       "F4S     0.310271  0.663214  0.641950  0.429595  0.433020  0.277691  0.354779  \n",
       "F5R     0.368660  0.501115  0.367761  0.201297  0.167055  0.082002  0.133144  \n",
       "F5S     0.533496  0.438632  0.478267  0.183461  0.157382  0.067388  0.143466  \n",
       "F6R     0.294629  0.275308  0.204811  0.209232  0.149294  0.087325  0.105234  \n",
       "F6S     0.430263  0.211264  0.266233  0.238065  0.158303  0.160426  0.136603  \n",
       "F7R    -0.025844  0.168704  0.155107  0.507012  0.476758  0.425277  0.443246  \n",
       "F7S     0.041232  0.202165  0.259720  0.397412  0.428398  0.327583  0.378936  \n",
       "F8R    -0.065975  0.416179  0.300471  0.676021  0.634999  0.548870  0.584412  \n",
       "F8S     0.015059  0.418438  0.367194  0.624444  0.711478  0.511790  0.613654  \n",
       "F9R     0.172766  0.604673  0.509175  0.264030  0.267452  0.098887  0.183893  \n",
       "F9S     0.262214  0.584154  0.511546  0.245127  0.265853  0.105248  0.193943  \n",
       "F10R    0.184364  0.262204  0.180801  0.252550  0.198666  0.147478  0.156766  \n",
       "F10S    0.393686  0.188403  0.228885  0.120615  0.153822  0.041276  0.093277  \n",
       "F11R    0.103251  0.239743  0.100146  0.266331  0.216225  0.160724  0.193756  \n",
       "F11S    0.296464  0.112877  0.159502  0.225925  0.216177  0.116491  0.153867  \n",
       "F12R   -0.064832  0.287414  0.268739  0.482364  0.441902  0.445092  0.451131  \n",
       "F12S   -0.002913  0.242906  0.316828  0.425397  0.478359  0.411627  0.479093  \n",
       "F13R   -0.056757  0.365156  0.315804  0.749880  0.718895  0.700251  0.713997  \n",
       "F13S   -0.070443  0.337249  0.307254  0.678193  0.739152  0.644269  0.737132  \n",
       "F14R    0.047707  0.418879  0.283795  0.305375  0.287784  0.158638  0.206808  \n",
       "F14S    0.094660  0.275077  0.261332  0.214276  0.260831  0.051633  0.131416  \n",
       "F15R    0.370918  0.788190  0.758597  0.446901  0.351483  0.283653  0.286250  \n",
       "F15S    0.394448  0.721135  0.854704  0.446524  0.425297  0.321137  0.350515  \n",
       "F16R    0.225429  0.302938  0.275504  0.355327  0.295247  0.240488  0.297763  \n",
       "F16S    0.191912  0.222136  0.284238  0.325833  0.395248  0.291633  0.352994  \n",
       "F17R   -0.011653  0.069145  0.003710  0.214398  0.143403  0.295282  0.262840  \n",
       "F17S    0.047701  0.076926  0.143236  0.214023  0.302249  0.318296  0.344509  \n",
       "F18R    0.246752  0.695356  0.594169  0.450342  0.384007  0.240843  0.295192  \n",
       "F18S    0.382279  0.662307  0.664132  0.499622  0.465191  0.291608  0.366945  \n",
       "F19R    0.674086  0.446118  0.279254  0.181380  0.064396  0.110493  0.096838  \n",
       "F19S    1.000000  0.408375  0.475416  0.145015  0.033315  0.074845  0.090395  \n",
       "F20R    0.408375  1.000000  0.823848  0.562668  0.432455  0.410297  0.406359  \n",
       "F20S    0.475416  0.823848  1.000000  0.457537  0.436756  0.356752  0.387138  \n",
       "F21R    0.145015  0.562668  0.457537  1.000000  0.825310  0.843060  0.804697  \n",
       "F21S    0.033315  0.432455  0.436756  0.825310  1.000000  0.766514  0.873341  \n",
       "F22R    0.074845  0.410297  0.356752  0.843060  0.766514  1.000000  0.875791  \n",
       "F22S    0.090395  0.406359  0.387138  0.804697  0.873341  0.875791  1.000000  \n",
       "\n",
       "[45 rows x 45 columns]"
      ]
     },
     "execution_count": 79,
     "metadata": {},
     "output_type": "execute_result"
    }
   ],
   "source": [
    "correlation"
   ]
  },
  {
   "cell_type": "code",
   "execution_count": 80,
   "metadata": {},
   "outputs": [
    {
     "data": {
      "text/plain": [
       "array([[<matplotlib.axes._subplots.AxesSubplot object at 0x0000022303971978>,\n",
       "        <matplotlib.axes._subplots.AxesSubplot object at 0x0000022303AE4198>,\n",
       "        <matplotlib.axes._subplots.AxesSubplot object at 0x0000022303B0F7B8>,\n",
       "        <matplotlib.axes._subplots.AxesSubplot object at 0x0000022303B3CE10>,\n",
       "        <matplotlib.axes._subplots.AxesSubplot object at 0x0000022303B734A8>],\n",
       "       [<matplotlib.axes._subplots.AxesSubplot object at 0x0000022303B9DB00>,\n",
       "        <matplotlib.axes._subplots.AxesSubplot object at 0x0000022303BDB198>,\n",
       "        <matplotlib.axes._subplots.AxesSubplot object at 0x0000022303C0B7B8>,\n",
       "        <matplotlib.axes._subplots.AxesSubplot object at 0x0000022303C0B828>,\n",
       "        <matplotlib.axes._subplots.AxesSubplot object at 0x00000223049684E0>],\n",
       "       [<matplotlib.axes._subplots.AxesSubplot object at 0x0000022304999B38>,\n",
       "        <matplotlib.axes._subplots.AxesSubplot object at 0x00000223049D91D0>,\n",
       "        <matplotlib.axes._subplots.AxesSubplot object at 0x0000022304A08828>,\n",
       "        <matplotlib.axes._subplots.AxesSubplot object at 0x0000022304A39E80>,\n",
       "        <matplotlib.axes._subplots.AxesSubplot object at 0x0000022304A78518>],\n",
       "       [<matplotlib.axes._subplots.AxesSubplot object at 0x0000022304AA7B70>,\n",
       "        <matplotlib.axes._subplots.AxesSubplot object at 0x0000022304AE5208>,\n",
       "        <matplotlib.axes._subplots.AxesSubplot object at 0x0000022304B15860>,\n",
       "        <matplotlib.axes._subplots.AxesSubplot object at 0x0000022304B49EB8>,\n",
       "        <matplotlib.axes._subplots.AxesSubplot object at 0x0000022304B80B70>],\n",
       "       [<matplotlib.axes._subplots.AxesSubplot object at 0x0000022304BBD320>,\n",
       "        <matplotlib.axes._subplots.AxesSubplot object at 0x0000022304BE9A90>,\n",
       "        <matplotlib.axes._subplots.AxesSubplot object at 0x0000022304C26240>,\n",
       "        <matplotlib.axes._subplots.AxesSubplot object at 0x0000022304C549B0>,\n",
       "        <matplotlib.axes._subplots.AxesSubplot object at 0x0000022304C90160>],\n",
       "       [<matplotlib.axes._subplots.AxesSubplot object at 0x0000022304CBE8D0>,\n",
       "        <matplotlib.axes._subplots.AxesSubplot object at 0x0000022304CFE080>,\n",
       "        <matplotlib.axes._subplots.AxesSubplot object at 0x0000022304D297F0>,\n",
       "        <matplotlib.axes._subplots.AxesSubplot object at 0x0000022304D5AF60>,\n",
       "        <matplotlib.axes._subplots.AxesSubplot object at 0x0000022304D96710>],\n",
       "       [<matplotlib.axes._subplots.AxesSubplot object at 0x0000022304DC7E80>,\n",
       "        <matplotlib.axes._subplots.AxesSubplot object at 0x0000022304E01630>,\n",
       "        <matplotlib.axes._subplots.AxesSubplot object at 0x0000022304E33DA0>,\n",
       "        <matplotlib.axes._subplots.AxesSubplot object at 0x0000022304E6C550>,\n",
       "        <matplotlib.axes._subplots.AxesSubplot object at 0x0000022304E9ACC0>],\n",
       "       [<matplotlib.axes._subplots.AxesSubplot object at 0x0000022304ED4470>,\n",
       "        <matplotlib.axes._subplots.AxesSubplot object at 0x0000022304F04BE0>,\n",
       "        <matplotlib.axes._subplots.AxesSubplot object at 0x0000022304F42390>,\n",
       "        <matplotlib.axes._subplots.AxesSubplot object at 0x0000022304F71B00>,\n",
       "        <matplotlib.axes._subplots.AxesSubplot object at 0x0000022304FAC2B0>],\n",
       "       [<matplotlib.axes._subplots.AxesSubplot object at 0x0000022304FDBA20>,\n",
       "        <matplotlib.axes._subplots.AxesSubplot object at 0x00000223050171D0>,\n",
       "        <matplotlib.axes._subplots.AxesSubplot object at 0x0000022305045940>,\n",
       "        <matplotlib.axes._subplots.AxesSubplot object at 0x00000223050820F0>,\n",
       "        <matplotlib.axes._subplots.AxesSubplot object at 0x00000223050B1860>]],\n",
       "      dtype=object)"
      ]
     },
     "execution_count": 80,
     "metadata": {},
     "output_type": "execute_result"
    },
    {
     "data": {
      "image/png": "[encoded data removed]",
      "text/plain": [
       "<Figure size 864x2160 with 45 Axes>"
      ]
     },
     "metadata": {},
     "output_type": "display_data"
    }
   ],
   "source": [
    "spectf_df.hist(bins=10, figsize=(12,30), layout=(9,5))"
   ]
  },
  {
   "cell_type": "markdown",
   "metadata": {},
   "source": [
    "A lot of histogram has same range and follows normal distribution."
   ]
  },
  {
   "cell_type": "markdown",
   "metadata": {},
   "source": [
    "### 4. Splitting labels and features   <a id='split'>"
   ]
  },
  {
   "cell_type": "code",
   "execution_count": 81,
   "metadata": {},
   "outputs": [],
   "source": [
    "target = spectf_df['target']\n",
    "spectf_df.drop('target', axis = 1, inplace = True)"
   ]
  },
  {
   "cell_type": "code",
   "execution_count": 82,
   "metadata": {},
   "outputs": [
    {
     "data": {
      "text/plain": [
       "(187, 44)"
      ]
     },
     "execution_count": 82,
     "metadata": {},
     "output_type": "execute_result"
    }
   ],
   "source": [
    "spectf_df.shape"
   ]
  },
  {
   "cell_type": "code",
   "execution_count": 83,
   "metadata": {},
   "outputs": [],
   "source": [
    "target_t = spectf_test['target']\n",
    "spectf_test.drop('target', axis=1, inplace=True)"
   ]
  },
  {
   "cell_type": "code",
   "execution_count": 84,
   "metadata": {},
   "outputs": [
    {
     "data": {
      "text/plain": [
       "(80, 44)"
      ]
     },
     "execution_count": 84,
     "metadata": {},
     "output_type": "execute_result"
    }
   ],
   "source": [
    "spectf_test.shape"
   ]
  },
  {
   "cell_type": "code",
   "execution_count": 85,
   "metadata": {},
   "outputs": [
    {
     "data": {
      "text/plain": [
       "1    40\n",
       "0    40\n",
       "Name: target, dtype: int64"
      ]
     },
     "execution_count": 85,
     "metadata": {},
     "output_type": "execute_result"
    }
   ],
   "source": [
    "target_t.value_counts()"
   ]
  },
  {
   "cell_type": "markdown",
   "metadata": {},
   "source": [
    "### 5. Normalizing the input columns   <a id='normalize'>\n",
    "Most of the distribution of columns follow normal distribution. Hence we can scale them using Standard Scaler to preprocess the data.\n",
    "\n",
    "Standard Scaler standardize features by removing the mean and scaling to unit variance.<br>\n",
    "Each value is reduced using the following formula\n",
    "$$ z = \\frac {x - \\mu}{\\sigma}  $$\n",
    "Where x is the value,  <br>\n",
    "$\\mu$ is the mean of that columns,  <br>\n",
    "$\\sigma$ is the standard deviation of that columns."
   ]
  },
  {
   "cell_type": "code",
   "execution_count": 156,
   "metadata": {},
   "outputs": [],
   "source": [
    "#Scaling the train and test data\n",
    "\n",
    "from sklearn.preprocessing import StandardScaler\n",
    "scaler = StandardScaler()\n",
    "spect_df = scaler.fit_transform(spectf_df)\n",
    "#spect_test = scaler.fit_transform(spectf_test)\n",
    "spect_test = scaler.transform(spectf_test)"
   ]
  },
  {
   "cell_type": "code",
   "execution_count": 157,
   "metadata": {},
   "outputs": [
    {
     "data": {
      "text/plain": [
       "array([[ 0.20940529,  0.41596002,  0.68734602, ...,  0.96547463,\n",
       "         0.59118869,  1.28968911],\n",
       "       [ 1.10446332,  1.00822796,  0.39455854, ..., -0.02516326,\n",
       "         0.44098178,  0.22637971],\n",
       "       [ 1.99952135,  0.02111472, -0.33741018, ...,  0.34632595,\n",
       "        -0.61046658, -0.43818867],\n",
       "       ...,\n",
       "       [ 1.10446332,  0.90951664,  0.54095228, ...,  1.0273895 ,\n",
       "         1.19201632,  1.48905963],\n",
       "       [-0.68565274, -0.17630793,  0.54095228, ...,  1.08930437,\n",
       "         1.41732668,  1.42260279],\n",
       "       [-0.12624147,  0.21853737, -0.04462269, ...,  0.34632595,\n",
       "         0.44098178,  0.35929338]])"
      ]
     },
     "execution_count": 157,
     "metadata": {},
     "output_type": "execute_result"
    }
   ],
   "source": [
    "spect_df"
   ]
  },
  {
   "cell_type": "code",
   "execution_count": 158,
   "metadata": {},
   "outputs": [
    {
     "data": {
      "text/plain": [
       "array([65.12834225, 63.78609626, 68.30481283, 68.32085561, 63.81818182,\n",
       "       62.37433155, 69.35294118, 68.53475936, 62.83957219, 61.4973262 ,\n",
       "       70.56684492, 69.97326203, 66.47058824, 66.41176471, 60.24064171,\n",
       "       58.7540107 , 66.63636364, 66.02139037, 66.14973262, 64.63636364,\n",
       "       73.95187166, 71.78074866, 66.89304813, 65.86631016, 56.9197861 ,\n",
       "       54.37967914, 63.56149733, 61.7540107 , 60.20320856, 58.80748663,\n",
       "       70.47058824, 69.72727273, 60.35294118, 60.19251337, 63.35828877,\n",
       "       61.69518717, 65.09090909, 63.85026738, 64.39037433, 62.18716578,\n",
       "       60.77005348, 58.40641711, 51.12834225, 48.59358289])"
      ]
     },
     "execution_count": 158,
     "metadata": {},
     "output_type": "execute_result"
    }
   ],
   "source": [
    "scaler.mean_"
   ]
  },
  {
   "cell_type": "code",
   "execution_count": 159,
   "metadata": {},
   "outputs": [
    {
     "data": {
      "text/plain": [
       "array([ 79.88727158, 102.62804198,  46.66109983,  81.40507306,\n",
       "        91.07924161, 100.84383311,  90.02516515, 112.05627842,\n",
       "        91.76035918,  96.94518002,  41.30435529,  69.60891075,\n",
       "        69.23309217,  68.69141239, 107.54102205, 145.87531814,\n",
       "       114.76616432, 118.89793817,  67.88132346,  72.27418571,\n",
       "        45.22228259,  61.10166147,  80.18107467,  91.80565644,\n",
       "       186.06308445, 215.88258172,  95.32643198, 123.19082616,\n",
       "       146.89988275, 202.64743058,  39.94966971,  80.56198347,\n",
       "        48.01446996,  66.30518459,  74.82884841, 143.84826561,\n",
       "        63.3553719 ,  83.66741971, 174.40910521, 186.46229518,\n",
       "       239.48188395, 260.8615631 , 177.2883411 , 226.42306042])"
      ]
     },
     "execution_count": 159,
     "metadata": {},
     "output_type": "execute_result"
    }
   ],
   "source": [
    "scaler.var_"
   ]
  },
  {
   "cell_type": "code",
   "execution_count": 160,
   "metadata": {},
   "outputs": [
    {
     "data": {
      "text/plain": [
       "array([[-0.68565274, -1.16342117,  0.24816479, ...,  0.96547463,\n",
       "         0.96670596,  1.22323227],\n",
       "       [ 0.76881656, -0.17630793,  0.10177105, ...,  0.77973003,\n",
       "         0.36587833,  0.62512074],\n",
       "       [ 0.6569343 , -0.17630793,  0.24816479, ..., -1.07771602,\n",
       "        -0.00963895, -0.17236132],\n",
       "       ...,\n",
       "       [ 0.20940529,  0.02111472,  0.68734602, ...,  1.33696384,\n",
       "         1.19201632,  1.28968911],\n",
       "       [ 0.32128754,  0.11982605,  0.54095228, ..., -0.148993  ,\n",
       "         0.51608523, -0.30527499],\n",
       "       [ 0.09752303, -0.96599852,  0.10177105, ...,  0.59398542,\n",
       "         0.59118869,  0.69157757]])"
      ]
     },
     "execution_count": 160,
     "metadata": {},
     "output_type": "execute_result"
    }
   ],
   "source": [
    "spect_test"
   ]
  },
  {
   "cell_type": "markdown",
   "metadata": {},
   "source": [
    "### 6. Logistic Regression   <a id='lr'>"
   ]
  },
  {
   "cell_type": "code",
   "execution_count": 161,
   "metadata": {},
   "outputs": [
    {
     "name": "stdout",
     "output_type": "stream",
     "text": [
      "Time taken to train Logistic Regression:  0.011965513229370117\n"
     ]
    }
   ],
   "source": [
    "# train a logistic regression model on the training set\n",
    "from sklearn.linear_model import LogisticRegression\n",
    "\n",
    "# instantiate model\n",
    "logreg = LogisticRegression(C=1e5, max_iter=1000, class_weight='balanced')  \n",
    "\n",
    "# Start time\n",
    "start = time.time()\n",
    "# fit model\n",
    "logreg.fit(spect_df, target)\n",
    "# End time\n",
    "end = time.time()\n",
    "\n",
    "training_time = end-start\n",
    "print(\"Time taken to train Logistic Regression: \", training_time)"
   ]
  },
  {
   "cell_type": "code",
   "execution_count": 162,
   "metadata": {},
   "outputs": [],
   "source": [
    "# make class predictions for the testing set\n",
    "y_pred_class = logreg.predict(spect_test)"
   ]
  },
  {
   "cell_type": "code",
   "execution_count": 163,
   "metadata": {},
   "outputs": [
    {
     "name": "stdout",
     "output_type": "stream",
     "text": [
      "0.5875\n"
     ]
    }
   ],
   "source": [
    "# calculate accuracy and other metrics\n",
    "from sklearn import metrics\n",
    "\n",
    "print(metrics.accuracy_score(target_t, y_pred_class))"
   ]
  },
  {
   "cell_type": "code",
   "execution_count": 164,
   "metadata": {},
   "outputs": [
    {
     "name": "stdout",
     "output_type": "stream",
     "text": [
      "              precision    recall  f1-score   support\n",
      "\n",
      "           0       0.64      0.40      0.49        40\n",
      "           1       0.56      0.78      0.65        40\n",
      "\n",
      "   micro avg       0.59      0.59      0.59        80\n",
      "   macro avg       0.60      0.59      0.57        80\n",
      "weighted avg       0.60      0.59      0.57        80\n",
      "\n"
     ]
    }
   ],
   "source": [
    "print (metrics.classification_report(target_t, y_pred_class))"
   ]
  },
  {
   "cell_type": "code",
   "execution_count": 165,
   "metadata": {},
   "outputs": [
    {
     "name": "stdout",
     "output_type": "stream",
     "text": [
      "[[16 24]\n",
      " [ 9 31]]\n"
     ]
    }
   ],
   "source": [
    "print(metrics.confusion_matrix(target_t,y_pred_class))"
   ]
  },
  {
   "cell_type": "code",
   "execution_count": 166,
   "metadata": {},
   "outputs": [
    {
     "data": {
      "text/plain": [
       "1    172\n",
       "0     15\n",
       "Name: target, dtype: int64"
      ]
     },
     "execution_count": 166,
     "metadata": {},
     "output_type": "execute_result"
    }
   ],
   "source": [
    "target.value_counts()    # Null Accuracy"
   ]
  },
  {
   "cell_type": "markdown",
   "metadata": {},
   "source": [
    "### Applying PCA to logistic regression model   <a id='pcalr'>"
   ]
  },
  {
   "cell_type": "code",
   "execution_count": 167,
   "metadata": {},
   "outputs": [
    {
     "data": {
      "text/plain": [
       "PCA(copy=True, iterated_power='auto', n_components=None, random_state=None,\n",
       "  svd_solver='auto', tol=0.0, whiten=False)"
      ]
     },
     "execution_count": 167,
     "metadata": {},
     "output_type": "execute_result"
    }
   ],
   "source": [
    "# Fitting the PCA on the data\n",
    "\n",
    "from sklearn.decomposition import PCA\n",
    "pca = PCA()\n",
    "pca.fit(spect_df)"
   ]
  },
  {
   "cell_type": "code",
   "execution_count": 168,
   "metadata": {},
   "outputs": [
    {
     "data": {
      "text/plain": [
       "array([[-0.11996681, -0.12479925, -0.08948385, ..., -0.1880824 ,\n",
       "        -0.15196636, -0.17083357],\n",
       "       [-0.17769274, -0.1913285 , -0.03660356, ...,  0.18124222,\n",
       "         0.21123126,  0.20342982],\n",
       "       [-0.09942534, -0.1593253 , -0.21148644, ...,  0.12396717,\n",
       "         0.09812765,  0.1036532 ],\n",
       "       ...,\n",
       "       [-0.14041787,  0.10898007, -0.00995677, ...,  0.25701764,\n",
       "        -0.01590751, -0.05663753],\n",
       "       [ 0.01592636, -0.03068441,  0.01762179, ..., -0.25061049,\n",
       "        -0.24475524,  0.35592682],\n",
       "       [-0.00610308,  0.03089461,  0.08121487, ...,  0.06576717,\n",
       "        -0.01677834,  0.06555894]])"
      ]
     },
     "execution_count": 168,
     "metadata": {},
     "output_type": "execute_result"
    }
   ],
   "source": [
    "pca.components_"
   ]
  },
  {
   "cell_type": "code",
   "execution_count": 169,
   "metadata": {},
   "outputs": [
    {
     "data": {
      "text/plain": [
       "0.884860924850471"
      ]
     },
     "execution_count": 169,
     "metadata": {},
     "output_type": "execute_result"
    }
   ],
   "source": [
    "# Minimum number of components for which the variance is 90% is 15\n",
    "\n",
    "pca.explained_variance_ratio_[:15].sum()"
   ]
  },
  {
   "cell_type": "code",
   "execution_count": 170,
   "metadata": {},
   "outputs": [
    {
     "data": {
      "text/plain": [
       "Text(15, 0.9, '15')"
      ]
     },
     "execution_count": 170,
     "metadata": {},
     "output_type": "execute_result"
    },
    {
     "data": {
      "image/png": "[encoded data removed]",
      "text/plain": [
       "<Figure size 432x288 with 1 Axes>"
      ]
     },
     "metadata": {},
     "output_type": "display_data"
    }
   ],
   "source": [
    "#plotting the relation between components and variance\n",
    "\n",
    "plt.plot(np.cumsum(pca.explained_variance_ratio_))\n",
    "plt.xlabel('Number of Components')\n",
    "plt.ylabel('Cumulative explained variance')\n",
    "plt.annotate('15', xy=(15,.90))"
   ]
  },
  {
   "cell_type": "code",
   "execution_count": 171,
   "metadata": {},
   "outputs": [],
   "source": [
    "# consider first 15 components as they are explaining the 90% of variation in the data\n",
    "\n",
    "x_pca  = PCA(n_components = 15)\n",
    "spect_df_pca = x_pca.fit_transform(spect_df)\n",
    "spect_test_pca = x_pca.transform(spect_test)"
   ]
  },
  {
   "cell_type": "code",
   "execution_count": 172,
   "metadata": {},
   "outputs": [
    {
     "data": {
      "text/plain": [
       "Text(0.5, 1.0, 'Correlation between different features')"
      ]
     },
     "execution_count": 172,
     "metadata": {},
     "output_type": "execute_result"
    },
    {
     "data": {
      "image/png": "[encoded data removed]",
      "text/plain": [
       "<Figure size 432x288 with 2 Axes>"
      ]
     },
     "metadata": {},
     "output_type": "display_data"
    }
   ],
   "source": [
    "# correlation between the variables after transforming the data with PCA is 0\n",
    "\n",
    "correlation = pd.DataFrame(spect_df_pca).corr()\n",
    "sns.heatmap(correlation, vmax=1, square=True,cmap='viridis')\n",
    "plt.title('Correlation between different features')"
   ]
  },
  {
   "cell_type": "markdown",
   "metadata": {},
   "source": [
    "After PCA, there is no correlation among any components."
   ]
  },
  {
   "cell_type": "code",
   "execution_count": 173,
   "metadata": {},
   "outputs": [
    {
     "name": "stdout",
     "output_type": "stream",
     "text": [
      "Time required to train a Logistic Regression after PCA:  0.002987384796142578\n"
     ]
    }
   ],
   "source": [
    "#train a logistic regression model on training set\n",
    "\n",
    "from sklearn.linear_model import LogisticRegression\n",
    "\n",
    "# Instantiate Model\n",
    "\n",
    "pca_logreg = LogisticRegression(class_weight = 'balanced')\n",
    "\n",
    "start = time.time()\n",
    "\n",
    "# fit model\n",
    "\n",
    "pca_logreg.fit(spect_df_pca, target)\n",
    "\n",
    "end = time.time()\n",
    "\n",
    "training_time = end-start\n",
    "\n",
    "print(\"Time required to train a Logistic Regression after PCA: \", training_time)"
   ]
  },
  {
   "cell_type": "markdown",
   "metadata": {},
   "source": [
    "**Observation**\n",
    "\n",
    "Here we observed that after PCA, the training time has reduced slightly. <br>\n",
    "The original dataset had 45 features to train the model.  <br>\n",
    "After PCA, we are only using 15 features which takes less time to train."
   ]
  },
  {
   "cell_type": "code",
   "execution_count": 174,
   "metadata": {},
   "outputs": [],
   "source": [
    "# make class prediction for the testing set\n",
    "\n",
    "y_pred_class_pca  = pca_logreg.predict(spect_test_pca)"
   ]
  },
  {
   "cell_type": "code",
   "execution_count": 175,
   "metadata": {},
   "outputs": [
    {
     "name": "stdout",
     "output_type": "stream",
     "text": [
      "0.7125\n"
     ]
    }
   ],
   "source": [
    "# calculate accuracy\n",
    "print(metrics.accuracy_score(target_t, y_pred_class_pca))"
   ]
  },
  {
   "cell_type": "code",
   "execution_count": 176,
   "metadata": {},
   "outputs": [
    {
     "name": "stdout",
     "output_type": "stream",
     "text": [
      "              precision    recall  f1-score   support\n",
      "\n",
      "           0       0.67      0.82      0.74        40\n",
      "           1       0.77      0.60      0.68        40\n",
      "\n",
      "   micro avg       0.71      0.71      0.71        80\n",
      "   macro avg       0.72      0.71      0.71        80\n",
      "weighted avg       0.72      0.71      0.71        80\n",
      "\n"
     ]
    }
   ],
   "source": [
    "print (metrics.classification_report(target_t, y_pred_class_pca))"
   ]
  },
  {
   "cell_type": "code",
   "execution_count": 177,
   "metadata": {},
   "outputs": [
    {
     "name": "stdout",
     "output_type": "stream",
     "text": [
      "[[33  7]\n",
      " [16 24]]\n"
     ]
    }
   ],
   "source": [
    "print(metrics.confusion_matrix(target_t,y_pred_class_pca))"
   ]
  },
  {
   "cell_type": "markdown",
   "metadata": {},
   "source": [
    "### Random Forest   <a id='rf'>"
   ]
  },
  {
   "cell_type": "code",
   "execution_count": 178,
   "metadata": {},
   "outputs": [
    {
     "name": "stdout",
     "output_type": "stream",
     "text": [
      "Time required to train Random Forest Model:  0.010969161987304688\n"
     ]
    }
   ],
   "source": [
    "from sklearn.ensemble import RandomForestClassifier\n",
    "rf_clf=RandomForestClassifier(criterion='entropy', max_depth=4, max_leaf_nodes=12, min_samples_leaf=4, min_samples_split=10,class_weight='balanced')#(max_depth = 5, min_samples_split=2, n_estimators = 20, random_state = 103)\n",
    "\n",
    "start = time.time()\n",
    "rf_model=rf_clf.fit(spect_df,target)\n",
    "end = time.time()\n",
    "training_time = end-start\n",
    "print(\"Time required to train Random Forest Model: \", training_time)\n",
    "\n",
    "rf_prediction = rf_model.predict(spect_test)"
   ]
  },
  {
   "cell_type": "code",
   "execution_count": 179,
   "metadata": {},
   "outputs": [
    {
     "name": "stdout",
     "output_type": "stream",
     "text": [
      "0.5875\n"
     ]
    }
   ],
   "source": [
    "#calculate accuracy and other metrics\n",
    "print(metrics.accuracy_score(target_t,rf_prediction))"
   ]
  },
  {
   "cell_type": "code",
   "execution_count": 180,
   "metadata": {},
   "outputs": [
    {
     "name": "stdout",
     "output_type": "stream",
     "text": [
      "              precision    recall  f1-score   support\n",
      "\n",
      "           0       0.67      0.82      0.74        40\n",
      "           1       0.77      0.60      0.68        40\n",
      "\n",
      "   micro avg       0.71      0.71      0.71        80\n",
      "   macro avg       0.72      0.71      0.71        80\n",
      "weighted avg       0.72      0.71      0.71        80\n",
      "\n"
     ]
    }
   ],
   "source": [
    "print(metrics.classification_report(target_t,y_pred_class_pca))"
   ]
  },
  {
   "cell_type": "code",
   "execution_count": 181,
   "metadata": {},
   "outputs": [
    {
     "name": "stdout",
     "output_type": "stream",
     "text": [
      "[[33  7]\n",
      " [16 24]]\n"
     ]
    }
   ],
   "source": [
    "print(metrics.confusion_matrix(target_t,y_pred_class_pca))"
   ]
  },
  {
   "cell_type": "markdown",
   "metadata": {},
   "source": [
    "### Applying PCA to Random Forest model   <a id='pcarf'>"
   ]
  },
  {
   "cell_type": "code",
   "execution_count": 182,
   "metadata": {},
   "outputs": [
    {
     "name": "stdout",
     "output_type": "stream",
     "text": [
      "Time required to train a Random Forest model after PCA is : 0.009973287582397461\n"
     ]
    }
   ],
   "source": [
    "rfClassifier=RandomForestClassifier(criterion='entropy', max_depth=4, max_leaf_nodes=12, min_samples_leaf=4, min_samples_split=10,class_weight='balanced')#(max_depth = 5, min_samples_split=2, n_estimators = 20, random_state = 103)\n",
    "\n",
    "start = time.time()\n",
    "rfClassifier.fit(spect_df_pca,target)\n",
    "end = time.time()\n",
    "training_time = end-start\n",
    "print(\"Time required to train a Random Forest model after PCA is :\", training_time)"
   ]
  },
  {
   "cell_type": "markdown",
   "metadata": {},
   "source": [
    "**Observation**\n",
    "\n",
    "Again we have observed that after PCA, the training time has reduced."
   ]
  },
  {
   "cell_type": "code",
   "execution_count": 183,
   "metadata": {},
   "outputs": [
    {
     "name": "stdout",
     "output_type": "stream",
     "text": [
      "0.675\n"
     ]
    }
   ],
   "source": [
    "# Now test the model\n",
    "# Consider first 15 components as they are explaining the 90% of variation in the data\n",
    "test_pred = rfClassifier.predict(spect_test_pca)\n",
    "#calculate accuracy and other metrics\n",
    "print(metrics.accuracy_score(target_t,test_pred))"
   ]
  },
  {
   "cell_type": "code",
   "execution_count": 184,
   "metadata": {},
   "outputs": [
    {
     "name": "stdout",
     "output_type": "stream",
     "text": [
      "              precision    recall  f1-score   support\n",
      "\n",
      "           0       0.89      0.40      0.55        40\n",
      "           1       0.61      0.95      0.75        40\n",
      "\n",
      "   micro avg       0.68      0.68      0.68        80\n",
      "   macro avg       0.75      0.68      0.65        80\n",
      "weighted avg       0.75      0.68      0.65        80\n",
      "\n"
     ]
    }
   ],
   "source": [
    "print(metrics.classification_report(target_t,test_pred))"
   ]
  },
  {
   "cell_type": "code",
   "execution_count": 185,
   "metadata": {},
   "outputs": [
    {
     "name": "stdout",
     "output_type": "stream",
     "text": [
      "[[16 24]\n",
      " [ 2 38]]\n"
     ]
    }
   ],
   "source": [
    "print(metrics.confusion_matrix(target_t,test_pred))"
   ]
  },
  {
   "cell_type": "code",
   "execution_count": null,
   "metadata": {},
   "outputs": [],
   "source": []
  }
 ],
 "metadata": {
  "kernelspec": {
   "display_name": "Python 3",
   "language": "python",
   "name": "python3"
  },
  "language_info": {
   "codemirror_mode": {
    "name": "ipython",
    "version": 3
   },
   "file_extension": ".py",
   "mimetype": "text/x-python",
   "name": "python",
   "nbconvert_exporter": "python",
   "pygments_lexer": "ipython3",
   "version": "3.7.3"
  }
 },
 "nbformat": 4,
 "nbformat_minor": 2
}
