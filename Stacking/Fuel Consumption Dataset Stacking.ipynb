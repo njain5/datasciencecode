{
 "cells": [
  {
   "cell_type": "markdown",
   "metadata": {},
   "source": [
    "# Fuel Consumption dataset"
   ]
  },
  {
   "cell_type": "markdown",
   "metadata": {},
   "source": [
    "### Dataset Description  <a id='fuel'>\n",
    "    \n",
    "**Objective**\n",
    "Our objective is to predict the fuel consumption so that we can economize the fuel consumption\n",
    "\n",
    "Columns\n",
    "\n",
    "1.Payload-Describes the loaded cargo.\n",
    "\n",
    "2.Reliability-Probability of this route to be on time according to historical data.\n",
    "\n",
    "3.Season-Describes the weather condition. 0 is good weather and 1 is bad weather\n",
    "\n",
    "4.Net-This is a discrete quantitative variable that describes the quality of the roadnet. 1 is bad quality, 2 is mediocre and 3 is good quality\n",
    "\n",
    "5.Fuel-The dependent variable. It is describing the fuel consumption of a truck when doing this route\n",
    "\n",
    "6.LoadValue-This is the value of the cargo of the truck.\n",
    "\n",
    "7.TransmissionType-Truck can have automatic or manual transmission."
   ]
  },
  {
   "cell_type": "markdown",
   "metadata": {},
   "source": [
    "### 1. Importing packages and dataset <a id='packages'>"
   ]
  },
  {
   "cell_type": "code",
   "execution_count": 1,
   "metadata": {},
   "outputs": [],
   "source": [
    "# Importing the libraries\n",
    "import numpy as np\n",
    "import pandas as pd\n",
    "import matplotlib.pyplot as plt\n",
    "import seaborn as sns"
   ]
  },
  {
   "cell_type": "code",
   "execution_count": 2,
   "metadata": {},
   "outputs": [],
   "source": [
    "# Reading the dataset\n",
    "fuel = pd.read_csv('fuel_consumption.csv')"
   ]
  },
  {
   "cell_type": "markdown",
   "metadata": {},
   "source": [
    "### 2. Exploring the dataset  <a id='explore'>"
   ]
  },
  {
   "cell_type": "code",
   "execution_count": 3,
   "metadata": {},
   "outputs": [
    {
     "data": {
      "text/html": [
       "<div>\n",
       "<style scoped>\n",
       "    .dataframe tbody tr th:only-of-type {\n",
       "        vertical-align: middle;\n",
       "    }\n",
       "\n",
       "    .dataframe tbody tr th {\n",
       "        vertical-align: top;\n",
       "    }\n",
       "\n",
       "    .dataframe thead th {\n",
       "        text-align: right;\n",
       "    }\n",
       "</style>\n",
       "<table border=\"1\" class=\"dataframe\">\n",
       "  <thead>\n",
       "    <tr style=\"text-align: right;\">\n",
       "      <th></th>\n",
       "      <th>Unnamed: 0</th>\n",
       "      <th>Payload</th>\n",
       "      <th>Reliability</th>\n",
       "      <th>Season</th>\n",
       "      <th>Net</th>\n",
       "      <th>Fuel</th>\n",
       "      <th>LoadValue</th>\n",
       "      <th>TransmissionType</th>\n",
       "    </tr>\n",
       "  </thead>\n",
       "  <tbody>\n",
       "    <tr>\n",
       "      <th>0</th>\n",
       "      <td>0</td>\n",
       "      <td>268.003362</td>\n",
       "      <td>88.942169</td>\n",
       "      <td>0</td>\n",
       "      <td>3</td>\n",
       "      <td>13.033955</td>\n",
       "      <td>1130.150394</td>\n",
       "      <td>automatic</td>\n",
       "    </tr>\n",
       "    <tr>\n",
       "      <th>1</th>\n",
       "      <td>1</td>\n",
       "      <td>270.695677</td>\n",
       "      <td>86.018913</td>\n",
       "      <td>0</td>\n",
       "      <td>3</td>\n",
       "      <td>12.843801</td>\n",
       "      <td>1137.342936</td>\n",
       "      <td>manual</td>\n",
       "    </tr>\n",
       "    <tr>\n",
       "      <th>2</th>\n",
       "      <td>2</td>\n",
       "      <td>268.346849</td>\n",
       "      <td>85.945960</td>\n",
       "      <td>0</td>\n",
       "      <td>3</td>\n",
       "      <td>12.500423</td>\n",
       "      <td>1319.950261</td>\n",
       "      <td>automatic</td>\n",
       "    </tr>\n",
       "    <tr>\n",
       "      <th>3</th>\n",
       "      <td>3</td>\n",
       "      <td>253.712697</td>\n",
       "      <td>87.986605</td>\n",
       "      <td>0</td>\n",
       "      <td>3</td>\n",
       "      <td>11.987058</td>\n",
       "      <td>1662.979622</td>\n",
       "      <td>automatic</td>\n",
       "    </tr>\n",
       "    <tr>\n",
       "      <th>4</th>\n",
       "      <td>4</td>\n",
       "      <td>240.949546</td>\n",
       "      <td>83.871310</td>\n",
       "      <td>0</td>\n",
       "      <td>3</td>\n",
       "      <td>12.248381</td>\n",
       "      <td>1674.107415</td>\n",
       "      <td>manual</td>\n",
       "    </tr>\n",
       "  </tbody>\n",
       "</table>\n",
       "</div>"
      ],
      "text/plain": [
       "   Unnamed: 0     Payload  Reliability  Season  Net       Fuel    LoadValue  \\\n",
       "0           0  268.003362    88.942169       0    3  13.033955  1130.150394   \n",
       "1           1  270.695677    86.018913       0    3  12.843801  1137.342936   \n",
       "2           2  268.346849    85.945960       0    3  12.500423  1319.950261   \n",
       "3           3  253.712697    87.986605       0    3  11.987058  1662.979622   \n",
       "4           4  240.949546    83.871310       0    3  12.248381  1674.107415   \n",
       "\n",
       "  TransmissionType  \n",
       "0        automatic  \n",
       "1           manual  \n",
       "2        automatic  \n",
       "3        automatic  \n",
       "4           manual  "
      ]
     },
     "execution_count": 3,
     "metadata": {},
     "output_type": "execute_result"
    }
   ],
   "source": [
    "# Head of the dataset\n",
    "fuel.head()"
   ]
  },
  {
   "cell_type": "code",
   "execution_count": 4,
   "metadata": {},
   "outputs": [],
   "source": [
    "# Removing the Unnamed: 0 column\n",
    "fuel = fuel.drop('Unnamed: 0',1)"
   ]
  },
  {
   "cell_type": "code",
   "execution_count": 5,
   "metadata": {},
   "outputs": [
    {
     "data": {
      "text/plain": [
       "(4493, 7)"
      ]
     },
     "execution_count": 5,
     "metadata": {},
     "output_type": "execute_result"
    }
   ],
   "source": [
    "# Shape of the dataset\n",
    "fuel.shape"
   ]
  },
  {
   "cell_type": "code",
   "execution_count": 6,
   "metadata": {},
   "outputs": [
    {
     "name": "stdout",
     "output_type": "stream",
     "text": [
      "<class 'pandas.core.frame.DataFrame'>\n",
      "RangeIndex: 4493 entries, 0 to 4492\n",
      "Data columns (total 7 columns):\n",
      " #   Column            Non-Null Count  Dtype  \n",
      "---  ------            --------------  -----  \n",
      " 0   Payload           4493 non-null   float64\n",
      " 1   Reliability       4493 non-null   float64\n",
      " 2   Season            4493 non-null   int64  \n",
      " 3   Net               4493 non-null   int64  \n",
      " 4   Fuel              4493 non-null   float64\n",
      " 5   LoadValue         4493 non-null   float64\n",
      " 6   TransmissionType  4493 non-null   object \n",
      "dtypes: float64(4), int64(2), object(1)\n",
      "memory usage: 245.8+ KB\n"
     ]
    }
   ],
   "source": [
    "# Info of the dataset\n",
    "fuel.info()"
   ]
  },
  {
   "cell_type": "markdown",
   "metadata": {},
   "source": [
    "### 3 . Performing Descriptive Statistics on the dataset**"
   ]
  },
  {
   "cell_type": "code",
   "execution_count": 7,
   "metadata": {},
   "outputs": [
    {
     "data": {
      "text/html": [
       "<div>\n",
       "<style scoped>\n",
       "    .dataframe tbody tr th:only-of-type {\n",
       "        vertical-align: middle;\n",
       "    }\n",
       "\n",
       "    .dataframe tbody tr th {\n",
       "        vertical-align: top;\n",
       "    }\n",
       "\n",
       "    .dataframe thead th {\n",
       "        text-align: right;\n",
       "    }\n",
       "</style>\n",
       "<table border=\"1\" class=\"dataframe\">\n",
       "  <thead>\n",
       "    <tr style=\"text-align: right;\">\n",
       "      <th></th>\n",
       "      <th>Payload</th>\n",
       "      <th>Reliability</th>\n",
       "      <th>Season</th>\n",
       "      <th>Net</th>\n",
       "      <th>Fuel</th>\n",
       "      <th>LoadValue</th>\n",
       "    </tr>\n",
       "  </thead>\n",
       "  <tbody>\n",
       "    <tr>\n",
       "      <th>count</th>\n",
       "      <td>4493.000000</td>\n",
       "      <td>4493.000000</td>\n",
       "      <td>4493.000000</td>\n",
       "      <td>4493.000000</td>\n",
       "      <td>4493.000000</td>\n",
       "      <td>4493.000000</td>\n",
       "    </tr>\n",
       "    <tr>\n",
       "      <th>mean</th>\n",
       "      <td>284.053496</td>\n",
       "      <td>70.184271</td>\n",
       "      <td>0.146227</td>\n",
       "      <td>2.380147</td>\n",
       "      <td>16.508160</td>\n",
       "      <td>854.382437</td>\n",
       "    </tr>\n",
       "    <tr>\n",
       "      <th>std</th>\n",
       "      <td>12.344016</td>\n",
       "      <td>6.665746</td>\n",
       "      <td>0.353373</td>\n",
       "      <td>0.557214</td>\n",
       "      <td>1.846029</td>\n",
       "      <td>249.432115</td>\n",
       "    </tr>\n",
       "    <tr>\n",
       "      <th>min</th>\n",
       "      <td>228.025383</td>\n",
       "      <td>48.145788</td>\n",
       "      <td>0.000000</td>\n",
       "      <td>1.000000</td>\n",
       "      <td>11.298344</td>\n",
       "      <td>152.690191</td>\n",
       "    </tr>\n",
       "    <tr>\n",
       "      <th>25%</th>\n",
       "      <td>276.898803</td>\n",
       "      <td>65.418693</td>\n",
       "      <td>0.000000</td>\n",
       "      <td>2.000000</td>\n",
       "      <td>15.169328</td>\n",
       "      <td>674.397696</td>\n",
       "    </tr>\n",
       "    <tr>\n",
       "      <th>50%</th>\n",
       "      <td>286.560013</td>\n",
       "      <td>70.238216</td>\n",
       "      <td>0.000000</td>\n",
       "      <td>2.000000</td>\n",
       "      <td>16.442109</td>\n",
       "      <td>830.769184</td>\n",
       "    </tr>\n",
       "    <tr>\n",
       "      <th>75%</th>\n",
       "      <td>293.842742</td>\n",
       "      <td>74.921809</td>\n",
       "      <td>0.000000</td>\n",
       "      <td>3.000000</td>\n",
       "      <td>17.773924</td>\n",
       "      <td>1010.278817</td>\n",
       "    </tr>\n",
       "    <tr>\n",
       "      <th>max</th>\n",
       "      <td>299.999307</td>\n",
       "      <td>90.315143</td>\n",
       "      <td>1.000000</td>\n",
       "      <td>3.000000</td>\n",
       "      <td>23.335635</td>\n",
       "      <td>1967.946647</td>\n",
       "    </tr>\n",
       "  </tbody>\n",
       "</table>\n",
       "</div>"
      ],
      "text/plain": [
       "           Payload  Reliability       Season          Net         Fuel  \\\n",
       "count  4493.000000  4493.000000  4493.000000  4493.000000  4493.000000   \n",
       "mean    284.053496    70.184271     0.146227     2.380147    16.508160   \n",
       "std      12.344016     6.665746     0.353373     0.557214     1.846029   \n",
       "min     228.025383    48.145788     0.000000     1.000000    11.298344   \n",
       "25%     276.898803    65.418693     0.000000     2.000000    15.169328   \n",
       "50%     286.560013    70.238216     0.000000     2.000000    16.442109   \n",
       "75%     293.842742    74.921809     0.000000     3.000000    17.773924   \n",
       "max     299.999307    90.315143     1.000000     3.000000    23.335635   \n",
       "\n",
       "         LoadValue  \n",
       "count  4493.000000  \n",
       "mean    854.382437  \n",
       "std     249.432115  \n",
       "min     152.690191  \n",
       "25%     674.397696  \n",
       "50%     830.769184  \n",
       "75%    1010.278817  \n",
       "max    1967.946647  "
      ]
     },
     "execution_count": 7,
     "metadata": {},
     "output_type": "execute_result"
    }
   ],
   "source": [
    "# Summary statistics\n",
    "fuel.describe()"
   ]
  },
  {
   "cell_type": "markdown",
   "metadata": {},
   "source": [
    "**As we could see the max and min are almost same for all the columns so no need of scaling**"
   ]
  },
  {
   "cell_type": "markdown",
   "metadata": {},
   "source": [
    "### 4. Checking for null values  <a id='null'>"
   ]
  },
  {
   "cell_type": "code",
   "execution_count": 8,
   "metadata": {},
   "outputs": [
    {
     "data": {
      "text/plain": [
       "Payload             0\n",
       "Reliability         0\n",
       "Season              0\n",
       "Net                 0\n",
       "Fuel                0\n",
       "LoadValue           0\n",
       "TransmissionType    0\n",
       "dtype: int64"
      ]
     },
     "execution_count": 8,
     "metadata": {},
     "output_type": "execute_result"
    }
   ],
   "source": [
    "# Null values check\n",
    "fuel.isnull().sum()"
   ]
  },
  {
   "cell_type": "markdown",
   "metadata": {},
   "source": [
    "**We could see that there are no null values present in the dataset**"
   ]
  },
  {
   "cell_type": "markdown",
   "metadata": {},
   "source": [
    "### 5. Data Visualizations on the dataset <a id='dv'>"
   ]
  },
  {
   "cell_type": "code",
   "execution_count": 9,
   "metadata": {},
   "outputs": [
    {
     "data": {
      "text/plain": [
       "<matplotlib.axes._subplots.AxesSubplot at 0x27db8495a58>"
      ]
     },
     "execution_count": 9,
     "metadata": {},
     "output_type": "execute_result"
    },
    {
     "data": {
      "image/png": "[encoded data removed]",
      "text/plain": [
       "<Figure size 432x288 with 1 Axes>"
      ]
     },
     "metadata": {
      "needs_background": "light"
     },
     "output_type": "display_data"
    }
   ],
   "source": [
    "# Countplot for Transmission Type\n",
    "sns.countplot(x='TransmissionType',data=fuel)"
   ]
  },
  {
   "cell_type": "markdown",
   "metadata": {},
   "source": [
    "**We could see there are more cars of the Transmission Type manual this may be due to the cost difference between them**"
   ]
  },
  {
   "cell_type": "code",
   "execution_count": 10,
   "metadata": {},
   "outputs": [
    {
     "data": {
      "text/plain": [
       "<matplotlib.axes._subplots.AxesSubplot at 0x27db8573860>"
      ]
     },
     "execution_count": 10,
     "metadata": {},
     "output_type": "execute_result"
    },
    {
     "data": {
      "image/png": "[encoded data removed]",
      "text/plain": [
       "<Figure size 432x288 with 1 Axes>"
      ]
     },
     "metadata": {
      "needs_background": "light"
     },
     "output_type": "display_data"
    }
   ],
   "source": [
    "# Swarmplot for Transmission Type vs Fuel\n",
    "sns.swarmplot(x='TransmissionType',y='Fuel',data=fuel)"
   ]
  },
  {
   "cell_type": "markdown",
   "metadata": {},
   "source": [
    "**We could see that the fuel consumption is almost same for both the Transmission Type so fuel consumption is not dependent on Transmission Type**"
   ]
  },
  {
   "cell_type": "code",
   "execution_count": 11,
   "metadata": {},
   "outputs": [
    {
     "data": {
      "text/plain": [
       "<matplotlib.axes._subplots.AxesSubplot at 0x27dba6359b0>"
      ]
     },
     "execution_count": 11,
     "metadata": {},
     "output_type": "execute_result"
    },
    {
     "data": {
      "image/png": "[encoded data removed]",
      "text/plain": [
       "<Figure size 432x288 with 1 Axes>"
      ]
     },
     "metadata": {
      "needs_background": "light"
     },
     "output_type": "display_data"
    }
   ],
   "source": [
    "# Boxplot for Season vs Fuel\n",
    "sns.boxplot(x='Season',y='Fuel',data=fuel)"
   ]
  },
  {
   "cell_type": "markdown",
   "metadata": {},
   "source": [
    "**We could see that most of the fuel consumption happened when the weather is good although even some happened during when weather is bad this may be due to some uncontrollable circumstances**"
   ]
  },
  {
   "cell_type": "markdown",
   "metadata": {},
   "source": [
    "Lets check if Reliability has any effect on weather conditions"
   ]
  },
  {
   "cell_type": "code",
   "execution_count": 12,
   "metadata": {},
   "outputs": [
    {
     "data": {
      "text/plain": [
       "<matplotlib.axes._subplots.AxesSubplot at 0x27dbb698710>"
      ]
     },
     "execution_count": 12,
     "metadata": {},
     "output_type": "execute_result"
    },
    {
     "data": {
      "image/png": "[encoded data removed]",
      "text/plain": [
       "<Figure size 432x288 with 1 Axes>"
      ]
     },
     "metadata": {
      "needs_background": "light"
     },
     "output_type": "display_data"
    }
   ],
   "source": [
    "# Barplot for Season vs Reliability\n",
    "sns.barplot(x='Season',y='Reliability',data=fuel)"
   ]
  },
  {
   "cell_type": "markdown",
   "metadata": {},
   "source": [
    "**Well we could see that the Reliability is less for when weather condition is bad so there have been delays in reaching the destination**"
   ]
  },
  {
   "cell_type": "markdown",
   "metadata": {},
   "source": [
    "Lets check how Fuel Consumption related to Reliability"
   ]
  },
  {
   "cell_type": "code",
   "execution_count": 13,
   "metadata": {},
   "outputs": [
    {
     "data": {
      "text/plain": [
       "<matplotlib.axes._subplots.AxesSubplot at 0x27dbb6f90f0>"
      ]
     },
     "execution_count": 13,
     "metadata": {},
     "output_type": "execute_result"
    },
    {
     "data": {
      "image/png": "[encoded data removed]",
      "text/plain": [
       "<Figure size 432x288 with 1 Axes>"
      ]
     },
     "metadata": {
      "needs_background": "light"
     },
     "output_type": "display_data"
    }
   ],
   "source": [
    "# Regression plot for Reliability vs Fuel\n",
    "sns.regplot(x='Reliability',y='Fuel',data=fuel)"
   ]
  },
  {
   "cell_type": "markdown",
   "metadata": {},
   "source": [
    "**We could see Fuel and Reliability are in a negative linear relationship with each other so with increase in fuel consumption the reliability decreases which means if people try to keep up their travel time on track then there is chance of fuel consumption to be reduced**"
   ]
  },
  {
   "cell_type": "markdown",
   "metadata": {},
   "source": [
    "Lets check if there is relationship between fuel consumption and roadnet quality"
   ]
  },
  {
   "cell_type": "code",
   "execution_count": 14,
   "metadata": {},
   "outputs": [
    {
     "data": {
      "text/plain": [
       "<matplotlib.axes._subplots.AxesSubplot at 0x27dbb76a0b8>"
      ]
     },
     "execution_count": 14,
     "metadata": {},
     "output_type": "execute_result"
    },
    {
     "data": {
      "image/png": "[encoded data removed]",
      "text/plain": [
       "<Figure size 432x288 with 1 Axes>"
      ]
     },
     "metadata": {
      "needs_background": "light"
     },
     "output_type": "display_data"
    }
   ],
   "source": [
    "# Barplot for Net vs Fuel\n",
    "sns.barplot(x='Net',y='Fuel',data=fuel)"
   ]
  },
  {
   "cell_type": "markdown",
   "metadata": {},
   "source": [
    "**We could see a decreasing trend so with increase in quality the fuel consumption gets reduced (ie) the more the good quality the less the fuel consumption**"
   ]
  },
  {
   "cell_type": "code",
   "execution_count": 15,
   "metadata": {},
   "outputs": [
    {
     "data": {
      "text/plain": [
       "<seaborn.axisgrid.FacetGrid at 0x27dbb7ceda0>"
      ]
     },
     "execution_count": 15,
     "metadata": {},
     "output_type": "execute_result"
    },
    {
     "data": {
      "image/png": "[encoded data removed]",
      "text/plain": [
       "<Figure size 360x360 with 1 Axes>"
      ]
     },
     "metadata": {
      "needs_background": "light"
     },
     "output_type": "display_data"
    }
   ],
   "source": [
    "# Linear Regression plot for Load Value vs Fuel\n",
    "sns.lmplot(x='LoadValue',y='Fuel',data=fuel)"
   ]
  },
  {
   "cell_type": "markdown",
   "metadata": {},
   "source": [
    "**We could see that with increase in LoadValue the Fuel consumption decreases this may be due to the increased weight in the truck,as weight is very much more the speed of the truck decreases thereby fuel consumption also reduces**"
   ]
  },
  {
   "cell_type": "code",
   "execution_count": 16,
   "metadata": {},
   "outputs": [
    {
     "data": {
      "text/plain": [
       "<matplotlib.axes._subplots.AxesSubplot at 0x27dbb850c50>"
      ]
     },
     "execution_count": 16,
     "metadata": {},
     "output_type": "execute_result"
    },
    {
     "data": {
      "image/png": "[encoded data removed]",
      "text/plain": [
       "<Figure size 432x288 with 1 Axes>"
      ]
     },
     "metadata": {
      "needs_background": "light"
     },
     "output_type": "display_data"
    }
   ],
   "source": [
    "# Scatterplot for Payload vs Fuel\n",
    "sns.scatterplot(x='Payload',y='Fuel',data=fuel)"
   ]
  },
  {
   "cell_type": "markdown",
   "metadata": {},
   "source": [
    "**We could see that with increase in Payload the Fuel consumption also increases but stops at a point**"
   ]
  },
  {
   "cell_type": "markdown",
   "metadata": {},
   "source": [
    "### 6. Label Encoding  <a id='le'>"
   ]
  },
  {
   "cell_type": "code",
   "execution_count": 17,
   "metadata": {},
   "outputs": [],
   "source": [
    "# Label encoding the Transmission Type\n",
    "fuel['TransmissionType'] = fuel['TransmissionType'].map({'manual':0,'automatic':1})"
   ]
  },
  {
   "cell_type": "markdown",
   "metadata": {},
   "source": [
    "### 7. Perform all the models including Boosting and analyze the metrics"
   ]
  },
  {
   "cell_type": "code",
   "execution_count": 18,
   "metadata": {},
   "outputs": [],
   "source": [
    "# Assigning x and y variables\n",
    "x = fuel.drop('Fuel',1)\n",
    "y = fuel['Fuel']"
   ]
  },
  {
   "cell_type": "code",
   "execution_count": 19,
   "metadata": {},
   "outputs": [],
   "source": [
    "# Importing train test split and splitting the dataset\n",
    "from sklearn.model_selection import train_test_split\n",
    "x_train,x_test,y_train,y_test = train_test_split(x,y,test_size=0.25,random_state=2)"
   ]
  },
  {
   "cell_type": "markdown",
   "metadata": {},
   "source": [
    "### Linear Regression  <a id='lr'>"
   ]
  },
  {
   "cell_type": "code",
   "execution_count": 20,
   "metadata": {},
   "outputs": [],
   "source": [
    "# Importing Linear Regression and fitting the model\n",
    "from sklearn.linear_model import LinearRegression\n",
    "lr = LinearRegression()\n",
    "lr.fit(x_train,y_train)\n",
    "lr_pred = lr.predict(x_test)"
   ]
  },
  {
   "cell_type": "code",
   "execution_count": 21,
   "metadata": {},
   "outputs": [],
   "source": [
    "# Importing metrics and evaluating the model\n",
    "from sklearn import metrics"
   ]
  },
  {
   "cell_type": "code",
   "execution_count": 22,
   "metadata": {},
   "outputs": [
    {
     "data": {
      "text/plain": [
       "0.7439800555211273"
      ]
     },
     "execution_count": 22,
     "metadata": {},
     "output_type": "execute_result"
    }
   ],
   "source": [
    "# RMSE score \n",
    "lr_rmse = np.sqrt(metrics.mean_squared_error(lr_pred,y_test))\n",
    "lr_rmse"
   ]
  },
  {
   "cell_type": "code",
   "execution_count": 23,
   "metadata": {},
   "outputs": [
    {
     "data": {
      "text/plain": [
       "0.8069903295246739"
      ]
     },
     "execution_count": 23,
     "metadata": {},
     "output_type": "execute_result"
    }
   ],
   "source": [
    "# R2 score\n",
    "lr_r2score = metrics.r2_score(lr_pred,y_test)\n",
    "lr_r2score"
   ]
  },
  {
   "cell_type": "code",
   "execution_count": 24,
   "metadata": {},
   "outputs": [
    {
     "data": {
      "text/plain": [
       "0.8338348615004628"
      ]
     },
     "execution_count": 24,
     "metadata": {},
     "output_type": "execute_result"
    }
   ],
   "source": [
    "# Train score\n",
    "lr_train = lr.score(x_train,y_train)\n",
    "lr_train"
   ]
  },
  {
   "cell_type": "code",
   "execution_count": 25,
   "metadata": {},
   "outputs": [
    {
     "data": {
      "text/plain": [
       "0.8363680910278398"
      ]
     },
     "execution_count": 25,
     "metadata": {},
     "output_type": "execute_result"
    }
   ],
   "source": [
    "# Test score\n",
    "lr_test = lr.score(x_test,y_test)\n",
    "lr_test"
   ]
  },
  {
   "cell_type": "markdown",
   "metadata": {},
   "source": [
    "### Decision Tree  <a id='dt'>"
   ]
  },
  {
   "cell_type": "code",
   "execution_count": 26,
   "metadata": {},
   "outputs": [],
   "source": [
    "# Importing Decision Tree and performing decision tree\n",
    "from sklearn.tree import DecisionTreeRegressor\n",
    "dt = DecisionTreeRegressor()\n",
    "dt.fit(x_train,y_train)\n",
    "dt_pred = dt.predict(x_test)"
   ]
  },
  {
   "cell_type": "code",
   "execution_count": 27,
   "metadata": {},
   "outputs": [
    {
     "data": {
      "text/plain": [
       "1.0514105572077246"
      ]
     },
     "execution_count": 27,
     "metadata": {},
     "output_type": "execute_result"
    }
   ],
   "source": [
    "# RMSE score for Decision Tree\n",
    "dt_rmse = np.sqrt(metrics.mean_squared_error(dt_pred,y_test))\n",
    "dt_rmse"
   ]
  },
  {
   "cell_type": "code",
   "execution_count": 28,
   "metadata": {},
   "outputs": [
    {
     "data": {
      "text/plain": [
       "0.6835239292276966"
      ]
     },
     "execution_count": 28,
     "metadata": {},
     "output_type": "execute_result"
    }
   ],
   "source": [
    "# R2 score for Decision Tree\n",
    "dt_r2score = metrics.r2_score(dt_pred,y_test)\n",
    "dt_r2score"
   ]
  },
  {
   "cell_type": "code",
   "execution_count": 29,
   "metadata": {},
   "outputs": [
    {
     "data": {
      "text/plain": [
       "1.0"
      ]
     },
     "execution_count": 29,
     "metadata": {},
     "output_type": "execute_result"
    }
   ],
   "source": [
    "# Train score for Decision Tree\n",
    "dt_train = dt.score(x_train,y_train)\n",
    "dt_train"
   ]
  },
  {
   "cell_type": "code",
   "execution_count": 30,
   "metadata": {},
   "outputs": [
    {
     "data": {
      "text/plain": [
       "0.6731939577764415"
      ]
     },
     "execution_count": 30,
     "metadata": {},
     "output_type": "execute_result"
    }
   ],
   "source": [
    "# Test score for Decision Tree\n",
    "dt_test = dt.score(x_test,y_test)\n",
    "dt_test"
   ]
  },
  {
   "cell_type": "markdown",
   "metadata": {},
   "source": [
    "**Parameter Tuning**"
   ]
  },
  {
   "cell_type": "code",
   "execution_count": 31,
   "metadata": {},
   "outputs": [
    {
     "data": {
      "text/plain": [
       "RandomizedSearchCV(cv=3, estimator=DecisionTreeRegressor(),\n",
       "                   param_distributions={'criterion': ['mse', 'mae'],\n",
       "                                        'max_depth': array([ 1,  2,  3,  4,  5,  6,  7,  8,  9, 10, 11, 12, 13, 14, 15, 16, 17,\n",
       "       18, 19])},\n",
       "                   return_train_score=True)"
      ]
     },
     "execution_count": 31,
     "metadata": {},
     "output_type": "execute_result"
    }
   ],
   "source": [
    "# Importing Randomizedsearchcv and finding out optimal parameters for Decision Tree\n",
    "from sklearn.model_selection import RandomizedSearchCV\n",
    "params = {'max_depth': np.arange(1,20),'criterion':['mse','mae']}\n",
    "dt = DecisionTreeRegressor()\n",
    "tree = RandomizedSearchCV(dt, params, cv=3 , return_train_score = True) # RandomizedSearchCV\n",
    "tree.fit(x,y)# Fit"
   ]
  },
  {
   "cell_type": "code",
   "execution_count": 32,
   "metadata": {},
   "outputs": [
    {
     "data": {
      "text/plain": [
       "{'max_depth': 6, 'criterion': 'mse'}"
      ]
     },
     "execution_count": 32,
     "metadata": {},
     "output_type": "execute_result"
    }
   ],
   "source": [
    "# optimal parameters\n",
    "tree.best_params_"
   ]
  },
  {
   "cell_type": "code",
   "execution_count": 33,
   "metadata": {},
   "outputs": [],
   "source": [
    "# Fitting the model and training and testing after parameter tuning\n",
    "dtr = DecisionTreeRegressor(criterion='mse',max_depth=7)\n",
    "dtr.fit(x_train,y_train)\n",
    "dtr_pred = dtr.predict(x_test)"
   ]
  },
  {
   "cell_type": "code",
   "execution_count": 34,
   "metadata": {},
   "outputs": [
    {
     "data": {
      "text/plain": [
       "0.7847182692753657"
      ]
     },
     "execution_count": 34,
     "metadata": {},
     "output_type": "execute_result"
    }
   ],
   "source": [
    "# RMSE score for DT after parameter tuning\n",
    "dt_tune_rmse = np.sqrt(metrics.mean_squared_error(dtr_pred,y_test))\n",
    "dt_tune_rmse"
   ]
  },
  {
   "cell_type": "code",
   "execution_count": 35,
   "metadata": {},
   "outputs": [
    {
     "data": {
      "text/plain": [
       "0.7963263508773124"
      ]
     },
     "execution_count": 35,
     "metadata": {},
     "output_type": "execute_result"
    }
   ],
   "source": [
    "# R2 score for DT after parameter tuning\n",
    "dt_tune_r2score = metrics.r2_score(dtr_pred,y_test)\n",
    "dt_tune_r2score"
   ]
  },
  {
   "cell_type": "code",
   "execution_count": 36,
   "metadata": {},
   "outputs": [
    {
     "data": {
      "text/plain": [
       "0.8570101229038211"
      ]
     },
     "execution_count": 36,
     "metadata": {},
     "output_type": "execute_result"
    }
   ],
   "source": [
    "# Train score for DT after parameter tuning\n",
    "dt_tune_train = dtr.score(x_train,y_train)\n",
    "dt_tune_train"
   ]
  },
  {
   "cell_type": "code",
   "execution_count": 37,
   "metadata": {},
   "outputs": [
    {
     "data": {
      "text/plain": [
       "0.8179574384413755"
      ]
     },
     "execution_count": 37,
     "metadata": {},
     "output_type": "execute_result"
    }
   ],
   "source": [
    "# Test score for DT after parameter tuning\n",
    "dt_tune_test = dtr.score(x_test,y_test)\n",
    "dt_tune_test"
   ]
  },
  {
   "cell_type": "markdown",
   "metadata": {},
   "source": [
    "### Random Forest  <a id='rf'>"
   ]
  },
  {
   "cell_type": "code",
   "execution_count": 38,
   "metadata": {},
   "outputs": [],
   "source": [
    "# Importing Random Forest Regressor and fitting the model\n",
    "from sklearn.ensemble import RandomForestRegressor\n",
    "rf = RandomForestRegressor()\n",
    "rf.fit(x_train,y_train)\n",
    "rf_pred = rf.predict(x_test)"
   ]
  },
  {
   "cell_type": "code",
   "execution_count": 39,
   "metadata": {},
   "outputs": [
    {
     "data": {
      "text/plain": [
       "0.7786916813319552"
      ]
     },
     "execution_count": 39,
     "metadata": {},
     "output_type": "execute_result"
    }
   ],
   "source": [
    "# RMSE score for Random Forest\n",
    "rf_rmse = np.sqrt(metrics.mean_squared_error(rf_pred,y_test))\n",
    "rf_rmse"
   ]
  },
  {
   "cell_type": "code",
   "execution_count": 40,
   "metadata": {},
   "outputs": [
    {
     "data": {
      "text/plain": [
       "0.7988765765855668"
      ]
     },
     "execution_count": 40,
     "metadata": {},
     "output_type": "execute_result"
    }
   ],
   "source": [
    "# R2 Score for Random Forest\n",
    "rf_r2score = metrics.r2_score(rf_pred,y_test)\n",
    "rf_r2score"
   ]
  },
  {
   "cell_type": "code",
   "execution_count": 41,
   "metadata": {},
   "outputs": [
    {
     "data": {
      "text/plain": [
       "0.9737121051835024"
      ]
     },
     "execution_count": 41,
     "metadata": {},
     "output_type": "execute_result"
    }
   ],
   "source": [
    "# Train score for Random Forest\n",
    "rf_train = rf.score(x_train,y_train)\n",
    "rf_train"
   ]
  },
  {
   "cell_type": "code",
   "execution_count": 42,
   "metadata": {},
   "outputs": [
    {
     "data": {
      "text/plain": [
       "0.8207428526123721"
      ]
     },
     "execution_count": 42,
     "metadata": {},
     "output_type": "execute_result"
    }
   ],
   "source": [
    "# Test score for Random Forest\n",
    "rf_test = rf.score(x_test,y_test)\n",
    "rf_test"
   ]
  },
  {
   "cell_type": "markdown",
   "metadata": {},
   "source": [
    "**Parameter Tuning**"
   ]
  },
  {
   "cell_type": "code",
   "execution_count": 43,
   "metadata": {},
   "outputs": [
    {
     "data": {
      "text/plain": [
       "RandomizedSearchCV(cv=3, estimator=RandomForestRegressor(),\n",
       "                   param_distributions={'criterion': ['mse', 'mae'],\n",
       "                                        'max_depth': array([ 1,  2,  3,  4,  5,  6,  7,  8,  9, 10, 11, 12, 13, 14, 15, 16, 17,\n",
       "       18, 19])},\n",
       "                   return_train_score=True)"
      ]
     },
     "execution_count": 43,
     "metadata": {},
     "output_type": "execute_result"
    }
   ],
   "source": [
    "# Using Randomized SearchCV and finding optimal parameters\n",
    "rf = RandomForestRegressor()\n",
    "params1 = {'n_estimators': np.arange(1,20),'criterion':['mse','mae']}\n",
    "forest = RandomizedSearchCV(rf, params, cv=3 , return_train_score = True) # GridSearchCV\n",
    "forest.fit(x,y)# Fit"
   ]
  },
  {
   "cell_type": "code",
   "execution_count": 44,
   "metadata": {},
   "outputs": [
    {
     "data": {
      "text/plain": [
       "{'max_depth': 6, 'criterion': 'mse'}"
      ]
     },
     "execution_count": 44,
     "metadata": {},
     "output_type": "execute_result"
    }
   ],
   "source": [
    "# optimal parameters\n",
    "forest.best_params_"
   ]
  },
  {
   "cell_type": "code",
   "execution_count": 45,
   "metadata": {},
   "outputs": [],
   "source": [
    "# Random Forest after parameter tuning\n",
    "rfr = RandomForestRegressor(criterion='mse',max_depth=6)\n",
    "rfr.fit(x_train,y_train)\n",
    "rfr_pred = rfr.predict(x_test)"
   ]
  },
  {
   "cell_type": "code",
   "execution_count": 46,
   "metadata": {},
   "outputs": [
    {
     "data": {
      "text/plain": [
       "0.7418689211707321"
      ]
     },
     "execution_count": 46,
     "metadata": {},
     "output_type": "execute_result"
    }
   ],
   "source": [
    "# RMSE score  for Random Forest after parameter tuning\n",
    "rf_tune_rmse = np.sqrt(metrics.mean_squared_error(rfr_pred,y_test))\n",
    "rf_tune_rmse"
   ]
  },
  {
   "cell_type": "code",
   "execution_count": 47,
   "metadata": {},
   "outputs": [
    {
     "data": {
      "text/plain": [
       "0.8114843271119634"
      ]
     },
     "execution_count": 47,
     "metadata": {},
     "output_type": "execute_result"
    }
   ],
   "source": [
    "# R2 score for Random Forest after parameter tuning\n",
    "rf_tune_r2score = metrics.r2_score(rfr_pred,y_test)\n",
    "rf_tune_r2score"
   ]
  },
  {
   "cell_type": "code",
   "execution_count": 48,
   "metadata": {},
   "outputs": [
    {
     "data": {
      "text/plain": [
       "0.855435837159738"
      ]
     },
     "execution_count": 48,
     "metadata": {},
     "output_type": "execute_result"
    }
   ],
   "source": [
    "# Train score for Random Forest after parameter tuning\n",
    "rf_tune_train = rfr.score(x_train,y_train)\n",
    "rf_tune_train"
   ]
  },
  {
   "cell_type": "code",
   "execution_count": 49,
   "metadata": {},
   "outputs": [
    {
     "data": {
      "text/plain": [
       "0.8372954245349393"
      ]
     },
     "execution_count": 49,
     "metadata": {},
     "output_type": "execute_result"
    }
   ],
   "source": [
    "# Test score for Random Forest after parameter tuning\n",
    "rf_tune_test = rfr.score(x_test,y_test)\n",
    "rf_tune_test"
   ]
  },
  {
   "cell_type": "markdown",
   "metadata": {},
   "source": [
    "###  Support Vector Machine <a id = 'svm'>"
   ]
  },
  {
   "cell_type": "code",
   "execution_count": 50,
   "metadata": {},
   "outputs": [],
   "source": [
    "# Importing Support Vector Regressor and fitting the model\n",
    "from sklearn.svm import SVR\n",
    "svm = SVR()\n",
    "svm.fit(x_train,y_train)\n",
    "svm_pred = svm.predict(x_test)"
   ]
  },
  {
   "cell_type": "code",
   "execution_count": 51,
   "metadata": {},
   "outputs": [
    {
     "data": {
      "text/plain": [
       "1.4273603662606589"
      ]
     },
     "execution_count": 51,
     "metadata": {},
     "output_type": "execute_result"
    }
   ],
   "source": [
    "# RMSE score for SVM\n",
    "svm_rmse = np.sqrt(metrics.mean_squared_error(svm_pred,y_test))\n",
    "svm_rmse"
   ]
  },
  {
   "cell_type": "code",
   "execution_count": 52,
   "metadata": {},
   "outputs": [
    {
     "data": {
      "text/plain": [
       "-0.6644586045070149"
      ]
     },
     "execution_count": 52,
     "metadata": {},
     "output_type": "execute_result"
    }
   ],
   "source": [
    "# R2 score for SVM\n",
    "svm_r2score = metrics.r2_score(svm_pred,y_test)\n",
    "svm_r2score"
   ]
  },
  {
   "cell_type": "code",
   "execution_count": 53,
   "metadata": {},
   "outputs": [
    {
     "data": {
      "text/plain": [
       "0.4086146197301853"
      ]
     },
     "execution_count": 53,
     "metadata": {},
     "output_type": "execute_result"
    }
   ],
   "source": [
    "# Train score for SVM\n",
    "svm_train = svm.score(x_train,y_train)\n",
    "svm_train"
   ]
  },
  {
   "cell_type": "code",
   "execution_count": 54,
   "metadata": {},
   "outputs": [
    {
     "data": {
      "text/plain": [
       "0.39770025748818616"
      ]
     },
     "execution_count": 54,
     "metadata": {},
     "output_type": "execute_result"
    }
   ],
   "source": [
    "# Test score for SVM\n",
    "svm_test = svm.score(x_test,y_test)\n",
    "svm_test"
   ]
  },
  {
   "cell_type": "markdown",
   "metadata": {},
   "source": [
    "**Parameter Tuning**"
   ]
  },
  {
   "cell_type": "code",
   "execution_count": 55,
   "metadata": {},
   "outputs": [
    {
     "data": {
      "text/plain": [
       "RandomizedSearchCV(cv=3, estimator=SVR(),\n",
       "                   param_distributions={'C': [0.01, 0.1, 1, 10],\n",
       "                                        'gamma': [0.01, 0.1, 1, 10],\n",
       "                                        'kernel': ['linear', 'rbf']},\n",
       "                   return_train_score=True)"
      ]
     },
     "execution_count": 55,
     "metadata": {},
     "output_type": "execute_result"
    }
   ],
   "source": [
    "# Using Randomized Search cv to find the optimal parameters\n",
    "params2 = {'kernel':['linear','rbf'],'C': [0.01, 0.1, 1, 10],'gamma': [0.01,0.1,1,10]}\n",
    "svr = SVR()\n",
    "support = RandomizedSearchCV(svr, params2, cv=3 , return_train_score = True) # RandomizedSearchCV\n",
    "support.fit(x,y)# Fit"
   ]
  },
  {
   "cell_type": "code",
   "execution_count": 56,
   "metadata": {},
   "outputs": [
    {
     "data": {
      "text/plain": [
       "{'kernel': 'linear', 'gamma': 1, 'C': 1}"
      ]
     },
     "execution_count": 56,
     "metadata": {},
     "output_type": "execute_result"
    }
   ],
   "source": [
    "# optimal parameters\n",
    "support.best_params_"
   ]
  },
  {
   "cell_type": "code",
   "execution_count": 58,
   "metadata": {},
   "outputs": [],
   "source": [
    "# Fitting the model and training and testing\n",
    "svrr = SVR(C = 1,gamma = 1,kernel = 'linear')\n",
    "svrr.fit(x_train,y_train)\n",
    "svrr_pred = svrr.predict(x_test)"
   ]
  },
  {
   "cell_type": "code",
   "execution_count": 59,
   "metadata": {},
   "outputs": [],
   "source": [
    "# RMSE score for SVM after parameter tuning\n",
    "svm_tune_rmse = np.sqrt(metrics.mean_squared_error(svrr_pred,y_test))"
   ]
  },
  {
   "cell_type": "code",
   "execution_count": 60,
   "metadata": {},
   "outputs": [
    {
     "data": {
      "text/plain": [
       "0.7566153671313828"
      ]
     },
     "execution_count": 60,
     "metadata": {},
     "output_type": "execute_result"
    }
   ],
   "source": [
    "svm_tune_rmse"
   ]
  },
  {
   "cell_type": "code",
   "execution_count": 61,
   "metadata": {},
   "outputs": [
    {
     "data": {
      "text/plain": [
       "0.7836985190815362"
      ]
     },
     "execution_count": 61,
     "metadata": {},
     "output_type": "execute_result"
    }
   ],
   "source": [
    "# R2 score for SVM after parameter tuning\n",
    "svm_tune_r2score = metrics.r2_score(svrr_pred,y_test)\n",
    "svm_tune_r2score"
   ]
  },
  {
   "cell_type": "code",
   "execution_count": 62,
   "metadata": {},
   "outputs": [
    {
     "data": {
      "text/plain": [
       "0.8285310604865921"
      ]
     },
     "execution_count": 62,
     "metadata": {},
     "output_type": "execute_result"
    }
   ],
   "source": [
    "# Train score for SVM after parameter tuning\n",
    "svm_tune_train = svrr.score(x_train,y_train)\n",
    "svm_tune_train"
   ]
  },
  {
   "cell_type": "code",
   "execution_count": 63,
   "metadata": {},
   "outputs": [
    {
     "data": {
      "text/plain": [
       "0.8307628410602835"
      ]
     },
     "execution_count": 63,
     "metadata": {},
     "output_type": "execute_result"
    }
   ],
   "source": [
    "# Test score for SVM after parameter tuning\n",
    "svm_tune_test = svrr.score(x_test,y_test)\n",
    "svm_tune_test"
   ]
  },
  {
   "cell_type": "markdown",
   "metadata": {},
   "source": [
    "###  KNearest Neighbors <a id = 'knn'>"
   ]
  },
  {
   "cell_type": "code",
   "execution_count": 64,
   "metadata": {},
   "outputs": [],
   "source": [
    "# Importing KNearest Neighbors and fitting the model\n",
    "from sklearn.neighbors import KNeighborsRegressor\n",
    "knn = KNeighborsRegressor()\n",
    "knn.fit(x_train,y_train)\n",
    "knn_pred = knn.predict(x_test)"
   ]
  },
  {
   "cell_type": "code",
   "execution_count": 65,
   "metadata": {},
   "outputs": [
    {
     "data": {
      "text/plain": [
       "1.2567924781144897"
      ]
     },
     "execution_count": 65,
     "metadata": {},
     "output_type": "execute_result"
    }
   ],
   "source": [
    "# RMSE score for KNN\n",
    "knn_rmse = np.sqrt(metrics.mean_squared_error(knn_pred,y_test))\n",
    "knn_rmse"
   ]
  },
  {
   "cell_type": "code",
   "execution_count": 66,
   "metadata": {},
   "outputs": [
    {
     "data": {
      "text/plain": [
       "0.18820733937518175"
      ]
     },
     "execution_count": 66,
     "metadata": {},
     "output_type": "execute_result"
    }
   ],
   "source": [
    "# R2 score for KNN\n",
    "knn_r2score = metrics.r2_score(knn_pred,y_test)\n",
    "knn_r2score"
   ]
  },
  {
   "cell_type": "code",
   "execution_count": 67,
   "metadata": {},
   "outputs": [
    {
     "data": {
      "text/plain": [
       "0.7003942788675213"
      ]
     },
     "execution_count": 67,
     "metadata": {},
     "output_type": "execute_result"
    }
   ],
   "source": [
    "# Train score for KNN\n",
    "knn_train = knn.score(x_train,y_train)\n",
    "knn_train"
   ]
  },
  {
   "cell_type": "code",
   "execution_count": 68,
   "metadata": {},
   "outputs": [
    {
     "data": {
      "text/plain": [
       "0.5330476599203882"
      ]
     },
     "execution_count": 68,
     "metadata": {},
     "output_type": "execute_result"
    }
   ],
   "source": [
    "# Test score for KNN\n",
    "knn_test = knn.score(x_test,y_test)\n",
    "knn_test"
   ]
  },
  {
   "cell_type": "markdown",
   "metadata": {},
   "source": [
    "**Parameter Tuning**"
   ]
  },
  {
   "cell_type": "code",
   "execution_count": 69,
   "metadata": {},
   "outputs": [
    {
     "data": {
      "text/plain": [
       "RandomizedSearchCV(cv=3, estimator=KNeighborsRegressor(),\n",
       "                   param_distributions={'leaf_size': array([ 1,  2,  3,  4,  5,  6,  7,  8,  9, 10, 11, 12, 13, 14, 15, 16, 17,\n",
       "       18, 19, 20, 21, 22, 23, 24, 25, 26, 27, 28, 29, 30, 31, 32, 33, 34,\n",
       "       35, 36, 37, 38, 39, 40, 41, 42, 43, 44, 45, 46, 47, 48, 49]),\n",
       "                                        'n_neighbors': array([ 1,  2,  3,  4,  5,  6,  7,  8,  9, 10, 11, 12, 13, 14, 15, 16, 17,\n",
       "       18, 19, 20, 21, 22, 23, 24, 25, 26, 27, 28, 29]),\n",
       "                                        'p': [1, 2]},\n",
       "                   return_train_score=True)"
      ]
     },
     "execution_count": 69,
     "metadata": {},
     "output_type": "execute_result"
    }
   ],
   "source": [
    "# Finding optimal parameters using Randomized Search CV\n",
    "params4 = {'leaf_size':np.arange(1,50),'n_neighbors':np.arange(1,30),'p':[1,2]}\n",
    "knn = KNeighborsRegressor()\n",
    "neighbor = RandomizedSearchCV(knn, params4, cv=3 , return_train_score = True) # RandomizedSearchCV\n",
    "neighbor.fit(x,y)"
   ]
  },
  {
   "cell_type": "code",
   "execution_count": 70,
   "metadata": {},
   "outputs": [
    {
     "data": {
      "text/plain": [
       "{'p': 1, 'n_neighbors': 6, 'leaf_size': 33}"
      ]
     },
     "execution_count": 70,
     "metadata": {},
     "output_type": "execute_result"
    }
   ],
   "source": [
    "# Optimal parameters\n",
    "neighbor.best_params_"
   ]
  },
  {
   "cell_type": "code",
   "execution_count": 71,
   "metadata": {},
   "outputs": [],
   "source": [
    "# Fitting the model and training and testing\n",
    "knn = KNeighborsRegressor(n_neighbors=6,p=1,leaf_size=33)\n",
    "knn.fit(x_train,y_train)\n",
    "knnr_pred = knn.predict(x_test)"
   ]
  },
  {
   "cell_type": "code",
   "execution_count": 72,
   "metadata": {},
   "outputs": [
    {
     "data": {
      "text/plain": [
       "1.1805754258079173"
      ]
     },
     "execution_count": 72,
     "metadata": {},
     "output_type": "execute_result"
    }
   ],
   "source": [
    "# RMSE score for KNN after parameter tuning\n",
    "knn_tune_rmse = np.sqrt(metrics.mean_squared_error(knnr_pred,y_test))\n",
    "knn_tune_rmse"
   ]
  },
  {
   "cell_type": "code",
   "execution_count": 73,
   "metadata": {},
   "outputs": [
    {
     "data": {
      "text/plain": [
       "0.2766778384848684"
      ]
     },
     "execution_count": 73,
     "metadata": {},
     "output_type": "execute_result"
    }
   ],
   "source": [
    "# R2 score for KNN after parameter tuning\n",
    "knn_tune_r2score = metrics.r2_score(knnr_pred,y_test)\n",
    "knn_tune_r2score"
   ]
  },
  {
   "cell_type": "code",
   "execution_count": 74,
   "metadata": {},
   "outputs": [
    {
     "data": {
      "text/plain": [
       "0.7162344956472382"
      ]
     },
     "execution_count": 74,
     "metadata": {},
     "output_type": "execute_result"
    }
   ],
   "source": [
    "# Train score for KNN after parameter tuning\n",
    "knn_tune_train = knn.score(x_train,y_train)\n",
    "knn_tune_train"
   ]
  },
  {
   "cell_type": "code",
   "execution_count": 75,
   "metadata": {},
   "outputs": [
    {
     "data": {
      "text/plain": [
       "0.5879661574098767"
      ]
     },
     "execution_count": 75,
     "metadata": {},
     "output_type": "execute_result"
    }
   ],
   "source": [
    "# Test score for KNN after parameter tuning\n",
    "knn_tune_test = knn.score(x_test,y_test)\n",
    "knn_tune_test"
   ]
  },
  {
   "cell_type": "markdown",
   "metadata": {},
   "source": [
    "### Ada Boost Classifier <a id = 'ada'>"
   ]
  },
  {
   "cell_type": "code",
   "execution_count": 76,
   "metadata": {},
   "outputs": [],
   "source": [
    "# Fitting the Ada Boost model\n",
    "from sklearn.ensemble import AdaBoostRegressor\n",
    "ab = AdaBoostRegressor()\n",
    "ab.fit(x_train,y_train)\n",
    "ab_pred = ab.predict(x_test)"
   ]
  },
  {
   "cell_type": "code",
   "execution_count": 77,
   "metadata": {},
   "outputs": [
    {
     "data": {
      "text/plain": [
       "0.7664887443492865"
      ]
     },
     "execution_count": 77,
     "metadata": {},
     "output_type": "execute_result"
    }
   ],
   "source": [
    "# RMSE score for Ada Boost\n",
    "ab_rmse = np.sqrt(metrics.mean_squared_error(ab_pred,y_test))\n",
    "ab_rmse"
   ]
  },
  {
   "cell_type": "code",
   "execution_count": 78,
   "metadata": {},
   "outputs": [
    {
     "data": {
      "text/plain": [
       "0.8177622353628705"
      ]
     },
     "execution_count": 78,
     "metadata": {},
     "output_type": "execute_result"
    }
   ],
   "source": [
    "# R2 score for Ada Boost\n",
    "ab_r2score = metrics.r2_score(ab_pred,y_test)\n",
    "ab_r2score"
   ]
  },
  {
   "cell_type": "code",
   "execution_count": 79,
   "metadata": {},
   "outputs": [
    {
     "data": {
      "text/plain": [
       "0.828608434682612"
      ]
     },
     "execution_count": 79,
     "metadata": {},
     "output_type": "execute_result"
    }
   ],
   "source": [
    "# Train score for Ada Boost\n",
    "ab_train = ab.score(x_train,y_train)\n",
    "ab_train"
   ]
  },
  {
   "cell_type": "code",
   "execution_count": 80,
   "metadata": {},
   "outputs": [
    {
     "data": {
      "text/plain": [
       "0.826317135142692"
      ]
     },
     "execution_count": 80,
     "metadata": {},
     "output_type": "execute_result"
    }
   ],
   "source": [
    "# Test score for Ada Boost\n",
    "ab_test = ab.score(x_test,y_test)\n",
    "ab_test"
   ]
  },
  {
   "cell_type": "markdown",
   "metadata": {},
   "source": [
    "**Parameter Tuning**"
   ]
  },
  {
   "cell_type": "code",
   "execution_count": 81,
   "metadata": {},
   "outputs": [
    {
     "name": "stdout",
     "output_type": "stream",
     "text": [
      "Fitting 5 folds for each of 10 candidates, totalling 50 fits\n"
     ]
    },
    {
     "name": "stderr",
     "output_type": "stream",
     "text": [
      "[Parallel(n_jobs=-1)]: Using backend LokyBackend with 8 concurrent workers.\n",
      "[Parallel(n_jobs=-1)]: Done  25 tasks      | elapsed:    4.4s\n",
      "[Parallel(n_jobs=-1)]: Done  50 out of  50 | elapsed:    4.8s finished\n"
     ]
    },
    {
     "data": {
      "text/plain": [
       "RandomizedSearchCV(cv=5, estimator=AdaBoostRegressor(), n_jobs=-1,\n",
       "                   param_distributions={'learning_rate': [0.01, 0.05, 0.1, 0.5,\n",
       "                                                          1],\n",
       "                                        'loss': ['linear', 'square',\n",
       "                                                 'exponential'],\n",
       "                                        'n_estimators': range(5, 20, 2)},\n",
       "                   verbose=2)"
      ]
     },
     "execution_count": 81,
     "metadata": {},
     "output_type": "execute_result"
    }
   ],
   "source": [
    "# Finding the optimal parameters for Ada Boost Regressor using Randomized Search CV\n",
    "\n",
    "param_grid1 = {\"n_estimators\": range(5,20,2) ,  \n",
    "              \"learning_rate\": [0.01,0.05,0.1,0.5,1],'loss':['linear','square','exponential']}\n",
    " \n",
    "\n",
    "AB = RandomizedSearchCV(ab,param_distributions=param_grid1,\n",
    "                           cv = 5,\n",
    "                           n_jobs=-1,\n",
    "                           verbose=2)\n",
    "AB.fit(x,y)"
   ]
  },
  {
   "cell_type": "code",
   "execution_count": 82,
   "metadata": {},
   "outputs": [
    {
     "data": {
      "text/plain": [
       "{'n_estimators': 9, 'loss': 'linear', 'learning_rate': 0.5}"
      ]
     },
     "execution_count": 82,
     "metadata": {},
     "output_type": "execute_result"
    }
   ],
   "source": [
    "# optimal parameters\n",
    "AB.best_params_"
   ]
  },
  {
   "cell_type": "code",
   "execution_count": 83,
   "metadata": {},
   "outputs": [],
   "source": [
    "# Fitting the model after parameter tuning\n",
    "abr = AdaBoostRegressor(n_estimators=9,learning_rate=0.5,loss='linear')\n",
    "abr.fit(x_train,y_train)\n",
    "abr_pred = abr.predict(x_test)"
   ]
  },
  {
   "cell_type": "code",
   "execution_count": 84,
   "metadata": {},
   "outputs": [
    {
     "data": {
      "text/plain": [
       "0.7580484774685542"
      ]
     },
     "execution_count": 84,
     "metadata": {},
     "output_type": "execute_result"
    }
   ],
   "source": [
    "# RMSE score for Ada Boost after parameter tuning\n",
    "ab_tune_rmse = np.sqrt(metrics.mean_squared_error(abr_pred,y_test))\n",
    "ab_tune_rmse"
   ]
  },
  {
   "cell_type": "code",
   "execution_count": 85,
   "metadata": {},
   "outputs": [
    {
     "data": {
      "text/plain": [
       "0.8078038639125839"
      ]
     },
     "execution_count": 85,
     "metadata": {},
     "output_type": "execute_result"
    }
   ],
   "source": [
    "# R2 score for Ada Boost after parameter tuning\n",
    "ab_tune_r2score = metrics.r2_score(abr_pred,y_test)\n",
    "ab_tune_r2score"
   ]
  },
  {
   "cell_type": "code",
   "execution_count": 86,
   "metadata": {},
   "outputs": [
    {
     "data": {
      "text/plain": [
       "0.8296826177182797"
      ]
     },
     "execution_count": 86,
     "metadata": {},
     "output_type": "execute_result"
    }
   ],
   "source": [
    "# Train score for Ada Boost after parameter tuning\n",
    "ab_tune_train = abr.score(x_train,y_train)\n",
    "ab_tune_train"
   ]
  },
  {
   "cell_type": "code",
   "execution_count": 87,
   "metadata": {},
   "outputs": [
    {
     "data": {
      "text/plain": [
       "0.8301211273797244"
      ]
     },
     "execution_count": 87,
     "metadata": {},
     "output_type": "execute_result"
    }
   ],
   "source": [
    "# Test score for Ada Boost after parameter tuning\n",
    "ab_tune_test = abr.score(x_test,y_test)\n",
    "ab_tune_test"
   ]
  },
  {
   "cell_type": "markdown",
   "metadata": {},
   "source": [
    "### Gradient Boosting <a id = 'grad'>"
   ]
  },
  {
   "cell_type": "code",
   "execution_count": 88,
   "metadata": {},
   "outputs": [],
   "source": [
    "# Fitting the Gradient Boost model\n",
    "from sklearn.ensemble import GradientBoostingRegressor\n",
    "gb = GradientBoostingRegressor()\n",
    "gb.fit(x_train,y_train)\n",
    "gb_pred = gb.predict(x_test)"
   ]
  },
  {
   "cell_type": "code",
   "execution_count": 89,
   "metadata": {},
   "outputs": [
    {
     "data": {
      "text/plain": [
       "0.7386806543811121"
      ]
     },
     "execution_count": 89,
     "metadata": {},
     "output_type": "execute_result"
    }
   ],
   "source": [
    "# RMSE score for Gradient Boosting\n",
    "gb_rmse = np.sqrt(metrics.mean_squared_error(gb_pred,y_test))\n",
    "gb_rmse"
   ]
  },
  {
   "cell_type": "code",
   "execution_count": 90,
   "metadata": {},
   "outputs": [
    {
     "data": {
      "text/plain": [
       "0.8090391195706546"
      ]
     },
     "execution_count": 90,
     "metadata": {},
     "output_type": "execute_result"
    }
   ],
   "source": [
    "# R2 score for Gradient Boosting\n",
    "gb_r2score = metrics.r2_score(gb_pred,y_test)\n",
    "gb_r2score"
   ]
  },
  {
   "cell_type": "code",
   "execution_count": 91,
   "metadata": {},
   "outputs": [
    {
     "data": {
      "text/plain": [
       "0.8540639577270662"
      ]
     },
     "execution_count": 91,
     "metadata": {},
     "output_type": "execute_result"
    }
   ],
   "source": [
    "# Train score for Gradient Boosting\n",
    "gb_train = gb.score(x_train,y_train)\n",
    "gb_train"
   ]
  },
  {
   "cell_type": "code",
   "execution_count": 92,
   "metadata": {},
   "outputs": [
    {
     "data": {
      "text/plain": [
       "0.838690902618341"
      ]
     },
     "execution_count": 92,
     "metadata": {},
     "output_type": "execute_result"
    }
   ],
   "source": [
    "# Test score for Gradient Boosting\n",
    "gb_test = gb.score(x_test,y_test)\n",
    "gb_test"
   ]
  },
  {
   "cell_type": "markdown",
   "metadata": {},
   "source": [
    "**Parameter tuning**"
   ]
  },
  {
   "cell_type": "code",
   "execution_count": 93,
   "metadata": {},
   "outputs": [
    {
     "name": "stdout",
     "output_type": "stream",
     "text": [
      "Fitting 5 folds for each of 10 candidates, totalling 50 fits\n"
     ]
    },
    {
     "name": "stderr",
     "output_type": "stream",
     "text": [
      "[Parallel(n_jobs=-1)]: Using backend LokyBackend with 8 concurrent workers.\n",
      "[Parallel(n_jobs=-1)]: Done  50 out of  50 | elapsed:    0.5s finished\n"
     ]
    },
    {
     "data": {
      "text/plain": [
       "RandomizedSearchCV(cv=5, estimator=GradientBoostingRegressor(), n_jobs=-1,\n",
       "                   param_distributions={'learning_rate': [0.01, 0.05, 0.1, 0.5,\n",
       "                                                          1],\n",
       "                                        'n_estimators': range(5, 20, 2)},\n",
       "                   verbose=2)"
      ]
     },
     "execution_count": 93,
     "metadata": {},
     "output_type": "execute_result"
    }
   ],
   "source": [
    "# Finding the optimal parameters For Gradient Boosting Regressor using Randomized Search CV\n",
    "\n",
    "param_grid1 = {\"n_estimators\": range(5,20,2) ,  \n",
    "              \"learning_rate\": [0.01,0.05,0.1,0.5,1]}\n",
    " \n",
    "\n",
    "GB = RandomizedSearchCV(gb,param_distributions=param_grid1,\n",
    "                           cv = 5,\n",
    "                           n_jobs=-1,\n",
    "                           verbose=2)\n",
    "GB.fit(x,y)"
   ]
  },
  {
   "cell_type": "code",
   "execution_count": 94,
   "metadata": {},
   "outputs": [
    {
     "data": {
      "text/plain": [
       "{'n_estimators': 13, 'learning_rate': 0.5}"
      ]
     },
     "execution_count": 94,
     "metadata": {},
     "output_type": "execute_result"
    }
   ],
   "source": [
    "# optimal parameters\n",
    "GB.best_params_"
   ]
  },
  {
   "cell_type": "code",
   "execution_count": 96,
   "metadata": {},
   "outputs": [],
   "source": [
    "# Fitting the Gradient model after parameter tuning\n",
    "gbr = GradientBoostingRegressor(n_estimators=13,learning_rate=0.5)\n",
    "gbr.fit(x_train,y_train)\n",
    "gbr_pred = gbr.predict(x_test)"
   ]
  },
  {
   "cell_type": "code",
   "execution_count": 97,
   "metadata": {},
   "outputs": [
    {
     "data": {
      "text/plain": [
       "0.7412901396855301"
      ]
     },
     "execution_count": 97,
     "metadata": {},
     "output_type": "execute_result"
    }
   ],
   "source": [
    "# RMSE score for Gradient Boosting after parameter tuning\n",
    "gb_tune_rmse = np.sqrt(metrics.mean_squared_error(gbr_pred,y_test))\n",
    "gb_tune_rmse"
   ]
  },
  {
   "cell_type": "code",
   "execution_count": 98,
   "metadata": {},
   "outputs": [
    {
     "data": {
      "text/plain": [
       "0.8104290418298172"
      ]
     },
     "execution_count": 98,
     "metadata": {},
     "output_type": "execute_result"
    }
   ],
   "source": [
    "# R2 score for Gradient Boosting after parameter tuning\n",
    "gb_tune_r2score = metrics.r2_score(gbr_pred,y_test)\n",
    "gb_tune_r2score"
   ]
  },
  {
   "cell_type": "code",
   "execution_count": 99,
   "metadata": {},
   "outputs": [
    {
     "data": {
      "text/plain": [
       "0.8487001198614198"
      ]
     },
     "execution_count": 99,
     "metadata": {},
     "output_type": "execute_result"
    }
   ],
   "source": [
    "# Train score for Gradient Boosting after parameter tuning\n",
    "gb_tune_train = gbr.score(x_train,y_train)\n",
    "gb_tune_train"
   ]
  },
  {
   "cell_type": "code",
   "execution_count": 100,
   "metadata": {},
   "outputs": [
    {
     "data": {
      "text/plain": [
       "0.8375491989116343"
      ]
     },
     "execution_count": 100,
     "metadata": {},
     "output_type": "execute_result"
    }
   ],
   "source": [
    "# Test score for parameter tuning\n",
    "gb_tune_test = gbr.score(x_test,y_test)\n",
    "gb_tune_test"
   ]
  },
  {
   "cell_type": "markdown",
   "metadata": {},
   "source": [
    "### XG Boost <a id = 'xgb'>"
   ]
  },
  {
   "cell_type": "code",
   "execution_count": 101,
   "metadata": {},
   "outputs": [
    {
     "name": "stderr",
     "output_type": "stream",
     "text": [
      "C:\\ProgramData\\Anaconda3\\lib\\site-packages\\dask\\config.py:168: YAMLLoadWarning: calling yaml.load() without Loader=... is deprecated, as the default Loader is unsafe. Please read https://msg.pyyaml.org/load for full details.\n",
      "  data = yaml.load(f.read()) or {}\n",
      "C:\\ProgramData\\Anaconda3\\lib\\site-packages\\dask\\dataframe\\utils.py:13: FutureWarning: pandas.util.testing is deprecated. Use the functions in the public API at pandas.testing instead.\n",
      "  import pandas.util.testing as tm\n",
      "C:\\ProgramData\\Anaconda3\\lib\\site-packages\\distributed\\config.py:20: YAMLLoadWarning: calling yaml.load() without Loader=... is deprecated, as the default Loader is unsafe. Please read https://msg.pyyaml.org/load for full details.\n",
      "  defaults = yaml.load(f)\n"
     ]
    }
   ],
   "source": [
    "from xgboost.sklearn import XGBRegressor"
   ]
  },
  {
   "cell_type": "code",
   "execution_count": 102,
   "metadata": {},
   "outputs": [],
   "source": [
    "# Fitting the model\n",
    "xgb = XGBRegressor()"
   ]
  },
  {
   "cell_type": "code",
   "execution_count": 103,
   "metadata": {},
   "outputs": [
    {
     "data": {
      "text/plain": [
       "XGBRegressor(base_score=0.5, booster='gbtree', colsample_bylevel=1,\n",
       "             colsample_bynode=1, colsample_bytree=1, gamma=0, gpu_id=-1,\n",
       "             importance_type='gain', interaction_constraints='',\n",
       "             learning_rate=0.300000012, max_delta_step=0, max_depth=6,\n",
       "             min_child_weight=1, missing=nan, monotone_constraints='()',\n",
       "             n_estimators=100, n_jobs=0, num_parallel_tree=1, random_state=0,\n",
       "             reg_alpha=0, reg_lambda=1, scale_pos_weight=1, subsample=1,\n",
       "             tree_method='exact', validate_parameters=1, verbosity=None)"
      ]
     },
     "execution_count": 103,
     "metadata": {},
     "output_type": "execute_result"
    }
   ],
   "source": [
    "# Training the model\n",
    "xgb.fit(x_train, y_train)"
   ]
  },
  {
   "cell_type": "code",
   "execution_count": 104,
   "metadata": {},
   "outputs": [],
   "source": [
    "# Testing the model\n",
    "xgb_pred=xgb.predict(x_test)"
   ]
  },
  {
   "cell_type": "code",
   "execution_count": 105,
   "metadata": {},
   "outputs": [
    {
     "data": {
      "text/plain": [
       "0.7893424213171168"
      ]
     },
     "execution_count": 105,
     "metadata": {},
     "output_type": "execute_result"
    }
   ],
   "source": [
    "# RMSE score for XG Boost\n",
    "xgb_rmse = np.sqrt(metrics.mean_squared_error(xgb_pred,y_test))\n",
    "xgb_rmse"
   ]
  },
  {
   "cell_type": "code",
   "execution_count": 106,
   "metadata": {},
   "outputs": [
    {
     "data": {
      "text/plain": [
       "0.7946803127142945"
      ]
     },
     "execution_count": 106,
     "metadata": {},
     "output_type": "execute_result"
    }
   ],
   "source": [
    "# R2 score for XG Boost\n",
    "xgb_r2score = metrics.r2_score(xgb_pred,y_test)\n",
    "xgb_r2score"
   ]
  },
  {
   "cell_type": "code",
   "execution_count": 107,
   "metadata": {},
   "outputs": [
    {
     "data": {
      "text/plain": [
       "0.9466888776383516"
      ]
     },
     "execution_count": 107,
     "metadata": {},
     "output_type": "execute_result"
    }
   ],
   "source": [
    "# Train score for XG Boost\n",
    "xgb_train = xgb.score(x_train,y_train)\n",
    "xgb_train"
   ]
  },
  {
   "cell_type": "code",
   "execution_count": 108,
   "metadata": {},
   "outputs": [
    {
     "data": {
      "text/plain": [
       "0.8158056528797142"
      ]
     },
     "execution_count": 108,
     "metadata": {},
     "output_type": "execute_result"
    }
   ],
   "source": [
    "# Test score for XG Boost\n",
    "xgb_test = xgb.score(x_test,y_test)\n",
    "xgb_test"
   ]
  },
  {
   "cell_type": "markdown",
   "metadata": {},
   "source": [
    "**Parameter Tuning**"
   ]
  },
  {
   "cell_type": "code",
   "execution_count": 109,
   "metadata": {},
   "outputs": [
    {
     "data": {
      "text/plain": [
       "RandomizedSearchCV(cv=5,\n",
       "                   estimator=XGBRegressor(base_score=0.5, booster='gbtree',\n",
       "                                          colsample_bylevel=1,\n",
       "                                          colsample_bynode=1,\n",
       "                                          colsample_bytree=1, gamma=0,\n",
       "                                          gpu_id=-1, importance_type='gain',\n",
       "                                          interaction_constraints='',\n",
       "                                          learning_rate=0.300000012,\n",
       "                                          max_delta_step=0, max_depth=6,\n",
       "                                          min_child_weight=1, missing=nan,\n",
       "                                          monotone_constraints='()',\n",
       "                                          n_estimators=100, n_jobs=0,\n",
       "                                          num_parallel_tree=1, random_state=0,\n",
       "                                          reg_alpha=0, reg_lambda=1,\n",
       "                                          scale_pos_weight=1, subsample=1,\n",
       "                                          tree_method='exact',\n",
       "                                          validate_parameters=1,\n",
       "                                          verbosity=None),\n",
       "                   param_distributions={'gamma': [0.03, 0.05],\n",
       "                                        'learning_rate': [0.01, 0.05],\n",
       "                                        'max_depth': [10, 15, 20, 30],\n",
       "                                        'n_estimators': range(5, 20, 2)})"
      ]
     },
     "execution_count": 109,
     "metadata": {},
     "output_type": "execute_result"
    }
   ],
   "source": [
    "# Finding optimal parameters for XG Boost Regressor using Randomized Search CV\n",
    "param_grid1 = {\"max_depth\": [10,15,20,30],\n",
    "              \"n_estimators\": range(5,20,2) , \n",
    "              \"gamma\": [0.03,0.05], \n",
    "              \"learning_rate\": [0.01,0.05]}\n",
    " \n",
    "\n",
    "XGB = RandomizedSearchCV(xgb,param_distributions=param_grid1,\n",
    "                           cv = 5)\n",
    "XGB.fit(x,y)"
   ]
  },
  {
   "cell_type": "code",
   "execution_count": 110,
   "metadata": {},
   "outputs": [
    {
     "data": {
      "text/plain": [
       "{'n_estimators': 19, 'max_depth': 30, 'learning_rate': 0.05, 'gamma': 0.05}"
      ]
     },
     "execution_count": 110,
     "metadata": {},
     "output_type": "execute_result"
    }
   ],
   "source": [
    "# optimal parameters\n",
    "XGB.best_params_"
   ]
  },
  {
   "cell_type": "code",
   "execution_count": 111,
   "metadata": {},
   "outputs": [],
   "source": [
    "# Fitting the model after parameter tuning\n",
    "xgbr = XGBRegressor(n_estimators=19,max_depth=30,learning_rate=0.05,gamma=0.05)"
   ]
  },
  {
   "cell_type": "code",
   "execution_count": 112,
   "metadata": {},
   "outputs": [
    {
     "data": {
      "text/plain": [
       "XGBRegressor(base_score=0.5, booster='gbtree', colsample_bylevel=1,\n",
       "             colsample_bynode=1, colsample_bytree=1, gamma=0.05, gpu_id=-1,\n",
       "             importance_type='gain', interaction_constraints='',\n",
       "             learning_rate=0.05, max_delta_step=0, max_depth=30,\n",
       "             min_child_weight=1, missing=nan, monotone_constraints='()',\n",
       "             n_estimators=19, n_jobs=0, num_parallel_tree=1, random_state=0,\n",
       "             reg_alpha=0, reg_lambda=1, scale_pos_weight=1, subsample=1,\n",
       "             tree_method='exact', validate_parameters=1, verbosity=None)"
      ]
     },
     "execution_count": 112,
     "metadata": {},
     "output_type": "execute_result"
    }
   ],
   "source": [
    "# Training the model after parameter tuning\n",
    "xgbr.fit(x_train,y_train)"
   ]
  },
  {
   "cell_type": "code",
   "execution_count": 113,
   "metadata": {},
   "outputs": [],
   "source": [
    "# Testing the model after parameter tuning\n",
    "xgbr_pred = xgbr.predict(x_test)"
   ]
  },
  {
   "cell_type": "code",
   "execution_count": 114,
   "metadata": {},
   "outputs": [
    {
     "data": {
      "text/plain": [
       "6.0627332121573"
      ]
     },
     "execution_count": 114,
     "metadata": {},
     "output_type": "execute_result"
    }
   ],
   "source": [
    "# RMSE score for XG Boost after parameter tuning\n",
    "xgb_tune_rmse = np.sqrt(metrics.mean_squared_error(xgbr_pred,y_test))\n",
    "xgb_tune_rmse"
   ]
  },
  {
   "cell_type": "code",
   "execution_count": 115,
   "metadata": {},
   "outputs": [
    {
     "data": {
      "text/plain": [
       "-33.0150522713655"
      ]
     },
     "execution_count": 115,
     "metadata": {},
     "output_type": "execute_result"
    }
   ],
   "source": [
    "# R2 score for XG Boost after parameter tuning\n",
    "xgb_tune_r2score = metrics.r2_score(xgbr_pred,y_test)\n",
    "xgb_tune_r2score"
   ]
  },
  {
   "cell_type": "code",
   "execution_count": 116,
   "metadata": {},
   "outputs": [
    {
     "data": {
      "text/plain": [
       "-10.092954276656869"
      ]
     },
     "execution_count": 116,
     "metadata": {},
     "output_type": "execute_result"
    }
   ],
   "source": [
    "# Train score for XG Boost after parameter tuning\n",
    "xgb_tune_train = xgbr.score(x_train,y_train)\n",
    "xgb_tune_train"
   ]
  },
  {
   "cell_type": "code",
   "execution_count": 117,
   "metadata": {},
   "outputs": [
    {
     "data": {
      "text/plain": [
       "-9.866315888774412"
      ]
     },
     "execution_count": 117,
     "metadata": {},
     "output_type": "execute_result"
    }
   ],
   "source": [
    "# Test score for XG Boost after parameter tuning\n",
    "xgb_tune_test = xgbr.score(x_test,y_test)\n",
    "xgb_tune_test"
   ]
  },
  {
   "cell_type": "markdown",
   "metadata": {},
   "source": [
    "### 8.9 Comparison Table <a id = 'ct'>"
   ]
  },
  {
   "cell_type": "code",
   "execution_count": 118,
   "metadata": {},
   "outputs": [],
   "source": [
    "# Creating dictionary for all the metrics and models\n",
    "metrics = {'Metrics': ['Before Parameter Tune Train Score','Before Parameter Tune Test Score','After Parameter Tune Train Score','After Parameter Tune Test Score','Before Parameter Tune RMSE Score','After Parameter Tune RMSE Score','Before Parameter Tune R2 Score','After Parameter Tune R2 Score'],'Linear Regression':[lr_train,lr_test,'NA','NA',lr_rmse,'NA',lr_r2score,'NA'],\n",
    "          'Decision Tree Regressor':[dt_train,dt_test,dt_tune_train,dt_tune_train,dt_rmse,dt_tune_rmse,dt_r2score,dt_tune_r2score],'Ramdom Forest Regressor':[rf_train,rf_test,rf_tune_train,rf_tune_test,rf_rmse,rf_tune_rmse,rf_r2score,rf_tune_r2score],'Support Vector Regressor':[svm_train,svm_test,'NA','NA',svm_rmse,'NA',svm_r2score,'NA'],\n",
    "          'KNearestNeighbor Regressor':[knn_train,knn_test,knn_tune_train,knn_tune_test,knn_rmse,knn_tune_rmse,knn_r2score,knn_tune_r2score],\n",
    "          'XG Boost Regressor':[xgb_train,xgb_test,xgb_tune_train,xgb_tune_test,xgb_rmse,xgb_tune_rmse,xgb_r2score,xgb_tune_r2score],\n",
    "          'Ada Boost Regressor':[ab_train,ab_test,ab_tune_train,ab_tune_test,ab_rmse,ab_tune_rmse,ab_r2score,ab_tune_r2score],\n",
    "          'Gradient Boosting Regressor':[gb_train,gb_test,gb_tune_train,gb_tune_test,gb_rmse,gb_tune_rmse,gb_r2score,gb_tune_r2score]}"
   ]
  },
  {
   "cell_type": "code",
   "execution_count": 119,
   "metadata": {},
   "outputs": [],
   "source": [
    "# Converting dictionary to dataframe\n",
    "metrics = pd.DataFrame(metrics)"
   ]
  },
  {
   "cell_type": "code",
   "execution_count": 120,
   "metadata": {},
   "outputs": [
    {
     "data": {
      "text/html": [
       "<div>\n",
       "<style scoped>\n",
       "    .dataframe tbody tr th:only-of-type {\n",
       "        vertical-align: middle;\n",
       "    }\n",
       "\n",
       "    .dataframe tbody tr th {\n",
       "        vertical-align: top;\n",
       "    }\n",
       "\n",
       "    .dataframe thead th {\n",
       "        text-align: right;\n",
       "    }\n",
       "</style>\n",
       "<table border=\"1\" class=\"dataframe\">\n",
       "  <thead>\n",
       "    <tr style=\"text-align: right;\">\n",
       "      <th></th>\n",
       "      <th>Metrics</th>\n",
       "      <th>Linear Regression</th>\n",
       "      <th>Decision Tree Regressor</th>\n",
       "      <th>Ramdom Forest Regressor</th>\n",
       "      <th>Support Vector Regressor</th>\n",
       "      <th>KNearestNeighbor Regressor</th>\n",
       "      <th>XG Boost Regressor</th>\n",
       "      <th>Ada Boost Regressor</th>\n",
       "      <th>Gradient Boosting Regressor</th>\n",
       "    </tr>\n",
       "  </thead>\n",
       "  <tbody>\n",
       "    <tr>\n",
       "      <th>0</th>\n",
       "      <td>Before Parameter Tune Train Score</td>\n",
       "      <td>0.833835</td>\n",
       "      <td>1.000000</td>\n",
       "      <td>0.973712</td>\n",
       "      <td>0.408615</td>\n",
       "      <td>0.700394</td>\n",
       "      <td>0.946689</td>\n",
       "      <td>0.828608</td>\n",
       "      <td>0.854064</td>\n",
       "    </tr>\n",
       "    <tr>\n",
       "      <th>1</th>\n",
       "      <td>Before Parameter Tune Test Score</td>\n",
       "      <td>0.836368</td>\n",
       "      <td>0.673194</td>\n",
       "      <td>0.820743</td>\n",
       "      <td>0.3977</td>\n",
       "      <td>0.533048</td>\n",
       "      <td>0.815806</td>\n",
       "      <td>0.826317</td>\n",
       "      <td>0.838691</td>\n",
       "    </tr>\n",
       "    <tr>\n",
       "      <th>2</th>\n",
       "      <td>After Parameter Tune Train Score</td>\n",
       "      <td>NA</td>\n",
       "      <td>0.857010</td>\n",
       "      <td>0.855436</td>\n",
       "      <td>NA</td>\n",
       "      <td>0.716234</td>\n",
       "      <td>-10.092954</td>\n",
       "      <td>0.829683</td>\n",
       "      <td>0.848700</td>\n",
       "    </tr>\n",
       "    <tr>\n",
       "      <th>3</th>\n",
       "      <td>After Parameter Tune Test Score</td>\n",
       "      <td>NA</td>\n",
       "      <td>0.857010</td>\n",
       "      <td>0.837295</td>\n",
       "      <td>NA</td>\n",
       "      <td>0.587966</td>\n",
       "      <td>-9.866316</td>\n",
       "      <td>0.830121</td>\n",
       "      <td>0.837549</td>\n",
       "    </tr>\n",
       "    <tr>\n",
       "      <th>4</th>\n",
       "      <td>Before Parameter Tune RMSE Score</td>\n",
       "      <td>0.74398</td>\n",
       "      <td>1.051411</td>\n",
       "      <td>0.778692</td>\n",
       "      <td>1.42736</td>\n",
       "      <td>1.256792</td>\n",
       "      <td>0.789342</td>\n",
       "      <td>0.766489</td>\n",
       "      <td>0.738681</td>\n",
       "    </tr>\n",
       "    <tr>\n",
       "      <th>5</th>\n",
       "      <td>After Parameter Tune RMSE Score</td>\n",
       "      <td>NA</td>\n",
       "      <td>0.784718</td>\n",
       "      <td>0.741869</td>\n",
       "      <td>NA</td>\n",
       "      <td>1.180575</td>\n",
       "      <td>6.062733</td>\n",
       "      <td>0.758048</td>\n",
       "      <td>0.741290</td>\n",
       "    </tr>\n",
       "    <tr>\n",
       "      <th>6</th>\n",
       "      <td>Before Parameter Tune R2 Score</td>\n",
       "      <td>0.80699</td>\n",
       "      <td>0.683524</td>\n",
       "      <td>0.798877</td>\n",
       "      <td>-0.664459</td>\n",
       "      <td>0.188207</td>\n",
       "      <td>0.794680</td>\n",
       "      <td>0.817762</td>\n",
       "      <td>0.809039</td>\n",
       "    </tr>\n",
       "    <tr>\n",
       "      <th>7</th>\n",
       "      <td>After Parameter Tune R2 Score</td>\n",
       "      <td>NA</td>\n",
       "      <td>0.796326</td>\n",
       "      <td>0.811484</td>\n",
       "      <td>NA</td>\n",
       "      <td>0.276678</td>\n",
       "      <td>-33.015052</td>\n",
       "      <td>0.807804</td>\n",
       "      <td>0.810429</td>\n",
       "    </tr>\n",
       "  </tbody>\n",
       "</table>\n",
       "</div>"
      ],
      "text/plain": [
       "                             Metrics Linear Regression  \\\n",
       "0  Before Parameter Tune Train Score          0.833835   \n",
       "1   Before Parameter Tune Test Score          0.836368   \n",
       "2   After Parameter Tune Train Score                NA   \n",
       "3    After Parameter Tune Test Score                NA   \n",
       "4   Before Parameter Tune RMSE Score           0.74398   \n",
       "5    After Parameter Tune RMSE Score                NA   \n",
       "6     Before Parameter Tune R2 Score           0.80699   \n",
       "7      After Parameter Tune R2 Score                NA   \n",
       "\n",
       "   Decision Tree Regressor  Ramdom Forest Regressor Support Vector Regressor  \\\n",
       "0                 1.000000                 0.973712                 0.408615   \n",
       "1                 0.673194                 0.820743                   0.3977   \n",
       "2                 0.857010                 0.855436                       NA   \n",
       "3                 0.857010                 0.837295                       NA   \n",
       "4                 1.051411                 0.778692                  1.42736   \n",
       "5                 0.784718                 0.741869                       NA   \n",
       "6                 0.683524                 0.798877                -0.664459   \n",
       "7                 0.796326                 0.811484                       NA   \n",
       "\n",
       "   KNearestNeighbor Regressor  XG Boost Regressor  Ada Boost Regressor  \\\n",
       "0                    0.700394            0.946689             0.828608   \n",
       "1                    0.533048            0.815806             0.826317   \n",
       "2                    0.716234          -10.092954             0.829683   \n",
       "3                    0.587966           -9.866316             0.830121   \n",
       "4                    1.256792            0.789342             0.766489   \n",
       "5                    1.180575            6.062733             0.758048   \n",
       "6                    0.188207            0.794680             0.817762   \n",
       "7                    0.276678          -33.015052             0.807804   \n",
       "\n",
       "   Gradient Boosting Regressor  \n",
       "0                     0.854064  \n",
       "1                     0.838691  \n",
       "2                     0.848700  \n",
       "3                     0.837549  \n",
       "4                     0.738681  \n",
       "5                     0.741290  \n",
       "6                     0.809039  \n",
       "7                     0.810429  "
      ]
     },
     "execution_count": 120,
     "metadata": {},
     "output_type": "execute_result"
    }
   ],
   "source": [
    "# Dataframe of metrics\n",
    "metrics"
   ]
  },
  {
   "cell_type": "markdown",
   "metadata": {},
   "source": [
    "**Comparing all the models Gradient Boosting Regressor,Ada Boost Regressor and Random Forest Regressor are good models**"
   ]
  },
  {
   "cell_type": "markdown",
   "metadata": {},
   "source": [
    "### 9. Perform the Stacking models Voting and Mlxtend and analyze the metrics"
   ]
  },
  {
   "cell_type": "markdown",
   "metadata": {},
   "source": [
    "### Voting Regressor <a id = 'vr'>"
   ]
  },
  {
   "cell_type": "code",
   "execution_count": 121,
   "metadata": {},
   "outputs": [],
   "source": [
    "# Assigning estimator models for voting classifier\n",
    "vote_est = [('rf',rf),('lr',lr),('SVM',svm)]"
   ]
  },
  {
   "cell_type": "code",
   "execution_count": 122,
   "metadata": {},
   "outputs": [],
   "source": [
    "# Importing Voting Regressor\n",
    "from sklearn.ensemble import VotingRegressor\n",
    "vote = VotingRegressor(estimators=vote_est)"
   ]
  },
  {
   "cell_type": "code",
   "execution_count": 123,
   "metadata": {},
   "outputs": [
    {
     "data": {
      "text/plain": [
       "VotingRegressor(estimators=[('rf', RandomForestRegressor()),\n",
       "                            ('lr', LinearRegression()), ('SVM', SVR())])"
      ]
     },
     "execution_count": 123,
     "metadata": {},
     "output_type": "execute_result"
    }
   ],
   "source": [
    "# Fitting the model\n",
    "vote.fit(x_train,y_train)"
   ]
  },
  {
   "cell_type": "code",
   "execution_count": 124,
   "metadata": {},
   "outputs": [],
   "source": [
    "# Testing the model\n",
    "vote_pred = vote.predict(x_test)"
   ]
  },
  {
   "cell_type": "code",
   "execution_count": 125,
   "metadata": {},
   "outputs": [],
   "source": [
    "# Importing metrics\n",
    "from sklearn import metrics"
   ]
  },
  {
   "cell_type": "code",
   "execution_count": 126,
   "metadata": {},
   "outputs": [
    {
     "data": {
      "text/plain": [
       "0.8344387045736845"
      ]
     },
     "execution_count": 126,
     "metadata": {},
     "output_type": "execute_result"
    }
   ],
   "source": [
    "# RMSE score for Voting Regressor\n",
    "vote_rmse = np.sqrt(metrics.mean_squared_error(vote_pred,y_test))\n",
    "vote_rmse"
   ]
  },
  {
   "cell_type": "code",
   "execution_count": 127,
   "metadata": {},
   "outputs": [
    {
     "data": {
      "text/plain": [
       "0.6526126520579847"
      ]
     },
     "execution_count": 127,
     "metadata": {},
     "output_type": "execute_result"
    }
   ],
   "source": [
    "# R2 score for Voting Regressor\n",
    "vote_r2score = metrics.r2_score(vote_pred,y_test)\n",
    "vote_r2score"
   ]
  },
  {
   "cell_type": "code",
   "execution_count": 128,
   "metadata": {},
   "outputs": [
    {
     "data": {
      "text/plain": [
       "0.8489744760426136"
      ]
     },
     "execution_count": 128,
     "metadata": {},
     "output_type": "execute_result"
    }
   ],
   "source": [
    "# Train score for Voting Regressor\n",
    "vote_train = vote.score(x_train,y_train)\n",
    "vote_train"
   ]
  },
  {
   "cell_type": "code",
   "execution_count": 129,
   "metadata": {},
   "outputs": [
    {
     "data": {
      "text/plain": [
       "0.7941578587409771"
      ]
     },
     "execution_count": 129,
     "metadata": {},
     "output_type": "execute_result"
    }
   ],
   "source": [
    "# Test score for Voting Regressor\n",
    "vote_test = vote.score(x_test,y_test)\n",
    "vote_test"
   ]
  },
  {
   "cell_type": "markdown",
   "metadata": {},
   "source": [
    "### Mlxtend Stacking Regressor <a id = 'msr'>"
   ]
  },
  {
   "cell_type": "code",
   "execution_count": 130,
   "metadata": {},
   "outputs": [],
   "source": [
    "# mlxtend regressor\n",
    "from mlxtend.regressor import StackingRegressor"
   ]
  },
  {
   "cell_type": "code",
   "execution_count": 131,
   "metadata": {},
   "outputs": [],
   "source": [
    "# Assigning individual models to variables\n",
    "xgb = XGBRegressor()\n",
    "ada = AdaBoostRegressor()\n",
    "grad = GradientBoostingRegressor()"
   ]
  },
  {
   "cell_type": "code",
   "execution_count": 132,
   "metadata": {},
   "outputs": [],
   "source": [
    "# Fitting the model\n",
    "st = StackingRegressor(regressors=[dt,rf,svm,xgb,ada,grad],meta_regressor=lr)"
   ]
  },
  {
   "cell_type": "code",
   "execution_count": 133,
   "metadata": {},
   "outputs": [
    {
     "data": {
      "text/plain": [
       "StackingRegressor(meta_regressor=LinearRegression(),\n",
       "                  regressors=[DecisionTreeRegressor(), RandomForestRegressor(),\n",
       "                              SVR(),\n",
       "                              XGBRegressor(base_score=None, booster=None,\n",
       "                                           colsample_bylevel=None,\n",
       "                                           colsample_bynode=None,\n",
       "                                           colsample_bytree=None, gamma=None,\n",
       "                                           gpu_id=None, importance_type='gain',\n",
       "                                           interaction_constraints=None,\n",
       "                                           learning_rate=None,\n",
       "                                           max_delta_step=None, max_depth=None,\n",
       "                                           min_child_weight=None, missing=nan,\n",
       "                                           monotone_constraints=None,\n",
       "                                           n_estimators=100, n_jobs=None,\n",
       "                                           num_parallel_tree=None,\n",
       "                                           random_state=None, reg_alpha=None,\n",
       "                                           reg_lambda=None,\n",
       "                                           scale_pos_weight=None,\n",
       "                                           subsample=None, tree_method=None,\n",
       "                                           validate_parameters=None,\n",
       "                                           verbosity=None),\n",
       "                              AdaBoostRegressor(),\n",
       "                              GradientBoostingRegressor()])"
      ]
     },
     "execution_count": 133,
     "metadata": {},
     "output_type": "execute_result"
    }
   ],
   "source": [
    "# Training the model\n",
    "st.fit(x_train,y_train)"
   ]
  },
  {
   "cell_type": "code",
   "execution_count": 134,
   "metadata": {},
   "outputs": [],
   "source": [
    "# Testing the model\n",
    "st_pred = st.predict(x_test)"
   ]
  },
  {
   "cell_type": "code",
   "execution_count": 135,
   "metadata": {},
   "outputs": [
    {
     "data": {
      "text/plain": [
       "1.0417706797399588"
      ]
     },
     "execution_count": 135,
     "metadata": {},
     "output_type": "execute_result"
    }
   ],
   "source": [
    "# RMSE score for Stacking Regressor\n",
    "st_rmse = np.sqrt(metrics.mean_squared_error(st_pred,y_test))\n",
    "st_rmse"
   ]
  },
  {
   "cell_type": "code",
   "execution_count": 136,
   "metadata": {},
   "outputs": [
    {
     "data": {
      "text/plain": [
       "0.6924840401885379"
      ]
     },
     "execution_count": 136,
     "metadata": {},
     "output_type": "execute_result"
    }
   ],
   "source": [
    "# R2 score for Stacking Regressor\n",
    "st_r2score = metrics.r2_score(st_pred,y_test)\n",
    "st_r2score"
   ]
  },
  {
   "cell_type": "code",
   "execution_count": 137,
   "metadata": {},
   "outputs": [
    {
     "data": {
      "text/plain": [
       "1.0"
      ]
     },
     "execution_count": 137,
     "metadata": {},
     "output_type": "execute_result"
    }
   ],
   "source": [
    "# Train score for Stacking Regressor\n",
    "st_train = st.score(x_train,y_train)\n",
    "st_train"
   ]
  },
  {
   "cell_type": "code",
   "execution_count": 138,
   "metadata": {},
   "outputs": [
    {
     "data": {
      "text/plain": [
       "0.6791591405816477"
      ]
     },
     "execution_count": 138,
     "metadata": {},
     "output_type": "execute_result"
    }
   ],
   "source": [
    "# Test score for Stacking Regressor\n",
    "st_test = st.score(x_test,y_test)\n",
    "st_test"
   ]
  },
  {
   "cell_type": "markdown",
   "metadata": {},
   "source": [
    "### 10. Create a dataframe with model Stacking model names and metric scores and compare along with the first dataframe and give inference"
   ]
  },
  {
   "cell_type": "code",
   "execution_count": 139,
   "metadata": {},
   "outputs": [],
   "source": [
    "# Creating dictionary for all the metrics and converting it to dataframe\n",
    "metrics_stack = {'Models': ['Voting Regressor','Stacking Regressor'],'RMSE score':[vote_rmse,st_rmse],'R2 Score':[vote_rmse,st_rmse],'Train score':[vote_train,st_train],'Test score':[vote_test,st_test]}\n",
    "\n",
    "metrics_stack = pd.DataFrame(metrics_stack)"
   ]
  },
  {
   "cell_type": "code",
   "execution_count": 140,
   "metadata": {},
   "outputs": [
    {
     "data": {
      "text/html": [
       "<div>\n",
       "<style scoped>\n",
       "    .dataframe tbody tr th:only-of-type {\n",
       "        vertical-align: middle;\n",
       "    }\n",
       "\n",
       "    .dataframe tbody tr th {\n",
       "        vertical-align: top;\n",
       "    }\n",
       "\n",
       "    .dataframe thead th {\n",
       "        text-align: right;\n",
       "    }\n",
       "</style>\n",
       "<table border=\"1\" class=\"dataframe\">\n",
       "  <thead>\n",
       "    <tr style=\"text-align: right;\">\n",
       "      <th></th>\n",
       "      <th>Models</th>\n",
       "      <th>RMSE score</th>\n",
       "      <th>R2 Score</th>\n",
       "      <th>Train score</th>\n",
       "      <th>Test score</th>\n",
       "    </tr>\n",
       "  </thead>\n",
       "  <tbody>\n",
       "    <tr>\n",
       "      <th>0</th>\n",
       "      <td>Voting Regressor</td>\n",
       "      <td>0.834439</td>\n",
       "      <td>0.834439</td>\n",
       "      <td>0.848974</td>\n",
       "      <td>0.794158</td>\n",
       "    </tr>\n",
       "    <tr>\n",
       "      <th>1</th>\n",
       "      <td>Stacking Regressor</td>\n",
       "      <td>1.041771</td>\n",
       "      <td>1.041771</td>\n",
       "      <td>1.000000</td>\n",
       "      <td>0.679159</td>\n",
       "    </tr>\n",
       "  </tbody>\n",
       "</table>\n",
       "</div>"
      ],
      "text/plain": [
       "               Models  RMSE score  R2 Score  Train score  Test score\n",
       "0    Voting Regressor    0.834439  0.834439     0.848974    0.794158\n",
       "1  Stacking Regressor    1.041771  1.041771     1.000000    0.679159"
      ]
     },
     "execution_count": 140,
     "metadata": {},
     "output_type": "execute_result"
    }
   ],
   "source": [
    "# Dataframe\n",
    "metrics_stack"
   ]
  },
  {
   "cell_type": "markdown",
   "metadata": {},
   "source": [
    "**The best model being Voting Regressor as Stacking Regressor is Overfitting**"
   ]
  },
  {
   "cell_type": "markdown",
   "metadata": {},
   "source": [
    "### 11. Perform Vecstack,analyze and give your inference"
   ]
  },
  {
   "cell_type": "code",
   "execution_count": 141,
   "metadata": {},
   "outputs": [],
   "source": [
    "# Importing Vecstack\n",
    "from vecstack import stacking"
   ]
  },
  {
   "cell_type": "code",
   "execution_count": 142,
   "metadata": {},
   "outputs": [
    {
     "name": "stdout",
     "output_type": "stream",
     "text": [
      "task:         [regression]\n",
      "metric:       [r2_score]\n",
      "mode:         [oof_pred_bag]\n",
      "n_models:     [4]\n",
      "\n",
      "model  0:     [LinearRegression]\n",
      "    fold  0:  [0.84151448]\n",
      "    fold  1:  [0.82306824]\n",
      "    fold  2:  [0.83420362]\n",
      "    fold  3:  [0.83286564]\n",
      "    ----\n",
      "    MEAN:     [0.83291300] + [0.00656835]\n",
      "    FULL:     [0.83297615]\n",
      "\n",
      "model  1:     [RandomForestRegressor]\n",
      "    fold  0:  [0.81488899]\n",
      "    fold  1:  [0.80155679]\n",
      "    fold  2:  [0.80704373]\n",
      "    fold  3:  [0.81304661]\n",
      "    ----\n",
      "    MEAN:     [0.80913403] + [0.00524909]\n",
      "    FULL:     [0.80918141]\n",
      "\n",
      "model  2:     [DecisionTreeRegressor]\n",
      "    fold  0:  [0.66836157]\n",
      "    fold  1:  [0.64323980]\n",
      "    fold  2:  [0.64802270]\n",
      "    fold  3:  [0.67100114]\n",
      "    ----\n",
      "    MEAN:     [0.65765630] + [0.01217918]\n",
      "    FULL:     [0.65772215]\n",
      "\n",
      "model  3:     [SVR]\n",
      "    fold  0:  [0.37202948]\n",
      "    fold  1:  [0.39121811]\n",
      "    fold  2:  [0.39121044]\n",
      "    fold  3:  [0.40970690]\n",
      "    ----\n",
      "    MEAN:     [0.39104123] + [0.01332210]\n",
      "    FULL:     [0.39116375]\n",
      "\n"
     ]
    }
   ],
   "source": [
    "#1st level model\n",
    "models = [lr,rf,dt,svm]\n",
    "S_train, S_test = stacking(models, x_train, y_train, x_test, \n",
    "    regression = True, metric = metrics.r2_score, n_folds = 4 , \n",
    "    shuffle = True, random_state = 0, verbose = 2)"
   ]
  },
  {
   "cell_type": "markdown",
   "metadata": {},
   "source": [
    "**Comparing all the 4 Linear Regression and Random Forest Regressor are the best models**"
   ]
  },
  {
   "cell_type": "code",
   "execution_count": 143,
   "metadata": {},
   "outputs": [
    {
     "name": "stdout",
     "output_type": "stream",
     "text": [
      "task:         [regression]\n",
      "metric:       [r2_score]\n",
      "mode:         [oof_pred_bag]\n",
      "n_models:     [4]\n",
      "\n",
      "model  0:     [KNeighborsRegressor]\n",
      "    fold  0:  [0.57685603]\n",
      "    fold  1:  [0.56177436]\n",
      "    fold  2:  [0.55320665]\n",
      "    fold  3:  [0.59519433]\n",
      "    ----\n",
      "    MEAN:     [0.57175784] + [0.01596149]\n",
      "    FULL:     [0.57178978]\n",
      "\n",
      "model  1:     [XGBRegressor]\n",
      "    fold  0:  [0.80638024]\n",
      "    fold  1:  [0.78827459]\n",
      "    fold  2:  [0.79510013]\n",
      "    fold  3:  [0.79947173]\n",
      "    ----\n",
      "    MEAN:     [0.79730667] + [0.00658530]\n",
      "    FULL:     [0.79735664]\n",
      "\n",
      "model  2:     [GradientBoostingRegressor]\n",
      "    fold  0:  [0.83702827]\n",
      "    fold  1:  [0.82252574]\n",
      "    fold  2:  [0.83037849]\n",
      "    fold  3:  [0.83190063]\n",
      "    ----\n",
      "    MEAN:     [0.83045828] + [0.00520040]\n",
      "    FULL:     [0.83051059]\n",
      "\n",
      "model  3:     [AdaBoostRegressor]\n",
      "    fold  0:  [0.82477314]\n",
      "    fold  1:  [0.81695014]\n",
      "    fold  2:  [0.82505702]\n",
      "    fold  3:  [0.82350742]\n",
      "    ----\n",
      "    MEAN:     [0.82257193] + [0.00329775]\n",
      "    FULL:     [0.82263151]\n",
      "\n"
     ]
    }
   ],
   "source": [
    "#2nd level model\n",
    "models = [knn,xgb,grad,ada]\n",
    "S_train, S_test = stacking(models, x_train, y_train, x_test, \n",
    "    regression = True, metric = metrics.r2_score, n_folds = 4 , \n",
    "    shuffle = True, random_state = 0, verbose = 2)"
   ]
  },
  {
   "cell_type": "markdown",
   "metadata": {},
   "source": [
    "**Comparing all the 4 models Gradient Boosting and Ada Boost Regressor are good models**"
   ]
  },
  {
   "cell_type": "markdown",
   "metadata": {},
   "source": [
    "### 12. Give the final inference for all the models you have created"
   ]
  },
  {
   "cell_type": "markdown",
   "metadata": {},
   "source": [
    "Comparing the two Vecstacks created the models Gradient Boosting,Ada Boost Regressor and Linear Regression are best models"
   ]
  },
  {
   "cell_type": "code",
   "execution_count": null,
   "metadata": {},
   "outputs": [],
   "source": []
  }
 ],
 "metadata": {
  "kernelspec": {
   "display_name": "Python 3",
   "language": "python",
   "name": "python3"
  },
  "language_info": {
   "codemirror_mode": {
    "name": "ipython",
    "version": 3
   },
   "file_extension": ".py",
   "mimetype": "text/x-python",
   "name": "python",
   "nbconvert_exporter": "python",
   "pygments_lexer": "ipython3",
   "version": "3.7.3"
  }
 },
 "nbformat": 4,
 "nbformat_minor": 2
}
