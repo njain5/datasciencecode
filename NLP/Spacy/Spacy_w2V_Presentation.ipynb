{
  "nbformat": 4,
  "nbformat_minor": 0,
  "metadata": {
    "colab": {
      "name": "Spacy w2V Presentation.ipynb",
      "provenance": [],
      "collapsed_sections": []
    },
    "kernelspec": {
      "name": "python3",
      "display_name": "Python 3"
    },
    "accelerator": "GPU"
  },
  "cells": [
    {
      "cell_type": "code",
      "metadata": {
        "id": "RxxyOYzVUkBV",
        "colab_type": "code",
        "colab": {}
      },
      "source": [
        "import spacy\n",
        "import pandas as pd"
      ],
      "execution_count": 2,
      "outputs": []
    },
    {
      "cell_type": "code",
      "metadata": {
        "id": "p0nB8CVgU6DA",
        "colab_type": "code",
        "colab": {
          "base_uri": "https://localhost:8080/",
          "height": 592
        },
        "outputId": "4401f8a8-990d-4492-ebe9-a7d18c47494f"
      },
      "source": [
        "!python -m spacy download en_core_web_md"
      ],
      "execution_count": 3,
      "outputs": [
        {
          "output_type": "stream",
          "text": [
            "Collecting en_core_web_md==2.2.5\n",
            "\u001b[?25l  Downloading https://github.com/explosion/spacy-models/releases/download/en_core_web_md-2.2.5/en_core_web_md-2.2.5.tar.gz (96.4MB)\n",
            "\u001b[K     |████████████████████████████████| 96.4MB 1.1MB/s \n",
            "\u001b[?25hRequirement already satisfied: spacy>=2.2.2 in /usr/local/lib/python3.6/dist-packages (from en_core_web_md==2.2.5) (2.2.4)\n",
            "Requirement already satisfied: numpy>=1.15.0 in /usr/local/lib/python3.6/dist-packages (from spacy>=2.2.2->en_core_web_md==2.2.5) (1.18.5)\n",
            "Requirement already satisfied: tqdm<5.0.0,>=4.38.0 in /usr/local/lib/python3.6/dist-packages (from spacy>=2.2.2->en_core_web_md==2.2.5) (4.41.1)\n",
            "Requirement already satisfied: blis<0.5.0,>=0.4.0 in /usr/local/lib/python3.6/dist-packages (from spacy>=2.2.2->en_core_web_md==2.2.5) (0.4.1)\n",
            "Requirement already satisfied: catalogue<1.1.0,>=0.0.7 in /usr/local/lib/python3.6/dist-packages (from spacy>=2.2.2->en_core_web_md==2.2.5) (1.0.0)\n",
            "Requirement already satisfied: setuptools in /usr/local/lib/python3.6/dist-packages (from spacy>=2.2.2->en_core_web_md==2.2.5) (50.3.0)\n",
            "Requirement already satisfied: requests<3.0.0,>=2.13.0 in /usr/local/lib/python3.6/dist-packages (from spacy>=2.2.2->en_core_web_md==2.2.5) (2.23.0)\n",
            "Requirement already satisfied: wasabi<1.1.0,>=0.4.0 in /usr/local/lib/python3.6/dist-packages (from spacy>=2.2.2->en_core_web_md==2.2.5) (0.8.0)\n",
            "Requirement already satisfied: plac<1.2.0,>=0.9.6 in /usr/local/lib/python3.6/dist-packages (from spacy>=2.2.2->en_core_web_md==2.2.5) (1.1.3)\n",
            "Requirement already satisfied: murmurhash<1.1.0,>=0.28.0 in /usr/local/lib/python3.6/dist-packages (from spacy>=2.2.2->en_core_web_md==2.2.5) (1.0.2)\n",
            "Requirement already satisfied: thinc==7.4.0 in /usr/local/lib/python3.6/dist-packages (from spacy>=2.2.2->en_core_web_md==2.2.5) (7.4.0)\n",
            "Requirement already satisfied: srsly<1.1.0,>=1.0.2 in /usr/local/lib/python3.6/dist-packages (from spacy>=2.2.2->en_core_web_md==2.2.5) (1.0.2)\n",
            "Requirement already satisfied: cymem<2.1.0,>=2.0.2 in /usr/local/lib/python3.6/dist-packages (from spacy>=2.2.2->en_core_web_md==2.2.5) (2.0.3)\n",
            "Requirement already satisfied: preshed<3.1.0,>=3.0.2 in /usr/local/lib/python3.6/dist-packages (from spacy>=2.2.2->en_core_web_md==2.2.5) (3.0.2)\n",
            "Requirement already satisfied: importlib-metadata>=0.20; python_version < \"3.8\" in /usr/local/lib/python3.6/dist-packages (from catalogue<1.1.0,>=0.0.7->spacy>=2.2.2->en_core_web_md==2.2.5) (1.7.0)\n",
            "Requirement already satisfied: chardet<4,>=3.0.2 in /usr/local/lib/python3.6/dist-packages (from requests<3.0.0,>=2.13.0->spacy>=2.2.2->en_core_web_md==2.2.5) (3.0.4)\n",
            "Requirement already satisfied: idna<3,>=2.5 in /usr/local/lib/python3.6/dist-packages (from requests<3.0.0,>=2.13.0->spacy>=2.2.2->en_core_web_md==2.2.5) (2.10)\n",
            "Requirement already satisfied: certifi>=2017.4.17 in /usr/local/lib/python3.6/dist-packages (from requests<3.0.0,>=2.13.0->spacy>=2.2.2->en_core_web_md==2.2.5) (2020.6.20)\n",
            "Requirement already satisfied: urllib3!=1.25.0,!=1.25.1,<1.26,>=1.21.1 in /usr/local/lib/python3.6/dist-packages (from requests<3.0.0,>=2.13.0->spacy>=2.2.2->en_core_web_md==2.2.5) (1.24.3)\n",
            "Requirement already satisfied: zipp>=0.5 in /usr/local/lib/python3.6/dist-packages (from importlib-metadata>=0.20; python_version < \"3.8\"->catalogue<1.1.0,>=0.0.7->spacy>=2.2.2->en_core_web_md==2.2.5) (3.1.0)\n",
            "Building wheels for collected packages: en-core-web-md\n",
            "  Building wheel for en-core-web-md (setup.py) ... \u001b[?25l\u001b[?25hdone\n",
            "  Created wheel for en-core-web-md: filename=en_core_web_md-2.2.5-cp36-none-any.whl size=98051305 sha256=e5ae4b4f1b2b6315113bcfb78bc4f0ed64ee1d84199946fb1f0231bd2f33258f\n",
            "  Stored in directory: /tmp/pip-ephem-wheel-cache-92wnl94q/wheels/df/94/ad/f5cf59224cea6b5686ac4fd1ad19c8a07bc026e13c36502d81\n",
            "Successfully built en-core-web-md\n",
            "Installing collected packages: en-core-web-md\n",
            "Successfully installed en-core-web-md-2.2.5\n",
            "\u001b[38;5;2m✔ Download and installation successful\u001b[0m\n",
            "You can now load the model via spacy.load('en_core_web_md')\n"
          ],
          "name": "stdout"
        }
      ]
    },
    {
      "cell_type": "code",
      "metadata": {
        "id": "yM7Vorg6Wl5G",
        "colab_type": "code",
        "colab": {
          "base_uri": "https://localhost:8080/",
          "height": 87
        },
        "outputId": "9357e6a3-d23d-4306-ba86-46d80820a55d"
      },
      "source": [
        "!python -m spacy link en_core_web_md enmd"
      ],
      "execution_count": 4,
      "outputs": [
        {
          "output_type": "stream",
          "text": [
            "\u001b[38;5;2m✔ Linking successful\u001b[0m\n",
            "/usr/local/lib/python3.6/dist-packages/en_core_web_md -->\n",
            "/usr/local/lib/python3.6/dist-packages/spacy/data/enmd\n",
            "You can now load the model via spacy.load('enmd')\n"
          ],
          "name": "stdout"
        }
      ]
    },
    {
      "cell_type": "code",
      "metadata": {
        "id": "grr0X5XAWuH6",
        "colab_type": "code",
        "colab": {
          "base_uri": "https://localhost:8080/",
          "height": 173
        },
        "outputId": "eefc4a03-aa66-42ff-c13c-1efbddacb466"
      },
      "source": [
        "!python -m spacy info "
      ],
      "execution_count": 5,
      "outputs": [
        {
          "output_type": "stream",
          "text": [
            "\u001b[1m\n",
            "============================== Info about spaCy ==============================\u001b[0m\n",
            "\n",
            "spaCy version    2.2.4                         \n",
            "Location         /usr/local/lib/python3.6/dist-packages/spacy\n",
            "Platform         Linux-4.19.112+-x86_64-with-Ubuntu-18.04-bionic\n",
            "Python version   3.6.9                         \n",
            "Models           en, enmd                      \n",
            "\n"
          ],
          "name": "stdout"
        }
      ]
    },
    {
      "cell_type": "code",
      "metadata": {
        "id": "3NIYyiBXWyfk",
        "colab_type": "code",
        "colab": {
          "base_uri": "https://localhost:8080/",
          "height": 384
        },
        "outputId": "a19b8e72-c55d-48dd-a92d-33908ced15ae"
      },
      "source": [
        "!python -m spacy info enmd"
      ],
      "execution_count": 6,
      "outputs": [
        {
          "output_type": "stream",
          "text": [
            "\u001b[1m\n",
            "========================== Info about model 'enmd' ==========================\u001b[0m\n",
            "\n",
            "lang             en                            \n",
            "name             core_web_md                   \n",
            "license          MIT                           \n",
            "author           Explosion                     \n",
            "url              https://explosion.ai          \n",
            "email            contact@explosion.ai          \n",
            "description      English multi-task CNN trained on OntoNotes, with GloVe vectors trained on Common Crawl. Assigns word vectors, context-specific token vectors, POS tags, dependency parse and named entities.\n",
            "sources          [{'name': 'OntoNotes 5', 'url': 'https://catalog.ldc.upenn.edu/LDC2013T19', 'license': 'commercial (licensed by Explosion)'}, {'name': 'Common Crawl'}]\n",
            "pipeline         ['tagger', 'parser', 'ner']   \n",
            "version          2.2.5                         \n",
            "spacy_version    >=2.2.2                       \n",
            "parent_package   spacy                         \n",
            "labels           {'tagger': ['$', \"''\", ',', '-LRB-', '-RRB-', '.', ':', 'ADD', 'AFX', 'CC', 'CD', 'DT', 'EX', 'FW', 'HYPH', 'IN', 'JJ', 'JJR', 'JJS', 'LS', 'MD', 'NFP', 'NN', 'NNP', 'NNPS', 'NNS', 'PDT', 'POS', 'PRP', 'PRP$', 'RB', 'RBR', 'RBS', 'RP', 'SYM', 'TO', 'UH', 'VB', 'VBD', 'VBG', 'VBN', 'VBP', 'VBZ', 'WDT', 'WP', 'WP$', 'WRB', 'XX', '_SP', '``'], 'parser': ['ROOT', 'acl', 'acomp', 'advcl', 'advmod', 'agent', 'amod', 'appos', 'attr', 'aux', 'auxpass', 'case', 'cc', 'ccomp', 'compound', 'conj', 'csubj', 'csubjpass', 'dative', 'dep', 'det', 'dobj', 'expl', 'intj', 'mark', 'meta', 'neg', 'nmod', 'npadvmod', 'nsubj', 'nsubjpass', 'nummod', 'oprd', 'parataxis', 'pcomp', 'pobj', 'poss', 'preconj', 'predet', 'prep', 'prt', 'punct', 'quantmod', 'relcl', 'xcomp'], 'ner': ['CARDINAL', 'DATE', 'EVENT', 'FAC', 'GPE', 'LANGUAGE', 'LAW', 'LOC', 'MONEY', 'NORP', 'ORDINAL', 'ORG', 'PERCENT', 'PERSON', 'PRODUCT', 'QUANTITY', 'TIME', 'WORK_OF_ART']}\n",
            "vectors          {'width': 300, 'vectors': 20000, 'keys': 684830, 'name': 'en_core_web_md.vectors'}\n",
            "link             /usr/local/lib/python3.6/dist-packages/spacy/data/enmd\n",
            "source           /usr/local/lib/python3.6/dist-packages/en_core_web_md\n",
            "\n"
          ],
          "name": "stdout"
        }
      ]
    },
    {
      "cell_type": "code",
      "metadata": {
        "id": "0SHbNJFBW1hD",
        "colab_type": "code",
        "colab": {}
      },
      "source": [
        "nlp=spacy.load('enmd')"
      ],
      "execution_count": 7,
      "outputs": []
    },
    {
      "cell_type": "markdown",
      "metadata": {
        "id": "xLjOcfvDW_K1",
        "colab_type": "text"
      },
      "source": [
        "# Predicting similarities"
      ]
    },
    {
      "cell_type": "markdown",
      "metadata": {
        "id": "KuiiPQsBXFpH",
        "colab_type": "text"
      },
      "source": [
        "## Similarity between docs<br/>\n",
        "It's useful in product recommendation given the similarity is high between two docs."
      ]
    },
    {
      "cell_type": "code",
      "metadata": {
        "id": "irtuOnF7W595",
        "colab_type": "code",
        "colab": {}
      },
      "source": [
        "doc1= nlp(u\"No SIM card was included. Finally got a SIM from carrier and the phone has to be power cycled numerous times to even make a call. Should have just went to carrier for the phone.\")\n",
        "doc2=nlp(u\"Ordered for my in law. It was carrier locked to simple mobile but that’s what I was looking for anyways since we activated it with them. It came in it’s original Apple packaging with the shrink wrap and the SIM card attached to it. It works fine no problems\")"
      ],
      "execution_count": 8,
      "outputs": []
    },
    {
      "cell_type": "markdown",
      "metadata": {
        "id": "lwJBI1i0XOew",
        "colab_type": "text"
      },
      "source": [
        "**Though the sentiment of two reviews are completely opposite,but similiarity is high because the context is the same i.e iphone, mobile,SIM,carrier**"
      ]
    },
    {
      "cell_type": "code",
      "metadata": {
        "id": "kR6UIvxgXKkr",
        "colab_type": "code",
        "colab": {
          "base_uri": "https://localhost:8080/",
          "height": 35
        },
        "outputId": "2d6e3cf9-e656-47cf-d4cc-08ec478c4e70"
      },
      "source": [
        "print(doc1.similarity(doc2))"
      ],
      "execution_count": 9,
      "outputs": [
        {
          "output_type": "stream",
          "text": [
            "0.9515381203623836\n"
          ],
          "name": "stdout"
        }
      ]
    },
    {
      "cell_type": "code",
      "metadata": {
        "id": "pdfhSSBZXUZ7",
        "colab_type": "code",
        "colab": {
          "base_uri": "https://localhost:8080/",
          "height": 35
        },
        "outputId": "1afe14df-0dcf-4763-c989-be6bbfe97e36"
      },
      "source": [
        "dc1=nlp('I like to eat apple daily for breakfast')\n",
        "dc2=nlp('I like everything from Apple when it comes to phone')\n",
        "print(dc1.similarity(dc2))"
      ],
      "execution_count": 10,
      "outputs": [
        {
          "output_type": "stream",
          "text": [
            "0.8502964889191965\n"
          ],
          "name": "stdout"
        }
      ]
    },
    {
      "cell_type": "markdown",
      "metadata": {
        "id": "sm0EgTeZXeqX",
        "colab_type": "text"
      },
      "source": [
        "**Find similarity between a word token and multiple doc and therby conclude whether or not a particular doc is related to the given word**"
      ]
    },
    {
      "cell_type": "code",
      "metadata": {
        "id": "lwhFOBeqXXfp",
        "colab_type": "code",
        "colab": {
          "base_uri": "https://localhost:8080/",
          "height": 35
        },
        "outputId": "9a14ce99-0a57-4e78-935b-a96a011494e0"
      },
      "source": [
        "review1=nlp('The burger was small and did not have lettuce')\n",
        "review2=nlp('The chicken was moist,juicy and spicy. It is worth spending some bucks')\n",
        "review3=nlp('The quantity of french fries has been reduced even not serving diet coke')\n",
        "review4=nlp('As soon as I took the first bite of the pizza, cheese came out of mouth')\n",
        "review4=nlp('Nikhil was in Paris. He bought cosmetics for his wife')\n",
        "review5=nlp('The new headphone did not help him much')\n",
        "review6=nlp('They drunk scotch and ate taco in his 30th birthday')\n",
        "review7=nlp('Disappointed, he left for Delhi very next day to meet his new friend')\n",
        "token1=nlp('eat')\n",
        "reviews=[review1,review2,review3,review4,review5,review6,review7]\n",
        "'''for i in reviews:\n",
        "  for j in i:\n",
        "    print(i,j,token1,token1.similarity(j))\n",
        "  '''\n"
      ],
      "execution_count": 11,
      "outputs": [
        {
          "output_type": "execute_result",
          "data": {
            "application/vnd.google.colaboratory.intrinsic+json": {
              "type": "string"
            },
            "text/plain": [
              "'for i in reviews:\\n  for j in i:\\n    print(i,j,token1,token1.similarity(j))\\n  '"
            ]
          },
          "metadata": {
            "tags": []
          },
          "execution_count": 11
        }
      ]
    },
    {
      "cell_type": "markdown",
      "metadata": {
        "id": "2UR-Bud9XvEN",
        "colab_type": "text"
      },
      "source": [
        "**Take a look at how a particular word is related to certain docs**"
      ]
    },
    {
      "cell_type": "code",
      "metadata": {
        "id": "twkPM40kXmaz",
        "colab_type": "code",
        "colab": {
          "base_uri": "https://localhost:8080/",
          "height": 35
        },
        "outputId": "c95b1daf-4b02-4cf6-a199-0b8d8b5d6768"
      },
      "source": [
        "[(i,token1,token1.similarity(i))for i in review1 if token1.similarity(i)>0.5]    "
      ],
      "execution_count": 12,
      "outputs": [
        {
          "output_type": "execute_result",
          "data": {
            "text/plain": [
              "[(burger, eat, 0.5331499703238777)]"
            ]
          },
          "metadata": {
            "tags": []
          },
          "execution_count": 12
        }
      ]
    },
    {
      "cell_type": "code",
      "metadata": {
        "id": "RQ4Rr1QgYLsr",
        "colab_type": "code",
        "colab": {
          "base_uri": "https://localhost:8080/",
          "height": 35
        },
        "outputId": "3a2ce59c-25d2-45f1-f9a8-48a2f27b2526"
      },
      "source": [
        "[(i,token1,token1.similarity(i))for i in review2 if token1.similarity(i)>0.5]"
      ],
      "execution_count": 13,
      "outputs": [
        {
          "output_type": "execute_result",
          "data": {
            "text/plain": [
              "[(chicken, eat, 0.5868491075298357)]"
            ]
          },
          "metadata": {
            "tags": []
          },
          "execution_count": 13
        }
      ]
    },
    {
      "cell_type": "code",
      "metadata": {
        "id": "F1vRFit-YQie",
        "colab_type": "code",
        "colab": {
          "base_uri": "https://localhost:8080/",
          "height": 69
        },
        "outputId": "0c4a248c-7601-4e1e-e461-5aadf78bf20d"
      },
      "source": [
        "[(i,token1,token1.similarity(i))for i in review3 if token1.similarity(i)>0.5]"
      ],
      "execution_count": 14,
      "outputs": [
        {
          "output_type": "execute_result",
          "data": {
            "text/plain": [
              "[(fries, eat, 0.5616481344493651),\n",
              " (even, eat, 0.5120008357010444),\n",
              " (diet, eat, 0.6056067949696017)]"
            ]
          },
          "metadata": {
            "tags": []
          },
          "execution_count": 14
        }
      ]
    },
    {
      "cell_type": "code",
      "metadata": {
        "id": "cANkUuixYTwa",
        "colab_type": "code",
        "colab": {
          "base_uri": "https://localhost:8080/",
          "height": 35
        },
        "outputId": "7cc08c88-4d76-4b47-99e6-d62d4675f71d"
      },
      "source": [
        "[(i,token1,token1.similarity(i))for i in review4 if token1.similarity(i)>0.5]    # No similarity is found at the given threshold"
      ],
      "execution_count": 15,
      "outputs": [
        {
          "output_type": "execute_result",
          "data": {
            "text/plain": [
              "[]"
            ]
          },
          "metadata": {
            "tags": []
          },
          "execution_count": 15
        }
      ]
    },
    {
      "cell_type": "code",
      "metadata": {
        "id": "_6v3RjoyYXwf",
        "colab_type": "code",
        "colab": {
          "base_uri": "https://localhost:8080/",
          "height": 35
        },
        "outputId": "5058ae23-63ff-45a0-8594-5f63f876ca62"
      },
      "source": [
        "[(i,token1,token1.similarity(i))for i in review5 if token1.similarity(i)>0.5]    # No similarity is found at the given threshold"
      ],
      "execution_count": 16,
      "outputs": [
        {
          "output_type": "execute_result",
          "data": {
            "text/plain": [
              "[]"
            ]
          },
          "metadata": {
            "tags": []
          },
          "execution_count": 16
        }
      ]
    },
    {
      "cell_type": "code",
      "metadata": {
        "id": "SZYhRxUaYbNL",
        "colab_type": "code",
        "colab": {
          "base_uri": "https://localhost:8080/",
          "height": 35
        },
        "outputId": "315824cb-b16e-4c0b-f3d8-10eaa906c154"
      },
      "source": [
        "[(i,token1,token1.similarity(i))for i in review6 if token1.similarity(i)>0.5]    # The word is related to the doc becuase the doc talks about food and eating ,so does the word token"
      ],
      "execution_count": 17,
      "outputs": [
        {
          "output_type": "execute_result",
          "data": {
            "text/plain": [
              "[(They, eat, 0.5327903044903259), (ate, eat, 0.774756184712212)]"
            ]
          },
          "metadata": {
            "tags": []
          },
          "execution_count": 17
        }
      ]
    },
    {
      "cell_type": "code",
      "metadata": {
        "id": "W3liR824YhOM",
        "colab_type": "code",
        "colab": {
          "base_uri": "https://localhost:8080/",
          "height": 35
        },
        "outputId": "1d477f81-e29d-4a93-ff69-8fa430dad7dc"
      },
      "source": [
        "[(i,token1,token1.similarity(i))for i in review7 if token1.similarity(i)>0.5]    # No similarity is found at the given threshold"
      ],
      "execution_count": 18,
      "outputs": [
        {
          "output_type": "execute_result",
          "data": {
            "text/plain": [
              "[]"
            ]
          },
          "metadata": {
            "tags": []
          },
          "execution_count": 18
        }
      ]
    },
    {
      "cell_type": "markdown",
      "metadata": {
        "id": "XJ6Flh1gYnfU",
        "colab_type": "text"
      },
      "source": [
        "Similarity between token and doc"
      ]
    },
    {
      "cell_type": "code",
      "metadata": {
        "id": "Ge1hg1zdYj86",
        "colab_type": "code",
        "colab": {}
      },
      "source": [
        "doc1= nlp(u\"Sherry likes Donut\")\n",
        "token=nlp('waffle')[0]"
      ],
      "execution_count": 19,
      "outputs": []
    },
    {
      "cell_type": "code",
      "metadata": {
        "id": "4a2DVUkUYsiF",
        "colab_type": "code",
        "colab": {
          "base_uri": "https://localhost:8080/",
          "height": 35
        },
        "outputId": "e10225cd-c837-4a37-ff1d-80ff908f184f"
      },
      "source": [
        "print(doc1.similarity(token))"
      ],
      "execution_count": 20,
      "outputs": [
        {
          "output_type": "stream",
          "text": [
            "0.4427700287295691\n"
          ],
          "name": "stdout"
        }
      ]
    },
    {
      "cell_type": "markdown",
      "metadata": {
        "id": "V5XwcTn1Y8lv",
        "colab_type": "text"
      },
      "source": [
        "## Similarity between span and doc"
      ]
    },
    {
      "cell_type": "code",
      "metadata": {
        "id": "cdO6WjZOY5jD",
        "colab_type": "code",
        "colab": {
          "base_uri": "https://localhost:8080/",
          "height": 35
        },
        "outputId": "57535922-e218-4172-8f89-254526ffe380"
      },
      "source": [
        "span = nlp(\"I like pizza and pasta\")[2:5]\n",
        "doc = nlp(\"McDonalds sells burgers\")\n",
        "\n",
        "print(span.similarity(doc))"
      ],
      "execution_count": 21,
      "outputs": [
        {
          "output_type": "stream",
          "text": [
            "0.6199092090831612\n"
          ],
          "name": "stdout"
        }
      ]
    },
    {
      "cell_type": "markdown",
      "metadata": {
        "id": "NNBDTPMVZIfu",
        "colab_type": "text"
      },
      "source": [
        "Vector of word"
      ]
    },
    {
      "cell_type": "code",
      "metadata": {
        "id": "4IzAVs-TZFBT",
        "colab_type": "code",
        "colab": {
          "base_uri": "https://localhost:8080/",
          "height": 884
        },
        "outputId": "e4dd8b4a-5db5-493b-e261-7a7cd782d0b9"
      },
      "source": [
        "vec_doc = nlp(\"The begger hit the jackpot\")\n",
        "# Access the vector via the token.vector attribute\n",
        "print(vec_doc[4].vector)"
      ],
      "execution_count": 22,
      "outputs": [
        {
          "output_type": "stream",
          "text": [
            "[-3.3871e-01  2.0586e-01  6.5342e-01 -6.5483e-01  1.3180e-01 -2.9055e-01\n",
            "  2.3052e-01 -3.4830e-01  6.6777e-01  1.8514e+00 -1.2648e+00  5.6507e-01\n",
            " -1.7034e-01 -9.0001e-02 -2.7872e-01  2.0199e-02 -3.4359e-01  4.5078e-01\n",
            "  1.1741e+00  2.6774e-01  5.9250e-02 -2.4085e-01 -5.5583e-02  5.7736e-01\n",
            "  1.1937e-01  9.3035e-02 -3.4791e-01 -2.1407e-01  1.2416e-01 -2.1642e-01\n",
            " -3.4043e-01 -9.4648e-01  5.2062e-01  3.0685e-01  2.9443e-01  3.6615e-01\n",
            " -1.0026e-01 -1.6330e-01 -3.5340e-01 -1.6969e-01 -3.7409e-01  3.1190e-01\n",
            "  3.0921e-01 -4.8383e-01 -2.6576e-01 -5.0447e-01 -1.4511e-01  4.2675e-01\n",
            "  1.2984e-01  9.9654e-02 -6.6840e-02  2.7368e-01 -1.3706e-01  6.6600e-02\n",
            " -8.4146e-02  3.2794e-02  5.5422e-01  1.7579e-01 -2.0883e-01  4.4535e-01\n",
            " -1.1240e-01  3.4937e-01 -5.9278e-02 -3.3294e-01  1.0407e-01  1.0307e-01\n",
            " -1.2035e-01  3.3349e-01  1.7597e-01 -6.5149e-02  4.6207e-01  5.1365e-02\n",
            "  4.6420e-01 -5.9128e-01 -2.6819e-01  4.0856e-01  6.5512e-02  2.8875e-01\n",
            " -2.2151e-01  8.3376e-01 -6.8744e-02 -6.6785e-02 -1.0872e-01 -5.0758e-01\n",
            "  3.7629e-02  8.0970e-02  3.4453e-01  1.1247e-01 -1.1303e-01 -9.5264e-01\n",
            " -1.9344e-01 -1.5236e-01 -1.0496e-01 -2.6882e-01 -5.2427e-01 -4.2004e-01\n",
            " -4.2310e-01  1.0981e-01 -1.7566e-01  1.1765e+00 -7.5452e-01 -4.5742e-01\n",
            "  3.4998e-01  6.6818e-02 -1.2634e-01 -1.0431e+00  6.6981e-02  4.8734e-02\n",
            " -3.6047e-01 -4.8369e-02  5.1318e-01  5.5159e-01 -1.1158e-01 -7.7456e-02\n",
            " -1.2846e-01  1.5812e-01 -5.8811e-01  2.6002e-01  2.6305e-01  3.3995e-01\n",
            "  8.6039e-02  1.9946e-01 -3.7260e-02 -1.8763e-01 -4.9428e-02 -1.1133e-01\n",
            "  2.3913e-01  7.6284e-01  1.6546e-01  1.0574e-01 -2.4720e-01 -9.2797e-02\n",
            " -3.5803e-02 -5.9582e-01 -6.3036e-02  2.0715e-01  7.4565e-04 -3.8205e-01\n",
            " -4.2939e-01 -1.8928e-01 -1.0337e+00  3.4501e-01  3.2615e-01 -5.7352e-01\n",
            " -3.0372e-01 -4.3149e-01 -1.0140e-01  3.3622e-01  2.3842e-01 -9.8088e-02\n",
            "  2.2040e-02 -3.0693e-01 -6.1426e-01  1.6081e-01  3.4408e-01  4.7755e-02\n",
            "  2.9211e-01 -5.2773e-02  5.5440e-02 -1.0748e-01  4.7859e-01 -7.1104e-01\n",
            " -1.4639e-01  1.7998e-01 -2.5996e-01  4.7811e-01  3.5983e-01  2.5356e-01\n",
            "  3.5489e-01  6.9260e-02  6.0203e-02  3.0562e-01  8.7187e-03  7.2892e-02\n",
            " -5.6152e-02  2.8710e-01  1.8012e-01 -4.2372e-01 -2.4213e-02  2.9911e-01\n",
            " -6.9606e-03  2.7173e-01 -1.7908e-01 -1.8635e-01  9.3814e-02  6.7816e-02\n",
            " -4.4023e-01 -9.9230e-02 -2.5488e-01 -3.9679e-02  3.7453e-01 -4.0830e-01\n",
            "  2.5731e-01 -7.8395e-01  9.8482e-01  2.0961e-01 -8.7511e-02  7.5509e-01\n",
            " -3.4848e-01 -2.7196e-01  3.0052e-01 -5.5119e-01  3.8915e-01 -1.1130e-02\n",
            " -8.1829e-01 -1.1153e-01 -1.6334e-01  2.6406e-01 -6.5724e-01  3.5931e-01\n",
            "  3.8691e-01  6.6754e-02 -4.0557e-02  6.0164e-01 -2.7534e-01 -6.4450e-01\n",
            " -5.7098e-01 -3.4640e-01 -1.2015e-01  4.6518e-01 -5.0057e-02  4.0364e-01\n",
            " -2.6570e-01 -4.2871e-01 -2.1599e-01 -3.0106e-02  1.8026e-01  3.7905e-01\n",
            " -3.3964e-02  9.0021e-02  5.1948e-01  3.0075e-01  1.4026e-02 -4.4320e-03\n",
            " -9.0336e-01 -1.7171e-01  1.8100e-01  2.2492e-01 -2.0873e-01  2.1851e-01\n",
            " -1.7615e-01 -3.4837e-01  8.0084e-02  8.5591e-02 -6.7832e-01 -6.9389e-01\n",
            "  2.7658e-01 -2.5605e-01 -1.8008e-01 -8.0909e-02 -4.1069e-01 -2.2599e-01\n",
            " -3.9178e-01 -1.9783e-01 -4.1560e-02  3.3762e-01 -6.1459e-01 -1.3114e-01\n",
            " -2.2754e-01  8.1300e-02  7.4123e-02  3.8484e-01 -6.0444e-01  6.8273e-02\n",
            "  2.7488e-01  2.2558e-02 -3.1592e-01 -1.7535e-01  1.7950e-01  1.5894e-02\n",
            " -2.6216e-01 -4.2526e-01 -1.9644e-01  1.3212e-01 -3.1212e-01 -3.4464e-02\n",
            "  6.1432e-02 -1.8785e-01 -3.4926e-01 -8.2388e-01 -2.4144e-01 -7.0384e-02\n",
            " -7.1865e-01  2.5664e-01  1.0192e-01  2.2050e-01 -2.2795e-01  1.2550e-01\n",
            "  1.9105e-01  2.6801e-01 -2.8159e-01 -3.2617e-01  1.2670e-01  3.9815e-01\n",
            "  1.9638e-01 -1.3046e-01 -1.7893e-01 -5.1277e-01  8.3207e-01  7.8254e-01]\n"
          ],
          "name": "stdout"
        }
      ]
    },
    {
      "cell_type": "markdown",
      "metadata": {
        "id": "XslXH1ARZgDa",
        "colab_type": "text"
      },
      "source": [
        "Checking vector, vector_normalization,OOV(Out of Vocabulary)"
      ]
    },
    {
      "cell_type": "code",
      "metadata": {
        "id": "mNqlBNQjZNj7",
        "colab_type": "code",
        "colab": {
          "base_uri": "https://localhost:8080/",
          "height": 447
        },
        "outputId": "e4d544be-18bd-41ef-a2d3-79eab121ded7"
      },
      "source": [
        "tokens = nlp(u'aujourdhui.The weather is fantastic. We can go on road trip')\n",
        "pd.DataFrame([(token.text, token.has_vector, token.vector_norm, token.is_oov)for token in tokens],columns=['Token','Vector?','Vector_norm','OOV?'])"
      ],
      "execution_count": 23,
      "outputs": [
        {
          "output_type": "execute_result",
          "data": {
            "text/html": [
              "<div>\n",
              "<style scoped>\n",
              "    .dataframe tbody tr th:only-of-type {\n",
              "        vertical-align: middle;\n",
              "    }\n",
              "\n",
              "    .dataframe tbody tr th {\n",
              "        vertical-align: top;\n",
              "    }\n",
              "\n",
              "    .dataframe thead th {\n",
              "        text-align: right;\n",
              "    }\n",
              "</style>\n",
              "<table border=\"1\" class=\"dataframe\">\n",
              "  <thead>\n",
              "    <tr style=\"text-align: right;\">\n",
              "      <th></th>\n",
              "      <th>Token</th>\n",
              "      <th>Vector?</th>\n",
              "      <th>Vector_norm</th>\n",
              "      <th>OOV?</th>\n",
              "    </tr>\n",
              "  </thead>\n",
              "  <tbody>\n",
              "    <tr>\n",
              "      <th>0</th>\n",
              "      <td>aujourdhui</td>\n",
              "      <td>False</td>\n",
              "      <td>0.000000</td>\n",
              "      <td>True</td>\n",
              "    </tr>\n",
              "    <tr>\n",
              "      <th>1</th>\n",
              "      <td>.</td>\n",
              "      <td>True</td>\n",
              "      <td>4.931635</td>\n",
              "      <td>False</td>\n",
              "    </tr>\n",
              "    <tr>\n",
              "      <th>2</th>\n",
              "      <td>The</td>\n",
              "      <td>True</td>\n",
              "      <td>4.709350</td>\n",
              "      <td>False</td>\n",
              "    </tr>\n",
              "    <tr>\n",
              "      <th>3</th>\n",
              "      <td>weather</td>\n",
              "      <td>True</td>\n",
              "      <td>7.224049</td>\n",
              "      <td>False</td>\n",
              "    </tr>\n",
              "    <tr>\n",
              "      <th>4</th>\n",
              "      <td>is</td>\n",
              "      <td>True</td>\n",
              "      <td>4.890306</td>\n",
              "      <td>False</td>\n",
              "    </tr>\n",
              "    <tr>\n",
              "      <th>5</th>\n",
              "      <td>fantastic</td>\n",
              "      <td>True</td>\n",
              "      <td>5.561246</td>\n",
              "      <td>False</td>\n",
              "    </tr>\n",
              "    <tr>\n",
              "      <th>6</th>\n",
              "      <td>.</td>\n",
              "      <td>True</td>\n",
              "      <td>4.931635</td>\n",
              "      <td>False</td>\n",
              "    </tr>\n",
              "    <tr>\n",
              "      <th>7</th>\n",
              "      <td>We</td>\n",
              "      <td>True</td>\n",
              "      <td>5.260865</td>\n",
              "      <td>False</td>\n",
              "    </tr>\n",
              "    <tr>\n",
              "      <th>8</th>\n",
              "      <td>can</td>\n",
              "      <td>True</td>\n",
              "      <td>5.132161</td>\n",
              "      <td>False</td>\n",
              "    </tr>\n",
              "    <tr>\n",
              "      <th>9</th>\n",
              "      <td>go</td>\n",
              "      <td>True</td>\n",
              "      <td>5.057230</td>\n",
              "      <td>False</td>\n",
              "    </tr>\n",
              "    <tr>\n",
              "      <th>10</th>\n",
              "      <td>on</td>\n",
              "      <td>True</td>\n",
              "      <td>5.218119</td>\n",
              "      <td>False</td>\n",
              "    </tr>\n",
              "    <tr>\n",
              "      <th>11</th>\n",
              "      <td>road</td>\n",
              "      <td>True</td>\n",
              "      <td>6.287687</td>\n",
              "      <td>False</td>\n",
              "    </tr>\n",
              "    <tr>\n",
              "      <th>12</th>\n",
              "      <td>trip</td>\n",
              "      <td>True</td>\n",
              "      <td>6.331816</td>\n",
              "      <td>False</td>\n",
              "    </tr>\n",
              "  </tbody>\n",
              "</table>\n",
              "</div>"
            ],
            "text/plain": [
              "         Token  Vector?  Vector_norm   OOV?\n",
              "0   aujourdhui    False     0.000000   True\n",
              "1            .     True     4.931635  False\n",
              "2          The     True     4.709350  False\n",
              "3      weather     True     7.224049  False\n",
              "4           is     True     4.890306  False\n",
              "5    fantastic     True     5.561246  False\n",
              "6            .     True     4.931635  False\n",
              "7           We     True     5.260865  False\n",
              "8          can     True     5.132161  False\n",
              "9           go     True     5.057230  False\n",
              "10          on     True     5.218119  False\n",
              "11        road     True     6.287687  False\n",
              "12        trip     True     6.331816  False"
            ]
          },
          "metadata": {
            "tags": []
          },
          "execution_count": 23
        }
      ]
    },
    {
      "cell_type": "code",
      "metadata": {
        "id": "dNUzaDQpZnfm",
        "colab_type": "code",
        "colab": {}
      },
      "source": [
        ""
      ],
      "execution_count": null,
      "outputs": []
    }
  ]
}