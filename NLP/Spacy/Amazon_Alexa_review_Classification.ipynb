{
  "nbformat": 4,
  "nbformat_minor": 0,
  "metadata": {
    "colab": {
      "name": "Amazon Alexa review Classification.ipynb",
      "provenance": [],
      "collapsed_sections": []
    },
    "kernelspec": {
      "name": "python3",
      "display_name": "Python 3"
    }
  },
  "cells": [
    {
      "cell_type": "markdown",
      "metadata": {
        "id": "CbI0taqBE80A",
        "colab_type": "text"
      },
      "source": [
        "# Problem"
      ]
    },
    {
      "cell_type": "markdown",
      "metadata": {
        "id": "WOOfT9p9FEM4",
        "colab_type": "text"
      },
      "source": [
        "The data set consists of records of customers review regarding Alexa. Each customer's review has been categorized into **Postive** and **Negative** based on the reviews given."
      ]
    },
    {
      "cell_type": "markdown",
      "metadata": {
        "id": "9W1WII5JFOEM",
        "colab_type": "text"
      },
      "source": [
        "# Objective"
      ]
    },
    {
      "cell_type": "markdown",
      "metadata": {
        "id": "xYzKalx0FS8i",
        "colab_type": "text"
      },
      "source": [
        "The objective of this analysis is ,build a predictive classification model on text data highly processed by spaCy and predict future instances."
      ]
    },
    {
      "cell_type": "markdown",
      "metadata": {
        "id": "tOXj8FALFZQ_",
        "colab_type": "text"
      },
      "source": [
        "# Import Packages"
      ]
    },
    {
      "cell_type": "code",
      "metadata": {
        "id": "61khxRrCE3sA",
        "colab_type": "code",
        "colab": {
          "base_uri": "https://localhost:8080/",
          "height": 72
        },
        "outputId": "ad2c157e-532f-4cfc-927b-d53a698859e5"
      },
      "source": [
        "import pandas as pd\n",
        "from sklearn.feature_extraction.text import CountVectorizer, TfidfVectorizer\n",
        "from sklearn.base import TransformerMixin\n",
        "from sklearn.pipeline import Pipeline\n",
        "import string\n",
        "import spacy\n",
        "from spacy.lang.en.stop_words import STOP_WORDS\n",
        "from spacy.lang.en import English\n",
        "from sklearn import metrics\n",
        "import seaborn as sns\n",
        "import matplotlib.pyplot as plt"
      ],
      "execution_count": 1,
      "outputs": [
        {
          "output_type": "stream",
          "text": [
            "/usr/local/lib/python3.6/dist-packages/statsmodels/tools/_testing.py:19: FutureWarning: pandas.util.testing is deprecated. Use the functions in the public API at pandas.testing instead.\n",
            "  import pandas.util.testing as tm\n"
          ],
          "name": "stderr"
        }
      ]
    },
    {
      "cell_type": "markdown",
      "metadata": {
        "id": "3avJlPuyGaqw",
        "colab_type": "text"
      },
      "source": [
        "# Import Dataset"
      ]
    },
    {
      "cell_type": "code",
      "metadata": {
        "id": "9KhkaHAeGSv-",
        "colab_type": "code",
        "colab": {
          "base_uri": "https://localhost:8080/",
          "height": 384
        },
        "outputId": "4534ab98-41d4-40f3-b11f-15f62a27db4e"
      },
      "source": [
        "!wget https://www.dropbox.com/s/ynr03grbps6yy4a/amazon_alexa.tsv"
      ],
      "execution_count": 2,
      "outputs": [
        {
          "output_type": "stream",
          "text": [
            "--2020-09-06 11:08:02--  https://www.dropbox.com/s/ynr03grbps6yy4a/amazon_alexa.tsv\n",
            "Resolving www.dropbox.com (www.dropbox.com)... 162.125.5.1, 2620:100:601d:1::a27d:501\n",
            "Connecting to www.dropbox.com (www.dropbox.com)|162.125.5.1|:443... connected.\n",
            "HTTP request sent, awaiting response... 301 Moved Permanently\n",
            "Location: /s/raw/ynr03grbps6yy4a/amazon_alexa.tsv [following]\n",
            "--2020-09-06 11:08:02--  https://www.dropbox.com/s/raw/ynr03grbps6yy4a/amazon_alexa.tsv\n",
            "Reusing existing connection to www.dropbox.com:443.\n",
            "HTTP request sent, awaiting response... 302 Found\n",
            "Location: https://uc9129e544b03af30ff5270d56a5.dl.dropboxusercontent.com/cd/0/inline/A-0HTs_y53OG17AuX6Dm5TI5ss-RvOJU3KyAjc4mZzmYoVMG_bqkovFum_xVykFRX1vQ35QEJfOMmAs6IMrL8da0YbYdF2Y5ga7ko5jHwa9qag/file# [following]\n",
            "--2020-09-06 11:08:03--  https://uc9129e544b03af30ff5270d56a5.dl.dropboxusercontent.com/cd/0/inline/A-0HTs_y53OG17AuX6Dm5TI5ss-RvOJU3KyAjc4mZzmYoVMG_bqkovFum_xVykFRX1vQ35QEJfOMmAs6IMrL8da0YbYdF2Y5ga7ko5jHwa9qag/file\n",
            "Resolving uc9129e544b03af30ff5270d56a5.dl.dropboxusercontent.com (uc9129e544b03af30ff5270d56a5.dl.dropboxusercontent.com)... 162.125.5.15, 2620:100:601d:15::a27d:50f\n",
            "Connecting to uc9129e544b03af30ff5270d56a5.dl.dropboxusercontent.com (uc9129e544b03af30ff5270d56a5.dl.dropboxusercontent.com)|162.125.5.15|:443... connected.\n",
            "HTTP request sent, awaiting response... 200 OK\n",
            "Length: 514752 (503K) [text/plain]\n",
            "Saving to: ‘amazon_alexa.tsv’\n",
            "\n",
            "amazon_alexa.tsv    100%[===================>] 502.69K  --.-KB/s    in 0.1s    \n",
            "\n",
            "2020-09-06 11:08:03 (3.97 MB/s) - ‘amazon_alexa.tsv’ saved [514752/514752]\n",
            "\n"
          ],
          "name": "stdout"
        }
      ]
    },
    {
      "cell_type": "markdown",
      "metadata": {
        "id": "ijJcMLNcGzuK",
        "colab_type": "text"
      },
      "source": [
        "# Read The Data"
      ]
    },
    {
      "cell_type": "code",
      "metadata": {
        "id": "bthf24K3GfvH",
        "colab_type": "code",
        "colab": {}
      },
      "source": [
        "df_amazon = pd.read_csv(\"amazon_alexa.tsv\", sep = \"\\t\")"
      ],
      "execution_count": 3,
      "outputs": []
    },
    {
      "cell_type": "code",
      "metadata": {
        "id": "kBoKiEZoGx0J",
        "colab_type": "code",
        "colab": {
          "base_uri": "https://localhost:8080/",
          "height": 202
        },
        "outputId": "509a6dd7-6a87-4777-dc93-fa4cc0a554fc"
      },
      "source": [
        "df_amazon.head()"
      ],
      "execution_count": 4,
      "outputs": [
        {
          "output_type": "execute_result",
          "data": {
            "text/html": [
              "<div>\n",
              "<style scoped>\n",
              "    .dataframe tbody tr th:only-of-type {\n",
              "        vertical-align: middle;\n",
              "    }\n",
              "\n",
              "    .dataframe tbody tr th {\n",
              "        vertical-align: top;\n",
              "    }\n",
              "\n",
              "    .dataframe thead th {\n",
              "        text-align: right;\n",
              "    }\n",
              "</style>\n",
              "<table border=\"1\" class=\"dataframe\">\n",
              "  <thead>\n",
              "    <tr style=\"text-align: right;\">\n",
              "      <th></th>\n",
              "      <th>rating</th>\n",
              "      <th>date</th>\n",
              "      <th>variation</th>\n",
              "      <th>verified_reviews</th>\n",
              "      <th>feedback</th>\n",
              "    </tr>\n",
              "  </thead>\n",
              "  <tbody>\n",
              "    <tr>\n",
              "      <th>0</th>\n",
              "      <td>5</td>\n",
              "      <td>31-Jul-18</td>\n",
              "      <td>Charcoal Fabric</td>\n",
              "      <td>Love my Echo!</td>\n",
              "      <td>1</td>\n",
              "    </tr>\n",
              "    <tr>\n",
              "      <th>1</th>\n",
              "      <td>5</td>\n",
              "      <td>31-Jul-18</td>\n",
              "      <td>Charcoal Fabric</td>\n",
              "      <td>Loved it!</td>\n",
              "      <td>1</td>\n",
              "    </tr>\n",
              "    <tr>\n",
              "      <th>2</th>\n",
              "      <td>4</td>\n",
              "      <td>31-Jul-18</td>\n",
              "      <td>Walnut Finish</td>\n",
              "      <td>Sometimes while playing a game, you can answer...</td>\n",
              "      <td>1</td>\n",
              "    </tr>\n",
              "    <tr>\n",
              "      <th>3</th>\n",
              "      <td>5</td>\n",
              "      <td>31-Jul-18</td>\n",
              "      <td>Charcoal Fabric</td>\n",
              "      <td>I have had a lot of fun with this thing. My 4 ...</td>\n",
              "      <td>1</td>\n",
              "    </tr>\n",
              "    <tr>\n",
              "      <th>4</th>\n",
              "      <td>5</td>\n",
              "      <td>31-Jul-18</td>\n",
              "      <td>Charcoal Fabric</td>\n",
              "      <td>Music</td>\n",
              "      <td>1</td>\n",
              "    </tr>\n",
              "  </tbody>\n",
              "</table>\n",
              "</div>"
            ],
            "text/plain": [
              "   rating  ... feedback\n",
              "0       5  ...        1\n",
              "1       5  ...        1\n",
              "2       4  ...        1\n",
              "3       5  ...        1\n",
              "4       5  ...        1\n",
              "\n",
              "[5 rows x 5 columns]"
            ]
          },
          "metadata": {
            "tags": []
          },
          "execution_count": 4
        }
      ]
    },
    {
      "cell_type": "code",
      "metadata": {
        "id": "ojDdNsrZG5fb",
        "colab_type": "code",
        "colab": {
          "base_uri": "https://localhost:8080/",
          "height": 35
        },
        "outputId": "b53a57c0-e8ca-4cf1-d67d-47f9c0eb239d"
      },
      "source": [
        "df_amazon.shape"
      ],
      "execution_count": 5,
      "outputs": [
        {
          "output_type": "execute_result",
          "data": {
            "text/plain": [
              "(3150, 5)"
            ]
          },
          "metadata": {
            "tags": []
          },
          "execution_count": 5
        }
      ]
    },
    {
      "cell_type": "code",
      "metadata": {
        "id": "x2JQyWaSG9xk",
        "colab_type": "code",
        "colab": {
          "base_uri": "https://localhost:8080/",
          "height": 69
        },
        "outputId": "a2f7d0fc-c09b-4ab6-95e4-e4d093f10168"
      },
      "source": [
        "df_amazon.feedback.value_counts()"
      ],
      "execution_count": 6,
      "outputs": [
        {
          "output_type": "execute_result",
          "data": {
            "text/plain": [
              "1    2893\n",
              "0     257\n",
              "Name: feedback, dtype: int64"
            ]
          },
          "metadata": {
            "tags": []
          },
          "execution_count": 6
        }
      ]
    },
    {
      "cell_type": "markdown",
      "metadata": {
        "id": "PK7uC9pSHIh-",
        "colab_type": "text"
      },
      "source": [
        "# Tokenization"
      ]
    },
    {
      "cell_type": "code",
      "metadata": {
        "id": "3DXLFgOlHGiG",
        "colab_type": "code",
        "colab": {}
      },
      "source": [
        "# Create our list of punctuation marks\n",
        "punctuations = string.punctuation\n",
        "\n",
        "# Create our list of stopwords\n",
        "nlp = spacy.load('en')\n",
        "stop_words = spacy.lang.en.stop_words.STOP_WORDS\n",
        "\n",
        "# Load English tokenizer, tagger, parser, NER and word vectors\n",
        "parser = English()\n",
        "\n",
        "# Creating our tokenizer function\n",
        "def spacy_tokenizer(sentence):\n",
        "    # Creating our token object, which is used to create documents with linguistic annotations.\n",
        "    mytokens = parser(sentence)\n",
        "\n",
        "    # Lemmatizing each token and converting each token into lowercase\n",
        "    mytokens = [ word.lemma_.lower().strip() if word.lemma_ != \"-PRON-\" else word.lower_ for word in mytokens ]\n",
        "\n",
        "    # Removing stop words\n",
        "    mytokens = [ word for word in mytokens if word not in stop_words and word not in punctuations ]\n",
        "\n",
        "    # return preprocessed list of tokens\n",
        "    return mytokens"
      ],
      "execution_count": 7,
      "outputs": []
    },
    {
      "cell_type": "markdown",
      "metadata": {
        "id": "Z5kzu0Y8HmSO",
        "colab_type": "text"
      },
      "source": [
        "# Custom Transformer"
      ]
    },
    {
      "cell_type": "markdown",
      "metadata": {
        "id": "kY7-jag2HszA",
        "colab_type": "text"
      },
      "source": [
        "To further clean our text data, we’ll also want to create a custom transformer for removing initial and end spaces and converting text into lower case."
      ]
    },
    {
      "cell_type": "code",
      "metadata": {
        "id": "_zkuXjhsHiwq",
        "colab_type": "code",
        "colab": {}
      },
      "source": [
        "# Custom transformer using spaCy\n",
        "class predictors(TransformerMixin):\n",
        "    def transform(self, X, **transform_params):\n",
        "        # Cleaning Text\n",
        "        return [clean_text(text) for text in X]\n",
        "\n",
        "    def fit(self, X, y=None, **fit_params):\n",
        "        return self\n",
        "\n",
        "    def get_params(self, deep=True):\n",
        "        return {}\n",
        "\n",
        "# Basic function to clean the text\n",
        "def clean_text(text):\n",
        "    # Removing spaces and converting text into lowercase\n",
        "    return text.strip().lower()"
      ],
      "execution_count": 8,
      "outputs": []
    },
    {
      "cell_type": "markdown",
      "metadata": {
        "id": "dNxBMIsdH2y5",
        "colab_type": "text"
      },
      "source": [
        "# Vectorization"
      ]
    },
    {
      "cell_type": "markdown",
      "metadata": {
        "id": "ThAur_jmH5l9",
        "colab_type": "text"
      },
      "source": [
        "We need to perform feature vectorization in order to transform word tokens into numbers. We can do it using tf-idf ,Bag of Words. During modeling the data we will use any one of the two feature vectorization techniques."
      ]
    },
    {
      "cell_type": "code",
      "metadata": {
        "id": "GIucDuX7H0su",
        "colab_type": "code",
        "colab": {}
      },
      "source": [
        "bow_vector = CountVectorizer(tokenizer = spacy_tokenizer, ngram_range=(1,1))"
      ],
      "execution_count": 9,
      "outputs": []
    },
    {
      "cell_type": "code",
      "metadata": {
        "id": "SGHQTzPTIEJw",
        "colab_type": "code",
        "colab": {}
      },
      "source": [
        "tfidf_vector = TfidfVectorizer(tokenizer = spacy_tokenizer)"
      ],
      "execution_count": 10,
      "outputs": []
    },
    {
      "cell_type": "markdown",
      "metadata": {
        "id": "AqkyK1v5IIno",
        "colab_type": "text"
      },
      "source": [
        "# Data Preparation(Train_Test_Split)"
      ]
    },
    {
      "cell_type": "code",
      "metadata": {
        "id": "GDr5ZWvYIHB3",
        "colab_type": "code",
        "colab": {}
      },
      "source": [
        "from sklearn.model_selection import train_test_split\n",
        "\n",
        "X = df_amazon['verified_reviews'] # the features we want to analyze\n",
        "ylabels = df_amazon['feedback'] # the labels, or answers, we want to test against\n",
        "\n",
        "X_train, X_test, y_train, y_test = train_test_split(X, ylabels, test_size=0.3)"
      ],
      "execution_count": 11,
      "outputs": []
    },
    {
      "cell_type": "markdown",
      "metadata": {
        "id": "XS017LEYIUaj",
        "colab_type": "text"
      },
      "source": [
        "# Pipeline"
      ]
    },
    {
      "cell_type": "markdown",
      "metadata": {
        "id": "Nx_9pFnjIYzl",
        "colab_type": "text"
      },
      "source": [
        "We will use pipeline to integrate the entire modeling technique at one time . In this we also we explore the concept of parameter tuning using GridSearchCV"
      ]
    },
    {
      "cell_type": "markdown",
      "metadata": {
        "id": "4-jeykywIfZh",
        "colab_type": "text"
      },
      "source": [
        "###Pipeline 1"
      ]
    },
    {
      "cell_type": "markdown",
      "metadata": {
        "id": "1zos1ozqIohh",
        "colab_type": "text"
      },
      "source": [
        "Decision Tree model with GridSearchCV"
      ]
    },
    {
      "cell_type": "code",
      "metadata": {
        "id": "l5S4fCPHISBL",
        "colab_type": "code",
        "colab": {}
      },
      "source": [
        "from sklearn.tree import DecisionTreeClassifier\n",
        "classifier=DecisionTreeClassifier(class_weight='balanced')\n",
        "from sklearn.model_selection import GridSearchCV\n",
        "parameters={'min_samples_split' : range(10,500,20),'max_depth': range(1,20,2)}\n",
        "clf=GridSearchCV(classifier,parameters)"
      ],
      "execution_count": 12,
      "outputs": []
    },
    {
      "cell_type": "code",
      "metadata": {
        "id": "ul8Uh2PUIuM9",
        "colab_type": "code",
        "colab": {
          "base_uri": "https://localhost:8080/",
          "height": 451
        },
        "outputId": "a42f24ab-f1b5-4aa4-f4ff-0506289fbd1a"
      },
      "source": [
        "\n",
        "# Create pipeline using tf-idf\n",
        "pipe1 = Pipeline([(\"cleaner\", predictors()),\n",
        "                 ('vectorizer', tfidf_vector),\n",
        "                 ('classifier', clf)])\n",
        "\n",
        "# model generation\n",
        "pipe1.fit(X_train,y_train)"
      ],
      "execution_count": 13,
      "outputs": [
        {
          "output_type": "execute_result",
          "data": {
            "text/plain": [
              "Pipeline(memory=None,\n",
              "         steps=[('cleaner', <__main__.predictors object at 0x7f864e036e10>),\n",
              "                ('vectorizer',\n",
              "                 TfidfVectorizer(analyzer='word', binary=False,\n",
              "                                 decode_error='strict',\n",
              "                                 dtype=<class 'numpy.float64'>,\n",
              "                                 encoding='utf-8', input='content',\n",
              "                                 lowercase=True, max_df=1.0, max_features=None,\n",
              "                                 min_df=1, ngram_range=(1, 1), norm='l2',\n",
              "                                 preprocessor=None, smooth_idf=True,\n",
              "                                 stop_wor...\n",
              "                                                               min_impurity_split=None,\n",
              "                                                               min_samples_leaf=1,\n",
              "                                                               min_samples_split=2,\n",
              "                                                               min_weight_fraction_leaf=0.0,\n",
              "                                                               presort='deprecated',\n",
              "                                                               random_state=None,\n",
              "                                                               splitter='best'),\n",
              "                              iid='deprecated', n_jobs=None,\n",
              "                              param_grid={'max_depth': range(1, 20, 2),\n",
              "                                          'min_samples_split': range(10, 500, 20)},\n",
              "                              pre_dispatch='2*n_jobs', refit=True,\n",
              "                              return_train_score=False, scoring=None,\n",
              "                              verbose=0))],\n",
              "         verbose=False)"
            ]
          },
          "metadata": {
            "tags": []
          },
          "execution_count": 13
        }
      ]
    },
    {
      "cell_type": "markdown",
      "metadata": {
        "id": "oiIcuD3HJCGh",
        "colab_type": "text"
      },
      "source": [
        "###Pipeline2"
      ]
    },
    {
      "cell_type": "markdown",
      "metadata": {
        "id": "s0UGEL-pJEhX",
        "colab_type": "text"
      },
      "source": [
        "Pipeline without GridesearchCV"
      ]
    },
    {
      "cell_type": "code",
      "metadata": {
        "id": "Uz_o2wdWI1Hn",
        "colab_type": "code",
        "colab": {
          "base_uri": "https://localhost:8080/",
          "height": 416
        },
        "outputId": "5a0da2f6-ffba-4c22-b1dd-2e43f6926c9e"
      },
      "source": [
        "# Create pipeline using tf-idf\n",
        "pipe2 = Pipeline([(\"cleaner\", predictors()),\n",
        "                 ('vectorizer', tfidf_vector),\n",
        "                 ('classifier', classifier)])\n",
        "\n",
        "# model generation\n",
        "pipe2.fit(X_train,y_train)"
      ],
      "execution_count": 14,
      "outputs": [
        {
          "output_type": "execute_result",
          "data": {
            "text/plain": [
              "Pipeline(memory=None,\n",
              "         steps=[('cleaner', <__main__.predictors object at 0x7f864e036438>),\n",
              "                ('vectorizer',\n",
              "                 TfidfVectorizer(analyzer='word', binary=False,\n",
              "                                 decode_error='strict',\n",
              "                                 dtype=<class 'numpy.float64'>,\n",
              "                                 encoding='utf-8', input='content',\n",
              "                                 lowercase=True, max_df=1.0, max_features=None,\n",
              "                                 min_df=1, ngram_range=(1, 1), norm='l2',\n",
              "                                 preprocessor=None, smooth_idf=True,\n",
              "                                 stop_wor...\n",
              "                                 use_idf=True, vocabulary=None)),\n",
              "                ('classifier',\n",
              "                 DecisionTreeClassifier(ccp_alpha=0.0, class_weight='balanced',\n",
              "                                        criterion='gini', max_depth=None,\n",
              "                                        max_features=None, max_leaf_nodes=None,\n",
              "                                        min_impurity_decrease=0.0,\n",
              "                                        min_impurity_split=None,\n",
              "                                        min_samples_leaf=1, min_samples_split=2,\n",
              "                                        min_weight_fraction_leaf=0.0,\n",
              "                                        presort='deprecated', random_state=None,\n",
              "                                        splitter='best'))],\n",
              "         verbose=False)"
            ]
          },
          "metadata": {
            "tags": []
          },
          "execution_count": 14
        }
      ]
    },
    {
      "cell_type": "markdown",
      "metadata": {
        "id": "U8KXS4UHJQ0f",
        "colab_type": "text"
      },
      "source": [
        "# Evaluation"
      ]
    },
    {
      "cell_type": "markdown",
      "metadata": {
        "id": "UK9lqxa_JWly",
        "colab_type": "text"
      },
      "source": [
        "**Evaluation of GridSearchCV Decision Tree model**"
      ]
    },
    {
      "cell_type": "code",
      "metadata": {
        "id": "S13h9GaqJNym",
        "colab_type": "code",
        "colab": {
          "base_uri": "https://localhost:8080/",
          "height": 69
        },
        "outputId": "319f9a98-a042-4733-ffd8-233ad986f090"
      },
      "source": [
        "from sklearn import metrics\n",
        "# Predicting with a test dataset\n",
        "predicted = pipe1.predict(X_test)\n",
        "\n",
        "# Model Accuracy\n",
        "print(\" Accuracy:\",metrics.accuracy_score(y_test, predicted))\n",
        "print(\" Precision:\",metrics.precision_score(y_test, predicted))\n",
        "print(\" Recall:\",metrics.recall_score(y_test, predicted))"
      ],
      "execution_count": 15,
      "outputs": [
        {
          "output_type": "stream",
          "text": [
            " Accuracy: 0.725925925925926\n",
            " Precision: 0.9744\n",
            " Recall: 0.7147887323943662\n"
          ],
          "name": "stdout"
        }
      ]
    },
    {
      "cell_type": "code",
      "metadata": {
        "id": "A7v7s7L_JZW0",
        "colab_type": "code",
        "colab": {
          "base_uri": "https://localhost:8080/",
          "height": 266
        },
        "outputId": "cac1b20d-973d-494d-e915-39852bc0b2e8"
      },
      "source": [
        "cfm=metrics.confusion_matrix(y_test, predicted)\n",
        "lbl1=[\"Predicted Negative\", \"Predicted Positive\"]\n",
        "lbl2=[\"Actual Negative\", \"Actual Poistive\"]\n",
        "sns.heatmap(cfm, annot=True, cmap=\"Blues\", fmt=\"d\", xticklabels=lbl1, yticklabels=lbl2)\n",
        "plt.show()"
      ],
      "execution_count": 16,
      "outputs": [
        {
          "output_type": "display_data",
          "data": {
            "image/png": "[encoded data removed]",
            "text/plain": [
              "<Figure size 432x288 with 2 Axes>"
            ]
          },
          "metadata": {
            "tags": [],
            "needs_background": "light"
          }
        }
      ]
    },
    {
      "cell_type": "markdown",
      "metadata": {
        "id": "s7gEh5AzJjkS",
        "colab_type": "text"
      },
      "source": [
        "**Evaluation of simple Decision Tree model**"
      ]
    },
    {
      "cell_type": "code",
      "metadata": {
        "id": "KkXAWUNiJc41",
        "colab_type": "code",
        "colab": {
          "base_uri": "https://localhost:8080/",
          "height": 317
        },
        "outputId": "b525dbc2-fd03-4e45-fdba-df0d7027378d"
      },
      "source": [
        "# Predicting with a test dataset\n",
        "predicted2 = pipe2.predict(X_test)\n",
        "\n",
        "# Model Accuracy\n",
        "print(\" Accuracy:\",metrics.accuracy_score(y_test, predicted2))\n",
        "print(\" Precision:\",metrics.precision_score(y_test, predicted2))\n",
        "print(\" Recall:\",metrics.recall_score(y_test, predicted2))\n",
        "cfm2=metrics.confusion_matrix(y_test, predicted2)\n",
        "lbl1=[\"Predicted Negative\", \"Predicted Positive\"]\n",
        "lbl2=[\"Actual Negative\", \"Actual Poistive\"]\n",
        "sns.heatmap(cfm2, annot=True, cmap=\"Blues\", fmt=\"d\", xticklabels=lbl1, yticklabels=lbl2)\n",
        "plt.show()"
      ],
      "execution_count": 17,
      "outputs": [
        {
          "output_type": "stream",
          "text": [
            " Accuracy: 0.870899470899471\n",
            " Precision: 0.9517326732673267\n",
            " Recall: 0.9025821596244131\n"
          ],
          "name": "stdout"
        },
        {
          "output_type": "display_data",
          "data": {
            "image/png": "[encoded data removed]",
            "text/plain": [
              "<Figure size 432x288 with 2 Axes>"
            ]
          },
          "metadata": {
            "tags": [],
            "needs_background": "light"
          }
        }
      ]
    },
    {
      "cell_type": "code",
      "metadata": {
        "id": "jLv5kcI8JmOF",
        "colab_type": "code",
        "colab": {}
      },
      "source": [
        ""
      ],
      "execution_count": null,
      "outputs": []
    }
  ]
}